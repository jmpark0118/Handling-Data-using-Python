{
 "cells": [
  {
   "cell_type": "markdown",
   "metadata": {},
   "source": [
    "## 3-1 웹 데이터를 가져오는 Beautiful Soup 익히기"
   ]
  },
  {
   "cell_type": "markdown",
   "metadata": {},
   "source": [
    "- https://github.com/PinkWink/DataScience/tree/master/data\n",
    "    - 03. test_first.html"
   ]
  },
  {
   "cell_type": "code",
   "execution_count": 3,
   "metadata": {},
   "outputs": [],
   "source": [
    "from bs4 import BeautifulSoup"
   ]
  },
  {
   "cell_type": "code",
   "execution_count": 4,
   "metadata": {},
   "outputs": [
    {
     "name": "stdout",
     "output_type": "stream",
     "text": [
      "<!DOCTYPE html>\n",
      "<html>\n",
      " <head>\n",
      "  <title>\n",
      "   Very Simple HTML Code by PinkWink\n",
      "  </title>\n",
      " </head>\n",
      " <body>\n",
      "  <div>\n",
      "   <p class=\"inner-text first-item\" id=\"first\">\n",
      "    Happy PinkWink.\n",
      "    <a href=\"http://www.pinkwink.kr\" id=\"pw-link\">\n",
      "     PinkWink\n",
      "    </a>\n",
      "   </p>\n",
      "   <p class=\"inner-text second-item\">\n",
      "    Happy Data Science.\n",
      "    <a href=\"https://www.python.org\" id=\"py-link\">\n",
      "     Python\n",
      "    </a>\n",
      "   </p>\n",
      "  </div>\n",
      "  <p class=\"outer-text first-item\" id=\"second\">\n",
      "   <b>\n",
      "    Data Science is funny.\n",
      "   </b>\n",
      "  </p>\n",
      "  <p class=\"outer-text\">\n",
      "   <b>\n",
      "    All I need is Love.\n",
      "   </b>\n",
      "  </p>\n",
      " </body>\n",
      "</html>\n"
     ]
    }
   ],
   "source": [
    "page = open('C:/Users/jeong/Documents/JUPYTER NOTEBOOK/03. test_first.html','r').read()\n",
    "soup = BeautifulSoup(page, 'html.parser')\n",
    "print(soup.prettify())    #  읽은 html 페이지의 내용을 전체 다 보고 싶은 경우"
   ]
  },
  {
   "cell_type": "code",
   "execution_count": 5,
   "metadata": {},
   "outputs": [
    {
     "data": {
      "text/plain": [
       "['html', '\\n', <html>\n",
       " <head>\n",
       " <title>Very Simple HTML Code by PinkWink</title>\n",
       " </head>\n",
       " <body>\n",
       " <div>\n",
       " <p class=\"inner-text first-item\" id=\"first\">\n",
       "                 Happy PinkWink.\n",
       "                 <a href=\"http://www.pinkwink.kr\" id=\"pw-link\">PinkWink</a>\n",
       " </p>\n",
       " <p class=\"inner-text second-item\">\n",
       "                 Happy Data Science.\n",
       "                 <a href=\"https://www.python.org\" id=\"py-link\">Python</a>\n",
       " </p>\n",
       " </div>\n",
       " <p class=\"outer-text first-item\" id=\"second\">\n",
       " <b>\n",
       "                 Data Science is funny.\n",
       "             </b>\n",
       " </p>\n",
       " <p class=\"outer-text\">\n",
       " <b>\n",
       "                 All I need is Love.\n",
       "             </b>\n",
       " </p>\n",
       " </body>\n",
       " </html>]"
      ]
     },
     "execution_count": 5,
     "metadata": {},
     "output_type": "execute_result"
    }
   ],
   "source": [
    "list(soup.children)    # .children : 한단계 아래의 속성"
   ]
  },
  {
   "cell_type": "code",
   "execution_count": 6,
   "metadata": {},
   "outputs": [
    {
     "data": {
      "text/plain": [
       "<html>\n",
       "<head>\n",
       "<title>Very Simple HTML Code by PinkWink</title>\n",
       "</head>\n",
       "<body>\n",
       "<div>\n",
       "<p class=\"inner-text first-item\" id=\"first\">\n",
       "                Happy PinkWink.\n",
       "                <a href=\"http://www.pinkwink.kr\" id=\"pw-link\">PinkWink</a>\n",
       "</p>\n",
       "<p class=\"inner-text second-item\">\n",
       "                Happy Data Science.\n",
       "                <a href=\"https://www.python.org\" id=\"py-link\">Python</a>\n",
       "</p>\n",
       "</div>\n",
       "<p class=\"outer-text first-item\" id=\"second\">\n",
       "<b>\n",
       "                Data Science is funny.\n",
       "            </b>\n",
       "</p>\n",
       "<p class=\"outer-text\">\n",
       "<b>\n",
       "                All I need is Love.\n",
       "            </b>\n",
       "</p>\n",
       "</body>\n",
       "</html>"
      ]
     },
     "execution_count": 6,
     "metadata": {},
     "output_type": "execute_result"
    }
   ],
   "source": [
    "html = list(soup.children)[2]\n",
    "html"
   ]
  },
  {
   "cell_type": "code",
   "execution_count": 7,
   "metadata": {},
   "outputs": [
    {
     "data": {
      "text/plain": [
       "['\\n', <head>\n",
       " <title>Very Simple HTML Code by PinkWink</title>\n",
       " </head>, '\\n', <body>\n",
       " <div>\n",
       " <p class=\"inner-text first-item\" id=\"first\">\n",
       "                 Happy PinkWink.\n",
       "                 <a href=\"http://www.pinkwink.kr\" id=\"pw-link\">PinkWink</a>\n",
       " </p>\n",
       " <p class=\"inner-text second-item\">\n",
       "                 Happy Data Science.\n",
       "                 <a href=\"https://www.python.org\" id=\"py-link\">Python</a>\n",
       " </p>\n",
       " </div>\n",
       " <p class=\"outer-text first-item\" id=\"second\">\n",
       " <b>\n",
       "                 Data Science is funny.\n",
       "             </b>\n",
       " </p>\n",
       " <p class=\"outer-text\">\n",
       " <b>\n",
       "                 All I need is Love.\n",
       "             </b>\n",
       " </p>\n",
       " </body>, '\\n']"
      ]
     },
     "execution_count": 7,
     "metadata": {},
     "output_type": "execute_result"
    }
   ],
   "source": [
    "list(html.children)"
   ]
  },
  {
   "cell_type": "code",
   "execution_count": 8,
   "metadata": {},
   "outputs": [
    {
     "data": {
      "text/plain": [
       "<body>\n",
       "<div>\n",
       "<p class=\"inner-text first-item\" id=\"first\">\n",
       "                Happy PinkWink.\n",
       "                <a href=\"http://www.pinkwink.kr\" id=\"pw-link\">PinkWink</a>\n",
       "</p>\n",
       "<p class=\"inner-text second-item\">\n",
       "                Happy Data Science.\n",
       "                <a href=\"https://www.python.org\" id=\"py-link\">Python</a>\n",
       "</p>\n",
       "</div>\n",
       "<p class=\"outer-text first-item\" id=\"second\">\n",
       "<b>\n",
       "                Data Science is funny.\n",
       "            </b>\n",
       "</p>\n",
       "<p class=\"outer-text\">\n",
       "<b>\n",
       "                All I need is Love.\n",
       "            </b>\n",
       "</p>\n",
       "</body>"
      ]
     },
     "execution_count": 8,
     "metadata": {},
     "output_type": "execute_result"
    }
   ],
   "source": [
    "body = list(html.children)[3]\n",
    "body"
   ]
  },
  {
   "cell_type": "code",
   "execution_count": 9,
   "metadata": {},
   "outputs": [
    {
     "data": {
      "text/plain": [
       "<body>\n",
       "<div>\n",
       "<p class=\"inner-text first-item\" id=\"first\">\n",
       "                Happy PinkWink.\n",
       "                <a href=\"http://www.pinkwink.kr\" id=\"pw-link\">PinkWink</a>\n",
       "</p>\n",
       "<p class=\"inner-text second-item\">\n",
       "                Happy Data Science.\n",
       "                <a href=\"https://www.python.org\" id=\"py-link\">Python</a>\n",
       "</p>\n",
       "</div>\n",
       "<p class=\"outer-text first-item\" id=\"second\">\n",
       "<b>\n",
       "                Data Science is funny.\n",
       "            </b>\n",
       "</p>\n",
       "<p class=\"outer-text\">\n",
       "<b>\n",
       "                All I need is Love.\n",
       "            </b>\n",
       "</p>\n",
       "</body>"
      ]
     },
     "execution_count": 9,
     "metadata": {},
     "output_type": "execute_result"
    }
   ],
   "source": [
    "soup.body"
   ]
  },
  {
   "cell_type": "code",
   "execution_count": 10,
   "metadata": {},
   "outputs": [
    {
     "data": {
      "text/plain": [
       "['\\n', <div>\n",
       " <p class=\"inner-text first-item\" id=\"first\">\n",
       "                 Happy PinkWink.\n",
       "                 <a href=\"http://www.pinkwink.kr\" id=\"pw-link\">PinkWink</a>\n",
       " </p>\n",
       " <p class=\"inner-text second-item\">\n",
       "                 Happy Data Science.\n",
       "                 <a href=\"https://www.python.org\" id=\"py-link\">Python</a>\n",
       " </p>\n",
       " </div>, '\\n', <p class=\"outer-text first-item\" id=\"second\">\n",
       " <b>\n",
       "                 Data Science is funny.\n",
       "             </b>\n",
       " </p>, '\\n', <p class=\"outer-text\">\n",
       " <b>\n",
       "                 All I need is Love.\n",
       "             </b>\n",
       " </p>, '\\n']"
      ]
     },
     "execution_count": 10,
     "metadata": {},
     "output_type": "execute_result"
    }
   ],
   "source": [
    "list(body.children)"
   ]
  },
  {
   "cell_type": "code",
   "execution_count": 11,
   "metadata": {},
   "outputs": [
    {
     "data": {
      "text/plain": [
       "[<p class=\"inner-text first-item\" id=\"first\">\n",
       "                 Happy PinkWink.\n",
       "                 <a href=\"http://www.pinkwink.kr\" id=\"pw-link\">PinkWink</a>\n",
       " </p>, <p class=\"inner-text second-item\">\n",
       "                 Happy Data Science.\n",
       "                 <a href=\"https://www.python.org\" id=\"py-link\">Python</a>\n",
       " </p>, <p class=\"outer-text first-item\" id=\"second\">\n",
       " <b>\n",
       "                 Data Science is funny.\n",
       "             </b>\n",
       " </p>, <p class=\"outer-text\">\n",
       " <b>\n",
       "                 All I need is Love.\n",
       "             </b>\n",
       " </p>]"
      ]
     },
     "execution_count": 11,
     "metadata": {},
     "output_type": "execute_result"
    }
   ],
   "source": [
    "soup.find_all('p')"
   ]
  },
  {
   "cell_type": "code",
   "execution_count": 12,
   "metadata": {},
   "outputs": [
    {
     "data": {
      "text/plain": [
       "<p class=\"inner-text first-item\" id=\"first\">\n",
       "                Happy PinkWink.\n",
       "                <a href=\"http://www.pinkwink.kr\" id=\"pw-link\">PinkWink</a>\n",
       "</p>"
      ]
     },
     "execution_count": 12,
     "metadata": {},
     "output_type": "execute_result"
    }
   ],
   "source": [
    "soup.find('p')"
   ]
  },
  {
   "cell_type": "code",
   "execution_count": 13,
   "metadata": {},
   "outputs": [
    {
     "data": {
      "text/plain": [
       "[<p class=\"outer-text first-item\" id=\"second\">\n",
       " <b>\n",
       "                 Data Science is funny.\n",
       "             </b>\n",
       " </p>, <p class=\"outer-text\">\n",
       " <b>\n",
       "                 All I need is Love.\n",
       "             </b>\n",
       " </p>]"
      ]
     },
     "execution_count": 13,
     "metadata": {},
     "output_type": "execute_result"
    }
   ],
   "source": [
    "soup.find_all('p', class_='outer-text')"
   ]
  },
  {
   "cell_type": "code",
   "execution_count": 14,
   "metadata": {},
   "outputs": [
    {
     "data": {
      "text/plain": [
       "[<p class=\"outer-text first-item\" id=\"second\">\n",
       " <b>\n",
       "                 Data Science is funny.\n",
       "             </b>\n",
       " </p>, <p class=\"outer-text\">\n",
       " <b>\n",
       "                 All I need is Love.\n",
       "             </b>\n",
       " </p>]"
      ]
     },
     "execution_count": 14,
     "metadata": {},
     "output_type": "execute_result"
    }
   ],
   "source": [
    "soup.find_all(class_='outer-text')"
   ]
  },
  {
   "cell_type": "code",
   "execution_count": 15,
   "metadata": {},
   "outputs": [
    {
     "data": {
      "text/plain": [
       "[<p class=\"inner-text first-item\" id=\"first\">\n",
       "                 Happy PinkWink.\n",
       "                 <a href=\"http://www.pinkwink.kr\" id=\"pw-link\">PinkWink</a>\n",
       " </p>]"
      ]
     },
     "execution_count": 15,
     "metadata": {},
     "output_type": "execute_result"
    }
   ],
   "source": [
    "soup.find_all(id='first')"
   ]
  },
  {
   "cell_type": "code",
   "execution_count": 16,
   "metadata": {},
   "outputs": [
    {
     "data": {
      "text/plain": [
       "<p class=\"inner-text first-item\" id=\"first\">\n",
       "                Happy PinkWink.\n",
       "                <a href=\"http://www.pinkwink.kr\" id=\"pw-link\">PinkWink</a>\n",
       "</p>"
      ]
     },
     "execution_count": 16,
     "metadata": {},
     "output_type": "execute_result"
    }
   ],
   "source": [
    "soup.find('p')"
   ]
  },
  {
   "cell_type": "code",
   "execution_count": 17,
   "metadata": {},
   "outputs": [
    {
     "data": {
      "text/plain": [
       "<head>\n",
       "<title>Very Simple HTML Code by PinkWink</title>\n",
       "</head>"
      ]
     },
     "execution_count": 17,
     "metadata": {},
     "output_type": "execute_result"
    }
   ],
   "source": [
    "soup.head"
   ]
  },
  {
   "cell_type": "code",
   "execution_count": 18,
   "metadata": {},
   "outputs": [
    {
     "data": {
      "text/plain": [
       "'\\n'"
      ]
     },
     "execution_count": 18,
     "metadata": {},
     "output_type": "execute_result"
    }
   ],
   "source": [
    "soup.head.next_sibling"
   ]
  },
  {
   "cell_type": "code",
   "execution_count": 19,
   "metadata": {},
   "outputs": [
    {
     "data": {
      "text/plain": [
       "<body>\n",
       "<div>\n",
       "<p class=\"inner-text first-item\" id=\"first\">\n",
       "                Happy PinkWink.\n",
       "                <a href=\"http://www.pinkwink.kr\" id=\"pw-link\">PinkWink</a>\n",
       "</p>\n",
       "<p class=\"inner-text second-item\">\n",
       "                Happy Data Science.\n",
       "                <a href=\"https://www.python.org\" id=\"py-link\">Python</a>\n",
       "</p>\n",
       "</div>\n",
       "<p class=\"outer-text first-item\" id=\"second\">\n",
       "<b>\n",
       "                Data Science is funny.\n",
       "            </b>\n",
       "</p>\n",
       "<p class=\"outer-text\">\n",
       "<b>\n",
       "                All I need is Love.\n",
       "            </b>\n",
       "</p>\n",
       "</body>"
      ]
     },
     "execution_count": 19,
     "metadata": {},
     "output_type": "execute_result"
    }
   ],
   "source": [
    "soup.head.next_sibling.next_sibling"
   ]
  },
  {
   "cell_type": "code",
   "execution_count": 20,
   "metadata": {},
   "outputs": [
    {
     "data": {
      "text/plain": [
       "<p class=\"inner-text first-item\" id=\"first\">\n",
       "                Happy PinkWink.\n",
       "                <a href=\"http://www.pinkwink.kr\" id=\"pw-link\">PinkWink</a>\n",
       "</p>"
      ]
     },
     "execution_count": 20,
     "metadata": {},
     "output_type": "execute_result"
    }
   ],
   "source": [
    "body.p"
   ]
  },
  {
   "cell_type": "code",
   "execution_count": 21,
   "metadata": {},
   "outputs": [
    {
     "data": {
      "text/plain": [
       "<p class=\"inner-text second-item\">\n",
       "                Happy Data Science.\n",
       "                <a href=\"https://www.python.org\" id=\"py-link\">Python</a>\n",
       "</p>"
      ]
     },
     "execution_count": 21,
     "metadata": {},
     "output_type": "execute_result"
    }
   ],
   "source": [
    "body.p.next_sibling.next_sibling"
   ]
  },
  {
   "cell_type": "code",
   "execution_count": 22,
   "metadata": {},
   "outputs": [
    {
     "name": "stdout",
     "output_type": "stream",
     "text": [
      "\n",
      "                Happy PinkWink.\n",
      "                PinkWink\n",
      "\n",
      "\n",
      "                Happy Data Science.\n",
      "                Python\n",
      "\n",
      "\n",
      "\n",
      "                Data Science is funny.\n",
      "            \n",
      "\n",
      "\n",
      "\n",
      "                All I need is Love.\n",
      "            \n",
      "\n"
     ]
    }
   ],
   "source": [
    "for each_tag in soup.find_all('p') :\n",
    "    print(each_tag.get_text())"
   ]
  },
  {
   "cell_type": "code",
   "execution_count": 23,
   "metadata": {},
   "outputs": [
    {
     "data": {
      "text/plain": [
       "'\\n\\n\\n                Happy PinkWink.\\n                PinkWink\\n\\n\\n                Happy Data Science.\\n                Python\\n\\n\\n\\n\\n                Data Science is funny.\\n            \\n\\n\\n\\n                All I need is Love.\\n            \\n\\n'"
      ]
     },
     "execution_count": 23,
     "metadata": {},
     "output_type": "execute_result"
    }
   ],
   "source": [
    "body.get_text()"
   ]
  },
  {
   "cell_type": "code",
   "execution_count": 24,
   "metadata": {},
   "outputs": [
    {
     "data": {
      "text/plain": [
       "[<a href=\"http://www.pinkwink.kr\" id=\"pw-link\">PinkWink</a>,\n",
       " <a href=\"https://www.python.org\" id=\"py-link\">Python</a>]"
      ]
     },
     "execution_count": 24,
     "metadata": {},
     "output_type": "execute_result"
    }
   ],
   "source": [
    "links=soup.find_all('a')\n",
    "links"
   ]
  },
  {
   "cell_type": "code",
   "execution_count": 25,
   "metadata": {},
   "outputs": [
    {
     "name": "stdout",
     "output_type": "stream",
     "text": [
      "PinkWink->http://www.pinkwink.kr\n",
      "Python->https://www.python.org\n"
     ]
    }
   ],
   "source": [
    "for each in links :\n",
    "    href = each['href']\n",
    "    text = each.string\n",
    "    print(text + '->' + href)"
   ]
  },
  {
   "cell_type": "markdown",
   "metadata": {},
   "source": [
    "## 3-2 크롬 개발자 도구를 이용해서 원하는 태그 찾기"
   ]
  },
  {
   "cell_type": "code",
   "execution_count": 26,
   "metadata": {},
   "outputs": [],
   "source": [
    "from urllib.request import urlopen"
   ]
  },
  {
   "cell_type": "code",
   "execution_count": 34,
   "metadata": {},
   "outputs": [
    {
     "data": {
      "text/plain": [
       "'<script language=\"javascript\" src=\"/template/head_js.nhn?referer=info.finance.naver.com&amp;menu=marketindex&amp;submenu=market\">\\n</script>\\n<script src=\"/js/info/jindo.min.ns.1.5.3.euckr.js\" type=\"text/javascript\">\\n</script>\\n<script src=\"/js/jindo.1.5.3.element-text-patch.js\" type=\"text/javascript\">\\n</script>\\n<div id=\"container\" style=\"padding-bottom:0px;\">\\n <script language=\"JavaScript\" src=\"/js/flashObject.js?20190411143845\">\\n </script>\\n <div class=\"market_include\">\\n  <div class=\"market_data\">'"
      ]
     },
     "execution_count": 34,
     "metadata": {},
     "output_type": "execute_result"
    }
   ],
   "source": [
    "url = 'https://finance.naver.com/marketindex/'\n",
    "page = urlopen(url)\n",
    "\n",
    "soup = BeautifulSoup(page, 'html.parser')\n",
    "\n",
    "soup.prettify()[:500]"
   ]
  },
  {
   "cell_type": "code",
   "execution_count": 35,
   "metadata": {},
   "outputs": [
    {
     "data": {
      "text/plain": [
       "'1,167.50'"
      ]
     },
     "execution_count": 35,
     "metadata": {},
     "output_type": "execute_result"
    }
   ],
   "source": [
    "soup.find_all('span','value')[0].string"
   ]
  },
  {
   "cell_type": "markdown",
   "metadata": {},
   "source": [
    "## 3-3 실전 : 시카고 샌드위치 맛집 소개 사이트에 접근하기"
   ]
  },
  {
   "cell_type": "code",
   "execution_count": 36,
   "metadata": {},
   "outputs": [],
   "source": [
    "from bs4 import BeautifulSoup\n",
    "from urllib.request import urlopen\n",
    "\n",
    "url_base = 'http://www.chicagomag.com'\n",
    "url_sub = '/Chicago-Magazine/November-2012/Best-Sandwiches-Chicago/'\n",
    "url = url_base + url_sub\n",
    "\n",
    "html = urlopen(url)\n",
    "soup = BeautifulSoup(html, 'html.parser')\n",
    "\n",
    "# soup"
   ]
  },
  {
   "cell_type": "code",
   "execution_count": 40,
   "metadata": {},
   "outputs": [
    {
     "data": {
      "text/plain": [
       "[<div class=\"sammy\" style=\"position: relative;\">\n",
       " <div class=\"sammyRank\">1</div>\n",
       " <div class=\"sammyListing\"><a href=\"/Chicago-Magazine/November-2012/Best-Sandwiches-in-Chicago-Old-Oak-Tap-BLT/\"><b>BLT</b><br>\n",
       " Old Oak Tap<br>\n",
       " <em>Read more</em> </br></br></a></div>\n",
       " </div>, <div class=\"sammy\" style=\"position: relative;\">\n",
       " <div class=\"sammyRank\">2</div>\n",
       " <div class=\"sammyListing\"><a href=\"/Chicago-Magazine/November-2012/Best-Sandwiches-in-Chicago-Au-Cheval-Fried-Bologna/\"><b>Fried Bologna</b><br/>\n",
       " Au Cheval<br/>\n",
       " <em>Read more</em> </a></div>\n",
       " </div>, <div class=\"sammy\" style=\"position: relative;\">\n",
       " <div class=\"sammyRank\">3</div>\n",
       " <div class=\"sammyListing\"><a href=\"/Chicago-Magazine/November-2012/Best-Sandwiches-in-Chicago-Xoco-Woodland-Mushroom/\"><b>Woodland Mushroom</b><br/>\n",
       " Xoco<br/>\n",
       " <em>Read more</em> </a></div>\n",
       " </div>]"
      ]
     },
     "execution_count": 40,
     "metadata": {},
     "output_type": "execute_result"
    }
   ],
   "source": [
    "soup.find_all('div','sammy')[:3]"
   ]
  },
  {
   "cell_type": "code",
   "execution_count": 42,
   "metadata": {},
   "outputs": [
    {
     "data": {
      "text/plain": [
       "50"
      ]
     },
     "execution_count": 42,
     "metadata": {},
     "output_type": "execute_result"
    }
   ],
   "source": [
    "len(soup.find_all('div','sammy'))"
   ]
  },
  {
   "cell_type": "code",
   "execution_count": 43,
   "metadata": {},
   "outputs": [
    {
     "name": "stdout",
     "output_type": "stream",
     "text": [
      "<div class=\"sammy\" style=\"position: relative;\">\n",
      "<div class=\"sammyRank\">1</div>\n",
      "<div class=\"sammyListing\"><a href=\"/Chicago-Magazine/November-2012/Best-Sandwiches-in-Chicago-Old-Oak-Tap-BLT/\"><b>BLT</b><br>\r\n",
      "Old Oak Tap<br>\n",
      "<em>Read more</em> </br></br></a></div>\n",
      "</div>\n"
     ]
    }
   ],
   "source": [
    "print(soup.find_all('div','sammy')[0])"
   ]
  },
  {
   "cell_type": "markdown",
   "metadata": {},
   "source": [
    "## 3-4 접근한 웹 페이지에서 원하는 데이터를 추출하고 정리하기"
   ]
  },
  {
   "cell_type": "code",
   "execution_count": 44,
   "metadata": {},
   "outputs": [
    {
     "data": {
      "text/plain": [
       "bs4.element.Tag"
      ]
     },
     "execution_count": 44,
     "metadata": {},
     "output_type": "execute_result"
    }
   ],
   "source": [
    "tmp_one = soup.find_all('div','sammy')[0]\n",
    "type(tmp_one)"
   ]
  },
  {
   "cell_type": "markdown",
   "metadata": {},
   "source": [
    "- `bs4.element.Tag`와 같은 형태의 경우 그 변수에 다시 태그로 찾는 명령(find, find_all)을 사용할 수 있다."
   ]
  },
  {
   "cell_type": "code",
   "execution_count": 45,
   "metadata": {},
   "outputs": [
    {
     "data": {
      "text/plain": [
       "'1'"
      ]
     },
     "execution_count": 45,
     "metadata": {},
     "output_type": "execute_result"
    }
   ],
   "source": [
    "tmp_one.find(class_='sammyRank').get_text()"
   ]
  },
  {
   "cell_type": "code",
   "execution_count": 46,
   "metadata": {},
   "outputs": [
    {
     "data": {
      "text/plain": [
       "'BLT\\r\\nOld Oak Tap\\nRead more '"
      ]
     },
     "execution_count": 46,
     "metadata": {},
     "output_type": "execute_result"
    }
   ],
   "source": [
    "tmp_one.find(class_='sammyListing').get_text()"
   ]
  },
  {
   "cell_type": "code",
   "execution_count": 47,
   "metadata": {},
   "outputs": [
    {
     "data": {
      "text/plain": [
       "'/Chicago-Magazine/November-2012/Best-Sandwiches-in-Chicago-Old-Oak-Tap-BLT/'"
      ]
     },
     "execution_count": 47,
     "metadata": {},
     "output_type": "execute_result"
    }
   ],
   "source": [
    "tmp_one.find('a')['href']"
   ]
  },
  {
   "cell_type": "code",
   "execution_count": 48,
   "metadata": {},
   "outputs": [
    {
     "data": {
      "text/plain": [
       "['BLT', 'Old Oak Tap', 'Read more ']"
      ]
     },
     "execution_count": 48,
     "metadata": {},
     "output_type": "execute_result"
    }
   ],
   "source": [
    "import re\n",
    "\n",
    "tmp_string = tmp_one.find(class_='sammyListing').get_text()\n",
    "\n",
    "re.split(('\\n|\\r\\n'), tmp_string)"
   ]
  },
  {
   "cell_type": "code",
   "execution_count": 49,
   "metadata": {},
   "outputs": [
    {
     "name": "stdout",
     "output_type": "stream",
     "text": [
      "BLT\n",
      "Old Oak Tap\n"
     ]
    }
   ],
   "source": [
    "print(re.split(('\\n|\\r\\n'), tmp_string)[0])\n",
    "print(re.split(('\\n|\\r\\n'), tmp_string)[1])"
   ]
  },
  {
   "cell_type": "code",
   "execution_count": 50,
   "metadata": {},
   "outputs": [],
   "source": [
    "from urllib.request import urljoin\n",
    "\n",
    "rank = []\n",
    "main_menu = []\n",
    "cafe_name = []\n",
    "url_add = []\n",
    "\n",
    "list_soup = soup.find_all('div','sammy')\n",
    "\n",
    "for item in list_soup :\n",
    "    rank.append(item.find(class_='sammyRank').get_text())\n",
    "    tmp_string = item.find(class_='sammyListing').get_text()\n",
    "    main_menu.append(re.split(('\\n|\\r\\n'), tmp_string)[0])\n",
    "    cafe_name.append(re.split(('\\n|\\r\\n'), tmp_string)[1])\n",
    "    url_add.append(urljoin(url_base, item.find('a')['href']))"
   ]
  },
  {
   "cell_type": "code",
   "execution_count": 51,
   "metadata": {},
   "outputs": [
    {
     "data": {
      "text/plain": [
       "['1', '2', '3', '4', '5']"
      ]
     },
     "execution_count": 51,
     "metadata": {},
     "output_type": "execute_result"
    }
   ],
   "source": [
    "rank[:5]"
   ]
  },
  {
   "cell_type": "code",
   "execution_count": 52,
   "metadata": {},
   "outputs": [
    {
     "data": {
      "text/plain": [
       "['BLT', 'Fried Bologna', 'Woodland Mushroom', 'Roast Beef', 'PB&L']"
      ]
     },
     "execution_count": 52,
     "metadata": {},
     "output_type": "execute_result"
    }
   ],
   "source": [
    "main_menu[:5]"
   ]
  },
  {
   "cell_type": "code",
   "execution_count": 53,
   "metadata": {},
   "outputs": [
    {
     "data": {
      "text/plain": [
       "['Old Oak Tap', 'Au Cheval', 'Xoco', 'Al’s Deli', 'Publican Quality Meats']"
      ]
     },
     "execution_count": 53,
     "metadata": {},
     "output_type": "execute_result"
    }
   ],
   "source": [
    "cafe_name[:5]"
   ]
  },
  {
   "cell_type": "code",
   "execution_count": 54,
   "metadata": {},
   "outputs": [
    {
     "data": {
      "text/plain": [
       "['http://www.chicagomag.com/Chicago-Magazine/November-2012/Best-Sandwiches-in-Chicago-Old-Oak-Tap-BLT/',\n",
       " 'http://www.chicagomag.com/Chicago-Magazine/November-2012/Best-Sandwiches-in-Chicago-Au-Cheval-Fried-Bologna/',\n",
       " 'http://www.chicagomag.com/Chicago-Magazine/November-2012/Best-Sandwiches-in-Chicago-Xoco-Woodland-Mushroom/',\n",
       " 'http://www.chicagomag.com/Chicago-Magazine/November-2012/Best-Sandwiches-in-Chicago-Als-Deli-Roast-Beef/',\n",
       " 'http://www.chicagomag.com/Chicago-Magazine/November-2012/Best-Sandwiches-in-Chicago-Publican-Quality-Meats-PB-L/']"
      ]
     },
     "execution_count": 54,
     "metadata": {},
     "output_type": "execute_result"
    }
   ],
   "source": [
    "url_add[:5]"
   ]
  },
  {
   "cell_type": "code",
   "execution_count": 55,
   "metadata": {},
   "outputs": [
    {
     "data": {
      "text/plain": [
       "(50, 50, 50, 50)"
      ]
     },
     "execution_count": 55,
     "metadata": {},
     "output_type": "execute_result"
    }
   ],
   "source": [
    "len(rank), len(main_menu), len(cafe_name), len(url_add)"
   ]
  },
  {
   "cell_type": "code",
   "execution_count": 56,
   "metadata": {},
   "outputs": [],
   "source": [
    "import pandas as pd"
   ]
  },
  {
   "cell_type": "code",
   "execution_count": 57,
   "metadata": {},
   "outputs": [
    {
     "data": {
      "text/html": [
       "<div>\n",
       "<style scoped>\n",
       "    .dataframe tbody tr th:only-of-type {\n",
       "        vertical-align: middle;\n",
       "    }\n",
       "\n",
       "    .dataframe tbody tr th {\n",
       "        vertical-align: top;\n",
       "    }\n",
       "\n",
       "    .dataframe thead th {\n",
       "        text-align: right;\n",
       "    }\n",
       "</style>\n",
       "<table border=\"1\" class=\"dataframe\">\n",
       "  <thead>\n",
       "    <tr style=\"text-align: right;\">\n",
       "      <th></th>\n",
       "      <th>Cafe</th>\n",
       "      <th>Menu</th>\n",
       "      <th>Rank</th>\n",
       "      <th>URL</th>\n",
       "    </tr>\n",
       "  </thead>\n",
       "  <tbody>\n",
       "    <tr>\n",
       "      <th>0</th>\n",
       "      <td>Old Oak Tap</td>\n",
       "      <td>BLT</td>\n",
       "      <td>1</td>\n",
       "      <td>http://www.chicagomag.com/Chicago-Magazine/Nov...</td>\n",
       "    </tr>\n",
       "    <tr>\n",
       "      <th>1</th>\n",
       "      <td>Au Cheval</td>\n",
       "      <td>Fried Bologna</td>\n",
       "      <td>2</td>\n",
       "      <td>http://www.chicagomag.com/Chicago-Magazine/Nov...</td>\n",
       "    </tr>\n",
       "    <tr>\n",
       "      <th>2</th>\n",
       "      <td>Xoco</td>\n",
       "      <td>Woodland Mushroom</td>\n",
       "      <td>3</td>\n",
       "      <td>http://www.chicagomag.com/Chicago-Magazine/Nov...</td>\n",
       "    </tr>\n",
       "    <tr>\n",
       "      <th>3</th>\n",
       "      <td>Al’s Deli</td>\n",
       "      <td>Roast Beef</td>\n",
       "      <td>4</td>\n",
       "      <td>http://www.chicagomag.com/Chicago-Magazine/Nov...</td>\n",
       "    </tr>\n",
       "    <tr>\n",
       "      <th>4</th>\n",
       "      <td>Publican Quality Meats</td>\n",
       "      <td>PB&amp;L</td>\n",
       "      <td>5</td>\n",
       "      <td>http://www.chicagomag.com/Chicago-Magazine/Nov...</td>\n",
       "    </tr>\n",
       "  </tbody>\n",
       "</table>\n",
       "</div>"
      ],
      "text/plain": [
       "                     Cafe               Menu Rank  \\\n",
       "0             Old Oak Tap                BLT    1   \n",
       "1               Au Cheval      Fried Bologna    2   \n",
       "2                    Xoco  Woodland Mushroom    3   \n",
       "3               Al’s Deli         Roast Beef    4   \n",
       "4  Publican Quality Meats               PB&L    5   \n",
       "\n",
       "                                                 URL  \n",
       "0  http://www.chicagomag.com/Chicago-Magazine/Nov...  \n",
       "1  http://www.chicagomag.com/Chicago-Magazine/Nov...  \n",
       "2  http://www.chicagomag.com/Chicago-Magazine/Nov...  \n",
       "3  http://www.chicagomag.com/Chicago-Magazine/Nov...  \n",
       "4  http://www.chicagomag.com/Chicago-Magazine/Nov...  "
      ]
     },
     "execution_count": 57,
     "metadata": {},
     "output_type": "execute_result"
    }
   ],
   "source": [
    "data = {'Cafe' : cafe_name, 'Menu' : main_menu, 'Rank' : rank,  'URL' : url_add}\n",
    "df = pd.DataFrame(data)\n",
    "df.head()"
   ]
  },
  {
   "cell_type": "code",
   "execution_count": 58,
   "metadata": {},
   "outputs": [
    {
     "data": {
      "text/html": [
       "<div>\n",
       "<style scoped>\n",
       "    .dataframe tbody tr th:only-of-type {\n",
       "        vertical-align: middle;\n",
       "    }\n",
       "\n",
       "    .dataframe tbody tr th {\n",
       "        vertical-align: top;\n",
       "    }\n",
       "\n",
       "    .dataframe thead th {\n",
       "        text-align: right;\n",
       "    }\n",
       "</style>\n",
       "<table border=\"1\" class=\"dataframe\">\n",
       "  <thead>\n",
       "    <tr style=\"text-align: right;\">\n",
       "      <th></th>\n",
       "      <th>Rank</th>\n",
       "      <th>Cafe</th>\n",
       "      <th>Menu</th>\n",
       "      <th>URL</th>\n",
       "    </tr>\n",
       "  </thead>\n",
       "  <tbody>\n",
       "    <tr>\n",
       "      <th>0</th>\n",
       "      <td>1</td>\n",
       "      <td>Old Oak Tap</td>\n",
       "      <td>BLT</td>\n",
       "      <td>http://www.chicagomag.com/Chicago-Magazine/Nov...</td>\n",
       "    </tr>\n",
       "    <tr>\n",
       "      <th>1</th>\n",
       "      <td>2</td>\n",
       "      <td>Au Cheval</td>\n",
       "      <td>Fried Bologna</td>\n",
       "      <td>http://www.chicagomag.com/Chicago-Magazine/Nov...</td>\n",
       "    </tr>\n",
       "    <tr>\n",
       "      <th>2</th>\n",
       "      <td>3</td>\n",
       "      <td>Xoco</td>\n",
       "      <td>Woodland Mushroom</td>\n",
       "      <td>http://www.chicagomag.com/Chicago-Magazine/Nov...</td>\n",
       "    </tr>\n",
       "    <tr>\n",
       "      <th>3</th>\n",
       "      <td>4</td>\n",
       "      <td>Al’s Deli</td>\n",
       "      <td>Roast Beef</td>\n",
       "      <td>http://www.chicagomag.com/Chicago-Magazine/Nov...</td>\n",
       "    </tr>\n",
       "    <tr>\n",
       "      <th>4</th>\n",
       "      <td>5</td>\n",
       "      <td>Publican Quality Meats</td>\n",
       "      <td>PB&amp;L</td>\n",
       "      <td>http://www.chicagomag.com/Chicago-Magazine/Nov...</td>\n",
       "    </tr>\n",
       "  </tbody>\n",
       "</table>\n",
       "</div>"
      ],
      "text/plain": [
       "  Rank                    Cafe               Menu  \\\n",
       "0    1             Old Oak Tap                BLT   \n",
       "1    2               Au Cheval      Fried Bologna   \n",
       "2    3                    Xoco  Woodland Mushroom   \n",
       "3    4               Al’s Deli         Roast Beef   \n",
       "4    5  Publican Quality Meats               PB&L   \n",
       "\n",
       "                                                 URL  \n",
       "0  http://www.chicagomag.com/Chicago-Magazine/Nov...  \n",
       "1  http://www.chicagomag.com/Chicago-Magazine/Nov...  \n",
       "2  http://www.chicagomag.com/Chicago-Magazine/Nov...  \n",
       "3  http://www.chicagomag.com/Chicago-Magazine/Nov...  \n",
       "4  http://www.chicagomag.com/Chicago-Magazine/Nov...  "
      ]
     },
     "execution_count": 58,
     "metadata": {},
     "output_type": "execute_result"
    }
   ],
   "source": [
    "df = pd.DataFrame(df, columns = ['Rank','Cafe','Menu','URL'])\n",
    "df.head()"
   ]
  },
  {
   "cell_type": "code",
   "execution_count": 59,
   "metadata": {},
   "outputs": [],
   "source": [
    "df.to_csv('C:/Users/jeong/Documents/JUPYTER NOTEBOOK/03. best_sandwiches_list_chicago.csv',\n",
    "          sep = ',', encoding = 'UTF-8')"
   ]
  },
  {
   "cell_type": "markdown",
   "metadata": {},
   "source": [
    "## 3-5 다수의 웹 페이지에 자동으로 접근해서 원하는 정보 가져오기"
   ]
  },
  {
   "cell_type": "code",
   "execution_count": 60,
   "metadata": {},
   "outputs": [],
   "source": [
    "from bs4 import BeautifulSoup\n",
    "from urllib.request import urlopen\n",
    "\n",
    "import pandas as pd"
   ]
  },
  {
   "cell_type": "code",
   "execution_count": 61,
   "metadata": {},
   "outputs": [
    {
     "data": {
      "text/html": [
       "<div>\n",
       "<style scoped>\n",
       "    .dataframe tbody tr th:only-of-type {\n",
       "        vertical-align: middle;\n",
       "    }\n",
       "\n",
       "    .dataframe tbody tr th {\n",
       "        vertical-align: top;\n",
       "    }\n",
       "\n",
       "    .dataframe thead th {\n",
       "        text-align: right;\n",
       "    }\n",
       "</style>\n",
       "<table border=\"1\" class=\"dataframe\">\n",
       "  <thead>\n",
       "    <tr style=\"text-align: right;\">\n",
       "      <th></th>\n",
       "      <th>Rank</th>\n",
       "      <th>Cafe</th>\n",
       "      <th>Menu</th>\n",
       "      <th>URL</th>\n",
       "    </tr>\n",
       "  </thead>\n",
       "  <tbody>\n",
       "    <tr>\n",
       "      <th>0</th>\n",
       "      <td>1</td>\n",
       "      <td>Old Oak Tap</td>\n",
       "      <td>BLT</td>\n",
       "      <td>http://www.chicagomag.com/Chicago-Magazine/Nov...</td>\n",
       "    </tr>\n",
       "    <tr>\n",
       "      <th>1</th>\n",
       "      <td>2</td>\n",
       "      <td>Au Cheval</td>\n",
       "      <td>Fried Bologna</td>\n",
       "      <td>http://www.chicagomag.com/Chicago-Magazine/Nov...</td>\n",
       "    </tr>\n",
       "    <tr>\n",
       "      <th>2</th>\n",
       "      <td>3</td>\n",
       "      <td>Xoco</td>\n",
       "      <td>Woodland Mushroom</td>\n",
       "      <td>http://www.chicagomag.com/Chicago-Magazine/Nov...</td>\n",
       "    </tr>\n",
       "    <tr>\n",
       "      <th>3</th>\n",
       "      <td>4</td>\n",
       "      <td>Al’s Deli</td>\n",
       "      <td>Roast Beef</td>\n",
       "      <td>http://www.chicagomag.com/Chicago-Magazine/Nov...</td>\n",
       "    </tr>\n",
       "    <tr>\n",
       "      <th>4</th>\n",
       "      <td>5</td>\n",
       "      <td>Publican Quality Meats</td>\n",
       "      <td>PB&amp;L</td>\n",
       "      <td>http://www.chicagomag.com/Chicago-Magazine/Nov...</td>\n",
       "    </tr>\n",
       "  </tbody>\n",
       "</table>\n",
       "</div>"
      ],
      "text/plain": [
       "   Rank                    Cafe               Menu  \\\n",
       "0     1             Old Oak Tap                BLT   \n",
       "1     2               Au Cheval      Fried Bologna   \n",
       "2     3                    Xoco  Woodland Mushroom   \n",
       "3     4               Al’s Deli         Roast Beef   \n",
       "4     5  Publican Quality Meats               PB&L   \n",
       "\n",
       "                                                 URL  \n",
       "0  http://www.chicagomag.com/Chicago-Magazine/Nov...  \n",
       "1  http://www.chicagomag.com/Chicago-Magazine/Nov...  \n",
       "2  http://www.chicagomag.com/Chicago-Magazine/Nov...  \n",
       "3  http://www.chicagomag.com/Chicago-Magazine/Nov...  \n",
       "4  http://www.chicagomag.com/Chicago-Magazine/Nov...  "
      ]
     },
     "execution_count": 61,
     "metadata": {},
     "output_type": "execute_result"
    }
   ],
   "source": [
    "df = pd.read_csv('C:/Users/jeong/Documents/JUPYTER NOTEBOOK/03. best_sandwiches_list_chicago.csv',\n",
    "                 index_col = 0)\n",
    "df.head()"
   ]
  },
  {
   "cell_type": "code",
   "execution_count": 62,
   "metadata": {},
   "outputs": [
    {
     "data": {
      "text/plain": [
       "'http://www.chicagomag.com/Chicago-Magazine/November-2012/Best-Sandwiches-in-Chicago-Old-Oak-Tap-BLT/'"
      ]
     },
     "execution_count": 62,
     "metadata": {},
     "output_type": "execute_result"
    }
   ],
   "source": [
    "df['URL'][0]"
   ]
  },
  {
   "cell_type": "code",
   "execution_count": 65,
   "metadata": {},
   "outputs": [],
   "source": [
    "html = urlopen(df['URL'][0])\n",
    "soup_tmp = BeautifulSoup(html, 'html.parser')\n",
    "#soup_tmp"
   ]
  },
  {
   "cell_type": "code",
   "execution_count": 66,
   "metadata": {},
   "outputs": [
    {
     "name": "stdout",
     "output_type": "stream",
     "text": [
      "<p class=\"addy\">\n",
      "<em>$10. 2109 W. Chicago Ave., 773-772-0406, <a href=\"http://www.theoldoaktap.com/\">theoldoaktap.com</a></em></p>\n"
     ]
    }
   ],
   "source": [
    "print(soup_tmp.find('p','addy'))"
   ]
  },
  {
   "cell_type": "code",
   "execution_count": 67,
   "metadata": {},
   "outputs": [
    {
     "data": {
      "text/plain": [
       "'\\n$10. 2109 W. Chicago Ave., 773-772-0406, theoldoaktap.com'"
      ]
     },
     "execution_count": 67,
     "metadata": {},
     "output_type": "execute_result"
    }
   ],
   "source": [
    "price_tmp = soup_tmp.find('p','addy').get_text()\n",
    "price_tmp"
   ]
  },
  {
   "cell_type": "code",
   "execution_count": 68,
   "metadata": {},
   "outputs": [
    {
     "data": {
      "text/plain": [
       "['$10.', '2109', 'W.', 'Chicago', 'Ave.,', '773-772-0406,', 'theoldoaktap.com']"
      ]
     },
     "execution_count": 68,
     "metadata": {},
     "output_type": "execute_result"
    }
   ],
   "source": [
    "price_tmp.split()"
   ]
  },
  {
   "cell_type": "code",
   "execution_count": 69,
   "metadata": {},
   "outputs": [
    {
     "data": {
      "text/plain": [
       "'$10.'"
      ]
     },
     "execution_count": 69,
     "metadata": {},
     "output_type": "execute_result"
    }
   ],
   "source": [
    "price_tmp.split()[0]"
   ]
  },
  {
   "cell_type": "code",
   "execution_count": 70,
   "metadata": {},
   "outputs": [
    {
     "data": {
      "text/plain": [
       "'$10'"
      ]
     },
     "execution_count": 70,
     "metadata": {},
     "output_type": "execute_result"
    }
   ],
   "source": [
    "price_tmp.split()[0][:-1]"
   ]
  },
  {
   "cell_type": "code",
   "execution_count": 71,
   "metadata": {},
   "outputs": [
    {
     "data": {
      "text/plain": [
       "'2109 W. Chicago Ave.,'"
      ]
     },
     "execution_count": 71,
     "metadata": {},
     "output_type": "execute_result"
    }
   ],
   "source": [
    "' '.join(price_tmp.split()[1:-2])"
   ]
  },
  {
   "cell_type": "code",
   "execution_count": 72,
   "metadata": {},
   "outputs": [],
   "source": [
    "price = []\n",
    "address = []\n",
    "\n",
    "for n in df.index[:3] :\n",
    "    html = urlopen(df['URL'][n])\n",
    "    soup_tmp = BeautifulSoup(html, 'lxml')\n",
    "    \n",
    "    gettings = soup_tmp.find('p', 'addy').get_text()\n",
    "    \n",
    "    price.append(gettings.split()[0])\n",
    "    address.append(' '.join(gettings.split()[1:-2]))"
   ]
  },
  {
   "cell_type": "code",
   "execution_count": 73,
   "metadata": {},
   "outputs": [
    {
     "data": {
      "text/plain": [
       "['$10.', '$9.', '$9.50.']"
      ]
     },
     "execution_count": 73,
     "metadata": {},
     "output_type": "execute_result"
    }
   ],
   "source": [
    "price"
   ]
  },
  {
   "cell_type": "code",
   "execution_count": 74,
   "metadata": {},
   "outputs": [
    {
     "data": {
      "text/plain": [
       "['2109 W. Chicago Ave.,', '800 W. Randolph St.,', '445 N. Clark St.,']"
      ]
     },
     "execution_count": 74,
     "metadata": {},
     "output_type": "execute_result"
    }
   ],
   "source": [
    "address"
   ]
  },
  {
   "cell_type": "markdown",
   "metadata": {},
   "source": [
    "## 3-6 Jupyter Notebook에서 상태 진행바를 쉽게 만들어주는 tqdm 모듈"
   ]
  },
  {
   "cell_type": "markdown",
   "metadata": {},
   "source": [
    "- conda install -c conda-forge tqdm"
   ]
  },
  {
   "cell_type": "markdown",
   "metadata": {},
   "source": [
    "## 3-7 상태 진행바까지 적용하고 다시 샌드위치 페이지 50개에 접근하기"
   ]
  },
  {
   "cell_type": "code",
   "execution_count": 75,
   "metadata": {},
   "outputs": [
    {
     "data": {
      "application/vnd.jupyter.widget-view+json": {
       "model_id": "ff10ff8649044681bbb68cd4c67a26a1",
       "version_major": 2,
       "version_minor": 0
      },
      "text/plain": [
       "HBox(children=(IntProgress(value=0, max=50), HTML(value='')))"
      ]
     },
     "metadata": {},
     "output_type": "display_data"
    },
    {
     "name": "stdout",
     "output_type": "stream",
     "text": [
      "\n"
     ]
    }
   ],
   "source": [
    "from tqdm import tqdm_notebook\n",
    "\n",
    "price = []\n",
    "address = []\n",
    "\n",
    "for n in tqdm_notebook(df.index) :\n",
    "    html = urlopen(df['URL'][n])\n",
    "    soup_tmp = BeautifulSoup(html, 'lxml')\n",
    "    \n",
    "    gettings = soup_tmp.find('p', 'addy').get_text()\n",
    "    \n",
    "    price.append(gettings.split()[0][:-1])\n",
    "    address.append(' '.join(gettings.split()[1:-2]))"
   ]
  },
  {
   "cell_type": "markdown",
   "metadata": {},
   "source": [
    "## 3-8 50개 웹 페이지에 대한 정보 가져오기"
   ]
  },
  {
   "cell_type": "code",
   "execution_count": 76,
   "metadata": {},
   "outputs": [
    {
     "data": {
      "text/plain": [
       "['$10', '$9', '$9.50', '$9.40', '$10']"
      ]
     },
     "execution_count": 76,
     "metadata": {},
     "output_type": "execute_result"
    }
   ],
   "source": [
    "price[:5]"
   ]
  },
  {
   "cell_type": "code",
   "execution_count": 77,
   "metadata": {},
   "outputs": [
    {
     "data": {
      "text/plain": [
       "['2109 W. Chicago Ave.,',\n",
       " '800 W. Randolph St.,',\n",
       " '445 N. Clark St.,',\n",
       " '914 Noyes St., Evanston,',\n",
       " '825 W. Fulton Mkt.,']"
      ]
     },
     "execution_count": 77,
     "metadata": {},
     "output_type": "execute_result"
    }
   ],
   "source": [
    "address[:5]"
   ]
  },
  {
   "cell_type": "code",
   "execution_count": 78,
   "metadata": {},
   "outputs": [
    {
     "data": {
      "text/plain": [
       "(50, 50, 50)"
      ]
     },
     "execution_count": 78,
     "metadata": {},
     "output_type": "execute_result"
    }
   ],
   "source": [
    "len(price), len(address), len(df)"
   ]
  },
  {
   "cell_type": "code",
   "execution_count": 79,
   "metadata": {},
   "outputs": [
    {
     "data": {
      "text/html": [
       "<div>\n",
       "<style scoped>\n",
       "    .dataframe tbody tr th:only-of-type {\n",
       "        vertical-align: middle;\n",
       "    }\n",
       "\n",
       "    .dataframe tbody tr th {\n",
       "        vertical-align: top;\n",
       "    }\n",
       "\n",
       "    .dataframe thead th {\n",
       "        text-align: right;\n",
       "    }\n",
       "</style>\n",
       "<table border=\"1\" class=\"dataframe\">\n",
       "  <thead>\n",
       "    <tr style=\"text-align: right;\">\n",
       "      <th></th>\n",
       "      <th>Cafe</th>\n",
       "      <th>Menu</th>\n",
       "      <th>Price</th>\n",
       "      <th>Address</th>\n",
       "    </tr>\n",
       "    <tr>\n",
       "      <th>Rank</th>\n",
       "      <th></th>\n",
       "      <th></th>\n",
       "      <th></th>\n",
       "      <th></th>\n",
       "    </tr>\n",
       "  </thead>\n",
       "  <tbody>\n",
       "    <tr>\n",
       "      <th>1</th>\n",
       "      <td>Old Oak Tap</td>\n",
       "      <td>BLT</td>\n",
       "      <td>$10</td>\n",
       "      <td>2109 W. Chicago Ave.,</td>\n",
       "    </tr>\n",
       "    <tr>\n",
       "      <th>2</th>\n",
       "      <td>Au Cheval</td>\n",
       "      <td>Fried Bologna</td>\n",
       "      <td>$9</td>\n",
       "      <td>800 W. Randolph St.,</td>\n",
       "    </tr>\n",
       "    <tr>\n",
       "      <th>3</th>\n",
       "      <td>Xoco</td>\n",
       "      <td>Woodland Mushroom</td>\n",
       "      <td>$9.50</td>\n",
       "      <td>445 N. Clark St.,</td>\n",
       "    </tr>\n",
       "    <tr>\n",
       "      <th>4</th>\n",
       "      <td>Al’s Deli</td>\n",
       "      <td>Roast Beef</td>\n",
       "      <td>$9.40</td>\n",
       "      <td>914 Noyes St., Evanston,</td>\n",
       "    </tr>\n",
       "    <tr>\n",
       "      <th>5</th>\n",
       "      <td>Publican Quality Meats</td>\n",
       "      <td>PB&amp;L</td>\n",
       "      <td>$10</td>\n",
       "      <td>825 W. Fulton Mkt.,</td>\n",
       "    </tr>\n",
       "  </tbody>\n",
       "</table>\n",
       "</div>"
      ],
      "text/plain": [
       "                        Cafe               Menu  Price  \\\n",
       "Rank                                                     \n",
       "1                Old Oak Tap                BLT    $10   \n",
       "2                  Au Cheval      Fried Bologna     $9   \n",
       "3                       Xoco  Woodland Mushroom  $9.50   \n",
       "4                  Al’s Deli         Roast Beef  $9.40   \n",
       "5     Publican Quality Meats               PB&L    $10   \n",
       "\n",
       "                       Address  \n",
       "Rank                            \n",
       "1        2109 W. Chicago Ave.,  \n",
       "2         800 W. Randolph St.,  \n",
       "3            445 N. Clark St.,  \n",
       "4     914 Noyes St., Evanston,  \n",
       "5          825 W. Fulton Mkt.,  "
      ]
     },
     "execution_count": 79,
     "metadata": {},
     "output_type": "execute_result"
    }
   ],
   "source": [
    "df['Price'] = price\n",
    "df['Address'] = address\n",
    "\n",
    "df = df.loc[:, ['Rank','Cafe','Menu','Price','Address']]\n",
    "df.set_index('Rank', inplace = True)\n",
    "df.head()"
   ]
  },
  {
   "cell_type": "code",
   "execution_count": 80,
   "metadata": {},
   "outputs": [],
   "source": [
    "df.to_csv('C:/Users/jeong/Documents/JUPYTER NOTEBOOK/03. best_sandwiches_list_chicago2.csv',\n",
    "          sep = ',', encoding = 'UTF-8')"
   ]
  },
  {
   "cell_type": "markdown",
   "metadata": {},
   "source": [
    "## 3-9 맛집 위치를 지도에 표기하기"
   ]
  },
  {
   "cell_type": "code",
   "execution_count": 81,
   "metadata": {},
   "outputs": [
    {
     "data": {
      "text/html": [
       "<div>\n",
       "<style scoped>\n",
       "    .dataframe tbody tr th:only-of-type {\n",
       "        vertical-align: middle;\n",
       "    }\n",
       "\n",
       "    .dataframe tbody tr th {\n",
       "        vertical-align: top;\n",
       "    }\n",
       "\n",
       "    .dataframe thead th {\n",
       "        text-align: right;\n",
       "    }\n",
       "</style>\n",
       "<table border=\"1\" class=\"dataframe\">\n",
       "  <thead>\n",
       "    <tr style=\"text-align: right;\">\n",
       "      <th></th>\n",
       "      <th>Cafe</th>\n",
       "      <th>Menu</th>\n",
       "      <th>Price</th>\n",
       "      <th>Address</th>\n",
       "    </tr>\n",
       "    <tr>\n",
       "      <th>Rank</th>\n",
       "      <th></th>\n",
       "      <th></th>\n",
       "      <th></th>\n",
       "      <th></th>\n",
       "    </tr>\n",
       "  </thead>\n",
       "  <tbody>\n",
       "    <tr>\n",
       "      <th>1</th>\n",
       "      <td>Old Oak Tap</td>\n",
       "      <td>BLT</td>\n",
       "      <td>$10</td>\n",
       "      <td>2109 W. Chicago Ave.,</td>\n",
       "    </tr>\n",
       "    <tr>\n",
       "      <th>2</th>\n",
       "      <td>Au Cheval</td>\n",
       "      <td>Fried Bologna</td>\n",
       "      <td>$9</td>\n",
       "      <td>800 W. Randolph St.,</td>\n",
       "    </tr>\n",
       "    <tr>\n",
       "      <th>3</th>\n",
       "      <td>Xoco</td>\n",
       "      <td>Woodland Mushroom</td>\n",
       "      <td>$9.50</td>\n",
       "      <td>445 N. Clark St.,</td>\n",
       "    </tr>\n",
       "    <tr>\n",
       "      <th>4</th>\n",
       "      <td>Al’s Deli</td>\n",
       "      <td>Roast Beef</td>\n",
       "      <td>$9.40</td>\n",
       "      <td>914 Noyes St., Evanston,</td>\n",
       "    </tr>\n",
       "    <tr>\n",
       "      <th>5</th>\n",
       "      <td>Publican Quality Meats</td>\n",
       "      <td>PB&amp;L</td>\n",
       "      <td>$10</td>\n",
       "      <td>825 W. Fulton Mkt.,</td>\n",
       "    </tr>\n",
       "  </tbody>\n",
       "</table>\n",
       "</div>"
      ],
      "text/plain": [
       "                        Cafe               Menu  Price  \\\n",
       "Rank                                                     \n",
       "1                Old Oak Tap                BLT    $10   \n",
       "2                  Au Cheval      Fried Bologna     $9   \n",
       "3                       Xoco  Woodland Mushroom  $9.50   \n",
       "4                  Al’s Deli         Roast Beef  $9.40   \n",
       "5     Publican Quality Meats               PB&L    $10   \n",
       "\n",
       "                       Address  \n",
       "Rank                            \n",
       "1        2109 W. Chicago Ave.,  \n",
       "2         800 W. Randolph St.,  \n",
       "3            445 N. Clark St.,  \n",
       "4     914 Noyes St., Evanston,  \n",
       "5          825 W. Fulton Mkt.,  "
      ]
     },
     "execution_count": 81,
     "metadata": {},
     "output_type": "execute_result"
    }
   ],
   "source": [
    "import folium\n",
    "import pandas as pd\n",
    "import googlemaps\n",
    "import numpy as np\n",
    "\n",
    "df = pd.read_csv('C:/Users/jeong/Documents/JUPYTER NOTEBOOK/03. best_sandwiches_list_chicago2.csv',\n",
    "                 index_col = 0)\n",
    "df.head()"
   ]
  },
  {
   "cell_type": "code",
   "execution_count": 82,
   "metadata": {},
   "outputs": [],
   "source": [
    "gmaps_key = ************************\n",
    "gmaps = googlemaps.Client(key = gmaps_key)"
   ]
  },
  {
   "cell_type": "code",
   "execution_count": 83,
   "metadata": {},
   "outputs": [
    {
     "data": {
      "application/vnd.jupyter.widget-view+json": {
       "model_id": "1c7b5fe246e5456a82fdd4eb2bd22a03",
       "version_major": 2,
       "version_minor": 0
      },
      "text/plain": [
       "HBox(children=(IntProgress(value=0, max=50), HTML(value='')))"
      ]
     },
     "metadata": {},
     "output_type": "display_data"
    },
    {
     "name": "stdout",
     "output_type": "stream",
     "text": [
      "\n"
     ]
    }
   ],
   "source": [
    "lat = []\n",
    "lng = []\n",
    "\n",
    "for n in tqdm_notebook(df.index) :\n",
    "    if df['Address'][n] != 'Multiple' :\n",
    "        target_name = df['Address'][n] + ', ' + 'Chicago'\n",
    "        gmaps_output = gmaps.geocode(target_name)\n",
    "        location_output = gmaps_output[0].get('geometry')\n",
    "        lat.append(location_output['location']['lat'])\n",
    "        lng.append(location_output['location']['lng'])\n",
    "    else :\n",
    "        lat.append(np.nan)\n",
    "        lng.append(np.nan)"
   ]
  },
  {
   "cell_type": "code",
   "execution_count": 84,
   "metadata": {},
   "outputs": [
    {
     "data": {
      "text/html": [
       "<div>\n",
       "<style scoped>\n",
       "    .dataframe tbody tr th:only-of-type {\n",
       "        vertical-align: middle;\n",
       "    }\n",
       "\n",
       "    .dataframe tbody tr th {\n",
       "        vertical-align: top;\n",
       "    }\n",
       "\n",
       "    .dataframe thead th {\n",
       "        text-align: right;\n",
       "    }\n",
       "</style>\n",
       "<table border=\"1\" class=\"dataframe\">\n",
       "  <thead>\n",
       "    <tr style=\"text-align: right;\">\n",
       "      <th></th>\n",
       "      <th>Cafe</th>\n",
       "      <th>Menu</th>\n",
       "      <th>Price</th>\n",
       "      <th>Address</th>\n",
       "      <th>lat</th>\n",
       "      <th>lng</th>\n",
       "    </tr>\n",
       "    <tr>\n",
       "      <th>Rank</th>\n",
       "      <th></th>\n",
       "      <th></th>\n",
       "      <th></th>\n",
       "      <th></th>\n",
       "      <th></th>\n",
       "      <th></th>\n",
       "    </tr>\n",
       "  </thead>\n",
       "  <tbody>\n",
       "    <tr>\n",
       "      <th>1</th>\n",
       "      <td>Old Oak Tap</td>\n",
       "      <td>BLT</td>\n",
       "      <td>$10</td>\n",
       "      <td>2109 W. Chicago Ave.,</td>\n",
       "      <td>41.895605</td>\n",
       "      <td>-87.679961</td>\n",
       "    </tr>\n",
       "    <tr>\n",
       "      <th>2</th>\n",
       "      <td>Au Cheval</td>\n",
       "      <td>Fried Bologna</td>\n",
       "      <td>$9</td>\n",
       "      <td>800 W. Randolph St.,</td>\n",
       "      <td>41.884658</td>\n",
       "      <td>-87.647667</td>\n",
       "    </tr>\n",
       "    <tr>\n",
       "      <th>3</th>\n",
       "      <td>Xoco</td>\n",
       "      <td>Woodland Mushroom</td>\n",
       "      <td>$9.50</td>\n",
       "      <td>445 N. Clark St.,</td>\n",
       "      <td>41.890618</td>\n",
       "      <td>-87.630933</td>\n",
       "    </tr>\n",
       "    <tr>\n",
       "      <th>4</th>\n",
       "      <td>Al’s Deli</td>\n",
       "      <td>Roast Beef</td>\n",
       "      <td>$9.40</td>\n",
       "      <td>914 Noyes St., Evanston,</td>\n",
       "      <td>42.058322</td>\n",
       "      <td>-87.683748</td>\n",
       "    </tr>\n",
       "    <tr>\n",
       "      <th>5</th>\n",
       "      <td>Publican Quality Meats</td>\n",
       "      <td>PB&amp;L</td>\n",
       "      <td>$10</td>\n",
       "      <td>825 W. Fulton Mkt.,</td>\n",
       "      <td>41.886600</td>\n",
       "      <td>-87.648451</td>\n",
       "    </tr>\n",
       "  </tbody>\n",
       "</table>\n",
       "</div>"
      ],
      "text/plain": [
       "                        Cafe               Menu  Price  \\\n",
       "Rank                                                     \n",
       "1                Old Oak Tap                BLT    $10   \n",
       "2                  Au Cheval      Fried Bologna     $9   \n",
       "3                       Xoco  Woodland Mushroom  $9.50   \n",
       "4                  Al’s Deli         Roast Beef  $9.40   \n",
       "5     Publican Quality Meats               PB&L    $10   \n",
       "\n",
       "                       Address        lat        lng  \n",
       "Rank                                                  \n",
       "1        2109 W. Chicago Ave.,  41.895605 -87.679961  \n",
       "2         800 W. Randolph St.,  41.884658 -87.647667  \n",
       "3            445 N. Clark St.,  41.890618 -87.630933  \n",
       "4     914 Noyes St., Evanston,  42.058322 -87.683748  \n",
       "5          825 W. Fulton Mkt.,  41.886600 -87.648451  "
      ]
     },
     "execution_count": 84,
     "metadata": {},
     "output_type": "execute_result"
    }
   ],
   "source": [
    "df['lat'] = lat\n",
    "df['lng'] = lng\n",
    "df.head()"
   ]
  },
  {
   "cell_type": "code",
   "execution_count": 71,
   "metadata": {},
   "outputs": [
    {
     "data": {
      "text/html": [
       "<div style=\"width:100%;\"><div style=\"position:relative;width:100%;height:0;padding-bottom:60%;\"><iframe src=\"data:text/html;charset=utf-8;base64,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\" style=\"position:absolute;width:100%;height:100%;left:0;top:0;border:none !important;\" allowfullscreen webkitallowfullscreen mozallowfullscreen></iframe></div></div>"
      ],
      "text/plain": [
       "<folium.folium.Map at 0x23e1e61d550>"
      ]
     },
     "execution_count": 71,
     "metadata": {},
     "output_type": "execute_result"
    }
   ],
   "source": [
    "mapping = folium.Map(location = [df['lat'].mean(), df['lng'].mean()],\n",
    "                     zoom_start = 11)\n",
    "folium.Marker([df['lat'].mean(), df['lng'].mean()],\n",
    "              popup = 'center').add_to(mapping)\n",
    "mapping"
   ]
  },
  {
   "cell_type": "code",
   "execution_count": 85,
   "metadata": {},
   "outputs": [
    {
     "data": {
      "text/html": [
       "<div style=\"width:100%;\"><div style=\"position:relative;width:100%;height:0;padding-bottom:60%;\"><iframe src=\"data:text/html;charset=utf-8;base64,PCFET0NUWVBFIGh0bWw+CjxoZWFkPiAgICAKICAgIDxtZXRhIGh0dHAtZXF1aXY9ImNvbnRlbnQtdHlwZSIgY29udGVudD0idGV4dC9odG1sOyBjaGFyc2V0PVVURi04IiAvPgogICAgPHNjcmlwdD5MX1BSRUZFUl9DQU5WQVM9ZmFsc2U7IExfTk9fVE9VQ0g9ZmFsc2U7IExfRElTQUJMRV8zRD1mYWxzZTs8L3NjcmlwdD4KICAgIDxzY3JpcHQgc3JjPSJodHRwczovL2Nkbi5qc2RlbGl2ci5uZXQvbnBtL2xlYWZsZXRAMS40LjAvZGlzdC9sZWFmbGV0LmpzIj48L3NjcmlwdD4KICAgIDxzY3JpcHQgc3JjPSJodHRwczovL2NvZGUuanF1ZXJ5LmNvbS9qcXVlcnktMS4xMi40Lm1pbi5qcyI+PC9zY3JpcHQ+CiAgICA8c2NyaXB0IHNyYz0iaHR0cHM6Ly9tYXhjZG4uYm9vdHN0cmFwY2RuLmNvbS9ib290c3RyYXAvMy4yLjAvanMvYm9vdHN0cmFwLm1pbi5qcyI+PC9zY3JpcHQ+CiAgICA8c2NyaXB0IHNyYz0iaHR0cHM6Ly9jZG5qcy5jbG91ZGZsYXJlLmNvbS9hamF4L2xpYnMvTGVhZmxldC5hd2Vzb21lLW1hcmtlcnMvMi4wLjIvbGVhZmxldC5hd2Vzb21lLW1hcmtlcnMuanMiPjwvc2NyaXB0PgogICAgPGxpbmsgcmVsPSJzdHlsZXNoZWV0IiBocmVmPSJodHRwczovL2Nkbi5qc2RlbGl2ci5uZXQvbnBtL2xlYWZsZXRAMS40LjAvZGlzdC9sZWFmbGV0LmNzcyIvPgogICAgPGxpbmsgcmVsPSJzdHlsZXNoZWV0IiBocmVmPSJodHRwczovL21heGNkbi5ib290c3RyYXBjZG4uY29tL2Jvb3RzdHJhcC8zLjIuMC9jc3MvYm9vdHN0cmFwLm1pbi5jc3MiLz4KICAgIDxsaW5rIHJlbD0ic3R5bGVzaGVldCIgaHJlZj0iaHR0cHM6Ly9tYXhjZG4uYm9vdHN0cmFwY2RuLmNvbS9ib290c3RyYXAvMy4yLjAvY3NzL2Jvb3RzdHJhcC10aGVtZS5taW4uY3NzIi8+CiAgICA8bGluayByZWw9InN0eWxlc2hlZXQiIGhyZWY9Imh0dHBzOi8vbWF4Y2RuLmJvb3RzdHJhcGNkbi5jb20vZm9udC1hd2Vzb21lLzQuNi4zL2Nzcy9mb250LWF3ZXNvbWUubWluLmNzcyIvPgogICAgPGxpbmsgcmVsPSJzdHlsZXNoZWV0IiBocmVmPSJodHRwczovL2NkbmpzLmNsb3VkZmxhcmUuY29tL2FqYXgvbGlicy9MZWFmbGV0LmF3ZXNvbWUtbWFya2Vycy8yLjAuMi9sZWFmbGV0LmF3ZXNvbWUtbWFya2Vycy5jc3MiLz4KICAgIDxsaW5rIHJlbD0ic3R5bGVzaGVldCIgaHJlZj0iaHR0cHM6Ly9yYXdjZG4uZ2l0aGFjay5jb20vcHl0aG9uLXZpc3VhbGl6YXRpb24vZm9saXVtL21hc3Rlci9mb2xpdW0vdGVtcGxhdGVzL2xlYWZsZXQuYXdlc29tZS5yb3RhdGUuY3NzIi8+CiAgICA8c3R5bGU+aHRtbCwgYm9keSB7d2lkdGg6IDEwMCU7aGVpZ2h0OiAxMDAlO21hcmdpbjogMDtwYWRkaW5nOiAwO308L3N0eWxlPgogICAgPHN0eWxlPiNtYXAge3Bvc2l0aW9uOmFic29sdXRlO3RvcDowO2JvdHRvbTowO3JpZ2h0OjA7bGVmdDowO308L3N0eWxlPgogICAgCiAgICA8bWV0YSBuYW1lPSJ2aWV3cG9ydCIgY29udGVudD0id2lkdGg9ZGV2aWNlLXdpZHRoLAogICAgICAgIGluaXRpYWwtc2NhbGU9MS4wLCBtYXhpbXVtLXNjYWxlPTEuMCwgdXNlci1zY2FsYWJsZT1ubyIgLz4KICAgIDxzdHlsZT4jbWFwXzU5Yjg0MzVhMDY1MDQ5OGNhOGVjNjhmMWM5MDg2OGFiIHsKICAgICAgICBwb3NpdGlvbjogcmVsYXRpdmU7CiAgICAgICAgd2lkdGg6IDEwMC4wJTsKICAgICAgICBoZWlnaHQ6IDEwMC4wJTsKICAgICAgICBsZWZ0OiAwLjAlOwogICAgICAgIHRvcDogMC4wJTsKICAgICAgICB9CiAgICA8L3N0eWxlPgo8L2hlYWQ+Cjxib2R5PiAgICAKICAgIAogICAgPGRpdiBjbGFzcz0iZm9saXVtLW1hcCIgaWQ9Im1hcF81OWI4NDM1YTA2NTA0OThjYThlYzY4ZjFjOTA4NjhhYiIgPjwvZGl2Pgo8L2JvZHk+CjxzY3JpcHQ+ICAgIAogICAgCiAgICAKICAgICAgICB2YXIgYm91bmRzID0gbnVsbDsKICAgIAoKICAgIHZhciBtYXBfNTliODQzNWEwNjUwNDk4Y2E4ZWM2OGYxYzkwODY4YWIgPSBMLm1hcCgKICAgICAgICAnbWFwXzU5Yjg0MzVhMDY1MDQ5OGNhOGVjNjhmMWM5MDg2OGFiJywgewogICAgICAgIGNlbnRlcjogWzQxLjkyNDI1MTIzNjM2MzYzLCAtODcuNjgwOTg5NzQ1NDU0NTRdLAogICAgICAgIHpvb206IDExLAogICAgICAgIG1heEJvdW5kczogYm91bmRzLAogICAgICAgIGxheWVyczogW10sCiAgICAgICAgd29ybGRDb3B5SnVtcDogZmFsc2UsCiAgICAgICAgY3JzOiBMLkNSUy5FUFNHMzg1NywKICAgICAgICB6b29tQ29udHJvbDogdHJ1ZSwKICAgICAgICB9KTsKCgogICAgCiAgICB2YXIgdGlsZV9sYXllcl9lNTVhYWVmZjFlNjg0NTBjOWRkNDBjY2Y4NWQzOWJlNyA9IEwudGlsZUxheWVyKAogICAgICAgICdodHRwczovL3tzfS50aWxlLm9wZW5zdHJlZXRtYXAub3JnL3t6fS97eH0ve3l9LnBuZycsCiAgICAgICAgewogICAgICAgICJhdHRyaWJ1dGlvbiI6IG51bGwsCiAgICAgICAgImRldGVjdFJldGluYSI6IGZhbHNlLAogICAgICAgICJtYXhOYXRpdmVab29tIjogMTgsCiAgICAgICAgIm1heFpvb20iOiAxOCwKICAgICAgICAibWluWm9vbSI6IDAsCiAgICAgICAgIm5vV3JhcCI6IGZhbHNlLAogICAgICAgICJvcGFjaXR5IjogMSwKICAgICAgICAic3ViZG9tYWlucyI6ICJhYmMiLAogICAgICAgICJ0bXMiOiBmYWxzZQp9KS5hZGRUbyhtYXBfNTliODQzNWEwNjUwNDk4Y2E4ZWM2OGYxYzkwODY4YWIpOwogICAgCiAgICAgICAgdmFyIG1hcmtlcl83OWM1MDA1N2MwYWM0MDk1OTY5ZDdjY2JhNjlkMGMzNSA9IEwubWFya2VyKAogICAgICAgICAgICBbNDEuODk1NjA0OSwgLTg3LjY3OTk2MTQ5OTk5OTk5XSwKICAgICAgICAgICAgewogICAgICAgICAgICAgICAgaWNvbjogbmV3IEwuSWNvbi5EZWZhdWx0KCksCiAgICAgICAgICAgICAgICB9CiAgICAgICAgICAgICkuYWRkVG8obWFwXzU5Yjg0MzVhMDY1MDQ5OGNhOGVjNjhmMWM5MDg2OGFiKTsKICAgICAgICAKICAgIAogICAgICAgICAgICB2YXIgcG9wdXBfNWJkM2MyYmVkYWNiNDkxMzg1OGMxNDlhNDQwZjM0ZDEgPSBMLnBvcHVwKHttYXhXaWR0aDogJzEwMCUnCiAgICAgICAgICAgIAogICAgICAgICAgICB9KTsKCiAgICAgICAgICAgIAogICAgICAgICAgICAgICAgdmFyIGh0bWxfNDM2ZjkyM2FjMjdkNDZjMWIzMDljMWZiOTZkZDFiMjcgPSAkKGA8ZGl2IGlkPSJodG1sXzQzNmY5MjNhYzI3ZDQ2YzFiMzA5YzFmYjk2ZGQxYjI3IiBzdHlsZT0id2lkdGg6IDEwMC4wJTsgaGVpZ2h0OiAxMDAuMCU7Ij5PbGQgT2FrIFRhcDwvZGl2PmApWzBdOwogICAgICAgICAgICAgICAgcG9wdXBfNWJkM2MyYmVkYWNiNDkxMzg1OGMxNDlhNDQwZjM0ZDEuc2V0Q29udGVudChodG1sXzQzNmY5MjNhYzI3ZDQ2YzFiMzA5YzFmYjk2ZGQxYjI3KTsKICAgICAgICAgICAgCgogICAgICAgICAgICBtYXJrZXJfNzljNTAwNTdjMGFjNDA5NTk2OWQ3Y2NiYTY5ZDBjMzUuYmluZFBvcHVwKHBvcHVwXzViZDNjMmJlZGFjYjQ5MTM4NThjMTQ5YTQ0MGYzNGQxKQogICAgICAgICAgICA7CgogICAgICAgICAgICAKICAgICAgICAKICAgIAogICAgICAgIHZhciBtYXJrZXJfMzRhYzA4MDVmOWNmNDc0N2E0M2M3NDQ3ZWNmYTQzNDQgPSBMLm1hcmtlcigKICAgICAgICAgICAgWzQxLjg4NDY1ODIsIC04Ny42NDc2NjY4XSwKICAgICAgICAgICAgewogICAgICAgICAgICAgICAgaWNvbjogbmV3IEwuSWNvbi5EZWZhdWx0KCksCiAgICAgICAgICAgICAgICB9CiAgICAgICAgICAgICkuYWRkVG8obWFwXzU5Yjg0MzVhMDY1MDQ5OGNhOGVjNjhmMWM5MDg2OGFiKTsKICAgICAgICAKICAgIAogICAgICAgICAgICB2YXIgcG9wdXBfN2Q1OTc5NzU0NjUwNDkwZTg5YWQxNTA1MGFkZGY4OGIgPSBMLnBvcHVwKHttYXhXaWR0aDogJzEwMCUnCiAgICAgICAgICAgIAogICAgICAgICAgICB9KTsKCiAgICAgICAgICAgIAogICAgICAgICAgICAgICAgdmFyIGh0bWxfMDc4ZDMxZTdmOTdjNGE0YzhjNDNiZGNmYTc4YjJmZTggPSAkKGA8ZGl2IGlkPSJodG1sXzA3OGQzMWU3Zjk3YzRhNGM4YzQzYmRjZmE3OGIyZmU4IiBzdHlsZT0id2lkdGg6IDEwMC4wJTsgaGVpZ2h0OiAxMDAuMCU7Ij5BdSBDaGV2YWw8L2Rpdj5gKVswXTsKICAgICAgICAgICAgICAgIHBvcHVwXzdkNTk3OTc1NDY1MDQ5MGU4OWFkMTUwNTBhZGRmODhiLnNldENvbnRlbnQoaHRtbF8wNzhkMzFlN2Y5N2M0YTRjOGM0M2JkY2ZhNzhiMmZlOCk7CiAgICAgICAgICAgIAoKICAgICAgICAgICAgbWFya2VyXzM0YWMwODA1ZjljZjQ3NDdhNDNjNzQ0N2VjZmE0MzQ0LmJpbmRQb3B1cChwb3B1cF83ZDU5Nzk3NTQ2NTA0OTBlODlhZDE1MDUwYWRkZjg4YikKICAgICAgICAgICAgOwoKICAgICAgICAgICAgCiAgICAgICAgCiAgICAKICAgICAgICB2YXIgbWFya2VyXzZjMTVmMTFkYTE0MTQ4ZDBiYWI0ZDg2NDk3MmY1YjU4ID0gTC5tYXJrZXIoCiAgICAgICAgICAgIFs0MS44OTA2MTgyLCAtODcuNjMwOTMyODk5OTk5OTldLAogICAgICAgICAgICB7CiAgICAgICAgICAgICAgICBpY29uOiBuZXcgTC5JY29uLkRlZmF1bHQoKSwKICAgICAgICAgICAgICAgIH0KICAgICAgICAgICAgKS5hZGRUbyhtYXBfNTliODQzNWEwNjUwNDk4Y2E4ZWM2OGYxYzkwODY4YWIpOwogICAgICAgIAogICAgCiAgICAgICAgICAgIHZhciBwb3B1cF9mMDY2ZmVlZTVkMDE0ZWU3YjhkZTFiOTFhNGE3M2VlZSA9IEwucG9wdXAoe21heFdpZHRoOiAnMTAwJScKICAgICAgICAgICAgCiAgICAgICAgICAgIH0pOwoKICAgICAgICAgICAgCiAgICAgICAgICAgICAgICB2YXIgaHRtbF8zYmRiNmI0NzZhNjc0YmMyOTQ4NGEyNTNjNjNkZDIwZCA9ICQoYDxkaXYgaWQ9Imh0bWxfM2JkYjZiNDc2YTY3NGJjMjk0ODRhMjUzYzYzZGQyMGQiIHN0eWxlPSJ3aWR0aDogMTAwLjAlOyBoZWlnaHQ6IDEwMC4wJTsiPlhvY288L2Rpdj5gKVswXTsKICAgICAgICAgICAgICAgIHBvcHVwX2YwNjZmZWVlNWQwMTRlZTdiOGRlMWI5MWE0YTczZWVlLnNldENvbnRlbnQoaHRtbF8zYmRiNmI0NzZhNjc0YmMyOTQ4NGEyNTNjNjNkZDIwZCk7CiAgICAgICAgICAgIAoKICAgICAgICAgICAgbWFya2VyXzZjMTVmMTFkYTE0MTQ4ZDBiYWI0ZDg2NDk3MmY1YjU4LmJpbmRQb3B1cChwb3B1cF9mMDY2ZmVlZTVkMDE0ZWU3YjhkZTFiOTFhNGE3M2VlZSkKICAgICAgICAgICAgOwoKICAgICAgICAgICAgCiAgICAgICAgCiAgICAKICAgICAgICB2YXIgbWFya2VyXzdhNzk2OGZlZTllNzRlOTNiY2E3Yzk1MjhiYzJkOTM2ID0gTC5tYXJrZXIoCiAgICAgICAgICAgIFs0Mi4wNTgzMjE3LCAtODcuNjgzNzQ3OV0sCiAgICAgICAgICAgIHsKICAgICAgICAgICAgICAgIGljb246IG5ldyBMLkljb24uRGVmYXVsdCgpLAogICAgICAgICAgICAgICAgfQogICAgICAgICAgICApLmFkZFRvKG1hcF81OWI4NDM1YTA2NTA0OThjYThlYzY4ZjFjOTA4NjhhYik7CiAgICAgICAgCiAgICAKICAgICAgICAgICAgdmFyIHBvcHVwX2RiMGZlMjVlMGFlNjQ4Yzc5YTU1OTE5ZGM3ODk1MDgyID0gTC5wb3B1cCh7bWF4V2lkdGg6ICcxMDAlJwogICAgICAgICAgICAKICAgICAgICAgICAgfSk7CgogICAgICAgICAgICAKICAgICAgICAgICAgICAgIHZhciBodG1sXzM5NmEwMGNlZjczYzQ1Yzg5MGNjZDgwNmY4Y2NkNzMxID0gJChgPGRpdiBpZD0iaHRtbF8zOTZhMDBjZWY3M2M0NWM4OTBjY2Q4MDZmOGNjZDczMSIgc3R5bGU9IndpZHRoOiAxMDAuMCU7IGhlaWdodDogMTAwLjAlOyI+QWzigJlzIERlbGk8L2Rpdj5gKVswXTsKICAgICAgICAgICAgICAgIHBvcHVwX2RiMGZlMjVlMGFlNjQ4Yzc5YTU1OTE5ZGM3ODk1MDgyLnNldENvbnRlbnQoaHRtbF8zOTZhMDBjZWY3M2M0NWM4OTBjY2Q4MDZmOGNjZDczMSk7CiAgICAgICAgICAgIAoKICAgICAgICAgICAgbWFya2VyXzdhNzk2OGZlZTllNzRlOTNiY2E3Yzk1MjhiYzJkOTM2LmJpbmRQb3B1cChwb3B1cF9kYjBmZTI1ZTBhZTY0OGM3OWE1NTkxOWRjNzg5NTA4MikKICAgICAgICAgICAgOwoKICAgICAgICAgICAgCiAgICAgICAgCiAgICAKICAgICAgICB2YXIgbWFya2VyXzZkNGYxZTUxMjYzMzQ3ZjFiMDM0ZDBlZjkzMDBhMWY0ID0gTC5tYXJrZXIoCiAgICAgICAgICAgIFs0MS44ODY1OTk4LCAtODcuNjQ4NDUxNF0sCiAgICAgICAgICAgIHsKICAgICAgICAgICAgICAgIGljb246IG5ldyBMLkljb24uRGVmYXVsdCgpLAogICAgICAgICAgICAgICAgfQogICAgICAgICAgICApLmFkZFRvKG1hcF81OWI4NDM1YTA2NTA0OThjYThlYzY4ZjFjOTA4NjhhYik7CiAgICAgICAgCiAgICAKICAgICAgICAgICAgdmFyIHBvcHVwX2Y0N2I2OGRmMTJkYjQ2YjRhYmQxMGM1MmIwNmJlYTk5ID0gTC5wb3B1cCh7bWF4V2lkdGg6ICcxMDAlJwogICAgICAgICAgICAKICAgICAgICAgICAgfSk7CgogICAgICAgICAgICAKICAgICAgICAgICAgICAgIHZhciBodG1sX2NjNTQwMTRkMWRlMjRlNWQ4NGUwZTA4Y2NhY2UwZmMyID0gJChgPGRpdiBpZD0iaHRtbF9jYzU0MDE0ZDFkZTI0ZTVkODRlMGUwOGNjYWNlMGZjMiIgc3R5bGU9IndpZHRoOiAxMDAuMCU7IGhlaWdodDogMTAwLjAlOyI+UHVibGljYW4gUXVhbGl0eSBNZWF0czwvZGl2PmApWzBdOwogICAgICAgICAgICAgICAgcG9wdXBfZjQ3YjY4ZGYxMmRiNDZiNGFiZDEwYzUyYjA2YmVhOTkuc2V0Q29udGVudChodG1sX2NjNTQwMTRkMWRlMjRlNWQ4NGUwZTA4Y2NhY2UwZmMyKTsKICAgICAgICAgICAgCgogICAgICAgICAgICBtYXJrZXJfNmQ0ZjFlNTEyNjMzNDdmMWIwMzRkMGVmOTMwMGExZjQuYmluZFBvcHVwKHBvcHVwX2Y0N2I2OGRmMTJkYjQ2YjRhYmQxMGM1MmIwNmJlYTk5KQogICAgICAgICAgICA7CgogICAgICAgICAgICAKICAgICAgICAKICAgIAogICAgICAgIHZhciBtYXJrZXJfYmRiY2U2Y2M5YTU4NDhkOTg0OWM0MjRjOTg3ZmJkN2MgPSBMLm1hcmtlcigKICAgICAgICAgICAgWzQxLjkwMDI0NiwgLTg3LjYyNTE2MzM5OTk5OTk5XSwKICAgICAgICAgICAgewogICAgICAgICAgICAgICAgaWNvbjogbmV3IEwuSWNvbi5EZWZhdWx0KCksCiAgICAgICAgICAgICAgICB9CiAgICAgICAgICAgICkuYWRkVG8obWFwXzU5Yjg0MzVhMDY1MDQ5OGNhOGVjNjhmMWM5MDg2OGFiKTsKICAgICAgICAKICAgIAogICAgICAgICAgICB2YXIgcG9wdXBfMzVhYWQwNThlZDg0NGVkZjgzMTM1MjY3Yjc0ODNmY2UgPSBMLnBvcHVwKHttYXhXaWR0aDogJzEwMCUnCiAgICAgICAgICAgIAogICAgICAgICAgICB9KTsKCiAgICAgICAgICAgIAogICAgICAgICAgICAgICAgdmFyIGh0bWxfZmVkNTQwMmIwOGYyNDk4ZDllZDk1ZmY3ODhhNDY0ODIgPSAkKGA8ZGl2IGlkPSJodG1sX2ZlZDU0MDJiMDhmMjQ5OGQ5ZWQ5NWZmNzg4YTQ2NDgyIiBzdHlsZT0id2lkdGg6IDEwMC4wJTsgaGVpZ2h0OiAxMDAuMCU7Ij5IZW5kcmlja3ggQmVsZ2lhbiBCcmVhZCBDcmFmdGVyPC9kaXY+YClbMF07CiAgICAgICAgICAgICAgICBwb3B1cF8zNWFhZDA1OGVkODQ0ZWRmODMxMzUyNjdiNzQ4M2ZjZS5zZXRDb250ZW50KGh0bWxfZmVkNTQwMmIwOGYyNDk4ZDllZDk1ZmY3ODhhNDY0ODIpOwogICAgICAgICAgICAKCiAgICAgICAgICAgIG1hcmtlcl9iZGJjZTZjYzlhNTg0OGQ5ODQ5YzQyNGM5ODdmYmQ3Yy5iaW5kUG9wdXAocG9wdXBfMzVhYWQwNThlZDg0NGVkZjgzMTM1MjY3Yjc0ODNmY2UpCiAgICAgICAgICAgIDsKCiAgICAgICAgICAgIAogICAgICAgIAogICAgCiAgICAgICAgdmFyIG1hcmtlcl8wZDYwN2MzZjNjZWU0NmJjODVjZDI2ZDg0MjNmZWJjZiA9IEwubWFya2VyKAogICAgICAgICAgICBbNDEuODU5MDY1OCwgLTg3LjYyNTIwNDldLAogICAgICAgICAgICB7CiAgICAgICAgICAgICAgICBpY29uOiBuZXcgTC5JY29uLkRlZmF1bHQoKSwKICAgICAgICAgICAgICAgIH0KICAgICAgICAgICAgKS5hZGRUbyhtYXBfNTliODQzNWEwNjUwNDk4Y2E4ZWM2OGYxYzkwODY4YWIpOwogICAgICAgIAogICAgCiAgICAgICAgICAgIHZhciBwb3B1cF9iMmZmMjg5MWQ1OTA0ZTIxOGQ3ZDhjZmEwMDhhYTFjYyA9IEwucG9wdXAoe21heFdpZHRoOiAnMTAwJScKICAgICAgICAgICAgCiAgICAgICAgICAgIH0pOwoKICAgICAgICAgICAgCiAgICAgICAgICAgICAgICB2YXIgaHRtbF83MDY4MDA1NDZkNWM0OGE5OThiMGNmYmU0MTcyM2VlYyA9ICQoYDxkaXYgaWQ9Imh0bWxfNzA2ODAwNTQ2ZDVjNDhhOTk4YjBjZmJlNDE3MjNlZWMiIHN0eWxlPSJ3aWR0aDogMTAwLjAlOyBoZWlnaHQ6IDEwMC4wJTsiPkFjYWRpYTwvZGl2PmApWzBdOwogICAgICAgICAgICAgICAgcG9wdXBfYjJmZjI4OTFkNTkwNGUyMThkN2Q4Y2ZhMDA4YWExY2Muc2V0Q29udGVudChodG1sXzcwNjgwMDU0NmQ1YzQ4YTk5OGIwY2ZiZTQxNzIzZWVjKTsKICAgICAgICAgICAgCgogICAgICAgICAgICBtYXJrZXJfMGQ2MDdjM2YzY2VlNDZiYzg1Y2QyNmQ4NDIzZmViY2YuYmluZFBvcHVwKHBvcHVwX2IyZmYyODkxZDU5MDRlMjE4ZDdkOGNmYTAwOGFhMWNjKQogICAgICAgICAgICA7CgogICAgICAgICAgICAKICAgICAgICAKICAgIAogICAgICAgIHZhciBtYXJrZXJfZjA3NzQzMzYwNDliNGU4ODkwY2E2NDRiZjNhMWM4YTAgPSBMLm1hcmtlcigKICAgICAgICAgICAgWzQxLjkxMDIwMzEsIC04Ny42ODI4NzUyOTk5OTk5OV0sCiAgICAgICAgICAgIHsKICAgICAgICAgICAgICAgIGljb246IG5ldyBMLkljb24uRGVmYXVsdCgpLAogICAgICAgICAgICAgICAgfQogICAgICAgICAgICApLmFkZFRvKG1hcF81OWI4NDM1YTA2NTA0OThjYThlYzY4ZjFjOTA4NjhhYik7CiAgICAgICAgCiAgICAKICAgICAgICAgICAgdmFyIHBvcHVwXzBmYmQ0OTExMDM2MDQ5N2NiNTgxNTFkYTE0MzdjZDA2ID0gTC5wb3B1cCh7bWF4V2lkdGg6ICcxMDAlJwogICAgICAgICAgICAKICAgICAgICAgICAgfSk7CgogICAgICAgICAgICAKICAgICAgICAgICAgICAgIHZhciBodG1sXzM4YzRlMzgxZTM0MjQ1NTlhZGE1MGQ0NTI4MjM2NTMzID0gJChgPGRpdiBpZD0iaHRtbF8zOGM0ZTM4MWUzNDI0NTU5YWRhNTBkNDUyODIzNjUzMyIgc3R5bGU9IndpZHRoOiAxMDAuMCU7IGhlaWdodDogMTAwLjAlOyI+QmlyY2h3b29kIEtpdGNoZW48L2Rpdj5gKVswXTsKICAgICAgICAgICAgICAgIHBvcHVwXzBmYmQ0OTExMDM2MDQ5N2NiNTgxNTFkYTE0MzdjZDA2LnNldENvbnRlbnQoaHRtbF8zOGM0ZTM4MWUzNDI0NTU5YWRhNTBkNDUyODIzNjUzMyk7CiAgICAgICAgICAgIAoKICAgICAgICAgICAgbWFya2VyX2YwNzc0MzM2MDQ5YjRlODg5MGNhNjQ0YmYzYTFjOGEwLmJpbmRQb3B1cChwb3B1cF8wZmJkNDkxMTAzNjA0OTdjYjU4MTUxZGExNDM3Y2QwNikKICAgICAgICAgICAgOwoKICAgICAgICAgICAgCiAgICAgICAgCiAgICAKICAgICAgICB2YXIgbWFya2VyXzM4N2QzYzcyY2ZiMzQwOGZhYjA1MTA3ZjgyMjJjNGIzID0gTC5tYXJrZXIoCiAgICAgICAgICAgIFs0MS45MDk3NTU4LCAtODcuNzE3NjcyN10sCiAgICAgICAgICAgIHsKICAgICAgICAgICAgICAgIGljb246IG5ldyBMLkljb24uRGVmYXVsdCgpLAogICAgICAgICAgICAgICAgfQogICAgICAgICAgICApLmFkZFRvKG1hcF81OWI4NDM1YTA2NTA0OThjYThlYzY4ZjFjOTA4NjhhYik7CiAgICAgICAgCiAgICAKICAgICAgICAgICAgdmFyIHBvcHVwX2FlNDcyNWU4M2Q3NzQ4YjVhYzNlOWVkOTI5NjQyNWI2ID0gTC5wb3B1cCh7bWF4V2lkdGg6ICcxMDAlJwogICAgICAgICAgICAKICAgICAgICAgICAgfSk7CgogICAgICAgICAgICAKICAgICAgICAgICAgICAgIHZhciBodG1sX2U3MjgyZTg0ZWE1ODRhZTY5NTYzZmI0NjUyNzlkZjJkID0gJChgPGRpdiBpZD0iaHRtbF9lNzI4MmU4NGVhNTg0YWU2OTU2M2ZiNDY1Mjc5ZGYyZCIgc3R5bGU9IndpZHRoOiAxMDAuMCU7IGhlaWdodDogMTAwLjAlOyI+Q2VtaXRhcyBQdWVibGE8L2Rpdj5gKVswXTsKICAgICAgICAgICAgICAgIHBvcHVwX2FlNDcyNWU4M2Q3NzQ4YjVhYzNlOWVkOTI5NjQyNWI2LnNldENvbnRlbnQoaHRtbF9lNzI4MmU4NGVhNTg0YWU2OTU2M2ZiNDY1Mjc5ZGYyZCk7CiAgICAgICAgICAgIAoKICAgICAgICAgICAgbWFya2VyXzM4N2QzYzcyY2ZiMzQwOGZhYjA1MTA3ZjgyMjJjNGIzLmJpbmRQb3B1cChwb3B1cF9hZTQ3MjVlODNkNzc0OGI1YWMzZTllZDkyOTY0MjViNikKICAgICAgICAgICAgOwoKICAgICAgICAgICAgCiAgICAgICAgCiAgICAKICAgICAgICB2YXIgbWFya2VyXzYwMTI1NDI5MzkzNzQ1ZTk4ZmI1NmJjMTlmNDdiZTlhID0gTC5tYXJrZXIoCiAgICAgICAgICAgIFs0MS44MzQ1NDA1LCAtODcuNjQ1ODM4NV0sCiAgICAgICAgICAgIHsKICAgICAgICAgICAgICAgIGljb246IG5ldyBMLkljb24uRGVmYXVsdCgpLAogICAgICAgICAgICAgICAgfQogICAgICAgICAgICApLmFkZFRvKG1hcF81OWI4NDM1YTA2NTA0OThjYThlYzY4ZjFjOTA4NjhhYik7CiAgICAgICAgCiAgICAKICAgICAgICAgICAgdmFyIHBvcHVwX2U4NmY4OWE1YjIxMjQ4M2Q4M2QwN2MwZDI1ODViOWFiID0gTC5wb3B1cCh7bWF4V2lkdGg6ICcxMDAlJwogICAgICAgICAgICAKICAgICAgICAgICAgfSk7CgogICAgICAgICAgICAKICAgICAgICAgICAgICAgIHZhciBodG1sX2VhMTFmMjY2YjM2NjRkODc5YTZmNDNmNDAxZjg4ZWRmID0gJChgPGRpdiBpZD0iaHRtbF9lYTExZjI2NmIzNjY0ZDg3OWE2ZjQzZjQwMWY4OGVkZiIgc3R5bGU9IndpZHRoOiAxMDAuMCU7IGhlaWdodDogMTAwLjAlOyI+TmFuYTwvZGl2PmApWzBdOwogICAgICAgICAgICAgICAgcG9wdXBfZTg2Zjg5YTViMjEyNDgzZDgzZDA3YzBkMjU4NWI5YWIuc2V0Q29udGVudChodG1sX2VhMTFmMjY2YjM2NjRkODc5YTZmNDNmNDAxZjg4ZWRmKTsKICAgICAgICAgICAgCgogICAgICAgICAgICBtYXJrZXJfNjAxMjU0MjkzOTM3NDVlOThmYjU2YmMxOWY0N2JlOWEuYmluZFBvcHVwKHBvcHVwX2U4NmY4OWE1YjIxMjQ4M2Q4M2QwN2MwZDI1ODViOWFiKQogICAgICAgICAgICA7CgogICAgICAgICAgICAKICAgICAgICAKICAgIAogICAgICAgIHZhciBtYXJrZXJfMDUyZTAyZjY4NjhkNGM3ZTgwZTQyNzNhZjgwNjZlOWEgPSBMLm1hcmtlcigKICAgICAgICAgICAgWzQxLjkyNzYyMDcsIC04Ny43MDY3OTJdLAogICAgICAgICAgICB7CiAgICAgICAgICAgICAgICBpY29uOiBuZXcgTC5JY29uLkRlZmF1bHQoKSwKICAgICAgICAgICAgICAgIH0KICAgICAgICAgICAgKS5hZGRUbyhtYXBfNTliODQzNWEwNjUwNDk4Y2E4ZWM2OGYxYzkwODY4YWIpOwogICAgICAgIAogICAgCiAgICAgICAgICAgIHZhciBwb3B1cF85OGQ5ZDY5ODg5NWM0ZTg0YTAxODM2NmNjZjFlYmI2ZiA9IEwucG9wdXAoe21heFdpZHRoOiAnMTAwJScKICAgICAgICAgICAgCiAgICAgICAgICAgIH0pOwoKICAgICAgICAgICAgCiAgICAgICAgICAgICAgICB2YXIgaHRtbF8wYjgzMzUzNjlhYmU0NzFkYmJkOWY5MmIyZDYwODlkZCA9ICQoYDxkaXYgaWQ9Imh0bWxfMGI4MzM1MzY5YWJlNDcxZGJiZDlmOTJiMmQ2MDg5ZGQiIHN0eWxlPSJ3aWR0aDogMTAwLjAlOyBoZWlnaHQ6IDEwMC4wJTsiPkx1bGEgQ2FmZTwvZGl2PmApWzBdOwogICAgICAgICAgICAgICAgcG9wdXBfOThkOWQ2OTg4OTVjNGU4NGEwMTgzNjZjY2YxZWJiNmYuc2V0Q29udGVudChodG1sXzBiODMzNTM2OWFiZTQ3MWRiYmQ5ZjkyYjJkNjA4OWRkKTsKICAgICAgICAgICAgCgogICAgICAgICAgICBtYXJrZXJfMDUyZTAyZjY4NjhkNGM3ZTgwZTQyNzNhZjgwNjZlOWEuYmluZFBvcHVwKHBvcHVwXzk4ZDlkNjk4ODk1YzRlODRhMDE4MzY2Y2NmMWViYjZmKQogICAgICAgICAgICA7CgogICAgICAgICAgICAKICAgICAgICAKICAgIAogICAgICAgIHZhciBtYXJrZXJfZDdkMzhkYTRhMDViNGRlNGFjMjdkYjg5YTQwYTA1N2YgPSBMLm1hcmtlcigKICAgICAgICAgICAgWzQxLjkzODQ0MTksIC04Ny42NDQ2NDM2OTk5OTk5OV0sCiAgICAgICAgICAgIHsKICAgICAgICAgICAgICAgIGljb246IG5ldyBMLkljb24uRGVmYXVsdCgpLAogICAgICAgICAgICAgICAgfQogICAgICAgICAgICApLmFkZFRvKG1hcF81OWI4NDM1YTA2NTA0OThjYThlYzY4ZjFjOTA4NjhhYik7CiAgICAgICAgCiAgICAKICAgICAgICAgICAgdmFyIHBvcHVwX2VhZjQ5NzJjNWNjMDRmZGZhMTFlMTA4NWEyOWQwMWNiID0gTC5wb3B1cCh7bWF4V2lkdGg6ICcxMDAlJwogICAgICAgICAgICAKICAgICAgICAgICAgfSk7CgogICAgICAgICAgICAKICAgICAgICAgICAgICAgIHZhciBodG1sX2QwYjVkYTE4N2NkMjQwNWNhYmQzMjAxNDA0MTA3ZDFjID0gJChgPGRpdiBpZD0iaHRtbF9kMGI1ZGExODdjZDI0MDVjYWJkMzIwMTQwNDEwN2QxYyIgc3R5bGU9IndpZHRoOiAxMDAuMCU7IGhlaWdodDogMTAwLjAlOyI+RnJvZyBuIFNuYWlsPC9kaXY+YClbMF07CiAgICAgICAgICAgICAgICBwb3B1cF9lYWY0OTcyYzVjYzA0ZmRmYTExZTEwODVhMjlkMDFjYi5zZXRDb250ZW50KGh0bWxfZDBiNWRhMTg3Y2QyNDA1Y2FiZDMyMDE0MDQxMDdkMWMpOwogICAgICAgICAgICAKCiAgICAgICAgICAgIG1hcmtlcl9kN2QzOGRhNGEwNWI0ZGU0YWMyN2RiODlhNDBhMDU3Zi5iaW5kUG9wdXAocG9wdXBfZWFmNDk3MmM1Y2MwNGZkZmExMWUxMDg1YTI5ZDAxY2IpCiAgICAgICAgICAgIDsKCiAgICAgICAgICAgIAogICAgICAgIAogICAgCiAgICAgICAgdmFyIG1hcmtlcl9mYjJlNGU2NmFhYjU0YmI5ODJjYTc3YTRiYjUwNjc1ZSA9IEwubWFya2VyKAogICAgICAgICAgICBbNDEuOTQ1MTA0NCwgLTg3LjY2MzY4MTJdLAogICAgICAgICAgICB7CiAgICAgICAgICAgICAgICBpY29uOiBuZXcgTC5JY29uLkRlZmF1bHQoKSwKICAgICAgICAgICAgICAgIH0KICAgICAgICAgICAgKS5hZGRUbyhtYXBfNTliODQzNWEwNjUwNDk4Y2E4ZWM2OGYxYzkwODY4YWIpOwogICAgICAgIAogICAgCiAgICAgICAgICAgIHZhciBwb3B1cF9mNGE5YjE1NWJlZDE0MDgxOTVkMjg5OWNmOWY1YTI5MiA9IEwucG9wdXAoe21heFdpZHRoOiAnMTAwJScKICAgICAgICAgICAgCiAgICAgICAgICAgIH0pOwoKICAgICAgICAgICAgCiAgICAgICAgICAgICAgICB2YXIgaHRtbF8zOWVjNmIzYWM5ZjI0OTI4OWZmNzE4NjEzMDIxODIzNiA9ICQoYDxkaXYgaWQ9Imh0bWxfMzllYzZiM2FjOWYyNDkyODlmZjcxODYxMzAyMTgyMzYiIHN0eWxlPSJ3aWR0aDogMTAwLjAlOyBoZWlnaHQ6IDEwMC4wJTsiPkNyb3NieeKAmXMgS2l0Y2hlbjwvZGl2PmApWzBdOwogICAgICAgICAgICAgICAgcG9wdXBfZjRhOWIxNTViZWQxNDA4MTk1ZDI4OTljZjlmNWEyOTIuc2V0Q29udGVudChodG1sXzM5ZWM2YjNhYzlmMjQ5Mjg5ZmY3MTg2MTMwMjE4MjM2KTsKICAgICAgICAgICAgCgogICAgICAgICAgICBtYXJrZXJfZmIyZTRlNjZhYWI1NGJiOTgyY2E3N2E0YmI1MDY3NWUuYmluZFBvcHVwKHBvcHVwX2Y0YTliMTU1YmVkMTQwODE5NWQyODk5Y2Y5ZjVhMjkyKQogICAgICAgICAgICA7CgogICAgICAgICAgICAKICAgICAgICAKICAgIAogICAgICAgIHZhciBtYXJrZXJfMjllNzVjNjA5MzJhNDI3ZDg2Nzc5ZDhlOTk5OTI0NDYgPSBMLm1hcmtlcigKICAgICAgICAgICAgWzQxLjkzMDA1NTksIC04Ny43MDcwMzM3OTk5OTk5OV0sCiAgICAgICAgICAgIHsKICAgICAgICAgICAgICAgIGljb246IG5ldyBMLkljb24uRGVmYXVsdCgpLAogICAgICAgICAgICAgICAgfQogICAgICAgICAgICApLmFkZFRvKG1hcF81OWI4NDM1YTA2NTA0OThjYThlYzY4ZjFjOTA4NjhhYik7CiAgICAgICAgCiAgICAKICAgICAgICAgICAgdmFyIHBvcHVwXzgwZDVlMDUyNzI5MjRkMDI5ZjcyYzIzYjFiOGJkOTc1ID0gTC5wb3B1cCh7bWF4V2lkdGg6ICcxMDAlJwogICAgICAgICAgICAKICAgICAgICAgICAgfSk7CgogICAgICAgICAgICAKICAgICAgICAgICAgICAgIHZhciBodG1sXzQ0MmY4ODliZTI4MTQ2NmZhZWY5MTZmZTM1NmQ5NGZlID0gJChgPGRpdiBpZD0iaHRtbF80NDJmODg5YmUyODE0NjZmYWVmOTE2ZmUzNTZkOTRmZSIgc3R5bGU9IndpZHRoOiAxMDAuMCU7IGhlaWdodDogMTAwLjAlOyI+TG9uZ21hbiAmIEVhZ2xlPC9kaXY+YClbMF07CiAgICAgICAgICAgICAgICBwb3B1cF84MGQ1ZTA1MjcyOTI0ZDAyOWY3MmMyM2IxYjhiZDk3NS5zZXRDb250ZW50KGh0bWxfNDQyZjg4OWJlMjgxNDY2ZmFlZjkxNmZlMzU2ZDk0ZmUpOwogICAgICAgICAgICAKCiAgICAgICAgICAgIG1hcmtlcl8yOWU3NWM2MDkzMmE0MjdkODY3NzlkOGU5OTk5MjQ0Ni5iaW5kUG9wdXAocG9wdXBfODBkNWUwNTI3MjkyNGQwMjlmNzJjMjNiMWI4YmQ5NzUpCiAgICAgICAgICAgIDsKCiAgICAgICAgICAgIAogICAgICAgIAogICAgCiAgICAgICAgdmFyIG1hcmtlcl8wMGJjYzU3MTFkZTY0MzExOWRkZTkyMjIyZDgxZTU4MiA9IEwubWFya2VyKAogICAgICAgICAgICBbNDEuODkxMjkwMDAwMDAwMDEsIC04Ny42NTU1NTddLAogICAgICAgICAgICB7CiAgICAgICAgICAgICAgICBpY29uOiBuZXcgTC5JY29uLkRlZmF1bHQoKSwKICAgICAgICAgICAgICAgIH0KICAgICAgICAgICAgKS5hZGRUbyhtYXBfNTliODQzNWEwNjUwNDk4Y2E4ZWM2OGYxYzkwODY4YWIpOwogICAgICAgIAogICAgCiAgICAgICAgICAgIHZhciBwb3B1cF84ZjUxN2ZlNWIyZjU0OTNkODdjMzA3YTAxYzZlNTM5YSA9IEwucG9wdXAoe21heFdpZHRoOiAnMTAwJScKICAgICAgICAgICAgCiAgICAgICAgICAgIH0pOwoKICAgICAgICAgICAgCiAgICAgICAgICAgICAgICB2YXIgaHRtbF9kNzNkNzA2MTA1MTc0ODZjOWVhOTVkNjA0ZDA5MGIzMyA9ICQoYDxkaXYgaWQ9Imh0bWxfZDczZDcwNjEwNTE3NDg2YzllYTk1ZDYwNGQwOTBiMzMiIHN0eWxlPSJ3aWR0aDogMTAwLjAlOyBoZWlnaHQ6IDEwMC4wJTsiPkJhcmk8L2Rpdj5gKVswXTsKICAgICAgICAgICAgICAgIHBvcHVwXzhmNTE3ZmU1YjJmNTQ5M2Q4N2MzMDdhMDFjNmU1MzlhLnNldENvbnRlbnQoaHRtbF9kNzNkNzA2MTA1MTc0ODZjOWVhOTVkNjA0ZDA5MGIzMyk7CiAgICAgICAgICAgIAoKICAgICAgICAgICAgbWFya2VyXzAwYmNjNTcxMWRlNjQzMTE5ZGRlOTIyMjJkODFlNTgyLmJpbmRQb3B1cChwb3B1cF84ZjUxN2ZlNWIyZjU0OTNkODdjMzA3YTAxYzZlNTM5YSkKICAgICAgICAgICAgOwoKICAgICAgICAgICAgCiAgICAgICAgCiAgICAKICAgICAgICB2YXIgbWFya2VyX2E4YTkwMWJiNjc5NTQ0MmJiNmYwYzc5OWZhMWM1OTQwID0gTC5tYXJrZXIoCiAgICAgICAgICAgIFs0MS44Njc3ODE1LCAtODcuNjQxOTA2OV0sCiAgICAgICAgICAgIHsKICAgICAgICAgICAgICAgIGljb246IG5ldyBMLkljb24uRGVmYXVsdCgpLAogICAgICAgICAgICAgICAgfQogICAgICAgICAgICApLmFkZFRvKG1hcF81OWI4NDM1YTA2NTA0OThjYThlYzY4ZjFjOTA4NjhhYik7CiAgICAgICAgCiAgICAKICAgICAgICAgICAgdmFyIHBvcHVwXzg1NzQ5OTEyNjk5ZDRkMzc5NmU0ZGI5YjU4ZDdhNTA4ID0gTC5wb3B1cCh7bWF4V2lkdGg6ICcxMDAlJwogICAgICAgICAgICAKICAgICAgICAgICAgfSk7CgogICAgICAgICAgICAKICAgICAgICAgICAgICAgIHZhciBodG1sXzc3ZTQzMDQ5N2VkYjQwYmRiNzQ5MmMzNDJlNDVkZWFmID0gJChgPGRpdiBpZD0iaHRtbF83N2U0MzA0OTdlZGI0MGJkYjc0OTJjMzQyZTQ1ZGVhZiIgc3R5bGU9IndpZHRoOiAxMDAuMCU7IGhlaWdodDogMTAwLjAlOyI+TWFubnnigJlzPC9kaXY+YClbMF07CiAgICAgICAgICAgICAgICBwb3B1cF84NTc0OTkxMjY5OWQ0ZDM3OTZlNGRiOWI1OGQ3YTUwOC5zZXRDb250ZW50KGh0bWxfNzdlNDMwNDk3ZWRiNDBiZGI3NDkyYzM0MmU0NWRlYWYpOwogICAgICAgICAgICAKCiAgICAgICAgICAgIG1hcmtlcl9hOGE5MDFiYjY3OTU0NDJiYjZmMGM3OTlmYTFjNTk0MC5iaW5kUG9wdXAocG9wdXBfODU3NDk5MTI2OTlkNGQzNzk2ZTRkYjliNThkN2E1MDgpCiAgICAgICAgICAgIDsKCiAgICAgICAgICAgIAogICAgICAgIAogICAgCiAgICAgICAgdmFyIG1hcmtlcl8zNmIzOTI4YTNkZWU0YWEyODY0ZWM1NjI4MGMyOWM3OSA9IEwubWFya2VyKAogICAgICAgICAgICBbNDEuODg1MjY5MSwgLTg3LjYxODQ4MzddLAogICAgICAgICAgICB7CiAgICAgICAgICAgICAgICBpY29uOiBuZXcgTC5JY29uLkRlZmF1bHQoKSwKICAgICAgICAgICAgICAgIH0KICAgICAgICAgICAgKS5hZGRUbyhtYXBfNTliODQzNWEwNjUwNDk4Y2E4ZWM2OGYxYzkwODY4YWIpOwogICAgICAgIAogICAgCiAgICAgICAgICAgIHZhciBwb3B1cF8yNDg2YzZiYjYyOWE0MTQwOTBkZTEwNjE5MTM0YmZmOSA9IEwucG9wdXAoe21heFdpZHRoOiAnMTAwJScKICAgICAgICAgICAgCiAgICAgICAgICAgIH0pOwoKICAgICAgICAgICAgCiAgICAgICAgICAgICAgICB2YXIgaHRtbF9lOTE1ZmI5NjE1MmY0ZDkyYTYwYjNmZWQzNWZkMzUxYyA9ICQoYDxkaXYgaWQ9Imh0bWxfZTkxNWZiOTYxNTJmNGQ5MmE2MGIzZmVkMzVmZDM1MWMiIHN0eWxlPSJ3aWR0aDogMTAwLjAlOyBoZWlnaHQ6IDEwMC4wJTsiPkVnZ3nigJlzPC9kaXY+YClbMF07CiAgICAgICAgICAgICAgICBwb3B1cF8yNDg2YzZiYjYyOWE0MTQwOTBkZTEwNjE5MTM0YmZmOS5zZXRDb250ZW50KGh0bWxfZTkxNWZiOTYxNTJmNGQ5MmE2MGIzZmVkMzVmZDM1MWMpOwogICAgICAgICAgICAKCiAgICAgICAgICAgIG1hcmtlcl8zNmIzOTI4YTNkZWU0YWEyODY0ZWM1NjI4MGMyOWM3OS5iaW5kUG9wdXAocG9wdXBfMjQ4NmM2YmI2MjlhNDE0MDkwZGUxMDYxOTEzNGJmZjkpCiAgICAgICAgICAgIDsKCiAgICAgICAgICAgIAogICAgICAgIAogICAgCiAgICAgICAgdmFyIG1hcmtlcl85NDM3MzY2ZjhhNjE0MjJjYmYyZDY2NDVjY2NkN2Y0NCA9IEwubWFya2VyKAogICAgICAgICAgICBbNDEuOTA4MDUzOSwgLTg3LjYzNDMxMTNdLAogICAgICAgICAgICB7CiAgICAgICAgICAgICAgICBpY29uOiBuZXcgTC5JY29uLkRlZmF1bHQoKSwKICAgICAgICAgICAgICAgIH0KICAgICAgICAgICAgKS5hZGRUbyhtYXBfNTliODQzNWEwNjUwNDk4Y2E4ZWM2OGYxYzkwODY4YWIpOwogICAgICAgIAogICAgCiAgICAgICAgICAgIHZhciBwb3B1cF9kMmQ2ODE3NTgwYWQ0ZDNhYTJlNGU5YWRlYjZlNGM4NCA9IEwucG9wdXAoe21heFdpZHRoOiAnMTAwJScKICAgICAgICAgICAgCiAgICAgICAgICAgIH0pOwoKICAgICAgICAgICAgCiAgICAgICAgICAgICAgICB2YXIgaHRtbF9hNTQzNzVkNzUzY2M0ODFjYjhhY2Q5OTcxODVkNzc1YiA9ICQoYDxkaXYgaWQ9Imh0bWxfYTU0Mzc1ZDc1M2NjNDgxY2I4YWNkOTk3MTg1ZDc3NWIiIHN0eWxlPSJ3aWR0aDogMTAwLjAlOyBoZWlnaHQ6IDEwMC4wJTsiPk9sZCBKZXJ1c2FsZW08L2Rpdj5gKVswXTsKICAgICAgICAgICAgICAgIHBvcHVwX2QyZDY4MTc1ODBhZDRkM2FhMmU0ZTlhZGViNmU0Yzg0LnNldENvbnRlbnQoaHRtbF9hNTQzNzVkNzUzY2M0ODFjYjhhY2Q5OTcxODVkNzc1Yik7CiAgICAgICAgICAgIAoKICAgICAgICAgICAgbWFya2VyXzk0MzczNjZmOGE2MTQyMmNiZjJkNjY0NWNjY2Q3ZjQ0LmJpbmRQb3B1cChwb3B1cF9kMmQ2ODE3NTgwYWQ0ZDNhYTJlNGU5YWRlYjZlNGM4NCkKICAgICAgICAgICAgOwoKICAgICAgICAgICAgCiAgICAgICAgCiAgICAKICAgICAgICB2YXIgbWFya2VyX2FjOGY0ODZjZWEwYjRjZjBiZjQzMTA5ZDU0NDI4MDEwID0gTC5tYXJrZXIoCiAgICAgICAgICAgIFs0MS45MTM2OTUzOTk5OTk5OSwgLTg3LjY3NzEyNzNdLAogICAgICAgICAgICB7CiAgICAgICAgICAgICAgICBpY29uOiBuZXcgTC5JY29uLkRlZmF1bHQoKSwKICAgICAgICAgICAgICAgIH0KICAgICAgICAgICAgKS5hZGRUbyhtYXBfNTliODQzNWEwNjUwNDk4Y2E4ZWM2OGYxYzkwODY4YWIpOwogICAgICAgIAogICAgCiAgICAgICAgICAgIHZhciBwb3B1cF82MTYxNGUxM2QyMzM0ZTNiODAyZTQ2OTBiOTU5ZTNhNCA9IEwucG9wdXAoe21heFdpZHRoOiAnMTAwJScKICAgICAgICAgICAgCiAgICAgICAgICAgIH0pOwoKICAgICAgICAgICAgCiAgICAgICAgICAgICAgICB2YXIgaHRtbF8wNDQ0MzJiZWQyMTY0OGNiOTg0ZTJlNDg4ZjliMWMxNiA9ICQoYDxkaXYgaWQ9Imh0bWxfMDQ0NDMyYmVkMjE2NDhjYjk4NGUyZTQ4OGY5YjFjMTYiIHN0eWxlPSJ3aWR0aDogMTAwLjAlOyBoZWlnaHQ6IDEwMC4wJTsiPk1pbmR54oCZcyBIb3RDaG9jb2xhdGU8L2Rpdj5gKVswXTsKICAgICAgICAgICAgICAgIHBvcHVwXzYxNjE0ZTEzZDIzMzRlM2I4MDJlNDY5MGI5NTllM2E0LnNldENvbnRlbnQoaHRtbF8wNDQ0MzJiZWQyMTY0OGNiOTg0ZTJlNDg4ZjliMWMxNik7CiAgICAgICAgICAgIAoKICAgICAgICAgICAgbWFya2VyX2FjOGY0ODZjZWEwYjRjZjBiZjQzMTA5ZDU0NDI4MDEwLmJpbmRQb3B1cChwb3B1cF82MTYxNGUxM2QyMzM0ZTNiODAyZTQ2OTBiOTU5ZTNhNCkKICAgICAgICAgICAgOwoKICAgICAgICAgICAgCiAgICAgICAgCiAgICAKICAgICAgICB2YXIgbWFya2VyXzNkOTYxNGU0Y2FkOTQ5Y2M5MTE2ZTMxZTU2MTgwZTkxID0gTC5tYXJrZXIoCiAgICAgICAgICAgIFs0MS45NTM3MDU0LCAtODcuNzA4NDUwMl0sCiAgICAgICAgICAgIHsKICAgICAgICAgICAgICAgIGljb246IG5ldyBMLkljb24uRGVmYXVsdCgpLAogICAgICAgICAgICAgICAgfQogICAgICAgICAgICApLmFkZFRvKG1hcF81OWI4NDM1YTA2NTA0OThjYThlYzY4ZjFjOTA4NjhhYik7CiAgICAgICAgCiAgICAKICAgICAgICAgICAgdmFyIHBvcHVwXzI1ODVlYTIwMDU2YzRlM2E4YjIyZjMyODlkNDUyNzNkID0gTC5wb3B1cCh7bWF4V2lkdGg6ICcxMDAlJwogICAgICAgICAgICAKICAgICAgICAgICAgfSk7CgogICAgICAgICAgICAKICAgICAgICAgICAgICAgIHZhciBodG1sXzNlOWQzM2IxYjFjMTQzYjRhNTAzZGZiM2NiZjE0ZmE4ID0gJChgPGRpdiBpZD0iaHRtbF8zZTlkMzNiMWIxYzE0M2I0YTUwM2RmYjNjYmYxNGZhOCIgc3R5bGU9IndpZHRoOiAxMDAuMCU7IGhlaWdodDogMTAwLjAlOyI+T2xnYeKAmXMgRGVsaWNhdGVzc2VuPC9kaXY+YClbMF07CiAgICAgICAgICAgICAgICBwb3B1cF8yNTg1ZWEyMDA1NmM0ZTNhOGIyMmYzMjg5ZDQ1MjczZC5zZXRDb250ZW50KGh0bWxfM2U5ZDMzYjFiMWMxNDNiNGE1MDNkZmIzY2JmMTRmYTgpOwogICAgICAgICAgICAKCiAgICAgICAgICAgIG1hcmtlcl8zZDk2MTRlNGNhZDk0OWNjOTExNmUzMWU1NjE4MGU5MS5iaW5kUG9wdXAocG9wdXBfMjU4NWVhMjAwNTZjNGUzYThiMjJmMzI4OWQ0NTI3M2QpCiAgICAgICAgICAgIDsKCiAgICAgICAgICAgIAogICAgICAgIAogICAgCiAgICAgICAgdmFyIG1hcmtlcl9mYTcwNGQ3MjllZjg0OTdiYjNhNGRiZmMzNjUzNGQ3NCA9IEwubWFya2VyKAogICAgICAgICAgICBbNDEuOTc5NDQ5NiwgLTg3LjY2Nzk1NzE5OTk5OTk5XSwKICAgICAgICAgICAgewogICAgICAgICAgICAgICAgaWNvbjogbmV3IEwuSWNvbi5EZWZhdWx0KCksCiAgICAgICAgICAgICAgICB9CiAgICAgICAgICAgICkuYWRkVG8obWFwXzU5Yjg0MzVhMDY1MDQ5OGNhOGVjNjhmMWM5MDg2OGFiKTsKICAgICAgICAKICAgIAogICAgICAgICAgICB2YXIgcG9wdXBfMWU2YWE1MGZkMDk3NGExYmI3MTMxYTBjNjdkZWI4YzEgPSBMLnBvcHVwKHttYXhXaWR0aDogJzEwMCUnCiAgICAgICAgICAgIAogICAgICAgICAgICB9KTsKCiAgICAgICAgICAgIAogICAgICAgICAgICAgICAgdmFyIGh0bWxfYzNhMDgxODBlZDBjNDZiYWJhMWNhNjJlM2I0ZDNhNjggPSAkKGA8ZGl2IGlkPSJodG1sX2MzYTA4MTgwZWQwYzQ2YmFiYTFjYTYyZTNiNGQzYTY4IiBzdHlsZT0id2lkdGg6IDEwMC4wJTsgaGVpZ2h0OiAxMDAuMCU7Ij5CaWcgSm9uZXM8L2Rpdj5gKVswXTsKICAgICAgICAgICAgICAgIHBvcHVwXzFlNmFhNTBmZDA5NzRhMWJiNzEzMWEwYzY3ZGViOGMxLnNldENvbnRlbnQoaHRtbF9jM2EwODE4MGVkMGM0NmJhYmExY2E2MmUzYjRkM2E2OCk7CiAgICAgICAgICAgIAoKICAgICAgICAgICAgbWFya2VyX2ZhNzA0ZDcyOWVmODQ5N2JiM2E0ZGJmYzM2NTM0ZDc0LmJpbmRQb3B1cChwb3B1cF8xZTZhYTUwZmQwOTc0YTFiYjcxMzFhMGM2N2RlYjhjMSkKICAgICAgICAgICAgOwoKICAgICAgICAgICAgCiAgICAgICAgCiAgICAKICAgICAgICB2YXIgbWFya2VyXzlkZDVmYTJiY2YwZjQ1NjU5ZmNlMTJiZTcyM2QxOTRlID0gTC5tYXJrZXIoCiAgICAgICAgICAgIFs0MS45NTQxNjIsIC04Ny43MDI3MTA3OTk5OTk5OV0sCiAgICAgICAgICAgIHsKICAgICAgICAgICAgICAgIGljb246IG5ldyBMLkljb24uRGVmYXVsdCgpLAogICAgICAgICAgICAgICAgfQogICAgICAgICAgICApLmFkZFRvKG1hcF81OWI4NDM1YTA2NTA0OThjYThlYzY4ZjFjOTA4NjhhYik7CiAgICAgICAgCiAgICAKICAgICAgICAgICAgdmFyIHBvcHVwX2ViN2FhOWFmMWZlYzQ5NzBhMWYzZGZmYjQxZGJmYTVmID0gTC5wb3B1cCh7bWF4V2lkdGg6ICcxMDAlJwogICAgICAgICAgICAKICAgICAgICAgICAgfSk7CgogICAgICAgICAgICAKICAgICAgICAgICAgICAgIHZhciBodG1sXzEzZGE3YWYzNDI4NTQwOGZhNWRhZWNhNjJlZmI5NGI2ID0gJChgPGRpdiBpZD0iaHRtbF8xM2RhN2FmMzQyODU0MDhmYTVkYWVjYTYyZWZiOTRiNiIgc3R5bGU9IndpZHRoOiAxMDAuMCU7IGhlaWdodDogMTAwLjAlOyI+TGEgUGFuZTwvZGl2PmApWzBdOwogICAgICAgICAgICAgICAgcG9wdXBfZWI3YWE5YWYxZmVjNDk3MGExZjNkZmZiNDFkYmZhNWYuc2V0Q29udGVudChodG1sXzEzZGE3YWYzNDI4NTQwOGZhNWRhZWNhNjJlZmI5NGI2KTsKICAgICAgICAgICAgCgogICAgICAgICAgICBtYXJrZXJfOWRkNWZhMmJjZjBmNDU2NTlmY2UxMmJlNzIzZDE5NGUuYmluZFBvcHVwKHBvcHVwX2ViN2FhOWFmMWZlYzQ5NzBhMWYzZGZmYjQxZGJmYTVmKQogICAgICAgICAgICA7CgogICAgICAgICAgICAKICAgICAgICAKICAgIAogICAgICAgIHZhciBtYXJrZXJfOWIwM2FiZWZiOGM4NDY4ZmEwN2VmYjZiNTdkNGFiZDggPSBMLm1hcmtlcigKICAgICAgICAgICAgWzQyLjE1NjcwNzMsIC04Ny44MDM2MzQ1XSwKICAgICAgICAgICAgewogICAgICAgICAgICAgICAgaWNvbjogbmV3IEwuSWNvbi5EZWZhdWx0KCksCiAgICAgICAgICAgICAgICB9CiAgICAgICAgICAgICkuYWRkVG8obWFwXzU5Yjg0MzVhMDY1MDQ5OGNhOGVjNjhmMWM5MDg2OGFiKTsKICAgICAgICAKICAgIAogICAgICAgICAgICB2YXIgcG9wdXBfZjkxYjM0OGRlYWM1NDFlNmE0MThjOWRmNTY5ZTllOWEgPSBMLnBvcHVwKHttYXhXaWR0aDogJzEwMCUnCiAgICAgICAgICAgIAogICAgICAgICAgICB9KTsKCiAgICAgICAgICAgIAogICAgICAgICAgICAgICAgdmFyIGh0bWxfNzBhMGUwNzE4ODVlNDY3Y2IzM2FlYjY4MDhjMjRiNmQgPSAkKGA8ZGl2IGlkPSJodG1sXzcwYTBlMDcxODg1ZTQ2N2NiMzNhZWI2ODA4YzI0YjZkIiBzdHlsZT0id2lkdGg6IDEwMC4wJTsgaGVpZ2h0OiAxMDAuMCU7Ij5NYXjigJlzIERlbGk8L2Rpdj5gKVswXTsKICAgICAgICAgICAgICAgIHBvcHVwX2Y5MWIzNDhkZWFjNTQxZTZhNDE4YzlkZjU2OWU5ZTlhLnNldENvbnRlbnQoaHRtbF83MGEwZTA3MTg4NWU0NjdjYjMzYWViNjgwOGMyNGI2ZCk7CiAgICAgICAgICAgIAoKICAgICAgICAgICAgbWFya2VyXzliMDNhYmVmYjhjODQ2OGZhMDdlZmI2YjU3ZDRhYmQ4LmJpbmRQb3B1cChwb3B1cF9mOTFiMzQ4ZGVhYzU0MWU2YTQxOGM5ZGY1NjllOWU5YSkKICAgICAgICAgICAgOwoKICAgICAgICAgICAgCiAgICAgICAgCiAgICAKICAgICAgICB2YXIgbWFya2VyX2JkZTJmMjE3ZTcwMTRkYzZhYjkyZTY4YTk0OWE1NDhhID0gTC5tYXJrZXIoCiAgICAgICAgICAgIFs0MS45NjUyOTg3LCAtODcuNjc1NTc5NTk5OTk5OTldLAogICAgICAgICAgICB7CiAgICAgICAgICAgICAgICBpY29uOiBuZXcgTC5JY29uLkRlZmF1bHQoKSwKICAgICAgICAgICAgICAgIH0KICAgICAgICAgICAgKS5hZGRUbyhtYXBfNTliODQzNWEwNjUwNDk4Y2E4ZWM2OGYxYzkwODY4YWIpOwogICAgICAgIAogICAgCiAgICAgICAgICAgIHZhciBwb3B1cF83ZGYyNTBiZmMwNzI0OThlYTM4NzFjMjdiNzU4Yjg0MiA9IEwucG9wdXAoe21heFdpZHRoOiAnMTAwJScKICAgICAgICAgICAgCiAgICAgICAgICAgIH0pOwoKICAgICAgICAgICAgCiAgICAgICAgICAgICAgICB2YXIgaHRtbF9kMjNiZWM0MjAzMGQ0MTEyYTIxMzA1Yzc3MWQ3MTY5MSA9ICQoYDxkaXYgaWQ9Imh0bWxfZDIzYmVjNDIwMzBkNDExMmEyMTMwNWM3NzFkNzE2OTEiIHN0eWxlPSJ3aWR0aDogMTAwLjAlOyBoZWlnaHQ6IDEwMC4wJTsiPkNpdHkgUHJvdmlzaW9uczwvZGl2PmApWzBdOwogICAgICAgICAgICAgICAgcG9wdXBfN2RmMjUwYmZjMDcyNDk4ZWEzODcxYzI3Yjc1OGI4NDIuc2V0Q29udGVudChodG1sX2QyM2JlYzQyMDMwZDQxMTJhMjEzMDVjNzcxZDcxNjkxKTsKICAgICAgICAgICAgCgogICAgICAgICAgICBtYXJrZXJfYmRlMmYyMTdlNzAxNGRjNmFiOTJlNjhhOTQ5YTU0OGEuYmluZFBvcHVwKHBvcHVwXzdkZjI1MGJmYzA3MjQ5OGVhMzg3MWMyN2I3NThiODQyKQogICAgICAgICAgICA7CgogICAgICAgICAgICAKICAgICAgICAKICAgIAogICAgICAgIHZhciBtYXJrZXJfMGI0ZGUwOTU3MjM5NDBjN2EyYzIzZjk1YmYzNzczY2QgPSBMLm1hcmtlcigKICAgICAgICAgICAgWzQxLjkwMjcyMTc5OTk5OTk5LCAtODcuNjkwMjEzNV0sCiAgICAgICAgICAgIHsKICAgICAgICAgICAgICAgIGljb246IG5ldyBMLkljb24uRGVmYXVsdCgpLAogICAgICAgICAgICAgICAgfQogICAgICAgICAgICApLmFkZFRvKG1hcF81OWI4NDM1YTA2NTA0OThjYThlYzY4ZjFjOTA4NjhhYik7CiAgICAgICAgCiAgICAKICAgICAgICAgICAgdmFyIHBvcHVwXzA1NzZkMDhiNGNlZjQ5MWRhN2MzMDZmZmJiNDcyNThjID0gTC5wb3B1cCh7bWF4V2lkdGg6ICcxMDAlJwogICAgICAgICAgICAKICAgICAgICAgICAgfSk7CgogICAgICAgICAgICAKICAgICAgICAgICAgICAgIHZhciBodG1sXzRiMzYzNjY0MTMxMDQ1ZjI4NDc1YTY3OWIyNTVmZDI4ID0gJChgPGRpdiBpZD0iaHRtbF80YjM2MzY2NDEzMTA0NWYyODQ3NWE2NzliMjU1ZmQyOCIgc3R5bGU9IndpZHRoOiAxMDAuMCU7IGhlaWdodDogMTAwLjAlOyI+UGFwYeKAmXMgQ2FjaGUgU2Ficm9zbzwvZGl2PmApWzBdOwogICAgICAgICAgICAgICAgcG9wdXBfMDU3NmQwOGI0Y2VmNDkxZGE3YzMwNmZmYmI0NzI1OGMuc2V0Q29udGVudChodG1sXzRiMzYzNjY0MTMxMDQ1ZjI4NDc1YTY3OWIyNTVmZDI4KTsKICAgICAgICAgICAgCgogICAgICAgICAgICBtYXJrZXJfMGI0ZGUwOTU3MjM5NDBjN2EyYzIzZjk1YmYzNzczY2QuYmluZFBvcHVwKHBvcHVwXzA1NzZkMDhiNGNlZjQ5MWRhN2MzMDZmZmJiNDcyNThjKQogICAgICAgICAgICA7CgogICAgICAgICAgICAKICAgICAgICAKICAgIAogICAgICAgIHZhciBtYXJrZXJfMTZhODVlZjUwYTk3NGNkZGE5Yzc2YTUzMGE4YjY0YWIgPSBMLm1hcmtlcigKICAgICAgICAgICAgWzQxLjg4OTM2ODMsIC04Ny42MzQ5NDg3XSwKICAgICAgICAgICAgewogICAgICAgICAgICAgICAgaWNvbjogbmV3IEwuSWNvbi5EZWZhdWx0KCksCiAgICAgICAgICAgICAgICB9CiAgICAgICAgICAgICkuYWRkVG8obWFwXzU5Yjg0MzVhMDY1MDQ5OGNhOGVjNjhmMWM5MDg2OGFiKTsKICAgICAgICAKICAgIAogICAgICAgICAgICB2YXIgcG9wdXBfOTUyNDA2ODk3ZTFhNDU0NWJjZWMxNTQ2YzEwMGExOTcgPSBMLnBvcHVwKHttYXhXaWR0aDogJzEwMCUnCiAgICAgICAgICAgIAogICAgICAgICAgICB9KTsKCiAgICAgICAgICAgIAogICAgICAgICAgICAgICAgdmFyIGh0bWxfMWM5NDdkYjQzOWYxNGY5MmJmYTUyZWE2NmI2YWVjZTkgPSAkKGA8ZGl2IGlkPSJodG1sXzFjOTQ3ZGI0MzlmMTRmOTJiZmE1MmVhNjZiNmFlY2U5IiBzdHlsZT0id2lkdGg6IDEwMC4wJTsgaGVpZ2h0OiAxMDAuMCU7Ij5CYXZldHRl4oCZcyBCYXIgJiBCb2V1ZjwvZGl2PmApWzBdOwogICAgICAgICAgICAgICAgcG9wdXBfOTUyNDA2ODk3ZTFhNDU0NWJjZWMxNTQ2YzEwMGExOTcuc2V0Q29udGVudChodG1sXzFjOTQ3ZGI0MzlmMTRmOTJiZmE1MmVhNjZiNmFlY2U5KTsKICAgICAgICAgICAgCgogICAgICAgICAgICBtYXJrZXJfMTZhODVlZjUwYTk3NGNkZGE5Yzc2YTUzMGE4YjY0YWIuYmluZFBvcHVwKHBvcHVwXzk1MjQwNjg5N2UxYTQ1NDViY2VjMTU0NmMxMDBhMTk3KQogICAgICAgICAgICA7CgogICAgICAgICAgICAKICAgICAgICAKICAgIAogICAgICAgIHZhciBtYXJrZXJfZjg2OTQ2Yzg0ZjE5NDZmZDljY2E5MWU3YzkwMzJmN2EgPSBMLm1hcmtlcigKICAgICAgICAgICAgWzQxLjkxMDUyNTgsIC04Ny42MzQzNzc1XSwKICAgICAgICAgICAgewogICAgICAgICAgICAgICAgaWNvbjogbmV3IEwuSWNvbi5EZWZhdWx0KCksCiAgICAgICAgICAgICAgICB9CiAgICAgICAgICAgICkuYWRkVG8obWFwXzU5Yjg0MzVhMDY1MDQ5OGNhOGVjNjhmMWM5MDg2OGFiKTsKICAgICAgICAKICAgIAogICAgICAgICAgICB2YXIgcG9wdXBfNGU4Yzg4ZjNkMDgzNDYxMjkyNjMyYjI2ZTY4OGQ0ZDcgPSBMLnBvcHVwKHttYXhXaWR0aDogJzEwMCUnCiAgICAgICAgICAgIAogICAgICAgICAgICB9KTsKCiAgICAgICAgICAgIAogICAgICAgICAgICAgICAgdmFyIGh0bWxfM2NiMTYxMzU3NWYxNDRjOWE4NGRmODVjOWI3MjliNGYgPSAkKGA8ZGl2IGlkPSJodG1sXzNjYjE2MTM1NzVmMTQ0YzlhODRkZjg1YzliNzI5YjRmIiBzdHlsZT0id2lkdGg6IDEwMC4wJTsgaGVpZ2h0OiAxMDAuMCU7Ij5MYSBGb3VybmV0dGU8L2Rpdj5gKVswXTsKICAgICAgICAgICAgICAgIHBvcHVwXzRlOGM4OGYzZDA4MzQ2MTI5MjYzMmIyNmU2ODhkNGQ3LnNldENvbnRlbnQoaHRtbF8zY2IxNjEzNTc1ZjE0NGM5YTg0ZGY4NWM5YjcyOWI0Zik7CiAgICAgICAgICAgIAoKICAgICAgICAgICAgbWFya2VyX2Y4Njk0NmM4NGYxOTQ2ZmQ5Y2NhOTFlN2M5MDMyZjdhLmJpbmRQb3B1cChwb3B1cF80ZThjODhmM2QwODM0NjEyOTI2MzJiMjZlNjg4ZDRkNykKICAgICAgICAgICAgOwoKICAgICAgICAgICAgCiAgICAgICAgCiAgICAKICAgICAgICB2YXIgbWFya2VyXzAwMzhlOWE2NTBhYTQ3N2ZiN2NlY2M4ZmMxZjM3MzBjID0gTC5tYXJrZXIoCiAgICAgICAgICAgIFs0MS44ODk2MTg4LCAtODcuNjQ0ODQyNTk5OTk5OTldLAogICAgICAgICAgICB7CiAgICAgICAgICAgICAgICBpY29uOiBuZXcgTC5JY29uLkRlZmF1bHQoKSwKICAgICAgICAgICAgICAgIH0KICAgICAgICAgICAgKS5hZGRUbyhtYXBfNTliODQzNWEwNjUwNDk4Y2E4ZWM2OGYxYzkwODY4YWIpOwogICAgICAgIAogICAgCiAgICAgICAgICAgIHZhciBwb3B1cF8wNTdjNDAzYmYxYWM0YzBiYWQ4ZmM2ZDVhODdiZWU0OCA9IEwucG9wdXAoe21heFdpZHRoOiAnMTAwJScKICAgICAgICAgICAgCiAgICAgICAgICAgIH0pOwoKICAgICAgICAgICAgCiAgICAgICAgICAgICAgICB2YXIgaHRtbF80NmM0OWVkZDZiNjk0NGZmOTFhZjBlNWFjN2NhZTI0MyA9ICQoYDxkaXYgaWQ9Imh0bWxfNDZjNDllZGQ2YjY5NDRmZjkxYWYwZTVhYzdjYWUyNDMiIHN0eWxlPSJ3aWR0aDogMTAwLjAlOyBoZWlnaHQ6IDEwMC4wJTsiPlBhcmFtb3VudCBSb29tPC9kaXY+YClbMF07CiAgICAgICAgICAgICAgICBwb3B1cF8wNTdjNDAzYmYxYWM0YzBiYWQ4ZmM2ZDVhODdiZWU0OC5zZXRDb250ZW50KGh0bWxfNDZjNDllZGQ2YjY5NDRmZjkxYWYwZTVhYzdjYWUyNDMpOwogICAgICAgICAgICAKCiAgICAgICAgICAgIG1hcmtlcl8wMDM4ZTlhNjUwYWE0NzdmYjdjZWNjOGZjMWYzNzMwYy5iaW5kUG9wdXAocG9wdXBfMDU3YzQwM2JmMWFjNGMwYmFkOGZjNmQ1YTg3YmVlNDgpCiAgICAgICAgICAgIDsKCiAgICAgICAgICAgIAogICAgICAgIAogICAgCiAgICAgICAgdmFyIG1hcmtlcl9iZDNlNTYwZjllNDE0MDIzODk0OGMwMTgwMjNhZGNiYSA9IEwubWFya2VyKAogICAgICAgICAgICBbNDEuOTE1MDQ5OTAwMDAwMDEsIC04Ny42Nzc4MDQ3XSwKICAgICAgICAgICAgewogICAgICAgICAgICAgICAgaWNvbjogbmV3IEwuSWNvbi5EZWZhdWx0KCksCiAgICAgICAgICAgICAgICB9CiAgICAgICAgICAgICkuYWRkVG8obWFwXzU5Yjg0MzVhMDY1MDQ5OGNhOGVjNjhmMWM5MDg2OGFiKTsKICAgICAgICAKICAgIAogICAgICAgICAgICB2YXIgcG9wdXBfY2FkN2ZjY2I4Njc4NDU1NWJkOGY0N2JlNzM1YTljZWQgPSBMLnBvcHVwKHttYXhXaWR0aDogJzEwMCUnCiAgICAgICAgICAgIAogICAgICAgICAgICB9KTsKCiAgICAgICAgICAgIAogICAgICAgICAgICAgICAgdmFyIGh0bWxfZGNkMmFjZjJhNDhkNDUxZmFmYjdhNTI5MzgyMDBkZGUgPSAkKGA8ZGl2IGlkPSJodG1sX2RjZDJhY2YyYTQ4ZDQ1MWZhZmI3YTUyOTM4MjAwZGRlIiBzdHlsZT0id2lkdGg6IDEwMC4wJTsgaGVpZ2h0OiAxMDAuMCU7Ij5NZWx0IFNhbmR3aWNoIFNob3BwZTwvZGl2PmApWzBdOwogICAgICAgICAgICAgICAgcG9wdXBfY2FkN2ZjY2I4Njc4NDU1NWJkOGY0N2JlNzM1YTljZWQuc2V0Q29udGVudChodG1sX2RjZDJhY2YyYTQ4ZDQ1MWZhZmI3YTUyOTM4MjAwZGRlKTsKICAgICAgICAgICAgCgogICAgICAgICAgICBtYXJrZXJfYmQzZTU2MGY5ZTQxNDAyMzg5NDhjMDE4MDIzYWRjYmEuYmluZFBvcHVwKHBvcHVwX2NhZDdmY2NiODY3ODQ1NTViZDhmNDdiZTczNWE5Y2VkKQogICAgICAgICAgICA7CgogICAgICAgICAgICAKICAgICAgICAKICAgIAogICAgICAgIHZhciBtYXJrZXJfNGJhZTc2MDliMjUwNDI4ZjhiMWRjZmJlZGQwODA5NGEgPSBMLm1hcmtlcigKICAgICAgICAgICAgWzQxLjkyMTg1MjEsIC04Ny42NTkyMTI0XSwKICAgICAgICAgICAgewogICAgICAgICAgICAgICAgaWNvbjogbmV3IEwuSWNvbi5EZWZhdWx0KCksCiAgICAgICAgICAgICAgICB9CiAgICAgICAgICAgICkuYWRkVG8obWFwXzU5Yjg0MzVhMDY1MDQ5OGNhOGVjNjhmMWM5MDg2OGFiKTsKICAgICAgICAKICAgIAogICAgICAgICAgICB2YXIgcG9wdXBfMzJiYmYyYjdkMWQ4NGIxZDgzNGU3ODhmOTk0NTZmMGQgPSBMLnBvcHVwKHttYXhXaWR0aDogJzEwMCUnCiAgICAgICAgICAgIAogICAgICAgICAgICB9KTsKCiAgICAgICAgICAgIAogICAgICAgICAgICAgICAgdmFyIGh0bWxfNjRmN2QxZDU2MzFkNDlmNDk5ZGU3NmJiN2Q4OTQ4ZjMgPSAkKGA8ZGl2IGlkPSJodG1sXzY0ZjdkMWQ1NjMxZDQ5ZjQ5OWRlNzZiYjdkODk0OGYzIiBzdHlsZT0id2lkdGg6IDEwMC4wJTsgaGVpZ2h0OiAxMDAuMCU7Ij5GbG9yaW9sZSBDYWZlICYgQmFrZXJ5PC9kaXY+YClbMF07CiAgICAgICAgICAgICAgICBwb3B1cF8zMmJiZjJiN2QxZDg0YjFkODM0ZTc4OGY5OTQ1NmYwZC5zZXRDb250ZW50KGh0bWxfNjRmN2QxZDU2MzFkNDlmNDk5ZGU3NmJiN2Q4OTQ4ZjMpOwogICAgICAgICAgICAKCiAgICAgICAgICAgIG1hcmtlcl80YmFlNzYwOWIyNTA0MjhmOGIxZGNmYmVkZDA4MDk0YS5iaW5kUG9wdXAocG9wdXBfMzJiYmYyYjdkMWQ4NGIxZDgzNGU3ODhmOTk0NTZmMGQpCiAgICAgICAgICAgIDsKCiAgICAgICAgICAgIAogICAgICAgIAogICAgCiAgICAgICAgdmFyIG1hcmtlcl8zZWFkNTAzMWQyNTg0YWRkOGI2ZjBiYzJjNTA5MDBhYiA9IEwubWFya2VyKAogICAgICAgICAgICBbNDEuOTc5NzA5OSwgLTg3LjY2OTM0NDA5OTk5OTk5XSwKICAgICAgICAgICAgewogICAgICAgICAgICAgICAgaWNvbjogbmV3IEwuSWNvbi5EZWZhdWx0KCksCiAgICAgICAgICAgICAgICB9CiAgICAgICAgICAgICkuYWRkVG8obWFwXzU5Yjg0MzVhMDY1MDQ5OGNhOGVjNjhmMWM5MDg2OGFiKTsKICAgICAgICAKICAgIAogICAgICAgICAgICB2YXIgcG9wdXBfNDliMzAwODU1YTdmNDNhODhiNjVmZTk2MWY0YzMwYjQgPSBMLnBvcHVwKHttYXhXaWR0aDogJzEwMCUnCiAgICAgICAgICAgIAogICAgICAgICAgICB9KTsKCiAgICAgICAgICAgIAogICAgICAgICAgICAgICAgdmFyIGh0bWxfMjE1ZTNkMGU1ZjY1NGY3Yjk5ZmQwMDljNWM4NThhZjMgPSAkKGA8ZGl2IGlkPSJodG1sXzIxNWUzZDBlNWY2NTRmN2I5OWZkMDA5YzVjODU4YWYzIiBzdHlsZT0id2lkdGg6IDEwMC4wJTsgaGVpZ2h0OiAxMDAuMCU7Ij5GaXJzdCBTbGljZSBQaWUgQ2Fmw6k8L2Rpdj5gKVswXTsKICAgICAgICAgICAgICAgIHBvcHVwXzQ5YjMwMDg1NWE3ZjQzYTg4YjY1ZmU5NjFmNGMzMGI0LnNldENvbnRlbnQoaHRtbF8yMTVlM2QwZTVmNjU0ZjdiOTlmZDAwOWM1Yzg1OGFmMyk7CiAgICAgICAgICAgIAoKICAgICAgICAgICAgbWFya2VyXzNlYWQ1MDMxZDI1ODRhZGQ4YjZmMGJjMmM1MDkwMGFiLmJpbmRQb3B1cChwb3B1cF80OWIzMDA4NTVhN2Y0M2E4OGI2NWZlOTYxZjRjMzBiNCkKICAgICAgICAgICAgOwoKICAgICAgICAgICAgCiAgICAgICAgCiAgICAKICAgICAgICB2YXIgbWFya2VyXzExNWUyNmVhY2E4MzQ2MWE4NjNiYmJlZjAwZTJiZTQxID0gTC5tYXJrZXIoCiAgICAgICAgICAgIFs0MS45NjE3MTIyLCAtODcuNjc1ODE2MjAwMDAwMDFdLAogICAgICAgICAgICB7CiAgICAgICAgICAgICAgICBpY29uOiBuZXcgTC5JY29uLkRlZmF1bHQoKSwKICAgICAgICAgICAgICAgIH0KICAgICAgICAgICAgKS5hZGRUbyhtYXBfNTliODQzNWEwNjUwNDk4Y2E4ZWM2OGYxYzkwODY4YWIpOwogICAgICAgIAogICAgCiAgICAgICAgICAgIHZhciBwb3B1cF8xM2Y0OGQ1NWQzODU0MmRiOWQyYzVhNmE1ZGNkYmE0MSA9IEwucG9wdXAoe21heFdpZHRoOiAnMTAwJScKICAgICAgICAgICAgCiAgICAgICAgICAgIH0pOwoKICAgICAgICAgICAgCiAgICAgICAgICAgICAgICB2YXIgaHRtbF8yNDkyYTI4M2NlODk0YWYzYjU1OTM2ZmMwMjA3ZmUwZSA9ICQoYDxkaXYgaWQ9Imh0bWxfMjQ5MmEyODNjZTg5NGFmM2I1NTkzNmZjMDIwN2ZlMGUiIHN0eWxlPSJ3aWR0aDogMTAwLjAlOyBoZWlnaHQ6IDEwMC4wJTsiPlRyb3F1ZXQ8L2Rpdj5gKVswXTsKICAgICAgICAgICAgICAgIHBvcHVwXzEzZjQ4ZDU1ZDM4NTQyZGI5ZDJjNWE2YTVkY2RiYTQxLnNldENvbnRlbnQoaHRtbF8yNDkyYTI4M2NlODk0YWYzYjU1OTM2ZmMwMjA3ZmUwZSk7CiAgICAgICAgICAgIAoKICAgICAgICAgICAgbWFya2VyXzExNWUyNmVhY2E4MzQ2MWE4NjNiYmJlZjAwZTJiZTQxLmJpbmRQb3B1cChwb3B1cF8xM2Y0OGQ1NWQzODU0MmRiOWQyYzVhNmE1ZGNkYmE0MSkKICAgICAgICAgICAgOwoKICAgICAgICAgICAgCiAgICAgICAgCiAgICAKICAgICAgICB2YXIgbWFya2VyX2EyYTJmMGJlY2YwODRlYTdhMzA1ZWJjY2EyMTliNTNlID0gTC5tYXJrZXIoCiAgICAgICAgICAgIFs0MS44OTI5NjExOTk5OTk5OSwgLTg3LjYyNzgyMTRdLAogICAgICAgICAgICB7CiAgICAgICAgICAgICAgICBpY29uOiBuZXcgTC5JY29uLkRlZmF1bHQoKSwKICAgICAgICAgICAgICAgIH0KICAgICAgICAgICAgKS5hZGRUbyhtYXBfNTliODQzNWEwNjUwNDk4Y2E4ZWM2OGYxYzkwODY4YWIpOwogICAgICAgIAogICAgCiAgICAgICAgICAgIHZhciBwb3B1cF8wNGI2OWNkNjgxMGY0ZDM2YTFjYzlkMDJlNjFhZTM2NSA9IEwucG9wdXAoe21heFdpZHRoOiAnMTAwJScKICAgICAgICAgICAgCiAgICAgICAgICAgIH0pOwoKICAgICAgICAgICAgCiAgICAgICAgICAgICAgICB2YXIgaHRtbF9jMGQxOWUwNTNkMzE0MzYwOWJmNDYxMDk5OTA0MTMyMCA9ICQoYDxkaXYgaWQ9Imh0bWxfYzBkMTllMDUzZDMxNDM2MDliZjQ2MTA5OTkwNDEzMjAiIHN0eWxlPSJ3aWR0aDogMTAwLjAlOyBoZWlnaHQ6IDEwMC4wJTsiPkdyYWhhbXdpY2g8L2Rpdj5gKVswXTsKICAgICAgICAgICAgICAgIHBvcHVwXzA0YjY5Y2Q2ODEwZjRkMzZhMWNjOWQwMmU2MWFlMzY1LnNldENvbnRlbnQoaHRtbF9jMGQxOWUwNTNkMzE0MzYwOWJmNDYxMDk5OTA0MTMyMCk7CiAgICAgICAgICAgIAoKICAgICAgICAgICAgbWFya2VyX2EyYTJmMGJlY2YwODRlYTdhMzA1ZWJjY2EyMTliNTNlLmJpbmRQb3B1cChwb3B1cF8wNGI2OWNkNjgxMGY0ZDM2YTFjYzlkMDJlNjFhZTM2NSkKICAgICAgICAgICAgOwoKICAgICAgICAgICAgCiAgICAgICAgCiAgICAKICAgICAgICB2YXIgbWFya2VyX2JmN2UzNzI1ZmU2OTRjYjA4ODA4ODI4MGYwOWRjNDRmID0gTC5tYXJrZXIoCiAgICAgICAgICAgIFs0MS45MDQ3NTUxLCAtODcuOTM5NjQ1OV0sCiAgICAgICAgICAgIHsKICAgICAgICAgICAgICAgIGljb246IG5ldyBMLkljb24uRGVmYXVsdCgpLAogICAgICAgICAgICAgICAgfQogICAgICAgICAgICApLmFkZFRvKG1hcF81OWI4NDM1YTA2NTA0OThjYThlYzY4ZjFjOTA4NjhhYik7CiAgICAgICAgCiAgICAKICAgICAgICAgICAgdmFyIHBvcHVwX2JmYjkzMDVlYWYyNzRkOTQ5YmM0ZTMzMWVlZDFkNWE4ID0gTC5wb3B1cCh7bWF4V2lkdGg6ICcxMDAlJwogICAgICAgICAgICAKICAgICAgICAgICAgfSk7CgogICAgICAgICAgICAKICAgICAgICAgICAgICAgIHZhciBodG1sXzBiOGZiNWYxYmI5ZDRhY2E5NTlmZWRmYjZmN2JlZjE2ID0gJChgPGRpdiBpZD0iaHRtbF8wYjhmYjVmMWJiOWQ0YWNhOTU5ZmVkZmI2ZjdiZWYxNiIgc3R5bGU9IndpZHRoOiAxMDAuMCU7IGhlaWdodDogMTAwLjAlOyI+Um9zYWxpYeKAmXMgRGVsaTwvZGl2PmApWzBdOwogICAgICAgICAgICAgICAgcG9wdXBfYmZiOTMwNWVhZjI3NGQ5NDliYzRlMzMxZWVkMWQ1YTguc2V0Q29udGVudChodG1sXzBiOGZiNWYxYmI5ZDRhY2E5NTlmZWRmYjZmN2JlZjE2KTsKICAgICAgICAgICAgCgogICAgICAgICAgICBtYXJrZXJfYmY3ZTM3MjVmZTY5NGNiMDg4MDg4MjgwZjA5ZGM0NGYuYmluZFBvcHVwKHBvcHVwX2JmYjkzMDVlYWYyNzRkOTQ5YmM0ZTMzMWVlZDFkNWE4KQogICAgICAgICAgICA7CgogICAgICAgICAgICAKICAgICAgICAKICAgIAogICAgICAgIHZhciBtYXJrZXJfNTE2ZjY4NTBjNDg4NDVlOTk3OTEyMTVhODU5ZDA3YWUgPSBMLm1hcmtlcigKICAgICAgICAgICAgWzQxLjc5MTMxODUsIC04Ny41OTM4NDU2XSwKICAgICAgICAgICAgewogICAgICAgICAgICAgICAgaWNvbjogbmV3IEwuSWNvbi5EZWZhdWx0KCksCiAgICAgICAgICAgICAgICB9CiAgICAgICAgICAgICkuYWRkVG8obWFwXzU5Yjg0MzVhMDY1MDQ5OGNhOGVjNjhmMWM5MDg2OGFiKTsKICAgICAgICAKICAgIAogICAgICAgICAgICB2YXIgcG9wdXBfN2IyYzE5MzJmNTU1NDdiZDg5N2MwYzg4NWU1M2Y4MmQgPSBMLnBvcHVwKHttYXhXaWR0aDogJzEwMCUnCiAgICAgICAgICAgIAogICAgICAgICAgICB9KTsKCiAgICAgICAgICAgIAogICAgICAgICAgICAgICAgdmFyIGh0bWxfYTJkNzJmM2Y5NGU3NDcwMjk4N2M2ZmViZmJkM2NiYWEgPSAkKGA8ZGl2IGlkPSJodG1sX2EyZDcyZjNmOTRlNzQ3MDI5ODdjNmZlYmZiZDNjYmFhIiBzdHlsZT0id2lkdGg6IDEwMC4wJTsgaGVpZ2h0OiAxMDAuMCU7Ij5aJkggTWFya2V0Q2FmZTwvZGl2PmApWzBdOwogICAgICAgICAgICAgICAgcG9wdXBfN2IyYzE5MzJmNTU1NDdiZDg5N2MwYzg4NWU1M2Y4MmQuc2V0Q29udGVudChodG1sX2EyZDcyZjNmOTRlNzQ3MDI5ODdjNmZlYmZiZDNjYmFhKTsKICAgICAgICAgICAgCgogICAgICAgICAgICBtYXJrZXJfNTE2ZjY4NTBjNDg4NDVlOTk3OTEyMTVhODU5ZDA3YWUuYmluZFBvcHVwKHBvcHVwXzdiMmMxOTMyZjU1NTQ3YmQ4OTdjMGM4ODVlNTNmODJkKQogICAgICAgICAgICA7CgogICAgICAgICAgICAKICAgICAgICAKICAgIAogICAgICAgIHZhciBtYXJrZXJfMWQzN2VkYWI5Zjk5NDZmZmI4Zjc1MTM5NzE3MjZkYTIgPSBMLm1hcmtlcigKICAgICAgICAgICAgWzQyLjI1MTc5NywgLTg3Ljg0MTM1MjNdLAogICAgICAgICAgICB7CiAgICAgICAgICAgICAgICBpY29uOiBuZXcgTC5JY29uLkRlZmF1bHQoKSwKICAgICAgICAgICAgICAgIH0KICAgICAgICAgICAgKS5hZGRUbyhtYXBfNTliODQzNWEwNjUwNDk4Y2E4ZWM2OGYxYzkwODY4YWIpOwogICAgICAgIAogICAgCiAgICAgICAgICAgIHZhciBwb3B1cF82NmNhODA1YWUyMjk0MjMyOWExNDNkOWNmZjY5MzM2ZiA9IEwucG9wdXAoe21heFdpZHRoOiAnMTAwJScKICAgICAgICAgICAgCiAgICAgICAgICAgIH0pOwoKICAgICAgICAgICAgCiAgICAgICAgICAgICAgICB2YXIgaHRtbF83NWRkMGI5NGMyMTI0OGFjYjhlMjZjZTBhNmQyZjc3YyA9ICQoYDxkaXYgaWQ9Imh0bWxfNzVkZDBiOTRjMjEyNDhhY2I4ZTI2Y2UwYTZkMmY3N2MiIHN0eWxlPSJ3aWR0aDogMTAwLjAlOyBoZWlnaHQ6IDEwMC4wJTsiPk1hcmtldCBIb3VzZSBvbiB0aGUgU3F1YXJlPC9kaXY+YClbMF07CiAgICAgICAgICAgICAgICBwb3B1cF82NmNhODA1YWUyMjk0MjMyOWExNDNkOWNmZjY5MzM2Zi5zZXRDb250ZW50KGh0bWxfNzVkZDBiOTRjMjEyNDhhY2I4ZTI2Y2UwYTZkMmY3N2MpOwogICAgICAgICAgICAKCiAgICAgICAgICAgIG1hcmtlcl8xZDM3ZWRhYjlmOTk0NmZmYjhmNzUxMzk3MTcyNmRhMi5iaW5kUG9wdXAocG9wdXBfNjZjYTgwNWFlMjI5NDIzMjlhMTQzZDljZmY2OTMzNmYpCiAgICAgICAgICAgIDsKCiAgICAgICAgICAgIAogICAgICAgIAogICAgCiAgICAgICAgdmFyIG1hcmtlcl81ZTNjMGExYWIzZTU0OGUzOTAyNDU5NGY3NDkzNjFhNyA9IEwubWFya2VyKAogICAgICAgICAgICBbNDEuOTE1MzM2OCwgLTg3LjYzNDYxNjFdLAogICAgICAgICAgICB7CiAgICAgICAgICAgICAgICBpY29uOiBuZXcgTC5JY29uLkRlZmF1bHQoKSwKICAgICAgICAgICAgICAgIH0KICAgICAgICAgICAgKS5hZGRUbyhtYXBfNTliODQzNWEwNjUwNDk4Y2E4ZWM2OGYxYzkwODY4YWIpOwogICAgICAgIAogICAgCiAgICAgICAgICAgIHZhciBwb3B1cF9mOWE3OTViMWM0YmM0OTdlOGE4MTNlYjY3OGIxOGE3NyA9IEwucG9wdXAoe21heFdpZHRoOiAnMTAwJScKICAgICAgICAgICAgCiAgICAgICAgICAgIH0pOwoKICAgICAgICAgICAgCiAgICAgICAgICAgICAgICB2YXIgaHRtbF9kZWJhY2JhZmE5MWU0ZDViOTk5ZGRiMzk2NjBhZGZhMyA9ICQoYDxkaXYgaWQ9Imh0bWxfZGViYWNiYWZhOTFlNGQ1Yjk5OWRkYjM5NjYwYWRmYTMiIHN0eWxlPSJ3aWR0aDogMTAwLjAlOyBoZWlnaHQ6IDEwMC4wJTsiPkVsYWluZeKAmXMgQ29mZmVlIENhbGw8L2Rpdj5gKVswXTsKICAgICAgICAgICAgICAgIHBvcHVwX2Y5YTc5NWIxYzRiYzQ5N2U4YTgxM2ViNjc4YjE4YTc3LnNldENvbnRlbnQoaHRtbF9kZWJhY2JhZmE5MWU0ZDViOTk5ZGRiMzk2NjBhZGZhMyk7CiAgICAgICAgICAgIAoKICAgICAgICAgICAgbWFya2VyXzVlM2MwYTFhYjNlNTQ4ZTM5MDI0NTk0Zjc0OTM2MWE3LmJpbmRQb3B1cChwb3B1cF9mOWE3OTViMWM0YmM0OTdlOGE4MTNlYjY3OGIxOGE3NykKICAgICAgICAgICAgOwoKICAgICAgICAgICAgCiAgICAgICAgCiAgICAKICAgICAgICB2YXIgbWFya2VyXzA5YjYwYmU4YWNjOTQ5Yzc4MTA4MmUwN2RlOTQ2OWFhID0gTC5tYXJrZXIoCiAgICAgICAgICAgIFs0MS44ODYzNjIyLCAtODcuODAyMjI5N10sCiAgICAgICAgICAgIHsKICAgICAgICAgICAgICAgIGljb246IG5ldyBMLkljb24uRGVmYXVsdCgpLAogICAgICAgICAgICAgICAgfQogICAgICAgICAgICApLmFkZFRvKG1hcF81OWI4NDM1YTA2NTA0OThjYThlYzY4ZjFjOTA4NjhhYik7CiAgICAgICAgCiAgICAKICAgICAgICAgICAgdmFyIHBvcHVwXzU5YjAzNmU5MDQyNDRkYTc5MTg5YWRiMDBkZmNkZjFiID0gTC5wb3B1cCh7bWF4V2lkdGg6ICcxMDAlJwogICAgICAgICAgICAKICAgICAgICAgICAgfSk7CgogICAgICAgICAgICAKICAgICAgICAgICAgICAgIHZhciBodG1sX2NhMzg4NmEyMTRlMjQ3ZTI5OTg5ZTBjNzQzODUwNjQ0ID0gJChgPGRpdiBpZD0iaHRtbF9jYTM4ODZhMjE0ZTI0N2UyOTk4OWUwYzc0Mzg1MDY0NCIgc3R5bGU9IndpZHRoOiAxMDAuMCU7IGhlaWdodDogMTAwLjAlOyI+TWFyaW9uIFN0cmVldCBDaGVlc2UgTWFya2V0PC9kaXY+YClbMF07CiAgICAgICAgICAgICAgICBwb3B1cF81OWIwMzZlOTA0MjQ0ZGE3OTE4OWFkYjAwZGZjZGYxYi5zZXRDb250ZW50KGh0bWxfY2EzODg2YTIxNGUyNDdlMjk5ODllMGM3NDM4NTA2NDQpOwogICAgICAgICAgICAKCiAgICAgICAgICAgIG1hcmtlcl8wOWI2MGJlOGFjYzk0OWM3ODEwODJlMDdkZTk0NjlhYS5iaW5kUG9wdXAocG9wdXBfNTliMDM2ZTkwNDI0NGRhNzkxODlhZGIwMGRmY2RmMWIpCiAgICAgICAgICAgIDsKCiAgICAgICAgICAgIAogICAgICAgIAogICAgCiAgICAgICAgdmFyIG1hcmtlcl84YWNhZmMzYWI2YzU0NGFjYTU4NTE2OTc3MWM3NTJiYSA9IEwubWFya2VyKAogICAgICAgICAgICBbNDEuODc1ODEwMiwgLTg3LjYyNjQ0ODldLAogICAgICAgICAgICB7CiAgICAgICAgICAgICAgICBpY29uOiBuZXcgTC5JY29uLkRlZmF1bHQoKSwKICAgICAgICAgICAgICAgIH0KICAgICAgICAgICAgKS5hZGRUbyhtYXBfNTliODQzNWEwNjUwNDk4Y2E4ZWM2OGYxYzkwODY4YWIpOwogICAgICAgIAogICAgCiAgICAgICAgICAgIHZhciBwb3B1cF9lOGVkOTkxNjgxM2I0MTZhODlhYTY5MGQ3M2UwNmRjMCA9IEwucG9wdXAoe21heFdpZHRoOiAnMTAwJScKICAgICAgICAgICAgCiAgICAgICAgICAgIH0pOwoKICAgICAgICAgICAgCiAgICAgICAgICAgICAgICB2YXIgaHRtbF80MDc4MjFmZTk5MDU0MzI2ODNhZjQ4M2QzZTA0MjY3YiA9ICQoYDxkaXYgaWQ9Imh0bWxfNDA3ODIxZmU5OTA1NDMyNjgzYWY0ODNkM2UwNDI2N2IiIHN0eWxlPSJ3aWR0aDogMTAwLjAlOyBoZWlnaHQ6IDEwMC4wJTsiPkNhZmVjaXRvPC9kaXY+YClbMF07CiAgICAgICAgICAgICAgICBwb3B1cF9lOGVkOTkxNjgxM2I0MTZhODlhYTY5MGQ3M2UwNmRjMC5zZXRDb250ZW50KGh0bWxfNDA3ODIxZmU5OTA1NDMyNjgzYWY0ODNkM2UwNDI2N2IpOwogICAgICAgICAgICAKCiAgICAgICAgICAgIG1hcmtlcl84YWNhZmMzYWI2YzU0NGFjYTU4NTE2OTc3MWM3NTJiYS5iaW5kUG9wdXAocG9wdXBfZThlZDk5MTY4MTNiNDE2YTg5YWE2OTBkNzNlMDZkYzApCiAgICAgICAgICAgIDsKCiAgICAgICAgICAgIAogICAgICAgIAogICAgCiAgICAgICAgdmFyIG1hcmtlcl9hOGJkYTA3MDdmYjc0MDlmODU4N2E3MjEzODI3YzM2NiA9IEwubWFya2VyKAogICAgICAgICAgICBbNDEuODk2MDczOCwgLTg3LjY3NzgxODVdLAogICAgICAgICAgICB7CiAgICAgICAgICAgICAgICBpY29uOiBuZXcgTC5JY29uLkRlZmF1bHQoKSwKICAgICAgICAgICAgICAgIH0KICAgICAgICAgICAgKS5hZGRUbyhtYXBfNTliODQzNWEwNjUwNDk4Y2E4ZWM2OGYxYzkwODY4YWIpOwogICAgICAgIAogICAgCiAgICAgICAgICAgIHZhciBwb3B1cF9hNTMzZmNjMzM0NTM0Nzc2OGI1MzhjYzUyOGE1MTU4NSA9IEwucG9wdXAoe21heFdpZHRoOiAnMTAwJScKICAgICAgICAgICAgCiAgICAgICAgICAgIH0pOwoKICAgICAgICAgICAgCiAgICAgICAgICAgICAgICB2YXIgaHRtbF9jOTU5ODBhNjIyM2U0NDlhOTEzZmVlOGNmODgxYTJiZCA9ICQoYDxkaXYgaWQ9Imh0bWxfYzk1OTgwYTYyMjNlNDQ5YTkxM2ZlZThjZjg4MWEyYmQiIHN0eWxlPSJ3aWR0aDogMTAwLjAlOyBoZWlnaHQ6IDEwMC4wJTsiPkNoaWNrcGVhPC9kaXY+YClbMF07CiAgICAgICAgICAgICAgICBwb3B1cF9hNTMzZmNjMzM0NTM0Nzc2OGI1MzhjYzUyOGE1MTU4NS5zZXRDb250ZW50KGh0bWxfYzk1OTgwYTYyMjNlNDQ5YTkxM2ZlZThjZjg4MWEyYmQpOwogICAgICAgICAgICAKCiAgICAgICAgICAgIG1hcmtlcl9hOGJkYTA3MDdmYjc0MDlmODU4N2E3MjEzODI3YzM2Ni5iaW5kUG9wdXAocG9wdXBfYTUzM2ZjYzMzNDUzNDc3NjhiNTM4Y2M1MjhhNTE1ODUpCiAgICAgICAgICAgIDsKCiAgICAgICAgICAgIAogICAgICAgIAogICAgCiAgICAgICAgdmFyIG1hcmtlcl8xODliZGMzMjA5NDc0YzEwOWMwMWNiNmQ4MmRmMmZiZCA9IEwubWFya2VyKAogICAgICAgICAgICBbNDEuODk4OTc4NTAwMDAwMDEsIC04Ny42MjczOTI2XSwKICAgICAgICAgICAgewogICAgICAgICAgICAgICAgaWNvbjogbmV3IEwuSWNvbi5EZWZhdWx0KCksCiAgICAgICAgICAgICAgICB9CiAgICAgICAgICAgICkuYWRkVG8obWFwXzU5Yjg0MzVhMDY1MDQ5OGNhOGVjNjhmMWM5MDg2OGFiKTsKICAgICAgICAKICAgIAogICAgICAgICAgICB2YXIgcG9wdXBfNjRhNDE4MGUyODZlNGYwN2JjMzBhODUyN2M2MDYxNjQgPSBMLnBvcHVwKHttYXhXaWR0aDogJzEwMCUnCiAgICAgICAgICAgIAogICAgICAgICAgICB9KTsKCiAgICAgICAgICAgIAogICAgICAgICAgICAgICAgdmFyIGh0bWxfYjA1NDdhZGM1MWE0NDllYWIzZDk5NjhjNWMzOWFmMTEgPSAkKGA8ZGl2IGlkPSJodG1sX2IwNTQ3YWRjNTFhNDQ5ZWFiM2Q5OTY4YzVjMzlhZjExIiBzdHlsZT0id2lkdGg6IDEwMC4wJTsgaGVpZ2h0OiAxMDAuMCU7Ij5UaGUgR29kZGVzcyBhbmQgR3JvY2VyPC9kaXY+YClbMF07CiAgICAgICAgICAgICAgICBwb3B1cF82NGE0MTgwZTI4NmU0ZjA3YmMzMGE4NTI3YzYwNjE2NC5zZXRDb250ZW50KGh0bWxfYjA1NDdhZGM1MWE0NDllYWIzZDk5NjhjNWMzOWFmMTEpOwogICAgICAgICAgICAKCiAgICAgICAgICAgIG1hcmtlcl8xODliZGMzMjA5NDc0YzEwOWMwMWNiNmQ4MmRmMmZiZC5iaW5kUG9wdXAocG9wdXBfNjRhNDE4MGUyODZlNGYwN2JjMzBhODUyN2M2MDYxNjQpCiAgICAgICAgICAgIDsKCiAgICAgICAgICAgIAogICAgICAgIAogICAgCiAgICAgICAgdmFyIG1hcmtlcl9mMzgwMDI5M2QzMmU0NTcxYWE2NWUzMzMwMjc3ODYyOCA9IEwubWFya2VyKAogICAgICAgICAgICBbNDEuOTEwNTgzMiwgLTg3Ljk0MDQ4ODM5OTk5OTk5XSwKICAgICAgICAgICAgewogICAgICAgICAgICAgICAgaWNvbjogbmV3IEwuSWNvbi5EZWZhdWx0KCksCiAgICAgICAgICAgICAgICB9CiAgICAgICAgICAgICkuYWRkVG8obWFwXzU5Yjg0MzVhMDY1MDQ5OGNhOGVjNjhmMWM5MDg2OGFiKTsKICAgICAgICAKICAgIAogICAgICAgICAgICB2YXIgcG9wdXBfZjQ3ZDM5MDM0NDRkNDZjYTllOWRkYmQyMjE4ZmVmYjMgPSBMLnBvcHVwKHttYXhXaWR0aDogJzEwMCUnCiAgICAgICAgICAgIAogICAgICAgICAgICB9KTsKCiAgICAgICAgICAgIAogICAgICAgICAgICAgICAgdmFyIGh0bWxfOTk0NGEwMDc0NzliNDFjNjkwNDJjMmMyNjY1OTNhYWQgPSAkKGA8ZGl2IGlkPSJodG1sXzk5NDRhMDA3NDc5YjQxYzY5MDQyYzJjMjY2NTkzYWFkIiBzdHlsZT0id2lkdGg6IDEwMC4wJTsgaGVpZ2h0OiAxMDAuMCU7Ij5aZW53aWNoPC9kaXY+YClbMF07CiAgICAgICAgICAgICAgICBwb3B1cF9mNDdkMzkwMzQ0NGQ0NmNhOWU5ZGRiZDIyMThmZWZiMy5zZXRDb250ZW50KGh0bWxfOTk0NGEwMDc0NzliNDFjNjkwNDJjMmMyNjY1OTNhYWQpOwogICAgICAgICAgICAKCiAgICAgICAgICAgIG1hcmtlcl9mMzgwMDI5M2QzMmU0NTcxYWE2NWUzMzMwMjc3ODYyOC5iaW5kUG9wdXAocG9wdXBfZjQ3ZDM5MDM0NDRkNDZjYTllOWRkYmQyMjE4ZmVmYjMpCiAgICAgICAgICAgIDsKCiAgICAgICAgICAgIAogICAgICAgIAogICAgCiAgICAgICAgdmFyIG1hcmtlcl82NWMyNWYxYmIzN2M0ODU1OWI5N2I3ZDU5YzczOThmMCA9IEwubWFya2VyKAogICAgICAgICAgICBbNDEuODgzMTA2MSwgLTg3LjYyNTQzODFdLAogICAgICAgICAgICB7CiAgICAgICAgICAgICAgICBpY29uOiBuZXcgTC5JY29uLkRlZmF1bHQoKSwKICAgICAgICAgICAgICAgIH0KICAgICAgICAgICAgKS5hZGRUbyhtYXBfNTliODQzNWEwNjUwNDk4Y2E4ZWM2OGYxYzkwODY4YWIpOwogICAgICAgIAogICAgCiAgICAgICAgICAgIHZhciBwb3B1cF82Mzk3ZDI1YWMxOWQ0MDM3ODA1NGU4MDhkOTBlNDYwZSA9IEwucG9wdXAoe21heFdpZHRoOiAnMTAwJScKICAgICAgICAgICAgCiAgICAgICAgICAgIH0pOwoKICAgICAgICAgICAgCiAgICAgICAgICAgICAgICB2YXIgaHRtbF84Njc2MWE4YjNmNjA0ZTg3OTJlZDcwYjM5YTVhOWYyMiA9ICQoYDxkaXYgaWQ9Imh0bWxfODY3NjFhOGIzZjYwNGU4NzkyZWQ3MGIzOWE1YTlmMjIiIHN0eWxlPSJ3aWR0aDogMTAwLjAlOyBoZWlnaHQ6IDEwMC4wJTsiPlRvbmkgUGF0aXNzZXJpZTwvZGl2PmApWzBdOwogICAgICAgICAgICAgICAgcG9wdXBfNjM5N2QyNWFjMTlkNDAzNzgwNTRlODA4ZDkwZTQ2MGUuc2V0Q29udGVudChodG1sXzg2NzYxYThiM2Y2MDRlODc5MmVkNzBiMzlhNWE5ZjIyKTsKICAgICAgICAgICAgCgogICAgICAgICAgICBtYXJrZXJfNjVjMjVmMWJiMzdjNDg1NTliOTdiN2Q1OWM3Mzk4ZjAuYmluZFBvcHVwKHBvcHVwXzYzOTdkMjVhYzE5ZDQwMzc4MDU0ZTgwOGQ5MGU0NjBlKQogICAgICAgICAgICA7CgogICAgICAgICAgICAKICAgICAgICAKICAgIAogICAgICAgIHZhciBtYXJrZXJfZDY3NTliY2RhMTZlNDU4ZDg2YWVlZGY0YjRiZWIwZjcgPSBMLm1hcmtlcigKICAgICAgICAgICAgWzQxLjk0MzE2MzIsIC04Ny42NDQ1MDcxXSwKICAgICAgICAgICAgewogICAgICAgICAgICAgICAgaWNvbjogbmV3IEwuSWNvbi5EZWZhdWx0KCksCiAgICAgICAgICAgICAgICB9CiAgICAgICAgICAgICkuYWRkVG8obWFwXzU5Yjg0MzVhMDY1MDQ5OGNhOGVjNjhmMWM5MDg2OGFiKTsKICAgICAgICAKICAgIAogICAgICAgICAgICB2YXIgcG9wdXBfMzkxNDdiZmRiYjM5NDhiYzhjNGVmMzY5MGU0NWFiZDEgPSBMLnBvcHVwKHttYXhXaWR0aDogJzEwMCUnCiAgICAgICAgICAgIAogICAgICAgICAgICB9KTsKCiAgICAgICAgICAgIAogICAgICAgICAgICAgICAgdmFyIGh0bWxfMDBmZjRiZGNhZjEwNDRmYmEyMzBjYTNlNjBlM2JhYjcgPSAkKGA8ZGl2IGlkPSJodG1sXzAwZmY0YmRjYWYxMDQ0ZmJhMjMwY2EzZTYwZTNiYWI3IiBzdHlsZT0id2lkdGg6IDEwMC4wJTsgaGVpZ2h0OiAxMDAuMCU7Ij5QaG9lYmXigJlzIEJha2VyeTwvZGl2PmApWzBdOwogICAgICAgICAgICAgICAgcG9wdXBfMzkxNDdiZmRiYjM5NDhiYzhjNGVmMzY5MGU0NWFiZDEuc2V0Q29udGVudChodG1sXzAwZmY0YmRjYWYxMDQ0ZmJhMjMwY2EzZTYwZTNiYWI3KTsKICAgICAgICAgICAgCgogICAgICAgICAgICBtYXJrZXJfZDY3NTliY2RhMTZlNDU4ZDg2YWVlZGY0YjRiZWIwZjcuYmluZFBvcHVwKHBvcHVwXzM5MTQ3YmZkYmIzOTQ4YmM4YzRlZjM2OTBlNDVhYmQxKQogICAgICAgICAgICA7CgogICAgICAgICAgICAKICAgICAgICAKPC9zY3JpcHQ+\" style=\"position:absolute;width:100%;height:100%;left:0;top:0;border:none !important;\" allowfullscreen webkitallowfullscreen mozallowfullscreen></iframe></div></div>"
      ],
      "text/plain": [
       "<folium.folium.Map at 0x162b6d9b630>"
      ]
     },
     "execution_count": 85,
     "metadata": {},
     "output_type": "execute_result"
    }
   ],
   "source": [
    "mapping = folium.Map(location = [df['lat'].mean(), df['lng'].mean()],\n",
    "                     zoom_start = 11)\n",
    "for n in df.index :\n",
    "    if df['Address'][n] != 'Multiple' :\n",
    "        folium.Marker([df['lat'][n], df['lng'][n]],\n",
    "                      popup = df['Cafe'][n]).add_to(mapping)\n",
    "mapping"
   ]
  },
  {
   "cell_type": "markdown",
   "metadata": {},
   "source": [
    "## 3-10 네이버 영화 평점 기준 영화의 평점 변화 확인하기"
   ]
  },
  {
   "cell_type": "code",
   "execution_count": 86,
   "metadata": {},
   "outputs": [],
   "source": [
    "from bs4 import BeautifulSoup\n",
    "import pandas as pd"
   ]
  },
  {
   "cell_type": "code",
   "execution_count": 87,
   "metadata": {},
   "outputs": [],
   "source": [
    "from urllib.request import urlopen\n",
    "\n",
    "url_base = 'https://movie.naver.com/'\n",
    "url_sub = 'movie/sdb/rank/rmovie.nhn?sel=cur&date=20190315'\n",
    "\n",
    "page = urlopen(url_base + url_sub)\n",
    "\n",
    "soup = BeautifulSoup(page, 'html.parser')\n",
    "#soup"
   ]
  },
  {
   "cell_type": "code",
   "execution_count": 88,
   "metadata": {},
   "outputs": [
    {
     "data": {
      "text/plain": [
       "[<div class=\"tit5\">\n",
       " <a href=\"/movie/bi/mi/basic.nhn?code=171539\" title=\"그린 북\">그린 북</a>\n",
       " </div>, <div class=\"tit5\">\n",
       " <a href=\"/movie/bi/mi/basic.nhn?code=174830\" title=\"가버나움\">가버나움</a>\n",
       " </div>, <div class=\"tit5\">\n",
       " <a href=\"/movie/bi/mi/basic.nhn?code=156464\" title=\"보헤미안 랩소디\">보헤미안 랩소디</a>\n",
       " </div>, <div class=\"tit5\">\n",
       " <a href=\"/movie/bi/mi/basic.nhn?code=144318\" title=\"언더독\">언더독</a>\n",
       " </div>, <div class=\"tit5\">\n",
       " <a href=\"/movie/bi/mi/basic.nhn?code=109193\" title=\"드래곤 길들이기 3\">드래곤 길들이기 3</a>\n",
       " </div>]"
      ]
     },
     "execution_count": 88,
     "metadata": {},
     "output_type": "execute_result"
    }
   ],
   "source": [
    "soup.find_all('div', 'tit5')[:5]"
   ]
  },
  {
   "cell_type": "code",
   "execution_count": 89,
   "metadata": {},
   "outputs": [
    {
     "data": {
      "text/plain": [
       "'그린 북'"
      ]
     },
     "execution_count": 89,
     "metadata": {},
     "output_type": "execute_result"
    }
   ],
   "source": [
    "soup.find_all('div', 'tit5')[0].a.string"
   ]
  },
  {
   "cell_type": "code",
   "execution_count": 90,
   "metadata": {},
   "outputs": [
    {
     "data": {
      "text/plain": [
       "'9.63'"
      ]
     },
     "execution_count": 90,
     "metadata": {},
     "output_type": "execute_result"
    }
   ],
   "source": [
    "soup.find_all('td','point')[0].string"
   ]
  },
  {
   "cell_type": "code",
   "execution_count": 91,
   "metadata": {},
   "outputs": [
    {
     "data": {
      "text/plain": [
       "DatetimeIndex(['2018-12-01', '2018-12-02', '2018-12-03', '2018-12-04',\n",
       "               '2018-12-05', '2018-12-06', '2018-12-07', '2018-12-08',\n",
       "               '2018-12-09', '2018-12-10', '2018-12-11', '2018-12-12',\n",
       "               '2018-12-13', '2018-12-14', '2018-12-15', '2018-12-16',\n",
       "               '2018-12-17', '2018-12-18', '2018-12-19', '2018-12-20',\n",
       "               '2018-12-21', '2018-12-22', '2018-12-23', '2018-12-24',\n",
       "               '2018-12-25', '2018-12-26', '2018-12-27', '2018-12-28',\n",
       "               '2018-12-29', '2018-12-30', '2018-12-31', '2019-01-01',\n",
       "               '2019-01-02', '2019-01-03', '2019-01-04', '2019-01-05',\n",
       "               '2019-01-06', '2019-01-07', '2019-01-08', '2019-01-09',\n",
       "               '2019-01-10', '2019-01-11', '2019-01-12', '2019-01-13',\n",
       "               '2019-01-14', '2019-01-15', '2019-01-16', '2019-01-17',\n",
       "               '2019-01-18', '2019-01-19', '2019-01-20', '2019-01-21',\n",
       "               '2019-01-22', '2019-01-23', '2019-01-24', '2019-01-25',\n",
       "               '2019-01-26', '2019-01-27', '2019-01-28', '2019-01-29',\n",
       "               '2019-01-30', '2019-01-31', '2019-02-01', '2019-02-02',\n",
       "               '2019-02-03', '2019-02-04', '2019-02-05', '2019-02-06',\n",
       "               '2019-02-07', '2019-02-08', '2019-02-09', '2019-02-10',\n",
       "               '2019-02-11', '2019-02-12', '2019-02-13', '2019-02-14',\n",
       "               '2019-02-15', '2019-02-16', '2019-02-17', '2019-02-18',\n",
       "               '2019-02-19', '2019-02-20', '2019-02-21', '2019-02-22',\n",
       "               '2019-02-23', '2019-02-24', '2019-02-25', '2019-02-26',\n",
       "               '2019-02-27', '2019-02-28', '2019-03-01', '2019-03-02',\n",
       "               '2019-03-03', '2019-03-04', '2019-03-05', '2019-03-06',\n",
       "               '2019-03-07', '2019-03-08', '2019-03-09', '2019-03-10'],\n",
       "              dtype='datetime64[ns]', freq='D')"
      ]
     },
     "execution_count": 91,
     "metadata": {},
     "output_type": "execute_result"
    }
   ],
   "source": [
    "date = pd.date_range('2018-12-01', periods = 100, freq = 'D')\n",
    "date"
   ]
  },
  {
   "cell_type": "code",
   "execution_count": 92,
   "metadata": {},
   "outputs": [
    {
     "data": {
      "application/vnd.jupyter.widget-view+json": {
       "model_id": "b64bc6b285ed49719770c15652995a1c",
       "version_major": 2,
       "version_minor": 0
      },
      "text/plain": [
       "HBox(children=(IntProgress(value=0), HTML(value='')))"
      ]
     },
     "metadata": {},
     "output_type": "display_data"
    },
    {
     "name": "stdout",
     "output_type": "stream",
     "text": [
      "\n"
     ]
    }
   ],
   "source": [
    "import urllib\n",
    "from tqdm import tqdm_notebook\n",
    "\n",
    "movie_date = []\n",
    "movie_name = []\n",
    "movie_point = []\n",
    "\n",
    "for today in tqdm_notebook(date) :\n",
    "    html = 'https://movie.naver.com/' + \\\n",
    "     'movie/sdb/rank/rmovie.nhn?sel=cur&date={date}'\n",
    "    response = urlopen(html.format(date=urllib.parse.quote(today.strftime('%Y%m%d'))))\n",
    "    soup = BeautifulSoup(response, 'html.parser')\n",
    "    end = len(soup.find_all('td', 'point'))\n",
    "    \n",
    "    movie_date.extend([today for n in range(0, end)])\n",
    "    movie_name.extend([soup.find_all('div', 'tit5')[n].a.string for n in range(0, end)])\n",
    "    movie_point.extend([float(soup.find_all('td', 'point')[n].string) for n in range(0, end)])"
   ]
  },
  {
   "cell_type": "code",
   "execution_count": 93,
   "metadata": {},
   "outputs": [
    {
     "data": {
      "text/plain": [
       "(4254, 4254, 4254)"
      ]
     },
     "execution_count": 93,
     "metadata": {},
     "output_type": "execute_result"
    }
   ],
   "source": [
    "len(movie_date), len(movie_name), len(movie_point)"
   ]
  },
  {
   "cell_type": "code",
   "execution_count": 94,
   "metadata": {},
   "outputs": [
    {
     "data": {
      "text/html": [
       "<div>\n",
       "<style scoped>\n",
       "    .dataframe tbody tr th:only-of-type {\n",
       "        vertical-align: middle;\n",
       "    }\n",
       "\n",
       "    .dataframe tbody tr th {\n",
       "        vertical-align: top;\n",
       "    }\n",
       "\n",
       "    .dataframe thead th {\n",
       "        text-align: right;\n",
       "    }\n",
       "</style>\n",
       "<table border=\"1\" class=\"dataframe\">\n",
       "  <thead>\n",
       "    <tr style=\"text-align: right;\">\n",
       "      <th></th>\n",
       "      <th>date</th>\n",
       "      <th>name</th>\n",
       "      <th>point</th>\n",
       "    </tr>\n",
       "  </thead>\n",
       "  <tbody>\n",
       "    <tr>\n",
       "      <th>0</th>\n",
       "      <td>2018-12-01</td>\n",
       "      <td>보헤미안 랩소디</td>\n",
       "      <td>9.57</td>\n",
       "    </tr>\n",
       "    <tr>\n",
       "      <th>1</th>\n",
       "      <td>2018-12-01</td>\n",
       "      <td>베일리 어게인</td>\n",
       "      <td>9.55</td>\n",
       "    </tr>\n",
       "    <tr>\n",
       "      <th>2</th>\n",
       "      <td>2018-12-01</td>\n",
       "      <td>폴란드로 간 아이들</td>\n",
       "      <td>9.45</td>\n",
       "    </tr>\n",
       "    <tr>\n",
       "      <th>3</th>\n",
       "      <td>2018-12-01</td>\n",
       "      <td>번 더 스테이지: 더 무비</td>\n",
       "      <td>9.40</td>\n",
       "    </tr>\n",
       "    <tr>\n",
       "      <th>4</th>\n",
       "      <td>2018-12-01</td>\n",
       "      <td>울지마 톤즈</td>\n",
       "      <td>9.34</td>\n",
       "    </tr>\n",
       "  </tbody>\n",
       "</table>\n",
       "</div>"
      ],
      "text/plain": [
       "        date            name  point\n",
       "0 2018-12-01        보헤미안 랩소디   9.57\n",
       "1 2018-12-01         베일리 어게인   9.55\n",
       "2 2018-12-01      폴란드로 간 아이들   9.45\n",
       "3 2018-12-01  번 더 스테이지: 더 무비   9.40\n",
       "4 2018-12-01          울지마 톤즈   9.34"
      ]
     },
     "execution_count": 94,
     "metadata": {},
     "output_type": "execute_result"
    }
   ],
   "source": [
    "movie = pd.DataFrame({'date' : movie_date, 'name' : movie_name, 'point' : movie_point})\n",
    "movie.head()"
   ]
  },
  {
   "cell_type": "code",
   "execution_count": 95,
   "metadata": {},
   "outputs": [
    {
     "data": {
      "text/html": [
       "<div>\n",
       "<style scoped>\n",
       "    .dataframe tbody tr th:only-of-type {\n",
       "        vertical-align: middle;\n",
       "    }\n",
       "\n",
       "    .dataframe tbody tr th {\n",
       "        vertical-align: top;\n",
       "    }\n",
       "\n",
       "    .dataframe thead th {\n",
       "        text-align: right;\n",
       "    }\n",
       "</style>\n",
       "<table border=\"1\" class=\"dataframe\">\n",
       "  <thead>\n",
       "    <tr style=\"text-align: right;\">\n",
       "      <th></th>\n",
       "      <th>point</th>\n",
       "    </tr>\n",
       "    <tr>\n",
       "      <th>name</th>\n",
       "      <th></th>\n",
       "    </tr>\n",
       "  </thead>\n",
       "  <tbody>\n",
       "    <tr>\n",
       "      <th>그린 북</th>\n",
       "      <td>9.649831</td>\n",
       "    </tr>\n",
       "    <tr>\n",
       "      <th>가버나움</th>\n",
       "      <td>9.592143</td>\n",
       "    </tr>\n",
       "    <tr>\n",
       "      <th>베일리 어게인</th>\n",
       "      <td>9.546154</td>\n",
       "    </tr>\n",
       "    <tr>\n",
       "      <th>보헤미안 랩소디</th>\n",
       "      <td>9.477100</td>\n",
       "    </tr>\n",
       "    <tr>\n",
       "      <th>당갈</th>\n",
       "      <td>9.451875</td>\n",
       "    </tr>\n",
       "    <tr>\n",
       "      <th>언더독</th>\n",
       "      <td>9.440000</td>\n",
       "    </tr>\n",
       "    <tr>\n",
       "      <th>헌터 킬러</th>\n",
       "      <td>9.438043</td>\n",
       "    </tr>\n",
       "    <tr>\n",
       "      <th>폴란드로 간 아이들</th>\n",
       "      <td>9.417600</td>\n",
       "    </tr>\n",
       "    <tr>\n",
       "      <th>원더</th>\n",
       "      <td>9.410000</td>\n",
       "    </tr>\n",
       "    <tr>\n",
       "      <th>번 더 스테이지: 더 무비</th>\n",
       "      <td>9.400000</td>\n",
       "    </tr>\n",
       "  </tbody>\n",
       "</table>\n",
       "</div>"
      ],
      "text/plain": [
       "                   point\n",
       "name                    \n",
       "그린 북            9.649831\n",
       "가버나움            9.592143\n",
       "베일리 어게인         9.546154\n",
       "보헤미안 랩소디        9.477100\n",
       "당갈              9.451875\n",
       "언더독             9.440000\n",
       "헌터 킬러           9.438043\n",
       "폴란드로 간 아이들      9.417600\n",
       "원더              9.410000\n",
       "번 더 스테이지: 더 무비  9.400000"
      ]
     },
     "execution_count": 95,
     "metadata": {},
     "output_type": "execute_result"
    }
   ],
   "source": [
    "import numpy as np\n",
    "\n",
    "movie_unique = pd.pivot_table(movie, index=['name'], values=['point'], aggfunc=np.mean)\n",
    "movie_best = movie_unique.sort_values(by='point', ascending=False)\n",
    "movie_best.head(10)"
   ]
  },
  {
   "cell_type": "code",
   "execution_count": 96,
   "metadata": {},
   "outputs": [
    {
     "data": {
      "text/html": [
       "<div>\n",
       "<style scoped>\n",
       "    .dataframe tbody tr th:only-of-type {\n",
       "        vertical-align: middle;\n",
       "    }\n",
       "\n",
       "    .dataframe tbody tr th {\n",
       "        vertical-align: top;\n",
       "    }\n",
       "\n",
       "    .dataframe thead th {\n",
       "        text-align: right;\n",
       "    }\n",
       "</style>\n",
       "<table border=\"1\" class=\"dataframe\">\n",
       "  <thead>\n",
       "    <tr style=\"text-align: right;\">\n",
       "      <th></th>\n",
       "      <th>date</th>\n",
       "      <th>name</th>\n",
       "      <th>point</th>\n",
       "    </tr>\n",
       "  </thead>\n",
       "  <tbody>\n",
       "    <tr>\n",
       "      <th>1773</th>\n",
       "      <td>2019-01-11</td>\n",
       "      <td>그린 북</td>\n",
       "      <td>9.70</td>\n",
       "    </tr>\n",
       "    <tr>\n",
       "      <th>1813</th>\n",
       "      <td>2019-01-12</td>\n",
       "      <td>그린 북</td>\n",
       "      <td>9.73</td>\n",
       "    </tr>\n",
       "    <tr>\n",
       "      <th>1853</th>\n",
       "      <td>2019-01-13</td>\n",
       "      <td>그린 북</td>\n",
       "      <td>9.70</td>\n",
       "    </tr>\n",
       "    <tr>\n",
       "      <th>1892</th>\n",
       "      <td>2019-01-14</td>\n",
       "      <td>그린 북</td>\n",
       "      <td>9.70</td>\n",
       "    </tr>\n",
       "    <tr>\n",
       "      <th>1934</th>\n",
       "      <td>2019-01-15</td>\n",
       "      <td>그린 북</td>\n",
       "      <td>9.68</td>\n",
       "    </tr>\n",
       "  </tbody>\n",
       "</table>\n",
       "</div>"
      ],
      "text/plain": [
       "           date  name  point\n",
       "1773 2019-01-11  그린 북   9.70\n",
       "1813 2019-01-12  그린 북   9.73\n",
       "1853 2019-01-13  그린 북   9.70\n",
       "1892 2019-01-14  그린 북   9.70\n",
       "1934 2019-01-15  그린 북   9.68"
      ]
     },
     "execution_count": 96,
     "metadata": {},
     "output_type": "execute_result"
    }
   ],
   "source": [
    "tmp = movie.query('name==[\"그린 북\"]')\n",
    "tmp.head()"
   ]
  },
  {
   "cell_type": "code",
   "execution_count": 97,
   "metadata": {},
   "outputs": [
    {
     "name": "stderr",
     "output_type": "stream",
     "text": [
      "C:\\ProgramData\\Anaconda3\\lib\\site-packages\\pandas\\plotting\\_converter.py:129: FutureWarning: Using an implicitly registered datetime converter for a matplotlib plotting method. The converter was registered by pandas on import. Future versions of pandas will require you to explicitly register matplotlib converters.\n",
      "\n",
      "To register the converters:\n",
      "\t>>> from pandas.plotting import register_matplotlib_converters\n",
      "\t>>> register_matplotlib_converters()\n",
      "  warnings.warn(msg, FutureWarning)\n"
     ]
    },
    {
     "data": {
      "image/png": "[encoded data removed]",
      "text/plain": [
       "<Figure size 864x576 with 1 Axes>"
      ]
     },
     "metadata": {
      "needs_background": "light"
     },
     "output_type": "display_data"
    }
   ],
   "source": [
    "import matplotlib.pyplot as plt\n",
    "%matplotlib inline\n",
    "\n",
    "plt.figure(figsize=(12,8))\n",
    "plt.plot(tmp['date'], tmp['point'])\n",
    "plt.legend(loc='best')\n",
    "plt.grid()\n",
    "plt.show()"
   ]
  },
  {
   "cell_type": "markdown",
   "metadata": {},
   "source": [
    "## 3-11 영화별 날짜 변화에 따른 평점 변화 확인하기"
   ]
  },
  {
   "cell_type": "code",
   "execution_count": 98,
   "metadata": {},
   "outputs": [
    {
     "data": {
      "text/html": [
       "<div>\n",
       "<style scoped>\n",
       "    .dataframe tbody tr th:only-of-type {\n",
       "        vertical-align: middle;\n",
       "    }\n",
       "\n",
       "    .dataframe tbody tr th {\n",
       "        vertical-align: top;\n",
       "    }\n",
       "\n",
       "    .dataframe thead tr th {\n",
       "        text-align: left;\n",
       "    }\n",
       "\n",
       "    .dataframe thead tr:last-of-type th {\n",
       "        text-align: right;\n",
       "    }\n",
       "</style>\n",
       "<table border=\"1\" class=\"dataframe\">\n",
       "  <thead>\n",
       "    <tr>\n",
       "      <th></th>\n",
       "      <th colspan=\"21\" halign=\"left\">point</th>\n",
       "    </tr>\n",
       "    <tr>\n",
       "      <th>name</th>\n",
       "      <th>7년-그들이 없는 언론</th>\n",
       "      <th>8월의 크리스마스</th>\n",
       "      <th>B급 며느리</th>\n",
       "      <th>PMC: 더 벙커</th>\n",
       "      <th>가버나움</th>\n",
       "      <th>거미줄에 걸린 소녀</th>\n",
       "      <th>걸어도 걸어도</th>\n",
       "      <th>국가부도의 날</th>\n",
       "      <th>군산: 거위를 노래하다</th>\n",
       "      <th>그대 이름은 장미</th>\n",
       "      <th>...</th>\n",
       "      <th>핵소 고지</th>\n",
       "      <th>허스토리</th>\n",
       "      <th>헌터 킬러</th>\n",
       "      <th>헤이트풀8</th>\n",
       "      <th>혈투</th>\n",
       "      <th>호두까기 인형과 4개의 왕국</th>\n",
       "      <th>환상의 빛</th>\n",
       "      <th>후드</th>\n",
       "      <th>휘트니</th>\n",
       "      <th>히트</th>\n",
       "    </tr>\n",
       "    <tr>\n",
       "      <th>date</th>\n",
       "      <th></th>\n",
       "      <th></th>\n",
       "      <th></th>\n",
       "      <th></th>\n",
       "      <th></th>\n",
       "      <th></th>\n",
       "      <th></th>\n",
       "      <th></th>\n",
       "      <th></th>\n",
       "      <th></th>\n",
       "      <th></th>\n",
       "      <th></th>\n",
       "      <th></th>\n",
       "      <th></th>\n",
       "      <th></th>\n",
       "      <th></th>\n",
       "      <th></th>\n",
       "      <th></th>\n",
       "      <th></th>\n",
       "      <th></th>\n",
       "      <th></th>\n",
       "    </tr>\n",
       "  </thead>\n",
       "  <tbody>\n",
       "    <tr>\n",
       "      <th>2018-12-01</th>\n",
       "      <td>NaN</td>\n",
       "      <td>NaN</td>\n",
       "      <td>NaN</td>\n",
       "      <td>NaN</td>\n",
       "      <td>NaN</td>\n",
       "      <td>NaN</td>\n",
       "      <td>NaN</td>\n",
       "      <td>8.43</td>\n",
       "      <td>NaN</td>\n",
       "      <td>NaN</td>\n",
       "      <td>...</td>\n",
       "      <td>NaN</td>\n",
       "      <td>NaN</td>\n",
       "      <td>NaN</td>\n",
       "      <td>NaN</td>\n",
       "      <td>NaN</td>\n",
       "      <td>NaN</td>\n",
       "      <td>NaN</td>\n",
       "      <td>7.66</td>\n",
       "      <td>NaN</td>\n",
       "      <td>NaN</td>\n",
       "    </tr>\n",
       "    <tr>\n",
       "      <th>2018-12-02</th>\n",
       "      <td>NaN</td>\n",
       "      <td>NaN</td>\n",
       "      <td>NaN</td>\n",
       "      <td>NaN</td>\n",
       "      <td>NaN</td>\n",
       "      <td>NaN</td>\n",
       "      <td>NaN</td>\n",
       "      <td>8.42</td>\n",
       "      <td>NaN</td>\n",
       "      <td>NaN</td>\n",
       "      <td>...</td>\n",
       "      <td>NaN</td>\n",
       "      <td>NaN</td>\n",
       "      <td>NaN</td>\n",
       "      <td>NaN</td>\n",
       "      <td>NaN</td>\n",
       "      <td>NaN</td>\n",
       "      <td>NaN</td>\n",
       "      <td>7.57</td>\n",
       "      <td>NaN</td>\n",
       "      <td>NaN</td>\n",
       "    </tr>\n",
       "    <tr>\n",
       "      <th>2018-12-03</th>\n",
       "      <td>NaN</td>\n",
       "      <td>NaN</td>\n",
       "      <td>NaN</td>\n",
       "      <td>NaN</td>\n",
       "      <td>NaN</td>\n",
       "      <td>NaN</td>\n",
       "      <td>NaN</td>\n",
       "      <td>8.40</td>\n",
       "      <td>NaN</td>\n",
       "      <td>NaN</td>\n",
       "      <td>...</td>\n",
       "      <td>NaN</td>\n",
       "      <td>NaN</td>\n",
       "      <td>NaN</td>\n",
       "      <td>NaN</td>\n",
       "      <td>NaN</td>\n",
       "      <td>NaN</td>\n",
       "      <td>NaN</td>\n",
       "      <td>7.47</td>\n",
       "      <td>9.08</td>\n",
       "      <td>NaN</td>\n",
       "    </tr>\n",
       "    <tr>\n",
       "      <th>2018-12-04</th>\n",
       "      <td>NaN</td>\n",
       "      <td>9.23</td>\n",
       "      <td>NaN</td>\n",
       "      <td>NaN</td>\n",
       "      <td>NaN</td>\n",
       "      <td>8.53</td>\n",
       "      <td>NaN</td>\n",
       "      <td>8.35</td>\n",
       "      <td>NaN</td>\n",
       "      <td>NaN</td>\n",
       "      <td>...</td>\n",
       "      <td>NaN</td>\n",
       "      <td>NaN</td>\n",
       "      <td>NaN</td>\n",
       "      <td>NaN</td>\n",
       "      <td>NaN</td>\n",
       "      <td>NaN</td>\n",
       "      <td>NaN</td>\n",
       "      <td>7.33</td>\n",
       "      <td>9.08</td>\n",
       "      <td>NaN</td>\n",
       "    </tr>\n",
       "    <tr>\n",
       "      <th>2018-12-05</th>\n",
       "      <td>NaN</td>\n",
       "      <td>9.23</td>\n",
       "      <td>NaN</td>\n",
       "      <td>NaN</td>\n",
       "      <td>NaN</td>\n",
       "      <td>8.56</td>\n",
       "      <td>NaN</td>\n",
       "      <td>8.33</td>\n",
       "      <td>NaN</td>\n",
       "      <td>NaN</td>\n",
       "      <td>...</td>\n",
       "      <td>NaN</td>\n",
       "      <td>NaN</td>\n",
       "      <td>NaN</td>\n",
       "      <td>8.42</td>\n",
       "      <td>NaN</td>\n",
       "      <td>NaN</td>\n",
       "      <td>NaN</td>\n",
       "      <td>7.31</td>\n",
       "      <td>9.08</td>\n",
       "      <td>NaN</td>\n",
       "    </tr>\n",
       "  </tbody>\n",
       "</table>\n",
       "<p>5 rows × 176 columns</p>\n",
       "</div>"
      ],
      "text/plain": [
       "                  point                                                     \\\n",
       "name       7년-그들이 없는 언론 8월의 크리스마스 B급 며느리 PMC: 더 벙커 가버나움 거미줄에 걸린 소녀 걸어도 걸어도   \n",
       "date                                                                         \n",
       "2018-12-01          NaN       NaN    NaN       NaN  NaN        NaN     NaN   \n",
       "2018-12-02          NaN       NaN    NaN       NaN  NaN        NaN     NaN   \n",
       "2018-12-03          NaN       NaN    NaN       NaN  NaN        NaN     NaN   \n",
       "2018-12-04          NaN      9.23    NaN       NaN  NaN       8.53     NaN   \n",
       "2018-12-05          NaN      9.23    NaN       NaN  NaN       8.56     NaN   \n",
       "\n",
       "                                           ...                             \\\n",
       "name       국가부도의 날 군산: 거위를 노래하다 그대 이름은 장미  ... 핵소 고지 허스토리 헌터 킬러 헤이트풀8  혈투   \n",
       "date                                       ...                              \n",
       "2018-12-01    8.43          NaN       NaN  ...   NaN  NaN   NaN   NaN NaN   \n",
       "2018-12-02    8.42          NaN       NaN  ...   NaN  NaN   NaN   NaN NaN   \n",
       "2018-12-03    8.40          NaN       NaN  ...   NaN  NaN   NaN   NaN NaN   \n",
       "2018-12-04    8.35          NaN       NaN  ...   NaN  NaN   NaN   NaN NaN   \n",
       "2018-12-05    8.33          NaN       NaN  ...   NaN  NaN   NaN  8.42 NaN   \n",
       "\n",
       "                                                  \n",
       "name       호두까기 인형과 4개의 왕국 환상의 빛    후드   휘트니  히트  \n",
       "date                                              \n",
       "2018-12-01             NaN   NaN  7.66   NaN NaN  \n",
       "2018-12-02             NaN   NaN  7.57   NaN NaN  \n",
       "2018-12-03             NaN   NaN  7.47  9.08 NaN  \n",
       "2018-12-04             NaN   NaN  7.33  9.08 NaN  \n",
       "2018-12-05             NaN   NaN  7.31  9.08 NaN  \n",
       "\n",
       "[5 rows x 176 columns]"
      ]
     },
     "execution_count": 98,
     "metadata": {},
     "output_type": "execute_result"
    }
   ],
   "source": [
    "movie_pivot = pd.pivot_table(movie, index=['date'], columns=['name'], values=['point'])\n",
    "movie_pivot.head()"
   ]
  },
  {
   "cell_type": "code",
   "execution_count": 99,
   "metadata": {},
   "outputs": [],
   "source": [
    "movie_pivot.columns = movie_pivot.columns.droplevel()"
   ]
  },
  {
   "cell_type": "code",
   "execution_count": 100,
   "metadata": {},
   "outputs": [
    {
     "data": {
      "text/html": [
       "<div>\n",
       "<style scoped>\n",
       "    .dataframe tbody tr th:only-of-type {\n",
       "        vertical-align: middle;\n",
       "    }\n",
       "\n",
       "    .dataframe tbody tr th {\n",
       "        vertical-align: top;\n",
       "    }\n",
       "\n",
       "    .dataframe thead th {\n",
       "        text-align: right;\n",
       "    }\n",
       "</style>\n",
       "<table border=\"1\" class=\"dataframe\">\n",
       "  <thead>\n",
       "    <tr style=\"text-align: right;\">\n",
       "      <th>name</th>\n",
       "      <th>7년-그들이 없는 언론</th>\n",
       "      <th>8월의 크리스마스</th>\n",
       "      <th>B급 며느리</th>\n",
       "      <th>PMC: 더 벙커</th>\n",
       "      <th>가버나움</th>\n",
       "      <th>거미줄에 걸린 소녀</th>\n",
       "      <th>걸어도 걸어도</th>\n",
       "      <th>국가부도의 날</th>\n",
       "      <th>군산: 거위를 노래하다</th>\n",
       "      <th>그대 이름은 장미</th>\n",
       "      <th>...</th>\n",
       "      <th>핵소 고지</th>\n",
       "      <th>허스토리</th>\n",
       "      <th>헌터 킬러</th>\n",
       "      <th>헤이트풀8</th>\n",
       "      <th>혈투</th>\n",
       "      <th>호두까기 인형과 4개의 왕국</th>\n",
       "      <th>환상의 빛</th>\n",
       "      <th>후드</th>\n",
       "      <th>휘트니</th>\n",
       "      <th>히트</th>\n",
       "    </tr>\n",
       "    <tr>\n",
       "      <th>date</th>\n",
       "      <th></th>\n",
       "      <th></th>\n",
       "      <th></th>\n",
       "      <th></th>\n",
       "      <th></th>\n",
       "      <th></th>\n",
       "      <th></th>\n",
       "      <th></th>\n",
       "      <th></th>\n",
       "      <th></th>\n",
       "      <th></th>\n",
       "      <th></th>\n",
       "      <th></th>\n",
       "      <th></th>\n",
       "      <th></th>\n",
       "      <th></th>\n",
       "      <th></th>\n",
       "      <th></th>\n",
       "      <th></th>\n",
       "      <th></th>\n",
       "      <th></th>\n",
       "    </tr>\n",
       "  </thead>\n",
       "  <tbody>\n",
       "    <tr>\n",
       "      <th>2018-12-01</th>\n",
       "      <td>NaN</td>\n",
       "      <td>NaN</td>\n",
       "      <td>NaN</td>\n",
       "      <td>NaN</td>\n",
       "      <td>NaN</td>\n",
       "      <td>NaN</td>\n",
       "      <td>NaN</td>\n",
       "      <td>8.43</td>\n",
       "      <td>NaN</td>\n",
       "      <td>NaN</td>\n",
       "      <td>...</td>\n",
       "      <td>NaN</td>\n",
       "      <td>NaN</td>\n",
       "      <td>NaN</td>\n",
       "      <td>NaN</td>\n",
       "      <td>NaN</td>\n",
       "      <td>NaN</td>\n",
       "      <td>NaN</td>\n",
       "      <td>7.66</td>\n",
       "      <td>NaN</td>\n",
       "      <td>NaN</td>\n",
       "    </tr>\n",
       "    <tr>\n",
       "      <th>2018-12-02</th>\n",
       "      <td>NaN</td>\n",
       "      <td>NaN</td>\n",
       "      <td>NaN</td>\n",
       "      <td>NaN</td>\n",
       "      <td>NaN</td>\n",
       "      <td>NaN</td>\n",
       "      <td>NaN</td>\n",
       "      <td>8.42</td>\n",
       "      <td>NaN</td>\n",
       "      <td>NaN</td>\n",
       "      <td>...</td>\n",
       "      <td>NaN</td>\n",
       "      <td>NaN</td>\n",
       "      <td>NaN</td>\n",
       "      <td>NaN</td>\n",
       "      <td>NaN</td>\n",
       "      <td>NaN</td>\n",
       "      <td>NaN</td>\n",
       "      <td>7.57</td>\n",
       "      <td>NaN</td>\n",
       "      <td>NaN</td>\n",
       "    </tr>\n",
       "    <tr>\n",
       "      <th>2018-12-03</th>\n",
       "      <td>NaN</td>\n",
       "      <td>NaN</td>\n",
       "      <td>NaN</td>\n",
       "      <td>NaN</td>\n",
       "      <td>NaN</td>\n",
       "      <td>NaN</td>\n",
       "      <td>NaN</td>\n",
       "      <td>8.40</td>\n",
       "      <td>NaN</td>\n",
       "      <td>NaN</td>\n",
       "      <td>...</td>\n",
       "      <td>NaN</td>\n",
       "      <td>NaN</td>\n",
       "      <td>NaN</td>\n",
       "      <td>NaN</td>\n",
       "      <td>NaN</td>\n",
       "      <td>NaN</td>\n",
       "      <td>NaN</td>\n",
       "      <td>7.47</td>\n",
       "      <td>9.08</td>\n",
       "      <td>NaN</td>\n",
       "    </tr>\n",
       "    <tr>\n",
       "      <th>2018-12-04</th>\n",
       "      <td>NaN</td>\n",
       "      <td>9.23</td>\n",
       "      <td>NaN</td>\n",
       "      <td>NaN</td>\n",
       "      <td>NaN</td>\n",
       "      <td>8.53</td>\n",
       "      <td>NaN</td>\n",
       "      <td>8.35</td>\n",
       "      <td>NaN</td>\n",
       "      <td>NaN</td>\n",
       "      <td>...</td>\n",
       "      <td>NaN</td>\n",
       "      <td>NaN</td>\n",
       "      <td>NaN</td>\n",
       "      <td>NaN</td>\n",
       "      <td>NaN</td>\n",
       "      <td>NaN</td>\n",
       "      <td>NaN</td>\n",
       "      <td>7.33</td>\n",
       "      <td>9.08</td>\n",
       "      <td>NaN</td>\n",
       "    </tr>\n",
       "    <tr>\n",
       "      <th>2018-12-05</th>\n",
       "      <td>NaN</td>\n",
       "      <td>9.23</td>\n",
       "      <td>NaN</td>\n",
       "      <td>NaN</td>\n",
       "      <td>NaN</td>\n",
       "      <td>8.56</td>\n",
       "      <td>NaN</td>\n",
       "      <td>8.33</td>\n",
       "      <td>NaN</td>\n",
       "      <td>NaN</td>\n",
       "      <td>...</td>\n",
       "      <td>NaN</td>\n",
       "      <td>NaN</td>\n",
       "      <td>NaN</td>\n",
       "      <td>8.42</td>\n",
       "      <td>NaN</td>\n",
       "      <td>NaN</td>\n",
       "      <td>NaN</td>\n",
       "      <td>7.31</td>\n",
       "      <td>9.08</td>\n",
       "      <td>NaN</td>\n",
       "    </tr>\n",
       "  </tbody>\n",
       "</table>\n",
       "<p>5 rows × 176 columns</p>\n",
       "</div>"
      ],
      "text/plain": [
       "name        7년-그들이 없는 언론  8월의 크리스마스  B급 며느리  PMC: 더 벙커  가버나움  거미줄에 걸린 소녀  \\\n",
       "date                                                                       \n",
       "2018-12-01           NaN        NaN     NaN        NaN   NaN         NaN   \n",
       "2018-12-02           NaN        NaN     NaN        NaN   NaN         NaN   \n",
       "2018-12-03           NaN        NaN     NaN        NaN   NaN         NaN   \n",
       "2018-12-04           NaN       9.23     NaN        NaN   NaN        8.53   \n",
       "2018-12-05           NaN       9.23     NaN        NaN   NaN        8.56   \n",
       "\n",
       "name        걸어도 걸어도  국가부도의 날  군산: 거위를 노래하다  그대 이름은 장미  ...  핵소 고지  허스토리  \\\n",
       "date                                                   ...                \n",
       "2018-12-01      NaN     8.43           NaN        NaN  ...    NaN   NaN   \n",
       "2018-12-02      NaN     8.42           NaN        NaN  ...    NaN   NaN   \n",
       "2018-12-03      NaN     8.40           NaN        NaN  ...    NaN   NaN   \n",
       "2018-12-04      NaN     8.35           NaN        NaN  ...    NaN   NaN   \n",
       "2018-12-05      NaN     8.33           NaN        NaN  ...    NaN   NaN   \n",
       "\n",
       "name        헌터 킬러  헤이트풀8  혈투  호두까기 인형과 4개의 왕국  환상의 빛    후드   휘트니  히트  \n",
       "date                                                                  \n",
       "2018-12-01    NaN    NaN NaN              NaN    NaN  7.66   NaN NaN  \n",
       "2018-12-02    NaN    NaN NaN              NaN    NaN  7.57   NaN NaN  \n",
       "2018-12-03    NaN    NaN NaN              NaN    NaN  7.47  9.08 NaN  \n",
       "2018-12-04    NaN    NaN NaN              NaN    NaN  7.33  9.08 NaN  \n",
       "2018-12-05    NaN   8.42 NaN              NaN    NaN  7.31  9.08 NaN  \n",
       "\n",
       "[5 rows x 176 columns]"
      ]
     },
     "execution_count": 100,
     "metadata": {},
     "output_type": "execute_result"
    }
   ],
   "source": [
    "movie_pivot.head()"
   ]
  },
  {
   "cell_type": "code",
   "execution_count": 101,
   "metadata": {},
   "outputs": [],
   "source": [
    "import platform\n",
    "from matplotlib import font_manager, rc\n",
    "\n",
    "path = 'C:/Windows/Fonts/malgun.ttf'\n",
    "if platform.system() == 'Darwin' :\n",
    "    rc('font', family='AppleGothic')\n",
    "elif platform.system() == 'Windows' :\n",
    "    font_name = font_manager.FontProperties(fname=path).get_name()\n",
    "    rc('font', family=font_name)\n",
    "else :\n",
    "    print('Unknown system... sorry')"
   ]
  },
  {
   "cell_type": "code",
   "execution_count": 102,
   "metadata": {},
   "outputs": [
    {
     "data": {
      "image/png": "[encoded data removed]",
      "text/plain": [
       "<Figure size 864x432 with 1 Axes>"
      ]
     },
     "metadata": {
      "needs_background": "light"
     },
     "output_type": "display_data"
    }
   ],
   "source": [
    "movie_pivot.plot(y=['보헤미안 랩소디', '스타 이즈 본', '그린 북', '허스토리', '시네마 천국'],\n",
    "                 figsize=(12,6))\n",
    "plt.legend(loc='best')\n",
    "plt.grid()\n",
    "plt.show()"
   ]
  },
  {
   "cell_type": "code",
   "execution_count": null,
   "metadata": {},
   "outputs": [],
   "source": []
  }
 ],
 "metadata": {
  "kernelspec": {
   "display_name": "Python 3",
   "language": "python",
   "name": "python3"
  },
  "language_info": {
   "codemirror_mode": {
    "name": "ipython",
    "version": 3
   },
   "file_extension": ".py",
   "mimetype": "text/x-python",
   "name": "python",
   "nbconvert_exporter": "python",
   "pygments_lexer": "ipython3",
   "version": "3.6.7"
  }
 },
 "nbformat": 4,
 "nbformat_minor": 2
}
