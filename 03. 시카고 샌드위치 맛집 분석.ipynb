{
 "cells": [
  {
   "cell_type": "markdown",
   "metadata": {},
   "source": [
    "## 3-1 웹 데이터를 가져오는 Beautiful Soup 익히기"
   ]
  },
  {
   "cell_type": "markdown",
   "metadata": {},
   "source": [
    "- https://github.com/PinkWink/DataScience/tree/master/data\n",
    "    - 03. test_first.html"
   ]
  },
  {
   "cell_type": "code",
   "execution_count": 1,
   "metadata": {},
   "outputs": [],
   "source": [
    "from bs4 import BeautifulSoup"
   ]
  },
  {
   "cell_type": "code",
   "execution_count": 2,
   "metadata": {},
   "outputs": [
    {
     "name": "stdout",
     "output_type": "stream",
     "text": [
      "<!DOCTYPE html>\n",
      "<html>\n",
      " <head>\n",
      "  <title>\n",
      "   Very Simple HTML Code by PinkWink\n",
      "  </title>\n",
      " </head>\n",
      " <body>\n",
      "  <div>\n",
      "   <p class=\"inner-text first-item\" id=\"first\">\n",
      "    Happy PinkWink.\n",
      "    <a href=\"http://www.pinkwink.kr\" id=\"pw-link\">\n",
      "     PinkWink\n",
      "    </a>\n",
      "   </p>\n",
      "   <p class=\"inner-text second-item\">\n",
      "    Happy Data Science.\n",
      "    <a href=\"https://www.python.org\" id=\"py-link\">\n",
      "     Python\n",
      "    </a>\n",
      "   </p>\n",
      "  </div>\n",
      "  <p class=\"outer-text first-item\" id=\"second\">\n",
      "   <b>\n",
      "    Data Science is funny.\n",
      "   </b>\n",
      "  </p>\n",
      "  <p class=\"outer-text\">\n",
      "   <b>\n",
      "    All I need is Love.\n",
      "   </b>\n",
      "  </p>\n",
      " </body>\n",
      "</html>\n"
     ]
    }
   ],
   "source": [
    "page = open('C:/Users/jeong/Documents/JUPYTER NOTEBOOK/03. test_first.html','r').read()\n",
    "soup = BeautifulSoup(page, 'html.parser')\n",
    "print(soup.prettify())    #  읽은 html 페이지의 내용을 전체 다 보고 싶은 경우"
   ]
  },
  {
   "cell_type": "code",
   "execution_count": 3,
   "metadata": {},
   "outputs": [
    {
     "data": {
      "text/plain": [
       "['html', '\\n', <html>\n",
       " <head>\n",
       " <title>Very Simple HTML Code by PinkWink</title>\n",
       " </head>\n",
       " <body>\n",
       " <div>\n",
       " <p class=\"inner-text first-item\" id=\"first\">\n",
       "                 Happy PinkWink.\n",
       "                 <a href=\"http://www.pinkwink.kr\" id=\"pw-link\">PinkWink</a>\n",
       " </p>\n",
       " <p class=\"inner-text second-item\">\n",
       "                 Happy Data Science.\n",
       "                 <a href=\"https://www.python.org\" id=\"py-link\">Python</a>\n",
       " </p>\n",
       " </div>\n",
       " <p class=\"outer-text first-item\" id=\"second\">\n",
       " <b>\n",
       "                 Data Science is funny.\n",
       "             </b>\n",
       " </p>\n",
       " <p class=\"outer-text\">\n",
       " <b>\n",
       "                 All I need is Love.\n",
       "             </b>\n",
       " </p>\n",
       " </body>\n",
       " </html>]"
      ]
     },
     "execution_count": 3,
     "metadata": {},
     "output_type": "execute_result"
    }
   ],
   "source": [
    "list(soup.children)    # .children : 한단계 아래의 속성"
   ]
  },
  {
   "cell_type": "code",
   "execution_count": 4,
   "metadata": {},
   "outputs": [
    {
     "data": {
      "text/plain": [
       "['\\n', <head>\n",
       " <title>Very Simple HTML Code by PinkWink</title>\n",
       " </head>, '\\n', <body>\n",
       " <div>\n",
       " <p class=\"inner-text first-item\" id=\"first\">\n",
       "                 Happy PinkWink.\n",
       "                 <a href=\"http://www.pinkwink.kr\" id=\"pw-link\">PinkWink</a>\n",
       " </p>\n",
       " <p class=\"inner-text second-item\">\n",
       "                 Happy Data Science.\n",
       "                 <a href=\"https://www.python.org\" id=\"py-link\">Python</a>\n",
       " </p>\n",
       " </div>\n",
       " <p class=\"outer-text first-item\" id=\"second\">\n",
       " <b>\n",
       "                 Data Science is funny.\n",
       "             </b>\n",
       " </p>\n",
       " <p class=\"outer-text\">\n",
       " <b>\n",
       "                 All I need is Love.\n",
       "             </b>\n",
       " </p>\n",
       " </body>, '\\n']"
      ]
     },
     "execution_count": 4,
     "metadata": {},
     "output_type": "execute_result"
    }
   ],
   "source": [
    "html = list(soup.children)[2]\n",
    "list(html.children)"
   ]
  },
  {
   "cell_type": "code",
   "execution_count": 5,
   "metadata": {},
   "outputs": [
    {
     "data": {
      "text/plain": [
       "<body>\n",
       "<div>\n",
       "<p class=\"inner-text first-item\" id=\"first\">\n",
       "                Happy PinkWink.\n",
       "                <a href=\"http://www.pinkwink.kr\" id=\"pw-link\">PinkWink</a>\n",
       "</p>\n",
       "<p class=\"inner-text second-item\">\n",
       "                Happy Data Science.\n",
       "                <a href=\"https://www.python.org\" id=\"py-link\">Python</a>\n",
       "</p>\n",
       "</div>\n",
       "<p class=\"outer-text first-item\" id=\"second\">\n",
       "<b>\n",
       "                Data Science is funny.\n",
       "            </b>\n",
       "</p>\n",
       "<p class=\"outer-text\">\n",
       "<b>\n",
       "                All I need is Love.\n",
       "            </b>\n",
       "</p>\n",
       "</body>"
      ]
     },
     "execution_count": 5,
     "metadata": {},
     "output_type": "execute_result"
    }
   ],
   "source": [
    "body = list(html.children)[3]\n",
    "body"
   ]
  },
  {
   "cell_type": "code",
   "execution_count": 6,
   "metadata": {},
   "outputs": [
    {
     "data": {
      "text/plain": [
       "<body>\n",
       "<div>\n",
       "<p class=\"inner-text first-item\" id=\"first\">\n",
       "                Happy PinkWink.\n",
       "                <a href=\"http://www.pinkwink.kr\" id=\"pw-link\">PinkWink</a>\n",
       "</p>\n",
       "<p class=\"inner-text second-item\">\n",
       "                Happy Data Science.\n",
       "                <a href=\"https://www.python.org\" id=\"py-link\">Python</a>\n",
       "</p>\n",
       "</div>\n",
       "<p class=\"outer-text first-item\" id=\"second\">\n",
       "<b>\n",
       "                Data Science is funny.\n",
       "            </b>\n",
       "</p>\n",
       "<p class=\"outer-text\">\n",
       "<b>\n",
       "                All I need is Love.\n",
       "            </b>\n",
       "</p>\n",
       "</body>"
      ]
     },
     "execution_count": 6,
     "metadata": {},
     "output_type": "execute_result"
    }
   ],
   "source": [
    "soup.body"
   ]
  },
  {
   "cell_type": "code",
   "execution_count": 7,
   "metadata": {},
   "outputs": [
    {
     "data": {
      "text/plain": [
       "['\\n', <div>\n",
       " <p class=\"inner-text first-item\" id=\"first\">\n",
       "                 Happy PinkWink.\n",
       "                 <a href=\"http://www.pinkwink.kr\" id=\"pw-link\">PinkWink</a>\n",
       " </p>\n",
       " <p class=\"inner-text second-item\">\n",
       "                 Happy Data Science.\n",
       "                 <a href=\"https://www.python.org\" id=\"py-link\">Python</a>\n",
       " </p>\n",
       " </div>, '\\n', <p class=\"outer-text first-item\" id=\"second\">\n",
       " <b>\n",
       "                 Data Science is funny.\n",
       "             </b>\n",
       " </p>, '\\n', <p class=\"outer-text\">\n",
       " <b>\n",
       "                 All I need is Love.\n",
       "             </b>\n",
       " </p>, '\\n']"
      ]
     },
     "execution_count": 7,
     "metadata": {},
     "output_type": "execute_result"
    }
   ],
   "source": [
    "list(body.children)"
   ]
  },
  {
   "cell_type": "code",
   "execution_count": 8,
   "metadata": {},
   "outputs": [
    {
     "data": {
      "text/plain": [
       "[<p class=\"inner-text first-item\" id=\"first\">\n",
       "                 Happy PinkWink.\n",
       "                 <a href=\"http://www.pinkwink.kr\" id=\"pw-link\">PinkWink</a>\n",
       " </p>, <p class=\"inner-text second-item\">\n",
       "                 Happy Data Science.\n",
       "                 <a href=\"https://www.python.org\" id=\"py-link\">Python</a>\n",
       " </p>, <p class=\"outer-text first-item\" id=\"second\">\n",
       " <b>\n",
       "                 Data Science is funny.\n",
       "             </b>\n",
       " </p>, <p class=\"outer-text\">\n",
       " <b>\n",
       "                 All I need is Love.\n",
       "             </b>\n",
       " </p>]"
      ]
     },
     "execution_count": 8,
     "metadata": {},
     "output_type": "execute_result"
    }
   ],
   "source": [
    "soup.find_all('p')"
   ]
  },
  {
   "cell_type": "code",
   "execution_count": 9,
   "metadata": {},
   "outputs": [
    {
     "data": {
      "text/plain": [
       "<p class=\"inner-text first-item\" id=\"first\">\n",
       "                Happy PinkWink.\n",
       "                <a href=\"http://www.pinkwink.kr\" id=\"pw-link\">PinkWink</a>\n",
       "</p>"
      ]
     },
     "execution_count": 9,
     "metadata": {},
     "output_type": "execute_result"
    }
   ],
   "source": [
    "soup.find('p')"
   ]
  },
  {
   "cell_type": "code",
   "execution_count": 10,
   "metadata": {},
   "outputs": [
    {
     "data": {
      "text/plain": [
       "[<p class=\"outer-text first-item\" id=\"second\">\n",
       " <b>\n",
       "                 Data Science is funny.\n",
       "             </b>\n",
       " </p>, <p class=\"outer-text\">\n",
       " <b>\n",
       "                 All I need is Love.\n",
       "             </b>\n",
       " </p>]"
      ]
     },
     "execution_count": 10,
     "metadata": {},
     "output_type": "execute_result"
    }
   ],
   "source": [
    "soup.find_all('p', class_='outer-text')"
   ]
  },
  {
   "cell_type": "code",
   "execution_count": 11,
   "metadata": {},
   "outputs": [
    {
     "data": {
      "text/plain": [
       "[<p class=\"outer-text first-item\" id=\"second\">\n",
       " <b>\n",
       "                 Data Science is funny.\n",
       "             </b>\n",
       " </p>, <p class=\"outer-text\">\n",
       " <b>\n",
       "                 All I need is Love.\n",
       "             </b>\n",
       " </p>]"
      ]
     },
     "execution_count": 11,
     "metadata": {},
     "output_type": "execute_result"
    }
   ],
   "source": [
    "soup.find_all(class_='outer-text')"
   ]
  },
  {
   "cell_type": "code",
   "execution_count": 12,
   "metadata": {},
   "outputs": [
    {
     "data": {
      "text/plain": [
       "[<p class=\"inner-text first-item\" id=\"first\">\n",
       "                 Happy PinkWink.\n",
       "                 <a href=\"http://www.pinkwink.kr\" id=\"pw-link\">PinkWink</a>\n",
       " </p>]"
      ]
     },
     "execution_count": 12,
     "metadata": {},
     "output_type": "execute_result"
    }
   ],
   "source": [
    "soup.find_all(id='first')"
   ]
  },
  {
   "cell_type": "code",
   "execution_count": 13,
   "metadata": {},
   "outputs": [
    {
     "data": {
      "text/plain": [
       "<p class=\"inner-text first-item\" id=\"first\">\n",
       "                Happy PinkWink.\n",
       "                <a href=\"http://www.pinkwink.kr\" id=\"pw-link\">PinkWink</a>\n",
       "</p>"
      ]
     },
     "execution_count": 13,
     "metadata": {},
     "output_type": "execute_result"
    }
   ],
   "source": [
    "soup.find('p')"
   ]
  },
  {
   "cell_type": "code",
   "execution_count": 14,
   "metadata": {},
   "outputs": [
    {
     "data": {
      "text/plain": [
       "<head>\n",
       "<title>Very Simple HTML Code by PinkWink</title>\n",
       "</head>"
      ]
     },
     "execution_count": 14,
     "metadata": {},
     "output_type": "execute_result"
    }
   ],
   "source": [
    "soup.head"
   ]
  },
  {
   "cell_type": "code",
   "execution_count": 15,
   "metadata": {},
   "outputs": [
    {
     "data": {
      "text/plain": [
       "'\\n'"
      ]
     },
     "execution_count": 15,
     "metadata": {},
     "output_type": "execute_result"
    }
   ],
   "source": [
    "soup.head.next_sibling"
   ]
  },
  {
   "cell_type": "code",
   "execution_count": 16,
   "metadata": {},
   "outputs": [
    {
     "data": {
      "text/plain": [
       "<body>\n",
       "<div>\n",
       "<p class=\"inner-text first-item\" id=\"first\">\n",
       "                Happy PinkWink.\n",
       "                <a href=\"http://www.pinkwink.kr\" id=\"pw-link\">PinkWink</a>\n",
       "</p>\n",
       "<p class=\"inner-text second-item\">\n",
       "                Happy Data Science.\n",
       "                <a href=\"https://www.python.org\" id=\"py-link\">Python</a>\n",
       "</p>\n",
       "</div>\n",
       "<p class=\"outer-text first-item\" id=\"second\">\n",
       "<b>\n",
       "                Data Science is funny.\n",
       "            </b>\n",
       "</p>\n",
       "<p class=\"outer-text\">\n",
       "<b>\n",
       "                All I need is Love.\n",
       "            </b>\n",
       "</p>\n",
       "</body>"
      ]
     },
     "execution_count": 16,
     "metadata": {},
     "output_type": "execute_result"
    }
   ],
   "source": [
    "soup.head.next_sibling.next_sibling"
   ]
  },
  {
   "cell_type": "code",
   "execution_count": 17,
   "metadata": {},
   "outputs": [
    {
     "data": {
      "text/plain": [
       "<p class=\"inner-text first-item\" id=\"first\">\n",
       "                Happy PinkWink.\n",
       "                <a href=\"http://www.pinkwink.kr\" id=\"pw-link\">PinkWink</a>\n",
       "</p>"
      ]
     },
     "execution_count": 17,
     "metadata": {},
     "output_type": "execute_result"
    }
   ],
   "source": [
    "body.p"
   ]
  },
  {
   "cell_type": "code",
   "execution_count": 18,
   "metadata": {},
   "outputs": [
    {
     "data": {
      "text/plain": [
       "<p class=\"inner-text second-item\">\n",
       "                Happy Data Science.\n",
       "                <a href=\"https://www.python.org\" id=\"py-link\">Python</a>\n",
       "</p>"
      ]
     },
     "execution_count": 18,
     "metadata": {},
     "output_type": "execute_result"
    }
   ],
   "source": [
    "body.p.next_sibling.next_sibling"
   ]
  },
  {
   "cell_type": "code",
   "execution_count": 19,
   "metadata": {},
   "outputs": [
    {
     "name": "stdout",
     "output_type": "stream",
     "text": [
      "\n",
      "                Happy PinkWink.\n",
      "                PinkWink\n",
      "\n",
      "\n",
      "                Happy Data Science.\n",
      "                Python\n",
      "\n",
      "\n",
      "\n",
      "                Data Science is funny.\n",
      "            \n",
      "\n",
      "\n",
      "\n",
      "                All I need is Love.\n",
      "            \n",
      "\n"
     ]
    }
   ],
   "source": [
    "for each_tag in soup.find_all('p') :\n",
    "    print(each_tag.get_text())"
   ]
  },
  {
   "cell_type": "code",
   "execution_count": 20,
   "metadata": {},
   "outputs": [
    {
     "data": {
      "text/plain": [
       "'\\n\\n\\n                Happy PinkWink.\\n                PinkWink\\n\\n\\n                Happy Data Science.\\n                Python\\n\\n\\n\\n\\n                Data Science is funny.\\n            \\n\\n\\n\\n                All I need is Love.\\n            \\n\\n'"
      ]
     },
     "execution_count": 20,
     "metadata": {},
     "output_type": "execute_result"
    }
   ],
   "source": [
    "body.get_text()"
   ]
  },
  {
   "cell_type": "code",
   "execution_count": 21,
   "metadata": {},
   "outputs": [
    {
     "data": {
      "text/plain": [
       "[<a href=\"http://www.pinkwink.kr\" id=\"pw-link\">PinkWink</a>,\n",
       " <a href=\"https://www.python.org\" id=\"py-link\">Python</a>]"
      ]
     },
     "execution_count": 21,
     "metadata": {},
     "output_type": "execute_result"
    }
   ],
   "source": [
    "links=soup.find_all('a')\n",
    "links"
   ]
  },
  {
   "cell_type": "code",
   "execution_count": 22,
   "metadata": {},
   "outputs": [
    {
     "name": "stdout",
     "output_type": "stream",
     "text": [
      "PinkWink->http://www.pinkwink.kr\n",
      "Python->https://www.python.org\n"
     ]
    }
   ],
   "source": [
    "for each in links :\n",
    "    href = each['href']\n",
    "    text = each.string\n",
    "    print(text + '->' + href)"
   ]
  },
  {
   "cell_type": "markdown",
   "metadata": {},
   "source": [
    "## 3-2 크롬 개발자 도구를 이용해서 원하는 태그 찾기"
   ]
  },
  {
   "cell_type": "code",
   "execution_count": 23,
   "metadata": {},
   "outputs": [],
   "source": [
    "from urllib.request import urlopen"
   ]
  },
  {
   "cell_type": "code",
   "execution_count": 24,
   "metadata": {},
   "outputs": [
    {
     "data": {
      "text/plain": [
       "'<script language=\"javascript\" src=\"/template/head_js.nhn?referer=info.finance.naver.com&amp;menu=marketindex&amp;submenu=market\">\\n</script>\\n<script src=\"/js/info/jindo.min.ns.1.5.3.euckr.js\" type=\"text/javascript\">\\n</script>\\n<script src=\"/js/jindo.1.5.3.element-text-patch.js\" type=\"text/javascript\">\\n</script>\\n<div id=\"container\" style=\"padding-bottom:0px;\">\\n <script language=\"JavaScript\" src=\"/js/flashObject.js?20190411143845\">\\n </script>\\n <div class=\"market_include\">\\n  <div class=\"market_data\">'"
      ]
     },
     "execution_count": 24,
     "metadata": {},
     "output_type": "execute_result"
    }
   ],
   "source": [
    "url = 'https://finance.naver.com/marketindex/'\n",
    "page = urlopen(url)\n",
    "\n",
    "soup = BeautifulSoup(page, 'html.parser')\n",
    "\n",
    "soup.prettify()[:500]"
   ]
  },
  {
   "cell_type": "code",
   "execution_count": 25,
   "metadata": {},
   "outputs": [
    {
     "data": {
      "text/plain": [
       "'1,166.00'"
      ]
     },
     "execution_count": 25,
     "metadata": {},
     "output_type": "execute_result"
    }
   ],
   "source": [
    "soup.find_all('span','value')[0].string"
   ]
  },
  {
   "cell_type": "markdown",
   "metadata": {},
   "source": [
    "## 3-3 실전 : 시카고 샌드위치 맛집 소개 사이트에 접근하기"
   ]
  },
  {
   "cell_type": "code",
   "execution_count": 26,
   "metadata": {},
   "outputs": [],
   "source": [
    "from bs4 import BeautifulSoup\n",
    "from urllib.request import urlopen\n",
    "\n",
    "url_base = 'http://www.chicagomag.com'\n",
    "url_sub = '/Chicago-Magazine/November-2012/Best-Sandwiches-Chicago/'\n",
    "url = url_base + url_sub\n",
    "\n",
    "html = urlopen(url)\n",
    "soup = BeautifulSoup(html, 'html.parser')\n",
    "\n",
    "# soup"
   ]
  },
  {
   "cell_type": "code",
   "execution_count": 27,
   "metadata": {},
   "outputs": [
    {
     "data": {
      "text/plain": [
       "[<div class=\"sammy\" style=\"position: relative;\">\n",
       " <div class=\"sammyRank\">1</div>\n",
       " <div class=\"sammyListing\"><a href=\"/Chicago-Magazine/November-2012/Best-Sandwiches-in-Chicago-Old-Oak-Tap-BLT/\"><b>BLT</b><br>\n",
       " Old Oak Tap<br>\n",
       " <em>Read more</em> </br></br></a></div>\n",
       " </div>, <div class=\"sammy\" style=\"position: relative;\">\n",
       " <div class=\"sammyRank\">2</div>\n",
       " <div class=\"sammyListing\"><a href=\"/Chicago-Magazine/November-2012/Best-Sandwiches-in-Chicago-Au-Cheval-Fried-Bologna/\"><b>Fried Bologna</b><br/>\n",
       " Au Cheval<br/>\n",
       " <em>Read more</em> </a></div>\n",
       " </div>, <div class=\"sammy\" style=\"position: relative;\">\n",
       " <div class=\"sammyRank\">3</div>\n",
       " <div class=\"sammyListing\"><a href=\"/Chicago-Magazine/November-2012/Best-Sandwiches-in-Chicago-Xoco-Woodland-Mushroom/\"><b>Woodland Mushroom</b><br/>\n",
       " Xoco<br/>\n",
       " <em>Read more</em> </a></div>\n",
       " </div>]"
      ]
     },
     "execution_count": 27,
     "metadata": {},
     "output_type": "execute_result"
    }
   ],
   "source": [
    "soup.find_all('div','sammy')[:3]"
   ]
  },
  {
   "cell_type": "code",
   "execution_count": 28,
   "metadata": {},
   "outputs": [
    {
     "data": {
      "text/plain": [
       "50"
      ]
     },
     "execution_count": 28,
     "metadata": {},
     "output_type": "execute_result"
    }
   ],
   "source": [
    "len(soup.find_all('div','sammy'))"
   ]
  },
  {
   "cell_type": "code",
   "execution_count": 29,
   "metadata": {},
   "outputs": [
    {
     "name": "stdout",
     "output_type": "stream",
     "text": [
      "<div class=\"sammy\" style=\"position: relative;\">\n",
      "<div class=\"sammyRank\">1</div>\n",
      "<div class=\"sammyListing\"><a href=\"/Chicago-Magazine/November-2012/Best-Sandwiches-in-Chicago-Old-Oak-Tap-BLT/\"><b>BLT</b><br>\r\n",
      "Old Oak Tap<br>\n",
      "<em>Read more</em> </br></br></a></div>\n",
      "</div>\n"
     ]
    }
   ],
   "source": [
    "print(soup.find_all('div','sammy')[0])"
   ]
  },
  {
   "cell_type": "markdown",
   "metadata": {},
   "source": [
    "## 3-4 접근한 웹 페이지에서 원하는 데이터를 추출하고 정리하기"
   ]
  },
  {
   "cell_type": "code",
   "execution_count": 30,
   "metadata": {},
   "outputs": [
    {
     "data": {
      "text/plain": [
       "bs4.element.Tag"
      ]
     },
     "execution_count": 30,
     "metadata": {},
     "output_type": "execute_result"
    }
   ],
   "source": [
    "tmp_one = soup.find_all('div','sammy')[0]\n",
    "type(tmp_one)"
   ]
  },
  {
   "cell_type": "markdown",
   "metadata": {},
   "source": [
    "- `bs4.element.Tag`와 같은 형태의 경우 그 변수에 다시 태그로 찾는 명령(find, find_all)을 사용할 수 있다."
   ]
  },
  {
   "cell_type": "code",
   "execution_count": 31,
   "metadata": {},
   "outputs": [
    {
     "data": {
      "text/plain": [
       "'1'"
      ]
     },
     "execution_count": 31,
     "metadata": {},
     "output_type": "execute_result"
    }
   ],
   "source": [
    "tmp_one.find(class_='sammyRank').get_text()"
   ]
  },
  {
   "cell_type": "code",
   "execution_count": 32,
   "metadata": {},
   "outputs": [
    {
     "data": {
      "text/plain": [
       "'BLT\\r\\nOld Oak Tap\\nRead more '"
      ]
     },
     "execution_count": 32,
     "metadata": {},
     "output_type": "execute_result"
    }
   ],
   "source": [
    "tmp_one.find(class_='sammyListing').get_text()"
   ]
  },
  {
   "cell_type": "code",
   "execution_count": 33,
   "metadata": {},
   "outputs": [
    {
     "data": {
      "text/plain": [
       "'/Chicago-Magazine/November-2012/Best-Sandwiches-in-Chicago-Old-Oak-Tap-BLT/'"
      ]
     },
     "execution_count": 33,
     "metadata": {},
     "output_type": "execute_result"
    }
   ],
   "source": [
    "tmp_one.find('a')['href']"
   ]
  },
  {
   "cell_type": "code",
   "execution_count": 34,
   "metadata": {},
   "outputs": [
    {
     "data": {
      "text/plain": [
       "['BLT', 'Old Oak Tap', 'Read more ']"
      ]
     },
     "execution_count": 34,
     "metadata": {},
     "output_type": "execute_result"
    }
   ],
   "source": [
    "import re\n",
    "\n",
    "tmp_string = tmp_one.find(class_='sammyListing').get_text()\n",
    "\n",
    "re.split(('\\n|\\r\\n'), tmp_string)"
   ]
  },
  {
   "cell_type": "code",
   "execution_count": 35,
   "metadata": {},
   "outputs": [
    {
     "name": "stdout",
     "output_type": "stream",
     "text": [
      "BLT\n",
      "Old Oak Tap\n"
     ]
    }
   ],
   "source": [
    "print(re.split(('\\n|\\r\\n'), tmp_string)[0])\n",
    "print(re.split(('\\n|\\r\\n'), tmp_string)[1])"
   ]
  },
  {
   "cell_type": "code",
   "execution_count": 36,
   "metadata": {},
   "outputs": [],
   "source": [
    "from urllib.request import urljoin\n",
    "\n",
    "rank = []\n",
    "main_menu = []\n",
    "cafe_name = []\n",
    "url_add = []\n",
    "\n",
    "list_soup = soup.find_all('div','sammy')\n",
    "\n",
    "for item in list_soup :\n",
    "    rank.append(item.find(class_='sammyRank').get_text())\n",
    "    tmp_string = item.find(class_='sammyListing').get_text()\n",
    "    main_menu.append(re.split(('\\n|\\r\\n'), tmp_string)[0])\n",
    "    cafe_name.append(re.split(('\\n|\\r\\n'), tmp_string)[1])\n",
    "    url_add.append(urljoin(url_base, item.find('a')['href']))"
   ]
  },
  {
   "cell_type": "code",
   "execution_count": 37,
   "metadata": {},
   "outputs": [
    {
     "data": {
      "text/plain": [
       "['1', '2', '3', '4', '5']"
      ]
     },
     "execution_count": 37,
     "metadata": {},
     "output_type": "execute_result"
    }
   ],
   "source": [
    "rank[:5]"
   ]
  },
  {
   "cell_type": "code",
   "execution_count": 38,
   "metadata": {},
   "outputs": [
    {
     "data": {
      "text/plain": [
       "['BLT', 'Fried Bologna', 'Woodland Mushroom', 'Roast Beef', 'PB&L']"
      ]
     },
     "execution_count": 38,
     "metadata": {},
     "output_type": "execute_result"
    }
   ],
   "source": [
    "main_menu[:5]"
   ]
  },
  {
   "cell_type": "code",
   "execution_count": 39,
   "metadata": {},
   "outputs": [
    {
     "data": {
      "text/plain": [
       "['Old Oak Tap', 'Au Cheval', 'Xoco', 'Al’s Deli', 'Publican Quality Meats']"
      ]
     },
     "execution_count": 39,
     "metadata": {},
     "output_type": "execute_result"
    }
   ],
   "source": [
    "cafe_name[:5]"
   ]
  },
  {
   "cell_type": "code",
   "execution_count": 40,
   "metadata": {},
   "outputs": [
    {
     "data": {
      "text/plain": [
       "['http://www.chicagomag.com/Chicago-Magazine/November-2012/Best-Sandwiches-in-Chicago-Old-Oak-Tap-BLT/',\n",
       " 'http://www.chicagomag.com/Chicago-Magazine/November-2012/Best-Sandwiches-in-Chicago-Au-Cheval-Fried-Bologna/',\n",
       " 'http://www.chicagomag.com/Chicago-Magazine/November-2012/Best-Sandwiches-in-Chicago-Xoco-Woodland-Mushroom/',\n",
       " 'http://www.chicagomag.com/Chicago-Magazine/November-2012/Best-Sandwiches-in-Chicago-Als-Deli-Roast-Beef/',\n",
       " 'http://www.chicagomag.com/Chicago-Magazine/November-2012/Best-Sandwiches-in-Chicago-Publican-Quality-Meats-PB-L/']"
      ]
     },
     "execution_count": 40,
     "metadata": {},
     "output_type": "execute_result"
    }
   ],
   "source": [
    "url_add[:5]"
   ]
  },
  {
   "cell_type": "code",
   "execution_count": 41,
   "metadata": {},
   "outputs": [
    {
     "data": {
      "text/plain": [
       "(50, 50, 50, 50)"
      ]
     },
     "execution_count": 41,
     "metadata": {},
     "output_type": "execute_result"
    }
   ],
   "source": [
    "len(rank), len(main_menu), len(cafe_name), len(url_add)"
   ]
  },
  {
   "cell_type": "code",
   "execution_count": 42,
   "metadata": {},
   "outputs": [],
   "source": [
    "import pandas as pd"
   ]
  },
  {
   "cell_type": "code",
   "execution_count": 43,
   "metadata": {},
   "outputs": [
    {
     "data": {
      "text/html": [
       "<div>\n",
       "<style scoped>\n",
       "    .dataframe tbody tr th:only-of-type {\n",
       "        vertical-align: middle;\n",
       "    }\n",
       "\n",
       "    .dataframe tbody tr th {\n",
       "        vertical-align: top;\n",
       "    }\n",
       "\n",
       "    .dataframe thead th {\n",
       "        text-align: right;\n",
       "    }\n",
       "</style>\n",
       "<table border=\"1\" class=\"dataframe\">\n",
       "  <thead>\n",
       "    <tr style=\"text-align: right;\">\n",
       "      <th></th>\n",
       "      <th>Cafe</th>\n",
       "      <th>Menu</th>\n",
       "      <th>Rank</th>\n",
       "      <th>URL</th>\n",
       "    </tr>\n",
       "  </thead>\n",
       "  <tbody>\n",
       "    <tr>\n",
       "      <th>0</th>\n",
       "      <td>Old Oak Tap</td>\n",
       "      <td>BLT</td>\n",
       "      <td>1</td>\n",
       "      <td>http://www.chicagomag.com/Chicago-Magazine/Nov...</td>\n",
       "    </tr>\n",
       "    <tr>\n",
       "      <th>1</th>\n",
       "      <td>Au Cheval</td>\n",
       "      <td>Fried Bologna</td>\n",
       "      <td>2</td>\n",
       "      <td>http://www.chicagomag.com/Chicago-Magazine/Nov...</td>\n",
       "    </tr>\n",
       "    <tr>\n",
       "      <th>2</th>\n",
       "      <td>Xoco</td>\n",
       "      <td>Woodland Mushroom</td>\n",
       "      <td>3</td>\n",
       "      <td>http://www.chicagomag.com/Chicago-Magazine/Nov...</td>\n",
       "    </tr>\n",
       "    <tr>\n",
       "      <th>3</th>\n",
       "      <td>Al’s Deli</td>\n",
       "      <td>Roast Beef</td>\n",
       "      <td>4</td>\n",
       "      <td>http://www.chicagomag.com/Chicago-Magazine/Nov...</td>\n",
       "    </tr>\n",
       "    <tr>\n",
       "      <th>4</th>\n",
       "      <td>Publican Quality Meats</td>\n",
       "      <td>PB&amp;L</td>\n",
       "      <td>5</td>\n",
       "      <td>http://www.chicagomag.com/Chicago-Magazine/Nov...</td>\n",
       "    </tr>\n",
       "  </tbody>\n",
       "</table>\n",
       "</div>"
      ],
      "text/plain": [
       "                     Cafe               Menu Rank  \\\n",
       "0             Old Oak Tap                BLT    1   \n",
       "1               Au Cheval      Fried Bologna    2   \n",
       "2                    Xoco  Woodland Mushroom    3   \n",
       "3               Al’s Deli         Roast Beef    4   \n",
       "4  Publican Quality Meats               PB&L    5   \n",
       "\n",
       "                                                 URL  \n",
       "0  http://www.chicagomag.com/Chicago-Magazine/Nov...  \n",
       "1  http://www.chicagomag.com/Chicago-Magazine/Nov...  \n",
       "2  http://www.chicagomag.com/Chicago-Magazine/Nov...  \n",
       "3  http://www.chicagomag.com/Chicago-Magazine/Nov...  \n",
       "4  http://www.chicagomag.com/Chicago-Magazine/Nov...  "
      ]
     },
     "execution_count": 43,
     "metadata": {},
     "output_type": "execute_result"
    }
   ],
   "source": [
    "data = {'Cafe' : cafe_name, 'Menu' : main_menu, 'Rank' : rank,  'URL' : url_add}\n",
    "df = pd.DataFrame(data)\n",
    "df.head()"
   ]
  },
  {
   "cell_type": "code",
   "execution_count": 44,
   "metadata": {},
   "outputs": [
    {
     "data": {
      "text/html": [
       "<div>\n",
       "<style scoped>\n",
       "    .dataframe tbody tr th:only-of-type {\n",
       "        vertical-align: middle;\n",
       "    }\n",
       "\n",
       "    .dataframe tbody tr th {\n",
       "        vertical-align: top;\n",
       "    }\n",
       "\n",
       "    .dataframe thead th {\n",
       "        text-align: right;\n",
       "    }\n",
       "</style>\n",
       "<table border=\"1\" class=\"dataframe\">\n",
       "  <thead>\n",
       "    <tr style=\"text-align: right;\">\n",
       "      <th></th>\n",
       "      <th>Rank</th>\n",
       "      <th>Cafe</th>\n",
       "      <th>Menu</th>\n",
       "      <th>URL</th>\n",
       "    </tr>\n",
       "  </thead>\n",
       "  <tbody>\n",
       "    <tr>\n",
       "      <th>0</th>\n",
       "      <td>1</td>\n",
       "      <td>Old Oak Tap</td>\n",
       "      <td>BLT</td>\n",
       "      <td>http://www.chicagomag.com/Chicago-Magazine/Nov...</td>\n",
       "    </tr>\n",
       "    <tr>\n",
       "      <th>1</th>\n",
       "      <td>2</td>\n",
       "      <td>Au Cheval</td>\n",
       "      <td>Fried Bologna</td>\n",
       "      <td>http://www.chicagomag.com/Chicago-Magazine/Nov...</td>\n",
       "    </tr>\n",
       "    <tr>\n",
       "      <th>2</th>\n",
       "      <td>3</td>\n",
       "      <td>Xoco</td>\n",
       "      <td>Woodland Mushroom</td>\n",
       "      <td>http://www.chicagomag.com/Chicago-Magazine/Nov...</td>\n",
       "    </tr>\n",
       "    <tr>\n",
       "      <th>3</th>\n",
       "      <td>4</td>\n",
       "      <td>Al’s Deli</td>\n",
       "      <td>Roast Beef</td>\n",
       "      <td>http://www.chicagomag.com/Chicago-Magazine/Nov...</td>\n",
       "    </tr>\n",
       "    <tr>\n",
       "      <th>4</th>\n",
       "      <td>5</td>\n",
       "      <td>Publican Quality Meats</td>\n",
       "      <td>PB&amp;L</td>\n",
       "      <td>http://www.chicagomag.com/Chicago-Magazine/Nov...</td>\n",
       "    </tr>\n",
       "  </tbody>\n",
       "</table>\n",
       "</div>"
      ],
      "text/plain": [
       "  Rank                    Cafe               Menu  \\\n",
       "0    1             Old Oak Tap                BLT   \n",
       "1    2               Au Cheval      Fried Bologna   \n",
       "2    3                    Xoco  Woodland Mushroom   \n",
       "3    4               Al’s Deli         Roast Beef   \n",
       "4    5  Publican Quality Meats               PB&L   \n",
       "\n",
       "                                                 URL  \n",
       "0  http://www.chicagomag.com/Chicago-Magazine/Nov...  \n",
       "1  http://www.chicagomag.com/Chicago-Magazine/Nov...  \n",
       "2  http://www.chicagomag.com/Chicago-Magazine/Nov...  \n",
       "3  http://www.chicagomag.com/Chicago-Magazine/Nov...  \n",
       "4  http://www.chicagomag.com/Chicago-Magazine/Nov...  "
      ]
     },
     "execution_count": 44,
     "metadata": {},
     "output_type": "execute_result"
    }
   ],
   "source": [
    "df = pd.DataFrame(df, columns = ['Rank','Cafe','Menu','URL'])\n",
    "df.head()"
   ]
  },
  {
   "cell_type": "code",
   "execution_count": 45,
   "metadata": {},
   "outputs": [],
   "source": [
    "df.to_csv('C:/Users/jeong/Documents/JUPYTER NOTEBOOK/03. best_sandwiches_list_chicago.csv',\n",
    "          sep = ',', encoding = 'UTF-8')"
   ]
  },
  {
   "cell_type": "markdown",
   "metadata": {},
   "source": [
    "## 3-5 다수의 웹 페이지에 자동으로 접근해서 원하는 정보 가져오기"
   ]
  },
  {
   "cell_type": "code",
   "execution_count": 46,
   "metadata": {},
   "outputs": [],
   "source": [
    "from bs4 import BeautifulSoup\n",
    "from urllib.request import urlopen\n",
    "\n",
    "import pandas as pd"
   ]
  },
  {
   "cell_type": "code",
   "execution_count": 47,
   "metadata": {},
   "outputs": [
    {
     "data": {
      "text/html": [
       "<div>\n",
       "<style scoped>\n",
       "    .dataframe tbody tr th:only-of-type {\n",
       "        vertical-align: middle;\n",
       "    }\n",
       "\n",
       "    .dataframe tbody tr th {\n",
       "        vertical-align: top;\n",
       "    }\n",
       "\n",
       "    .dataframe thead th {\n",
       "        text-align: right;\n",
       "    }\n",
       "</style>\n",
       "<table border=\"1\" class=\"dataframe\">\n",
       "  <thead>\n",
       "    <tr style=\"text-align: right;\">\n",
       "      <th></th>\n",
       "      <th>Rank</th>\n",
       "      <th>Cafe</th>\n",
       "      <th>Menu</th>\n",
       "      <th>URL</th>\n",
       "    </tr>\n",
       "  </thead>\n",
       "  <tbody>\n",
       "    <tr>\n",
       "      <th>0</th>\n",
       "      <td>1</td>\n",
       "      <td>Old Oak Tap</td>\n",
       "      <td>BLT</td>\n",
       "      <td>http://www.chicagomag.com/Chicago-Magazine/Nov...</td>\n",
       "    </tr>\n",
       "    <tr>\n",
       "      <th>1</th>\n",
       "      <td>2</td>\n",
       "      <td>Au Cheval</td>\n",
       "      <td>Fried Bologna</td>\n",
       "      <td>http://www.chicagomag.com/Chicago-Magazine/Nov...</td>\n",
       "    </tr>\n",
       "    <tr>\n",
       "      <th>2</th>\n",
       "      <td>3</td>\n",
       "      <td>Xoco</td>\n",
       "      <td>Woodland Mushroom</td>\n",
       "      <td>http://www.chicagomag.com/Chicago-Magazine/Nov...</td>\n",
       "    </tr>\n",
       "    <tr>\n",
       "      <th>3</th>\n",
       "      <td>4</td>\n",
       "      <td>Al’s Deli</td>\n",
       "      <td>Roast Beef</td>\n",
       "      <td>http://www.chicagomag.com/Chicago-Magazine/Nov...</td>\n",
       "    </tr>\n",
       "    <tr>\n",
       "      <th>4</th>\n",
       "      <td>5</td>\n",
       "      <td>Publican Quality Meats</td>\n",
       "      <td>PB&amp;L</td>\n",
       "      <td>http://www.chicagomag.com/Chicago-Magazine/Nov...</td>\n",
       "    </tr>\n",
       "  </tbody>\n",
       "</table>\n",
       "</div>"
      ],
      "text/plain": [
       "   Rank                    Cafe               Menu  \\\n",
       "0     1             Old Oak Tap                BLT   \n",
       "1     2               Au Cheval      Fried Bologna   \n",
       "2     3                    Xoco  Woodland Mushroom   \n",
       "3     4               Al’s Deli         Roast Beef   \n",
       "4     5  Publican Quality Meats               PB&L   \n",
       "\n",
       "                                                 URL  \n",
       "0  http://www.chicagomag.com/Chicago-Magazine/Nov...  \n",
       "1  http://www.chicagomag.com/Chicago-Magazine/Nov...  \n",
       "2  http://www.chicagomag.com/Chicago-Magazine/Nov...  \n",
       "3  http://www.chicagomag.com/Chicago-Magazine/Nov...  \n",
       "4  http://www.chicagomag.com/Chicago-Magazine/Nov...  "
      ]
     },
     "execution_count": 47,
     "metadata": {},
     "output_type": "execute_result"
    }
   ],
   "source": [
    "df = pd.read_csv('C:/Users/jeong/Documents/JUPYTER NOTEBOOK/03. best_sandwiches_list_chicago.csv',\n",
    "                 index_col = 0)\n",
    "df.head()"
   ]
  },
  {
   "cell_type": "code",
   "execution_count": 48,
   "metadata": {},
   "outputs": [
    {
     "data": {
      "text/plain": [
       "'http://www.chicagomag.com/Chicago-Magazine/November-2012/Best-Sandwiches-in-Chicago-Old-Oak-Tap-BLT/'"
      ]
     },
     "execution_count": 48,
     "metadata": {},
     "output_type": "execute_result"
    }
   ],
   "source": [
    "df['URL'][0]"
   ]
  },
  {
   "cell_type": "code",
   "execution_count": 49,
   "metadata": {},
   "outputs": [],
   "source": [
    "html = urlopen(df['URL'][0])\n",
    "soup_tmp = BeautifulSoup(html, 'html.parser')\n",
    "#soup_tmp"
   ]
  },
  {
   "cell_type": "code",
   "execution_count": 50,
   "metadata": {},
   "outputs": [
    {
     "name": "stdout",
     "output_type": "stream",
     "text": [
      "<p class=\"addy\">\n",
      "<em>$10. 2109 W. Chicago Ave., 773-772-0406, <a href=\"http://www.theoldoaktap.com/\">theoldoaktap.com</a></em></p>\n"
     ]
    }
   ],
   "source": [
    "print(soup_tmp.find('p','addy'))"
   ]
  },
  {
   "cell_type": "code",
   "execution_count": 51,
   "metadata": {},
   "outputs": [
    {
     "data": {
      "text/plain": [
       "'\\n$10. 2109 W. Chicago Ave., 773-772-0406, theoldoaktap.com'"
      ]
     },
     "execution_count": 51,
     "metadata": {},
     "output_type": "execute_result"
    }
   ],
   "source": [
    "price_tmp = soup_tmp.find('p','addy').get_text()\n",
    "price_tmp"
   ]
  },
  {
   "cell_type": "code",
   "execution_count": 52,
   "metadata": {},
   "outputs": [
    {
     "data": {
      "text/plain": [
       "['$10.', '2109', 'W.', 'Chicago', 'Ave.,', '773-772-0406,', 'theoldoaktap.com']"
      ]
     },
     "execution_count": 52,
     "metadata": {},
     "output_type": "execute_result"
    }
   ],
   "source": [
    "price_tmp.split()"
   ]
  },
  {
   "cell_type": "code",
   "execution_count": 53,
   "metadata": {},
   "outputs": [
    {
     "data": {
      "text/plain": [
       "'$10.'"
      ]
     },
     "execution_count": 53,
     "metadata": {},
     "output_type": "execute_result"
    }
   ],
   "source": [
    "price_tmp.split()[0]"
   ]
  },
  {
   "cell_type": "code",
   "execution_count": 54,
   "metadata": {},
   "outputs": [
    {
     "data": {
      "text/plain": [
       "'$10'"
      ]
     },
     "execution_count": 54,
     "metadata": {},
     "output_type": "execute_result"
    }
   ],
   "source": [
    "price_tmp.split()[0][:-1]"
   ]
  },
  {
   "cell_type": "code",
   "execution_count": 55,
   "metadata": {},
   "outputs": [
    {
     "data": {
      "text/plain": [
       "'2109 W. Chicago Ave.,'"
      ]
     },
     "execution_count": 55,
     "metadata": {},
     "output_type": "execute_result"
    }
   ],
   "source": [
    "' '.join(price_tmp.split()[1:-2])"
   ]
  },
  {
   "cell_type": "code",
   "execution_count": 56,
   "metadata": {},
   "outputs": [],
   "source": [
    "price = []\n",
    "address = []\n",
    "\n",
    "for n in df.index[:3] :\n",
    "    html = urlopen(df['URL'][n])\n",
    "    soup_tmp = BeautifulSoup(html, 'lxml')\n",
    "    \n",
    "    gettings = soup_tmp.find('p', 'addy').get_text()\n",
    "    \n",
    "    price.append(gettings.split()[0])\n",
    "    address.append(' '.join(gettings.split()[1:-2]))"
   ]
  },
  {
   "cell_type": "code",
   "execution_count": 57,
   "metadata": {},
   "outputs": [
    {
     "data": {
      "text/plain": [
       "['$10.', '$9.', '$9.50.']"
      ]
     },
     "execution_count": 57,
     "metadata": {},
     "output_type": "execute_result"
    }
   ],
   "source": [
    "price"
   ]
  },
  {
   "cell_type": "code",
   "execution_count": 58,
   "metadata": {},
   "outputs": [
    {
     "data": {
      "text/plain": [
       "['2109 W. Chicago Ave.,', '800 W. Randolph St.,', '445 N. Clark St.,']"
      ]
     },
     "execution_count": 58,
     "metadata": {},
     "output_type": "execute_result"
    }
   ],
   "source": [
    "address"
   ]
  },
  {
   "cell_type": "markdown",
   "metadata": {},
   "source": [
    "## 3-6 Jupyter Notebook에서 상태 진행바를 쉽게 만들어주는 tqdm 모듈"
   ]
  },
  {
   "cell_type": "markdown",
   "metadata": {},
   "source": [
    "- conda install -c conda-forge tqdm"
   ]
  },
  {
   "cell_type": "markdown",
   "metadata": {},
   "source": [
    "## 3-7 상태 진행바까지 적용하고 다시 샌드위치 페이지 50개에 접근하기"
   ]
  },
  {
   "cell_type": "code",
   "execution_count": 59,
   "metadata": {},
   "outputs": [
    {
     "data": {
      "application/vnd.jupyter.widget-view+json": {
       "model_id": "358c290ec33d407b80fef7077112ab8c",
       "version_major": 2,
       "version_minor": 0
      },
      "text/plain": [
       "HBox(children=(IntProgress(value=0, max=50), HTML(value='')))"
      ]
     },
     "metadata": {},
     "output_type": "display_data"
    },
    {
     "name": "stdout",
     "output_type": "stream",
     "text": [
      "\n"
     ]
    }
   ],
   "source": [
    "from tqdm import tqdm_notebook\n",
    "\n",
    "price = []\n",
    "address = []\n",
    "\n",
    "for n in tqdm_notebook(df.index) :\n",
    "    html = urlopen(df['URL'][n])\n",
    "    soup_tmp = BeautifulSoup(html, 'lxml')\n",
    "    \n",
    "    gettings = soup_tmp.find('p', 'addy').get_text()\n",
    "    \n",
    "    price.append(gettings.split()[0][:-1])\n",
    "    address.append(' '.join(gettings.split()[1:-2]))"
   ]
  },
  {
   "cell_type": "markdown",
   "metadata": {},
   "source": [
    "## 3-8 50개 웹 페이지에 대한 정보 가져오기"
   ]
  },
  {
   "cell_type": "code",
   "execution_count": 60,
   "metadata": {},
   "outputs": [
    {
     "data": {
      "text/plain": [
       "['$10', '$9', '$9.50', '$9.40', '$10']"
      ]
     },
     "execution_count": 60,
     "metadata": {},
     "output_type": "execute_result"
    }
   ],
   "source": [
    "price[:5]"
   ]
  },
  {
   "cell_type": "code",
   "execution_count": 61,
   "metadata": {},
   "outputs": [
    {
     "data": {
      "text/plain": [
       "['2109 W. Chicago Ave.,',\n",
       " '800 W. Randolph St.,',\n",
       " '445 N. Clark St.,',\n",
       " '914 Noyes St., Evanston,',\n",
       " '825 W. Fulton Mkt.,']"
      ]
     },
     "execution_count": 61,
     "metadata": {},
     "output_type": "execute_result"
    }
   ],
   "source": [
    "address[:5]"
   ]
  },
  {
   "cell_type": "code",
   "execution_count": 62,
   "metadata": {},
   "outputs": [
    {
     "data": {
      "text/plain": [
       "(50, 50, 50)"
      ]
     },
     "execution_count": 62,
     "metadata": {},
     "output_type": "execute_result"
    }
   ],
   "source": [
    "len(price), len(address), len(df)"
   ]
  },
  {
   "cell_type": "code",
   "execution_count": 63,
   "metadata": {},
   "outputs": [
    {
     "data": {
      "text/html": [
       "<div>\n",
       "<style scoped>\n",
       "    .dataframe tbody tr th:only-of-type {\n",
       "        vertical-align: middle;\n",
       "    }\n",
       "\n",
       "    .dataframe tbody tr th {\n",
       "        vertical-align: top;\n",
       "    }\n",
       "\n",
       "    .dataframe thead th {\n",
       "        text-align: right;\n",
       "    }\n",
       "</style>\n",
       "<table border=\"1\" class=\"dataframe\">\n",
       "  <thead>\n",
       "    <tr style=\"text-align: right;\">\n",
       "      <th></th>\n",
       "      <th>Cafe</th>\n",
       "      <th>Menu</th>\n",
       "      <th>Price</th>\n",
       "      <th>Address</th>\n",
       "    </tr>\n",
       "    <tr>\n",
       "      <th>Rank</th>\n",
       "      <th></th>\n",
       "      <th></th>\n",
       "      <th></th>\n",
       "      <th></th>\n",
       "    </tr>\n",
       "  </thead>\n",
       "  <tbody>\n",
       "    <tr>\n",
       "      <th>1</th>\n",
       "      <td>Old Oak Tap</td>\n",
       "      <td>BLT</td>\n",
       "      <td>$10</td>\n",
       "      <td>2109 W. Chicago Ave.,</td>\n",
       "    </tr>\n",
       "    <tr>\n",
       "      <th>2</th>\n",
       "      <td>Au Cheval</td>\n",
       "      <td>Fried Bologna</td>\n",
       "      <td>$9</td>\n",
       "      <td>800 W. Randolph St.,</td>\n",
       "    </tr>\n",
       "    <tr>\n",
       "      <th>3</th>\n",
       "      <td>Xoco</td>\n",
       "      <td>Woodland Mushroom</td>\n",
       "      <td>$9.50</td>\n",
       "      <td>445 N. Clark St.,</td>\n",
       "    </tr>\n",
       "    <tr>\n",
       "      <th>4</th>\n",
       "      <td>Al’s Deli</td>\n",
       "      <td>Roast Beef</td>\n",
       "      <td>$9.40</td>\n",
       "      <td>914 Noyes St., Evanston,</td>\n",
       "    </tr>\n",
       "    <tr>\n",
       "      <th>5</th>\n",
       "      <td>Publican Quality Meats</td>\n",
       "      <td>PB&amp;L</td>\n",
       "      <td>$10</td>\n",
       "      <td>825 W. Fulton Mkt.,</td>\n",
       "    </tr>\n",
       "  </tbody>\n",
       "</table>\n",
       "</div>"
      ],
      "text/plain": [
       "                        Cafe               Menu  Price  \\\n",
       "Rank                                                     \n",
       "1                Old Oak Tap                BLT    $10   \n",
       "2                  Au Cheval      Fried Bologna     $9   \n",
       "3                       Xoco  Woodland Mushroom  $9.50   \n",
       "4                  Al’s Deli         Roast Beef  $9.40   \n",
       "5     Publican Quality Meats               PB&L    $10   \n",
       "\n",
       "                       Address  \n",
       "Rank                            \n",
       "1        2109 W. Chicago Ave.,  \n",
       "2         800 W. Randolph St.,  \n",
       "3            445 N. Clark St.,  \n",
       "4     914 Noyes St., Evanston,  \n",
       "5          825 W. Fulton Mkt.,  "
      ]
     },
     "execution_count": 63,
     "metadata": {},
     "output_type": "execute_result"
    }
   ],
   "source": [
    "df['Price'] = price\n",
    "df['Address'] = address\n",
    "\n",
    "df = df.loc[:, ['Rank','Cafe','Menu','Price','Address']]\n",
    "df.set_index('Rank', inplace = True)\n",
    "df.head()"
   ]
  },
  {
   "cell_type": "code",
   "execution_count": 64,
   "metadata": {},
   "outputs": [],
   "source": [
    "df.to_csv('C:/Users/jeong/Documents/JUPYTER NOTEBOOK/03. best_sandwiches_list_chicago2.csv',\n",
    "          sep = ',', encoding = 'UTF-8')"
   ]
  },
  {
   "cell_type": "markdown",
   "metadata": {},
   "source": [
    "## 3-9 맛집 위치를 지도에 표기하기"
   ]
  },
  {
   "cell_type": "code",
   "execution_count": 65,
   "metadata": {},
   "outputs": [
    {
     "data": {
      "text/html": [
       "<div>\n",
       "<style scoped>\n",
       "    .dataframe tbody tr th:only-of-type {\n",
       "        vertical-align: middle;\n",
       "    }\n",
       "\n",
       "    .dataframe tbody tr th {\n",
       "        vertical-align: top;\n",
       "    }\n",
       "\n",
       "    .dataframe thead th {\n",
       "        text-align: right;\n",
       "    }\n",
       "</style>\n",
       "<table border=\"1\" class=\"dataframe\">\n",
       "  <thead>\n",
       "    <tr style=\"text-align: right;\">\n",
       "      <th></th>\n",
       "      <th>Cafe</th>\n",
       "      <th>Menu</th>\n",
       "      <th>Price</th>\n",
       "      <th>Address</th>\n",
       "    </tr>\n",
       "    <tr>\n",
       "      <th>Rank</th>\n",
       "      <th></th>\n",
       "      <th></th>\n",
       "      <th></th>\n",
       "      <th></th>\n",
       "    </tr>\n",
       "  </thead>\n",
       "  <tbody>\n",
       "    <tr>\n",
       "      <th>1</th>\n",
       "      <td>Old Oak Tap</td>\n",
       "      <td>BLT</td>\n",
       "      <td>$10</td>\n",
       "      <td>2109 W. Chicago Ave.,</td>\n",
       "    </tr>\n",
       "    <tr>\n",
       "      <th>2</th>\n",
       "      <td>Au Cheval</td>\n",
       "      <td>Fried Bologna</td>\n",
       "      <td>$9</td>\n",
       "      <td>800 W. Randolph St.,</td>\n",
       "    </tr>\n",
       "    <tr>\n",
       "      <th>3</th>\n",
       "      <td>Xoco</td>\n",
       "      <td>Woodland Mushroom</td>\n",
       "      <td>$9.50</td>\n",
       "      <td>445 N. Clark St.,</td>\n",
       "    </tr>\n",
       "    <tr>\n",
       "      <th>4</th>\n",
       "      <td>Al’s Deli</td>\n",
       "      <td>Roast Beef</td>\n",
       "      <td>$9.40</td>\n",
       "      <td>914 Noyes St., Evanston,</td>\n",
       "    </tr>\n",
       "    <tr>\n",
       "      <th>5</th>\n",
       "      <td>Publican Quality Meats</td>\n",
       "      <td>PB&amp;L</td>\n",
       "      <td>$10</td>\n",
       "      <td>825 W. Fulton Mkt.,</td>\n",
       "    </tr>\n",
       "  </tbody>\n",
       "</table>\n",
       "</div>"
      ],
      "text/plain": [
       "                        Cafe               Menu  Price  \\\n",
       "Rank                                                     \n",
       "1                Old Oak Tap                BLT    $10   \n",
       "2                  Au Cheval      Fried Bologna     $9   \n",
       "3                       Xoco  Woodland Mushroom  $9.50   \n",
       "4                  Al’s Deli         Roast Beef  $9.40   \n",
       "5     Publican Quality Meats               PB&L    $10   \n",
       "\n",
       "                       Address  \n",
       "Rank                            \n",
       "1        2109 W. Chicago Ave.,  \n",
       "2         800 W. Randolph St.,  \n",
       "3            445 N. Clark St.,  \n",
       "4     914 Noyes St., Evanston,  \n",
       "5          825 W. Fulton Mkt.,  "
      ]
     },
     "execution_count": 65,
     "metadata": {},
     "output_type": "execute_result"
    }
   ],
   "source": [
    "import folium\n",
    "import pandas as pd\n",
    "import googlemaps\n",
    "import numpy as np\n",
    "\n",
    "df = pd.read_csv('C:/Users/jeong/Documents/JUPYTER NOTEBOOK/03. best_sandwiches_list_chicago2.csv',\n",
    "                 index_col = 0)\n",
    "df.head()"
   ]
  },
  {
   "cell_type": "code",
   "execution_count": 66,
   "metadata": {},
   "outputs": [],
   "source": [
    "gmaps_key = ****************\n",
    "gmaps = googlemaps.Client(key = gmaps_key)"
   ]
  },
  {
   "cell_type": "code",
   "execution_count": 67,
   "metadata": {},
   "outputs": [
    {
     "data": {
      "application/vnd.jupyter.widget-view+json": {
       "model_id": "906f4903786948829f504727c823307c",
       "version_major": 2,
       "version_minor": 0
      },
      "text/plain": [
       "HBox(children=(IntProgress(value=0, max=50), HTML(value='')))"
      ]
     },
     "metadata": {},
     "output_type": "display_data"
    },
    {
     "name": "stdout",
     "output_type": "stream",
     "text": [
      "\n"
     ]
    }
   ],
   "source": [
    "lat = []\n",
    "lng = []\n",
    "\n",
    "for n in tqdm_notebook(df.index) :\n",
    "    if df['Address'][n] != 'Multiple' :\n",
    "        target_name = df['Address'][n] + ', ' + 'Chicago'\n",
    "        gmaps_output = gmaps.geocode(target_name)\n",
    "        location_output = gmaps_output[0].get('geometry')\n",
    "        lat.append(location_output['location']['lat'])\n",
    "        lng.append(location_output['location']['lng'])\n",
    "    else :\n",
    "        lat.append(np.nan)\n",
    "        lng.append(np.nan)"
   ]
  },
  {
   "cell_type": "code",
   "execution_count": 68,
   "metadata": {},
   "outputs": [
    {
     "data": {
      "text/html": [
       "<div>\n",
       "<style scoped>\n",
       "    .dataframe tbody tr th:only-of-type {\n",
       "        vertical-align: middle;\n",
       "    }\n",
       "\n",
       "    .dataframe tbody tr th {\n",
       "        vertical-align: top;\n",
       "    }\n",
       "\n",
       "    .dataframe thead th {\n",
       "        text-align: right;\n",
       "    }\n",
       "</style>\n",
       "<table border=\"1\" class=\"dataframe\">\n",
       "  <thead>\n",
       "    <tr style=\"text-align: right;\">\n",
       "      <th></th>\n",
       "      <th>Cafe</th>\n",
       "      <th>Menu</th>\n",
       "      <th>Price</th>\n",
       "      <th>Address</th>\n",
       "      <th>lat</th>\n",
       "      <th>lng</th>\n",
       "    </tr>\n",
       "    <tr>\n",
       "      <th>Rank</th>\n",
       "      <th></th>\n",
       "      <th></th>\n",
       "      <th></th>\n",
       "      <th></th>\n",
       "      <th></th>\n",
       "      <th></th>\n",
       "    </tr>\n",
       "  </thead>\n",
       "  <tbody>\n",
       "    <tr>\n",
       "      <th>1</th>\n",
       "      <td>Old Oak Tap</td>\n",
       "      <td>BLT</td>\n",
       "      <td>$10</td>\n",
       "      <td>2109 W. Chicago Ave.,</td>\n",
       "      <td>41.895605</td>\n",
       "      <td>-87.679961</td>\n",
       "    </tr>\n",
       "    <tr>\n",
       "      <th>2</th>\n",
       "      <td>Au Cheval</td>\n",
       "      <td>Fried Bologna</td>\n",
       "      <td>$9</td>\n",
       "      <td>800 W. Randolph St.,</td>\n",
       "      <td>41.884658</td>\n",
       "      <td>-87.647667</td>\n",
       "    </tr>\n",
       "    <tr>\n",
       "      <th>3</th>\n",
       "      <td>Xoco</td>\n",
       "      <td>Woodland Mushroom</td>\n",
       "      <td>$9.50</td>\n",
       "      <td>445 N. Clark St.,</td>\n",
       "      <td>41.890618</td>\n",
       "      <td>-87.630933</td>\n",
       "    </tr>\n",
       "    <tr>\n",
       "      <th>4</th>\n",
       "      <td>Al’s Deli</td>\n",
       "      <td>Roast Beef</td>\n",
       "      <td>$9.40</td>\n",
       "      <td>914 Noyes St., Evanston,</td>\n",
       "      <td>42.058322</td>\n",
       "      <td>-87.683748</td>\n",
       "    </tr>\n",
       "    <tr>\n",
       "      <th>5</th>\n",
       "      <td>Publican Quality Meats</td>\n",
       "      <td>PB&amp;L</td>\n",
       "      <td>$10</td>\n",
       "      <td>825 W. Fulton Mkt.,</td>\n",
       "      <td>41.886600</td>\n",
       "      <td>-87.648451</td>\n",
       "    </tr>\n",
       "  </tbody>\n",
       "</table>\n",
       "</div>"
      ],
      "text/plain": [
       "                        Cafe               Menu  Price  \\\n",
       "Rank                                                     \n",
       "1                Old Oak Tap                BLT    $10   \n",
       "2                  Au Cheval      Fried Bologna     $9   \n",
       "3                       Xoco  Woodland Mushroom  $9.50   \n",
       "4                  Al’s Deli         Roast Beef  $9.40   \n",
       "5     Publican Quality Meats               PB&L    $10   \n",
       "\n",
       "                       Address        lat        lng  \n",
       "Rank                                                  \n",
       "1        2109 W. Chicago Ave.,  41.895605 -87.679961  \n",
       "2         800 W. Randolph St.,  41.884658 -87.647667  \n",
       "3            445 N. Clark St.,  41.890618 -87.630933  \n",
       "4     914 Noyes St., Evanston,  42.058322 -87.683748  \n",
       "5          825 W. Fulton Mkt.,  41.886600 -87.648451  "
      ]
     },
     "execution_count": 68,
     "metadata": {},
     "output_type": "execute_result"
    }
   ],
   "source": [
    "df['lat'] = lat\n",
    "df['lng'] = lng\n",
    "df.head()"
   ]
  },
  {
   "cell_type": "code",
   "execution_count": 69,
   "metadata": {},
   "outputs": [],
   "source": [
    "from IPython.display import HTML, display"
   ]
  },
  {
   "cell_type": "code",
   "execution_count": 70,
   "metadata": {},
   "outputs": [
    {
     "data": {
      "text/html": [
       "<div style=\"width:100%;\"><div style=\"position:relative;width:100%;height:0;padding-bottom:60%;\"><iframe src=\"data:text/html;charset=utf-8;base64,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\" style=\"position:absolute;width:100%;height:100%;left:0;top:0;border:none !important;\" allowfullscreen webkitallowfullscreen mozallowfullscreen></iframe></div></div>"
      ],
      "text/plain": [
       "<folium.folium.Map at 0x180698285f8>"
      ]
     },
     "metadata": {},
     "output_type": "display_data"
    }
   ],
   "source": [
    "mapping = folium.Map(location = [df['lat'].mean(), df['lng'].mean()],\n",
    "                     zoom_start = 11)\n",
    "folium.Marker([df['lat'].mean(), df['lng'].mean()],\n",
    "              popup = 'center').add_to(mapping)\n",
    "display(mapping)"
   ]
  },
  {
   "cell_type": "code",
   "execution_count": 71,
   "metadata": {},
   "outputs": [
    {
     "data": {
      "text/html": [
       "<div style=\"width:100%;\"><div style=\"position:relative;width:100%;height:0;padding-bottom:60%;\"><iframe src=\"data:text/html;charset=utf-8;base64,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\" style=\"position:absolute;width:100%;height:100%;left:0;top:0;border:none !important;\" allowfullscreen webkitallowfullscreen mozallowfullscreen></iframe></div></div>"
      ],
      "text/plain": [
       "<folium.folium.Map at 0x18079d666d8>"
      ]
     },
     "metadata": {},
     "output_type": "display_data"
    }
   ],
   "source": [
    "mapping = folium.Map(location = [df['lat'].mean(), df['lng'].mean()],\n",
    "                     zoom_start = 11)\n",
    "for n in df.index :\n",
    "    if df['Address'][n] != 'Multiple' :\n",
    "        folium.Marker([df['lat'][n], df['lng'][n]],\n",
    "                      popup = df['Cafe'][n]).add_to(mapping)\n",
    "display(mapping)"
   ]
  },
  {
   "cell_type": "markdown",
   "metadata": {},
   "source": [
    "## 3-10 네이버 영화 평점 기준 영화의 평점 변화 확인하기"
   ]
  },
  {
   "cell_type": "code",
   "execution_count": 72,
   "metadata": {},
   "outputs": [],
   "source": [
    "from bs4 import BeautifulSoup\n",
    "import pandas as pd"
   ]
  },
  {
   "cell_type": "code",
   "execution_count": 73,
   "metadata": {},
   "outputs": [],
   "source": [
    "from urllib.request import urlopen\n",
    "\n",
    "url_base = 'https://movie.naver.com/'\n",
    "url_sub = 'movie/sdb/rank/rmovie.nhn?sel=cur&date=20190315'\n",
    "\n",
    "page = urlopen(url_base + url_sub)\n",
    "\n",
    "soup = BeautifulSoup(page, 'html.parser')\n",
    "#soup"
   ]
  },
  {
   "cell_type": "code",
   "execution_count": 74,
   "metadata": {},
   "outputs": [
    {
     "data": {
      "text/plain": [
       "[<div class=\"tit5\">\n",
       " <a href=\"/movie/bi/mi/basic.nhn?code=171539\" title=\"그린 북\">그린 북</a>\n",
       " </div>, <div class=\"tit5\">\n",
       " <a href=\"/movie/bi/mi/basic.nhn?code=174830\" title=\"가버나움\">가버나움</a>\n",
       " </div>, <div class=\"tit5\">\n",
       " <a href=\"/movie/bi/mi/basic.nhn?code=156464\" title=\"보헤미안 랩소디\">보헤미안 랩소디</a>\n",
       " </div>, <div class=\"tit5\">\n",
       " <a href=\"/movie/bi/mi/basic.nhn?code=144318\" title=\"언더독\">언더독</a>\n",
       " </div>, <div class=\"tit5\">\n",
       " <a href=\"/movie/bi/mi/basic.nhn?code=109193\" title=\"드래곤 길들이기 3\">드래곤 길들이기 3</a>\n",
       " </div>]"
      ]
     },
     "execution_count": 74,
     "metadata": {},
     "output_type": "execute_result"
    }
   ],
   "source": [
    "soup.find_all('div', 'tit5')[:5]"
   ]
  },
  {
   "cell_type": "code",
   "execution_count": 75,
   "metadata": {},
   "outputs": [
    {
     "data": {
      "text/plain": [
       "'그린 북'"
      ]
     },
     "execution_count": 75,
     "metadata": {},
     "output_type": "execute_result"
    }
   ],
   "source": [
    "soup.find_all('div', 'tit5')[0].a.string"
   ]
  },
  {
   "cell_type": "code",
   "execution_count": 76,
   "metadata": {},
   "outputs": [
    {
     "data": {
      "text/plain": [
       "'9.63'"
      ]
     },
     "execution_count": 76,
     "metadata": {},
     "output_type": "execute_result"
    }
   ],
   "source": [
    "soup.find_all('td','point')[0].string"
   ]
  },
  {
   "cell_type": "code",
   "execution_count": 77,
   "metadata": {},
   "outputs": [
    {
     "data": {
      "text/plain": [
       "DatetimeIndex(['2018-12-01', '2018-12-02', '2018-12-03', '2018-12-04',\n",
       "               '2018-12-05', '2018-12-06', '2018-12-07', '2018-12-08',\n",
       "               '2018-12-09', '2018-12-10', '2018-12-11', '2018-12-12',\n",
       "               '2018-12-13', '2018-12-14', '2018-12-15', '2018-12-16',\n",
       "               '2018-12-17', '2018-12-18', '2018-12-19', '2018-12-20',\n",
       "               '2018-12-21', '2018-12-22', '2018-12-23', '2018-12-24',\n",
       "               '2018-12-25', '2018-12-26', '2018-12-27', '2018-12-28',\n",
       "               '2018-12-29', '2018-12-30', '2018-12-31', '2019-01-01',\n",
       "               '2019-01-02', '2019-01-03', '2019-01-04', '2019-01-05',\n",
       "               '2019-01-06', '2019-01-07', '2019-01-08', '2019-01-09',\n",
       "               '2019-01-10', '2019-01-11', '2019-01-12', '2019-01-13',\n",
       "               '2019-01-14', '2019-01-15', '2019-01-16', '2019-01-17',\n",
       "               '2019-01-18', '2019-01-19', '2019-01-20', '2019-01-21',\n",
       "               '2019-01-22', '2019-01-23', '2019-01-24', '2019-01-25',\n",
       "               '2019-01-26', '2019-01-27', '2019-01-28', '2019-01-29',\n",
       "               '2019-01-30', '2019-01-31', '2019-02-01', '2019-02-02',\n",
       "               '2019-02-03', '2019-02-04', '2019-02-05', '2019-02-06',\n",
       "               '2019-02-07', '2019-02-08', '2019-02-09', '2019-02-10',\n",
       "               '2019-02-11', '2019-02-12', '2019-02-13', '2019-02-14',\n",
       "               '2019-02-15', '2019-02-16', '2019-02-17', '2019-02-18',\n",
       "               '2019-02-19', '2019-02-20', '2019-02-21', '2019-02-22',\n",
       "               '2019-02-23', '2019-02-24', '2019-02-25', '2019-02-26',\n",
       "               '2019-02-27', '2019-02-28', '2019-03-01', '2019-03-02',\n",
       "               '2019-03-03', '2019-03-04', '2019-03-05', '2019-03-06',\n",
       "               '2019-03-07', '2019-03-08', '2019-03-09', '2019-03-10'],\n",
       "              dtype='datetime64[ns]', freq='D')"
      ]
     },
     "execution_count": 77,
     "metadata": {},
     "output_type": "execute_result"
    }
   ],
   "source": [
    "date = pd.date_range('2018-12-01', periods = 100, freq = 'D')\n",
    "date"
   ]
  },
  {
   "cell_type": "code",
   "execution_count": 78,
   "metadata": {},
   "outputs": [
    {
     "data": {
      "application/vnd.jupyter.widget-view+json": {
       "model_id": "aac4f0226d1740d0af9b458322cae22d",
       "version_major": 2,
       "version_minor": 0
      },
      "text/plain": [
       "HBox(children=(IntProgress(value=0), HTML(value='')))"
      ]
     },
     "metadata": {},
     "output_type": "display_data"
    },
    {
     "name": "stdout",
     "output_type": "stream",
     "text": [
      "\n"
     ]
    }
   ],
   "source": [
    "import urllib\n",
    "from tqdm import tqdm_notebook\n",
    "\n",
    "movie_date = []\n",
    "movie_name = []\n",
    "movie_point = []\n",
    "\n",
    "for today in tqdm_notebook(date) :\n",
    "    html = 'https://movie.naver.com/' + \\\n",
    "     'movie/sdb/rank/rmovie.nhn?sel=cur&date={date}'\n",
    "    response = urlopen(html.format(date=urllib.parse.quote(today.strftime('%Y%m%d'))))\n",
    "    soup = BeautifulSoup(response, 'html.parser')\n",
    "    end = len(soup.find_all('td', 'point'))\n",
    "    \n",
    "    movie_date.extend([today for n in range(0, end)])\n",
    "    movie_name.extend([soup.find_all('div', 'tit5')[n].a.string for n in range(0, end)])\n",
    "    movie_point.extend([float(soup.find_all('td', 'point')[n].string) for n in range(0, end)])"
   ]
  },
  {
   "cell_type": "code",
   "execution_count": 79,
   "metadata": {},
   "outputs": [
    {
     "data": {
      "text/plain": [
       "(4254, 4254, 4254)"
      ]
     },
     "execution_count": 79,
     "metadata": {},
     "output_type": "execute_result"
    }
   ],
   "source": [
    "len(movie_date), len(movie_name), len(movie_point)"
   ]
  },
  {
   "cell_type": "code",
   "execution_count": 80,
   "metadata": {},
   "outputs": [
    {
     "data": {
      "text/html": [
       "<div>\n",
       "<style scoped>\n",
       "    .dataframe tbody tr th:only-of-type {\n",
       "        vertical-align: middle;\n",
       "    }\n",
       "\n",
       "    .dataframe tbody tr th {\n",
       "        vertical-align: top;\n",
       "    }\n",
       "\n",
       "    .dataframe thead th {\n",
       "        text-align: right;\n",
       "    }\n",
       "</style>\n",
       "<table border=\"1\" class=\"dataframe\">\n",
       "  <thead>\n",
       "    <tr style=\"text-align: right;\">\n",
       "      <th></th>\n",
       "      <th>date</th>\n",
       "      <th>name</th>\n",
       "      <th>point</th>\n",
       "    </tr>\n",
       "  </thead>\n",
       "  <tbody>\n",
       "    <tr>\n",
       "      <th>0</th>\n",
       "      <td>2018-12-01</td>\n",
       "      <td>보헤미안 랩소디</td>\n",
       "      <td>9.57</td>\n",
       "    </tr>\n",
       "    <tr>\n",
       "      <th>1</th>\n",
       "      <td>2018-12-01</td>\n",
       "      <td>베일리 어게인</td>\n",
       "      <td>9.55</td>\n",
       "    </tr>\n",
       "    <tr>\n",
       "      <th>2</th>\n",
       "      <td>2018-12-01</td>\n",
       "      <td>폴란드로 간 아이들</td>\n",
       "      <td>9.45</td>\n",
       "    </tr>\n",
       "    <tr>\n",
       "      <th>3</th>\n",
       "      <td>2018-12-01</td>\n",
       "      <td>번 더 스테이지: 더 무비</td>\n",
       "      <td>9.40</td>\n",
       "    </tr>\n",
       "    <tr>\n",
       "      <th>4</th>\n",
       "      <td>2018-12-01</td>\n",
       "      <td>울지마 톤즈</td>\n",
       "      <td>9.34</td>\n",
       "    </tr>\n",
       "  </tbody>\n",
       "</table>\n",
       "</div>"
      ],
      "text/plain": [
       "        date            name  point\n",
       "0 2018-12-01        보헤미안 랩소디   9.57\n",
       "1 2018-12-01         베일리 어게인   9.55\n",
       "2 2018-12-01      폴란드로 간 아이들   9.45\n",
       "3 2018-12-01  번 더 스테이지: 더 무비   9.40\n",
       "4 2018-12-01          울지마 톤즈   9.34"
      ]
     },
     "execution_count": 80,
     "metadata": {},
     "output_type": "execute_result"
    }
   ],
   "source": [
    "movie = pd.DataFrame({'date' : movie_date, 'name' : movie_name, 'point' : movie_point})\n",
    "movie.head()"
   ]
  },
  {
   "cell_type": "code",
   "execution_count": 81,
   "metadata": {},
   "outputs": [
    {
     "data": {
      "text/html": [
       "<div>\n",
       "<style scoped>\n",
       "    .dataframe tbody tr th:only-of-type {\n",
       "        vertical-align: middle;\n",
       "    }\n",
       "\n",
       "    .dataframe tbody tr th {\n",
       "        vertical-align: top;\n",
       "    }\n",
       "\n",
       "    .dataframe thead th {\n",
       "        text-align: right;\n",
       "    }\n",
       "</style>\n",
       "<table border=\"1\" class=\"dataframe\">\n",
       "  <thead>\n",
       "    <tr style=\"text-align: right;\">\n",
       "      <th></th>\n",
       "      <th>point</th>\n",
       "    </tr>\n",
       "    <tr>\n",
       "      <th>name</th>\n",
       "      <th></th>\n",
       "    </tr>\n",
       "  </thead>\n",
       "  <tbody>\n",
       "    <tr>\n",
       "      <th>그린 북</th>\n",
       "      <td>9.649831</td>\n",
       "    </tr>\n",
       "    <tr>\n",
       "      <th>가버나움</th>\n",
       "      <td>9.592143</td>\n",
       "    </tr>\n",
       "    <tr>\n",
       "      <th>베일리 어게인</th>\n",
       "      <td>9.546154</td>\n",
       "    </tr>\n",
       "    <tr>\n",
       "      <th>보헤미안 랩소디</th>\n",
       "      <td>9.477100</td>\n",
       "    </tr>\n",
       "    <tr>\n",
       "      <th>당갈</th>\n",
       "      <td>9.451875</td>\n",
       "    </tr>\n",
       "    <tr>\n",
       "      <th>언더독</th>\n",
       "      <td>9.440000</td>\n",
       "    </tr>\n",
       "    <tr>\n",
       "      <th>헌터 킬러</th>\n",
       "      <td>9.438043</td>\n",
       "    </tr>\n",
       "    <tr>\n",
       "      <th>폴란드로 간 아이들</th>\n",
       "      <td>9.417600</td>\n",
       "    </tr>\n",
       "    <tr>\n",
       "      <th>원더</th>\n",
       "      <td>9.410000</td>\n",
       "    </tr>\n",
       "    <tr>\n",
       "      <th>번 더 스테이지: 더 무비</th>\n",
       "      <td>9.400000</td>\n",
       "    </tr>\n",
       "  </tbody>\n",
       "</table>\n",
       "</div>"
      ],
      "text/plain": [
       "                   point\n",
       "name                    \n",
       "그린 북            9.649831\n",
       "가버나움            9.592143\n",
       "베일리 어게인         9.546154\n",
       "보헤미안 랩소디        9.477100\n",
       "당갈              9.451875\n",
       "언더독             9.440000\n",
       "헌터 킬러           9.438043\n",
       "폴란드로 간 아이들      9.417600\n",
       "원더              9.410000\n",
       "번 더 스테이지: 더 무비  9.400000"
      ]
     },
     "execution_count": 81,
     "metadata": {},
     "output_type": "execute_result"
    }
   ],
   "source": [
    "import numpy as np\n",
    "\n",
    "movie_unique = pd.pivot_table(movie, index=['name'], values=['point'], aggfunc=np.mean)\n",
    "movie_best = movie_unique.sort_values(by='point', ascending=False)\n",
    "movie_best.head(10)"
   ]
  },
  {
   "cell_type": "code",
   "execution_count": 82,
   "metadata": {},
   "outputs": [
    {
     "data": {
      "text/html": [
       "<div>\n",
       "<style scoped>\n",
       "    .dataframe tbody tr th:only-of-type {\n",
       "        vertical-align: middle;\n",
       "    }\n",
       "\n",
       "    .dataframe tbody tr th {\n",
       "        vertical-align: top;\n",
       "    }\n",
       "\n",
       "    .dataframe thead th {\n",
       "        text-align: right;\n",
       "    }\n",
       "</style>\n",
       "<table border=\"1\" class=\"dataframe\">\n",
       "  <thead>\n",
       "    <tr style=\"text-align: right;\">\n",
       "      <th></th>\n",
       "      <th>date</th>\n",
       "      <th>name</th>\n",
       "      <th>point</th>\n",
       "    </tr>\n",
       "  </thead>\n",
       "  <tbody>\n",
       "    <tr>\n",
       "      <th>1773</th>\n",
       "      <td>2019-01-11</td>\n",
       "      <td>그린 북</td>\n",
       "      <td>9.70</td>\n",
       "    </tr>\n",
       "    <tr>\n",
       "      <th>1813</th>\n",
       "      <td>2019-01-12</td>\n",
       "      <td>그린 북</td>\n",
       "      <td>9.73</td>\n",
       "    </tr>\n",
       "    <tr>\n",
       "      <th>1853</th>\n",
       "      <td>2019-01-13</td>\n",
       "      <td>그린 북</td>\n",
       "      <td>9.70</td>\n",
       "    </tr>\n",
       "    <tr>\n",
       "      <th>1892</th>\n",
       "      <td>2019-01-14</td>\n",
       "      <td>그린 북</td>\n",
       "      <td>9.70</td>\n",
       "    </tr>\n",
       "    <tr>\n",
       "      <th>1934</th>\n",
       "      <td>2019-01-15</td>\n",
       "      <td>그린 북</td>\n",
       "      <td>9.68</td>\n",
       "    </tr>\n",
       "  </tbody>\n",
       "</table>\n",
       "</div>"
      ],
      "text/plain": [
       "           date  name  point\n",
       "1773 2019-01-11  그린 북   9.70\n",
       "1813 2019-01-12  그린 북   9.73\n",
       "1853 2019-01-13  그린 북   9.70\n",
       "1892 2019-01-14  그린 북   9.70\n",
       "1934 2019-01-15  그린 북   9.68"
      ]
     },
     "execution_count": 82,
     "metadata": {},
     "output_type": "execute_result"
    }
   ],
   "source": [
    "tmp = movie.query('name==[\"그린 북\"]')\n",
    "tmp.head()"
   ]
  },
  {
   "cell_type": "code",
   "execution_count": 83,
   "metadata": {},
   "outputs": [
    {
     "name": "stderr",
     "output_type": "stream",
     "text": [
      "C:\\ProgramData\\Anaconda3\\lib\\site-packages\\pandas\\plotting\\_converter.py:129: FutureWarning: Using an implicitly registered datetime converter for a matplotlib plotting method. The converter was registered by pandas on import. Future versions of pandas will require you to explicitly register matplotlib converters.\n",
      "\n",
      "To register the converters:\n",
      "\t>>> from pandas.plotting import register_matplotlib_converters\n",
      "\t>>> register_matplotlib_converters()\n",
      "  warnings.warn(msg, FutureWarning)\n"
     ]
    },
    {
     "data": {
      "image/png": "[encoded data removed]",
      "text/plain": [
       "<Figure size 864x576 with 1 Axes>"
      ]
     },
     "metadata": {
      "needs_background": "light"
     },
     "output_type": "display_data"
    }
   ],
   "source": [
    "import matplotlib.pyplot as plt\n",
    "%matplotlib inline\n",
    "\n",
    "plt.figure(figsize=(12,8))\n",
    "plt.plot(tmp['date'], tmp['point'])\n",
    "plt.legend(loc='best')\n",
    "plt.grid()\n",
    "plt.show()"
   ]
  },
  {
   "cell_type": "markdown",
   "metadata": {},
   "source": [
    "## 3-11 영화별 날짜 변화에 따른 평점 변화 확인하기"
   ]
  },
  {
   "cell_type": "code",
   "execution_count": 84,
   "metadata": {},
   "outputs": [
    {
     "data": {
      "text/html": [
       "<div>\n",
       "<style scoped>\n",
       "    .dataframe tbody tr th:only-of-type {\n",
       "        vertical-align: middle;\n",
       "    }\n",
       "\n",
       "    .dataframe tbody tr th {\n",
       "        vertical-align: top;\n",
       "    }\n",
       "\n",
       "    .dataframe thead tr th {\n",
       "        text-align: left;\n",
       "    }\n",
       "\n",
       "    .dataframe thead tr:last-of-type th {\n",
       "        text-align: right;\n",
       "    }\n",
       "</style>\n",
       "<table border=\"1\" class=\"dataframe\">\n",
       "  <thead>\n",
       "    <tr>\n",
       "      <th></th>\n",
       "      <th colspan=\"21\" halign=\"left\">point</th>\n",
       "    </tr>\n",
       "    <tr>\n",
       "      <th>name</th>\n",
       "      <th>7년-그들이 없는 언론</th>\n",
       "      <th>8월의 크리스마스</th>\n",
       "      <th>B급 며느리</th>\n",
       "      <th>PMC: 더 벙커</th>\n",
       "      <th>가버나움</th>\n",
       "      <th>거미줄에 걸린 소녀</th>\n",
       "      <th>걸어도 걸어도</th>\n",
       "      <th>국가부도의 날</th>\n",
       "      <th>군산: 거위를 노래하다</th>\n",
       "      <th>그대 이름은 장미</th>\n",
       "      <th>...</th>\n",
       "      <th>핵소 고지</th>\n",
       "      <th>허스토리</th>\n",
       "      <th>헌터 킬러</th>\n",
       "      <th>헤이트풀8</th>\n",
       "      <th>혈투</th>\n",
       "      <th>호두까기 인형과 4개의 왕국</th>\n",
       "      <th>환상의 빛</th>\n",
       "      <th>후드</th>\n",
       "      <th>휘트니</th>\n",
       "      <th>히트</th>\n",
       "    </tr>\n",
       "    <tr>\n",
       "      <th>date</th>\n",
       "      <th></th>\n",
       "      <th></th>\n",
       "      <th></th>\n",
       "      <th></th>\n",
       "      <th></th>\n",
       "      <th></th>\n",
       "      <th></th>\n",
       "      <th></th>\n",
       "      <th></th>\n",
       "      <th></th>\n",
       "      <th></th>\n",
       "      <th></th>\n",
       "      <th></th>\n",
       "      <th></th>\n",
       "      <th></th>\n",
       "      <th></th>\n",
       "      <th></th>\n",
       "      <th></th>\n",
       "      <th></th>\n",
       "      <th></th>\n",
       "      <th></th>\n",
       "    </tr>\n",
       "  </thead>\n",
       "  <tbody>\n",
       "    <tr>\n",
       "      <th>2018-12-01</th>\n",
       "      <td>NaN</td>\n",
       "      <td>NaN</td>\n",
       "      <td>NaN</td>\n",
       "      <td>NaN</td>\n",
       "      <td>NaN</td>\n",
       "      <td>NaN</td>\n",
       "      <td>NaN</td>\n",
       "      <td>8.43</td>\n",
       "      <td>NaN</td>\n",
       "      <td>NaN</td>\n",
       "      <td>...</td>\n",
       "      <td>NaN</td>\n",
       "      <td>NaN</td>\n",
       "      <td>NaN</td>\n",
       "      <td>NaN</td>\n",
       "      <td>NaN</td>\n",
       "      <td>NaN</td>\n",
       "      <td>NaN</td>\n",
       "      <td>7.66</td>\n",
       "      <td>NaN</td>\n",
       "      <td>NaN</td>\n",
       "    </tr>\n",
       "    <tr>\n",
       "      <th>2018-12-02</th>\n",
       "      <td>NaN</td>\n",
       "      <td>NaN</td>\n",
       "      <td>NaN</td>\n",
       "      <td>NaN</td>\n",
       "      <td>NaN</td>\n",
       "      <td>NaN</td>\n",
       "      <td>NaN</td>\n",
       "      <td>8.42</td>\n",
       "      <td>NaN</td>\n",
       "      <td>NaN</td>\n",
       "      <td>...</td>\n",
       "      <td>NaN</td>\n",
       "      <td>NaN</td>\n",
       "      <td>NaN</td>\n",
       "      <td>NaN</td>\n",
       "      <td>NaN</td>\n",
       "      <td>NaN</td>\n",
       "      <td>NaN</td>\n",
       "      <td>7.57</td>\n",
       "      <td>NaN</td>\n",
       "      <td>NaN</td>\n",
       "    </tr>\n",
       "    <tr>\n",
       "      <th>2018-12-03</th>\n",
       "      <td>NaN</td>\n",
       "      <td>NaN</td>\n",
       "      <td>NaN</td>\n",
       "      <td>NaN</td>\n",
       "      <td>NaN</td>\n",
       "      <td>NaN</td>\n",
       "      <td>NaN</td>\n",
       "      <td>8.40</td>\n",
       "      <td>NaN</td>\n",
       "      <td>NaN</td>\n",
       "      <td>...</td>\n",
       "      <td>NaN</td>\n",
       "      <td>NaN</td>\n",
       "      <td>NaN</td>\n",
       "      <td>NaN</td>\n",
       "      <td>NaN</td>\n",
       "      <td>NaN</td>\n",
       "      <td>NaN</td>\n",
       "      <td>7.47</td>\n",
       "      <td>9.08</td>\n",
       "      <td>NaN</td>\n",
       "    </tr>\n",
       "    <tr>\n",
       "      <th>2018-12-04</th>\n",
       "      <td>NaN</td>\n",
       "      <td>9.23</td>\n",
       "      <td>NaN</td>\n",
       "      <td>NaN</td>\n",
       "      <td>NaN</td>\n",
       "      <td>8.53</td>\n",
       "      <td>NaN</td>\n",
       "      <td>8.35</td>\n",
       "      <td>NaN</td>\n",
       "      <td>NaN</td>\n",
       "      <td>...</td>\n",
       "      <td>NaN</td>\n",
       "      <td>NaN</td>\n",
       "      <td>NaN</td>\n",
       "      <td>NaN</td>\n",
       "      <td>NaN</td>\n",
       "      <td>NaN</td>\n",
       "      <td>NaN</td>\n",
       "      <td>7.33</td>\n",
       "      <td>9.08</td>\n",
       "      <td>NaN</td>\n",
       "    </tr>\n",
       "    <tr>\n",
       "      <th>2018-12-05</th>\n",
       "      <td>NaN</td>\n",
       "      <td>9.23</td>\n",
       "      <td>NaN</td>\n",
       "      <td>NaN</td>\n",
       "      <td>NaN</td>\n",
       "      <td>8.56</td>\n",
       "      <td>NaN</td>\n",
       "      <td>8.33</td>\n",
       "      <td>NaN</td>\n",
       "      <td>NaN</td>\n",
       "      <td>...</td>\n",
       "      <td>NaN</td>\n",
       "      <td>NaN</td>\n",
       "      <td>NaN</td>\n",
       "      <td>8.42</td>\n",
       "      <td>NaN</td>\n",
       "      <td>NaN</td>\n",
       "      <td>NaN</td>\n",
       "      <td>7.31</td>\n",
       "      <td>9.08</td>\n",
       "      <td>NaN</td>\n",
       "    </tr>\n",
       "  </tbody>\n",
       "</table>\n",
       "<p>5 rows × 176 columns</p>\n",
       "</div>"
      ],
      "text/plain": [
       "                  point                                                     \\\n",
       "name       7년-그들이 없는 언론 8월의 크리스마스 B급 며느리 PMC: 더 벙커 가버나움 거미줄에 걸린 소녀 걸어도 걸어도   \n",
       "date                                                                         \n",
       "2018-12-01          NaN       NaN    NaN       NaN  NaN        NaN     NaN   \n",
       "2018-12-02          NaN       NaN    NaN       NaN  NaN        NaN     NaN   \n",
       "2018-12-03          NaN       NaN    NaN       NaN  NaN        NaN     NaN   \n",
       "2018-12-04          NaN      9.23    NaN       NaN  NaN       8.53     NaN   \n",
       "2018-12-05          NaN      9.23    NaN       NaN  NaN       8.56     NaN   \n",
       "\n",
       "                                           ...                             \\\n",
       "name       국가부도의 날 군산: 거위를 노래하다 그대 이름은 장미  ... 핵소 고지 허스토리 헌터 킬러 헤이트풀8  혈투   \n",
       "date                                       ...                              \n",
       "2018-12-01    8.43          NaN       NaN  ...   NaN  NaN   NaN   NaN NaN   \n",
       "2018-12-02    8.42          NaN       NaN  ...   NaN  NaN   NaN   NaN NaN   \n",
       "2018-12-03    8.40          NaN       NaN  ...   NaN  NaN   NaN   NaN NaN   \n",
       "2018-12-04    8.35          NaN       NaN  ...   NaN  NaN   NaN   NaN NaN   \n",
       "2018-12-05    8.33          NaN       NaN  ...   NaN  NaN   NaN  8.42 NaN   \n",
       "\n",
       "                                                  \n",
       "name       호두까기 인형과 4개의 왕국 환상의 빛    후드   휘트니  히트  \n",
       "date                                              \n",
       "2018-12-01             NaN   NaN  7.66   NaN NaN  \n",
       "2018-12-02             NaN   NaN  7.57   NaN NaN  \n",
       "2018-12-03             NaN   NaN  7.47  9.08 NaN  \n",
       "2018-12-04             NaN   NaN  7.33  9.08 NaN  \n",
       "2018-12-05             NaN   NaN  7.31  9.08 NaN  \n",
       "\n",
       "[5 rows x 176 columns]"
      ]
     },
     "execution_count": 84,
     "metadata": {},
     "output_type": "execute_result"
    }
   ],
   "source": [
    "movie_pivot = pd.pivot_table(movie, index=['date'], columns=['name'], values=['point'])\n",
    "movie_pivot.head()"
   ]
  },
  {
   "cell_type": "code",
   "execution_count": 85,
   "metadata": {},
   "outputs": [],
   "source": [
    "movie_pivot.columns = movie_pivot.columns.droplevel()"
   ]
  },
  {
   "cell_type": "code",
   "execution_count": 86,
   "metadata": {},
   "outputs": [
    {
     "data": {
      "text/html": [
       "<div>\n",
       "<style scoped>\n",
       "    .dataframe tbody tr th:only-of-type {\n",
       "        vertical-align: middle;\n",
       "    }\n",
       "\n",
       "    .dataframe tbody tr th {\n",
       "        vertical-align: top;\n",
       "    }\n",
       "\n",
       "    .dataframe thead th {\n",
       "        text-align: right;\n",
       "    }\n",
       "</style>\n",
       "<table border=\"1\" class=\"dataframe\">\n",
       "  <thead>\n",
       "    <tr style=\"text-align: right;\">\n",
       "      <th>name</th>\n",
       "      <th>7년-그들이 없는 언론</th>\n",
       "      <th>8월의 크리스마스</th>\n",
       "      <th>B급 며느리</th>\n",
       "      <th>PMC: 더 벙커</th>\n",
       "      <th>가버나움</th>\n",
       "      <th>거미줄에 걸린 소녀</th>\n",
       "      <th>걸어도 걸어도</th>\n",
       "      <th>국가부도의 날</th>\n",
       "      <th>군산: 거위를 노래하다</th>\n",
       "      <th>그대 이름은 장미</th>\n",
       "      <th>...</th>\n",
       "      <th>핵소 고지</th>\n",
       "      <th>허스토리</th>\n",
       "      <th>헌터 킬러</th>\n",
       "      <th>헤이트풀8</th>\n",
       "      <th>혈투</th>\n",
       "      <th>호두까기 인형과 4개의 왕국</th>\n",
       "      <th>환상의 빛</th>\n",
       "      <th>후드</th>\n",
       "      <th>휘트니</th>\n",
       "      <th>히트</th>\n",
       "    </tr>\n",
       "    <tr>\n",
       "      <th>date</th>\n",
       "      <th></th>\n",
       "      <th></th>\n",
       "      <th></th>\n",
       "      <th></th>\n",
       "      <th></th>\n",
       "      <th></th>\n",
       "      <th></th>\n",
       "      <th></th>\n",
       "      <th></th>\n",
       "      <th></th>\n",
       "      <th></th>\n",
       "      <th></th>\n",
       "      <th></th>\n",
       "      <th></th>\n",
       "      <th></th>\n",
       "      <th></th>\n",
       "      <th></th>\n",
       "      <th></th>\n",
       "      <th></th>\n",
       "      <th></th>\n",
       "      <th></th>\n",
       "    </tr>\n",
       "  </thead>\n",
       "  <tbody>\n",
       "    <tr>\n",
       "      <th>2018-12-01</th>\n",
       "      <td>NaN</td>\n",
       "      <td>NaN</td>\n",
       "      <td>NaN</td>\n",
       "      <td>NaN</td>\n",
       "      <td>NaN</td>\n",
       "      <td>NaN</td>\n",
       "      <td>NaN</td>\n",
       "      <td>8.43</td>\n",
       "      <td>NaN</td>\n",
       "      <td>NaN</td>\n",
       "      <td>...</td>\n",
       "      <td>NaN</td>\n",
       "      <td>NaN</td>\n",
       "      <td>NaN</td>\n",
       "      <td>NaN</td>\n",
       "      <td>NaN</td>\n",
       "      <td>NaN</td>\n",
       "      <td>NaN</td>\n",
       "      <td>7.66</td>\n",
       "      <td>NaN</td>\n",
       "      <td>NaN</td>\n",
       "    </tr>\n",
       "    <tr>\n",
       "      <th>2018-12-02</th>\n",
       "      <td>NaN</td>\n",
       "      <td>NaN</td>\n",
       "      <td>NaN</td>\n",
       "      <td>NaN</td>\n",
       "      <td>NaN</td>\n",
       "      <td>NaN</td>\n",
       "      <td>NaN</td>\n",
       "      <td>8.42</td>\n",
       "      <td>NaN</td>\n",
       "      <td>NaN</td>\n",
       "      <td>...</td>\n",
       "      <td>NaN</td>\n",
       "      <td>NaN</td>\n",
       "      <td>NaN</td>\n",
       "      <td>NaN</td>\n",
       "      <td>NaN</td>\n",
       "      <td>NaN</td>\n",
       "      <td>NaN</td>\n",
       "      <td>7.57</td>\n",
       "      <td>NaN</td>\n",
       "      <td>NaN</td>\n",
       "    </tr>\n",
       "    <tr>\n",
       "      <th>2018-12-03</th>\n",
       "      <td>NaN</td>\n",
       "      <td>NaN</td>\n",
       "      <td>NaN</td>\n",
       "      <td>NaN</td>\n",
       "      <td>NaN</td>\n",
       "      <td>NaN</td>\n",
       "      <td>NaN</td>\n",
       "      <td>8.40</td>\n",
       "      <td>NaN</td>\n",
       "      <td>NaN</td>\n",
       "      <td>...</td>\n",
       "      <td>NaN</td>\n",
       "      <td>NaN</td>\n",
       "      <td>NaN</td>\n",
       "      <td>NaN</td>\n",
       "      <td>NaN</td>\n",
       "      <td>NaN</td>\n",
       "      <td>NaN</td>\n",
       "      <td>7.47</td>\n",
       "      <td>9.08</td>\n",
       "      <td>NaN</td>\n",
       "    </tr>\n",
       "    <tr>\n",
       "      <th>2018-12-04</th>\n",
       "      <td>NaN</td>\n",
       "      <td>9.23</td>\n",
       "      <td>NaN</td>\n",
       "      <td>NaN</td>\n",
       "      <td>NaN</td>\n",
       "      <td>8.53</td>\n",
       "      <td>NaN</td>\n",
       "      <td>8.35</td>\n",
       "      <td>NaN</td>\n",
       "      <td>NaN</td>\n",
       "      <td>...</td>\n",
       "      <td>NaN</td>\n",
       "      <td>NaN</td>\n",
       "      <td>NaN</td>\n",
       "      <td>NaN</td>\n",
       "      <td>NaN</td>\n",
       "      <td>NaN</td>\n",
       "      <td>NaN</td>\n",
       "      <td>7.33</td>\n",
       "      <td>9.08</td>\n",
       "      <td>NaN</td>\n",
       "    </tr>\n",
       "    <tr>\n",
       "      <th>2018-12-05</th>\n",
       "      <td>NaN</td>\n",
       "      <td>9.23</td>\n",
       "      <td>NaN</td>\n",
       "      <td>NaN</td>\n",
       "      <td>NaN</td>\n",
       "      <td>8.56</td>\n",
       "      <td>NaN</td>\n",
       "      <td>8.33</td>\n",
       "      <td>NaN</td>\n",
       "      <td>NaN</td>\n",
       "      <td>...</td>\n",
       "      <td>NaN</td>\n",
       "      <td>NaN</td>\n",
       "      <td>NaN</td>\n",
       "      <td>8.42</td>\n",
       "      <td>NaN</td>\n",
       "      <td>NaN</td>\n",
       "      <td>NaN</td>\n",
       "      <td>7.31</td>\n",
       "      <td>9.08</td>\n",
       "      <td>NaN</td>\n",
       "    </tr>\n",
       "  </tbody>\n",
       "</table>\n",
       "<p>5 rows × 176 columns</p>\n",
       "</div>"
      ],
      "text/plain": [
       "name        7년-그들이 없는 언론  8월의 크리스마스  B급 며느리  PMC: 더 벙커  가버나움  거미줄에 걸린 소녀  \\\n",
       "date                                                                       \n",
       "2018-12-01           NaN        NaN     NaN        NaN   NaN         NaN   \n",
       "2018-12-02           NaN        NaN     NaN        NaN   NaN         NaN   \n",
       "2018-12-03           NaN        NaN     NaN        NaN   NaN         NaN   \n",
       "2018-12-04           NaN       9.23     NaN        NaN   NaN        8.53   \n",
       "2018-12-05           NaN       9.23     NaN        NaN   NaN        8.56   \n",
       "\n",
       "name        걸어도 걸어도  국가부도의 날  군산: 거위를 노래하다  그대 이름은 장미  ...  핵소 고지  허스토리  \\\n",
       "date                                                   ...                \n",
       "2018-12-01      NaN     8.43           NaN        NaN  ...    NaN   NaN   \n",
       "2018-12-02      NaN     8.42           NaN        NaN  ...    NaN   NaN   \n",
       "2018-12-03      NaN     8.40           NaN        NaN  ...    NaN   NaN   \n",
       "2018-12-04      NaN     8.35           NaN        NaN  ...    NaN   NaN   \n",
       "2018-12-05      NaN     8.33           NaN        NaN  ...    NaN   NaN   \n",
       "\n",
       "name        헌터 킬러  헤이트풀8  혈투  호두까기 인형과 4개의 왕국  환상의 빛    후드   휘트니  히트  \n",
       "date                                                                  \n",
       "2018-12-01    NaN    NaN NaN              NaN    NaN  7.66   NaN NaN  \n",
       "2018-12-02    NaN    NaN NaN              NaN    NaN  7.57   NaN NaN  \n",
       "2018-12-03    NaN    NaN NaN              NaN    NaN  7.47  9.08 NaN  \n",
       "2018-12-04    NaN    NaN NaN              NaN    NaN  7.33  9.08 NaN  \n",
       "2018-12-05    NaN   8.42 NaN              NaN    NaN  7.31  9.08 NaN  \n",
       "\n",
       "[5 rows x 176 columns]"
      ]
     },
     "execution_count": 86,
     "metadata": {},
     "output_type": "execute_result"
    }
   ],
   "source": [
    "movie_pivot.head()"
   ]
  },
  {
   "cell_type": "code",
   "execution_count": 87,
   "metadata": {},
   "outputs": [],
   "source": [
    "import platform\n",
    "from matplotlib import font_manager, rc\n",
    "\n",
    "path = 'C:/Windows/Fonts/malgun.ttf'\n",
    "if platform.system() == 'Darwin' :\n",
    "    rc('font', family='AppleGothic')\n",
    "elif platform.system() == 'Windows' :\n",
    "    font_name = font_manager.FontProperties(fname=path).get_name()\n",
    "    rc('font', family=font_name)\n",
    "else :\n",
    "    print('Unknown system... sorry')"
   ]
  },
  {
   "cell_type": "code",
   "execution_count": 88,
   "metadata": {},
   "outputs": [
    {
     "data": {
      "image/png": "[encoded data removed]",
      "text/plain": [
       "<Figure size 864x432 with 1 Axes>"
      ]
     },
     "metadata": {
      "needs_background": "light"
     },
     "output_type": "display_data"
    }
   ],
   "source": [
    "movie_pivot.plot(y=['보헤미안 랩소디', '스타 이즈 본', '그린 북', '허스토리', '시네마 천국'],\n",
    "                 figsize=(12,6))\n",
    "plt.legend(loc='best')\n",
    "plt.grid()\n",
    "plt.show()"
   ]
  },
  {
   "cell_type": "code",
   "execution_count": null,
   "metadata": {},
   "outputs": [],
   "source": []
  }
 ],
 "metadata": {
  "kernelspec": {
   "display_name": "Python 3",
   "language": "python",
   "name": "python3"
  },
  "language_info": {
   "codemirror_mode": {
    "name": "ipython",
    "version": 3
   },
   "file_extension": ".py",
   "mimetype": "text/x-python",
   "name": "python",
   "nbconvert_exporter": "python",
   "pygments_lexer": "ipython3",
   "version": "3.6.7"
  }
 },
 "nbformat": 4,
 "nbformat_minor": 2
}
