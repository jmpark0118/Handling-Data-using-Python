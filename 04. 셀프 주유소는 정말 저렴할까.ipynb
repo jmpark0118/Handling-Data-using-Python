{
 "cells": [
  {
   "cell_type": "markdown",
   "metadata": {},
   "source": [
    "## 4-1 Selenium 사용하기"
   ]
  },
  {
   "cell_type": "code",
   "execution_count": 1,
   "metadata": {},
   "outputs": [],
   "source": [
    "from selenium import webdriver"
   ]
  },
  {
   "cell_type": "code",
   "execution_count": 2,
   "metadata": {},
   "outputs": [],
   "source": [
    "driver = webdriver.Chrome('C:/Users/jeong/Documents/JUPYTER NOTEBOOK/selenium_driver/chromedriver')\n",
    "driver.implicitly_wait(3)"
   ]
  },
  {
   "cell_type": "code",
   "execution_count": 3,
   "metadata": {},
   "outputs": [],
   "source": [
    "driver.get('https://naver.com')"
   ]
  },
  {
   "cell_type": "code",
   "execution_count": 4,
   "metadata": {},
   "outputs": [
    {
     "data": {
      "text/plain": [
       "False"
      ]
     },
     "execution_count": 4,
     "metadata": {},
     "output_type": "execute_result"
    }
   ],
   "source": [
    "driver.save_screenshot('C:/Users/jeong/Documents/JUPYTER NOTEBOOK/selenium_images/001.png')"
   ]
  },
  {
   "cell_type": "code",
   "execution_count": 5,
   "metadata": {},
   "outputs": [],
   "source": [
    "xpath = '//*[@id=\"account\"]/div/a'\n",
    "driver.find_element_by_xpath(xpath).click()"
   ]
  },
  {
   "cell_type": "code",
   "execution_count": 6,
   "metadata": {},
   "outputs": [],
   "source": [
    "elem_login = driver.find_element_by_id('id')\n",
    "elem_login.clear()\n",
    "elem_login.send_keys('berryjane')\n",
    "\n",
    "elem_login = driver.find_element_by_id('pw')\n",
    "elem_login.clear()\n",
    "elem_login.send_keys('madie_wjdals0525')"
   ]
  },
  {
   "cell_type": "code",
   "execution_count": 7,
   "metadata": {},
   "outputs": [],
   "source": [
    "xpath = '//*[@id=\"frmNIDLogin\"]/fieldset/input'\n",
    "driver.find_element_by_xpath(xpath).click()"
   ]
  },
  {
   "cell_type": "code",
   "execution_count": 8,
   "metadata": {},
   "outputs": [],
   "source": [
    "driver.get('http://mail.naver.com')"
   ]
  },
  {
   "cell_type": "code",
   "execution_count": 9,
   "metadata": {},
   "outputs": [],
   "source": [
    "from bs4 import BeautifulSoup\n",
    "\n",
    "html = driver.page_source\n",
    "soup = BeautifulSoup(html, 'html.parser')"
   ]
  },
  {
   "cell_type": "code",
   "execution_count": 10,
   "metadata": {},
   "outputs": [
    {
     "data": {
      "text/plain": [
       "[]"
      ]
     },
     "execution_count": 10,
     "metadata": {},
     "output_type": "execute_result"
    }
   ],
   "source": [
    "raw_list = soup.find_all('div', 'name _ccr(lst.from) ')\n",
    "raw_list[:5]"
   ]
  },
  {
   "cell_type": "code",
   "execution_count": 11,
   "metadata": {},
   "outputs": [
    {
     "data": {
      "text/plain": [
       "[]"
      ]
     },
     "execution_count": 11,
     "metadata": {},
     "output_type": "execute_result"
    }
   ],
   "source": [
    "send_list = [raw_list[n].find('a').get_text() for n in range(0, len(raw_list))]\n",
    "send_list[:5]"
   ]
  },
  {
   "cell_type": "code",
   "execution_count": 12,
   "metadata": {},
   "outputs": [],
   "source": [
    "driver.close()"
   ]
  },
  {
   "cell_type": "markdown",
   "metadata": {},
   "source": [
    "## 4-2 서울시 구별 주유소 가격 정보 얻기"
   ]
  },
  {
   "cell_type": "code",
   "execution_count": 13,
   "metadata": {},
   "outputs": [],
   "source": [
    "driver = webdriver.Chrome('C:/Users/jeong/Documents/JUPYTER NOTEBOOK/selenium_driver/chromedriver.exe')\n",
    "driver.get('http://www.opinet.co.kr/searRgSelect.do')"
   ]
  },
  {
   "cell_type": "code",
   "execution_count": 14,
   "metadata": {},
   "outputs": [],
   "source": [
    "xpath = '//*[@id=\"SIGUNGU_NM0\"]'\n",
    "gu_list_raw = driver.find_element_by_xpath(xpath)\n",
    "gu_list = gu_list_raw.find_elements_by_tag_name('option')"
   ]
  },
  {
   "cell_type": "markdown",
   "metadata": {},
   "source": [
    "- `Selenium`에서는 단수와 복수 구분해야함!!"
   ]
  },
  {
   "cell_type": "code",
   "execution_count": 15,
   "metadata": {},
   "outputs": [
    {
     "data": {
      "text/plain": [
       "['강남구', '강동구', '강북구', '강서구', '관악구']"
      ]
     },
     "execution_count": 15,
     "metadata": {},
     "output_type": "execute_result"
    }
   ],
   "source": [
    "gu_names = [option.get_attribute('value') for option in gu_list]\n",
    "gu_names.remove('')\n",
    "gu_names[:5]"
   ]
  },
  {
   "cell_type": "code",
   "execution_count": 16,
   "metadata": {},
   "outputs": [],
   "source": [
    "xpath = '//*[@id=\"searRgSelect\"]'\n",
    "driver.find_element_by_xpath(xpath).click()"
   ]
  },
  {
   "cell_type": "code",
   "execution_count": 17,
   "metadata": {},
   "outputs": [],
   "source": [
    "xpath = '//*[@id=\"glopopd_excel\"]'\n",
    "driver.find_element_by_xpath(xpath).click()"
   ]
  },
  {
   "cell_type": "code",
   "execution_count": 18,
   "metadata": {},
   "outputs": [],
   "source": [
    "element = driver.find_element_by_id(\"SIGUNGU_NM0\")"
   ]
  },
  {
   "cell_type": "code",
   "execution_count": 19,
   "metadata": {},
   "outputs": [],
   "source": [
    "element.send_keys(gu_names[0])"
   ]
  },
  {
   "cell_type": "code",
   "execution_count": 20,
   "metadata": {},
   "outputs": [
    {
     "data": {
      "application/vnd.jupyter.widget-view+json": {
       "model_id": "a0b1379ac0234152accb5952a2637522",
       "version_major": 2,
       "version_minor": 0
      },
      "text/plain": [
       "HBox(children=(IntProgress(value=0, max=25), HTML(value='')))"
      ]
     },
     "metadata": {},
     "output_type": "display_data"
    },
    {
     "name": "stdout",
     "output_type": "stream",
     "text": [
      "\n"
     ]
    }
   ],
   "source": [
    "import time\n",
    "from tqdm import tqdm_notebook\n",
    "\n",
    "for gu in tqdm_notebook(gu_names) :\n",
    "    element = driver.find_element_by_id(\"SIGUNGU_NM0\")\n",
    "    element.send_keys(gu)\n",
    "    time.sleep(2)\n",
    "    \n",
    "    xpath = '//*[@id=\"searRgSelect\"]'\n",
    "    driver.find_element_by_xpath(xpath).click()\n",
    "    time.sleep(1)\n",
    "    \n",
    "    xpath = '//*[@id=\"glopopd_excel\"]'\n",
    "    driver.find_element_by_xpath(xpath).click()\n",
    "    time.sleep(1)"
   ]
  },
  {
   "cell_type": "code",
   "execution_count": 21,
   "metadata": {},
   "outputs": [],
   "source": [
    "driver.close()"
   ]
  },
  {
   "cell_type": "markdown",
   "metadata": {},
   "source": [
    "## 4-3 구별 주유 가격에 대한 데이터의 정리"
   ]
  },
  {
   "cell_type": "code",
   "execution_count": 22,
   "metadata": {},
   "outputs": [],
   "source": [
    "import pandas as pd\n",
    "from glob import glob"
   ]
  },
  {
   "cell_type": "code",
   "execution_count": 26,
   "metadata": {},
   "outputs": [
    {
     "data": {
      "text/plain": [
       "['C:/Users/jeong/Documents/JUPYTER NOTEBOOK/04_oil_data\\\\지역_위치별(주유소) (1).xls',\n",
       " 'C:/Users/jeong/Documents/JUPYTER NOTEBOOK/04_oil_data\\\\지역_위치별(주유소) (10).xls',\n",
       " 'C:/Users/jeong/Documents/JUPYTER NOTEBOOK/04_oil_data\\\\지역_위치별(주유소) (11).xls',\n",
       " 'C:/Users/jeong/Documents/JUPYTER NOTEBOOK/04_oil_data\\\\지역_위치별(주유소) (12).xls',\n",
       " 'C:/Users/jeong/Documents/JUPYTER NOTEBOOK/04_oil_data\\\\지역_위치별(주유소) (13).xls',\n",
       " 'C:/Users/jeong/Documents/JUPYTER NOTEBOOK/04_oil_data\\\\지역_위치별(주유소) (14).xls',\n",
       " 'C:/Users/jeong/Documents/JUPYTER NOTEBOOK/04_oil_data\\\\지역_위치별(주유소) (15).xls',\n",
       " 'C:/Users/jeong/Documents/JUPYTER NOTEBOOK/04_oil_data\\\\지역_위치별(주유소) (16).xls',\n",
       " 'C:/Users/jeong/Documents/JUPYTER NOTEBOOK/04_oil_data\\\\지역_위치별(주유소) (17).xls',\n",
       " 'C:/Users/jeong/Documents/JUPYTER NOTEBOOK/04_oil_data\\\\지역_위치별(주유소) (18).xls',\n",
       " 'C:/Users/jeong/Documents/JUPYTER NOTEBOOK/04_oil_data\\\\지역_위치별(주유소) (19).xls',\n",
       " 'C:/Users/jeong/Documents/JUPYTER NOTEBOOK/04_oil_data\\\\지역_위치별(주유소) (2).xls',\n",
       " 'C:/Users/jeong/Documents/JUPYTER NOTEBOOK/04_oil_data\\\\지역_위치별(주유소) (20).xls',\n",
       " 'C:/Users/jeong/Documents/JUPYTER NOTEBOOK/04_oil_data\\\\지역_위치별(주유소) (21).xls',\n",
       " 'C:/Users/jeong/Documents/JUPYTER NOTEBOOK/04_oil_data\\\\지역_위치별(주유소) (22).xls',\n",
       " 'C:/Users/jeong/Documents/JUPYTER NOTEBOOK/04_oil_data\\\\지역_위치별(주유소) (23).xls',\n",
       " 'C:/Users/jeong/Documents/JUPYTER NOTEBOOK/04_oil_data\\\\지역_위치별(주유소) (24).xls',\n",
       " 'C:/Users/jeong/Documents/JUPYTER NOTEBOOK/04_oil_data\\\\지역_위치별(주유소) (25).xls',\n",
       " 'C:/Users/jeong/Documents/JUPYTER NOTEBOOK/04_oil_data\\\\지역_위치별(주유소) (3).xls',\n",
       " 'C:/Users/jeong/Documents/JUPYTER NOTEBOOK/04_oil_data\\\\지역_위치별(주유소) (4).xls',\n",
       " 'C:/Users/jeong/Documents/JUPYTER NOTEBOOK/04_oil_data\\\\지역_위치별(주유소) (5).xls',\n",
       " 'C:/Users/jeong/Documents/JUPYTER NOTEBOOK/04_oil_data\\\\지역_위치별(주유소) (6).xls',\n",
       " 'C:/Users/jeong/Documents/JUPYTER NOTEBOOK/04_oil_data\\\\지역_위치별(주유소) (7).xls',\n",
       " 'C:/Users/jeong/Documents/JUPYTER NOTEBOOK/04_oil_data\\\\지역_위치별(주유소) (8).xls',\n",
       " 'C:/Users/jeong/Documents/JUPYTER NOTEBOOK/04_oil_data\\\\지역_위치별(주유소) (9).xls']"
      ]
     },
     "execution_count": 26,
     "metadata": {},
     "output_type": "execute_result"
    }
   ],
   "source": [
    "glob('C:/Users/jeong/Documents/JUPYTER NOTEBOOK/04_oil_data/지역*.xls')"
   ]
  },
  {
   "cell_type": "markdown",
   "metadata": {},
   "source": [
    "- **`glob()`** : `지역`으로 시작하는 xls파일 전체"
   ]
  },
  {
   "cell_type": "code",
   "execution_count": 30,
   "metadata": {},
   "outputs": [
    {
     "data": {
      "text/plain": [
       "['C:/Users/jeong/Documents/JUPYTER NOTEBOOK/04_oil_data\\\\지역_위치별(주유소) (1).xls',\n",
       " 'C:/Users/jeong/Documents/JUPYTER NOTEBOOK/04_oil_data\\\\지역_위치별(주유소) (10).xls',\n",
       " 'C:/Users/jeong/Documents/JUPYTER NOTEBOOK/04_oil_data\\\\지역_위치별(주유소) (11).xls',\n",
       " 'C:/Users/jeong/Documents/JUPYTER NOTEBOOK/04_oil_data\\\\지역_위치별(주유소) (12).xls',\n",
       " 'C:/Users/jeong/Documents/JUPYTER NOTEBOOK/04_oil_data\\\\지역_위치별(주유소) (13).xls']"
      ]
     },
     "execution_count": 30,
     "metadata": {},
     "output_type": "execute_result"
    }
   ],
   "source": [
    "stations_files = glob('C:/Users/jeong/Documents/JUPYTER NOTEBOOK/04_oil_data/지역*.xls')\n",
    "stations_files[:5]"
   ]
  },
  {
   "cell_type": "code",
   "execution_count": 31,
   "metadata": {},
   "outputs": [],
   "source": [
    "tmp_raw = []\n",
    "\n",
    "for file_name in stations_files :\n",
    "    tmp = pd.read_excel(file_name, header = 2)\n",
    "    tmp_raw.append(tmp)\n",
    "\n",
    "station_raw = pd.concat(tmp_raw)"
   ]
  },
  {
   "cell_type": "code",
   "execution_count": 32,
   "metadata": {},
   "outputs": [
    {
     "data": {
      "text/html": [
       "<div>\n",
       "<style scoped>\n",
       "    .dataframe tbody tr th:only-of-type {\n",
       "        vertical-align: middle;\n",
       "    }\n",
       "\n",
       "    .dataframe tbody tr th {\n",
       "        vertical-align: top;\n",
       "    }\n",
       "\n",
       "    .dataframe thead th {\n",
       "        text-align: right;\n",
       "    }\n",
       "</style>\n",
       "<table border=\"1\" class=\"dataframe\">\n",
       "  <thead>\n",
       "    <tr style=\"text-align: right;\">\n",
       "      <th></th>\n",
       "      <th>지역</th>\n",
       "      <th>상호</th>\n",
       "      <th>주소</th>\n",
       "      <th>상표</th>\n",
       "      <th>전화번호</th>\n",
       "      <th>셀프여부</th>\n",
       "      <th>고급휘발유</th>\n",
       "      <th>휘발유</th>\n",
       "      <th>경유</th>\n",
       "      <th>실내등유</th>\n",
       "    </tr>\n",
       "  </thead>\n",
       "  <tbody>\n",
       "    <tr>\n",
       "      <th>0</th>\n",
       "      <td>서울특별시</td>\n",
       "      <td>(주)보성 세곡주유소</td>\n",
       "      <td>서울특별시 강남구  헌릉로 731 (세곡동)</td>\n",
       "      <td>SK에너지</td>\n",
       "      <td>02-445-6870</td>\n",
       "      <td>Y</td>\n",
       "      <td>-</td>\n",
       "      <td>1359</td>\n",
       "      <td>1259</td>\n",
       "      <td>-</td>\n",
       "    </tr>\n",
       "    <tr>\n",
       "      <th>1</th>\n",
       "      <td>서울특별시</td>\n",
       "      <td>(주)정원이디에쓰 산성주유소</td>\n",
       "      <td>서울 강남구 헌릉로 730 (세곡동)</td>\n",
       "      <td>GS칼텍스</td>\n",
       "      <td>02-2226-4963</td>\n",
       "      <td>Y</td>\n",
       "      <td>-</td>\n",
       "      <td>1359</td>\n",
       "      <td>1279</td>\n",
       "      <td>-</td>\n",
       "    </tr>\n",
       "    <tr>\n",
       "      <th>2</th>\n",
       "      <td>서울특별시</td>\n",
       "      <td>현대오일뱅크 도곡셀프주유소</td>\n",
       "      <td>서울 강남구  남부순환로 2718 (도곡2동)</td>\n",
       "      <td>현대오일뱅크</td>\n",
       "      <td>02-529-5101</td>\n",
       "      <td>Y</td>\n",
       "      <td>1583</td>\n",
       "      <td>1383</td>\n",
       "      <td>1286</td>\n",
       "      <td>-</td>\n",
       "    </tr>\n",
       "    <tr>\n",
       "      <th>3</th>\n",
       "      <td>서울특별시</td>\n",
       "      <td>현대오일뱅크(주) 유진주유소</td>\n",
       "      <td>서울 강남구 논현로 152 (도곡동)</td>\n",
       "      <td>현대오일뱅크</td>\n",
       "      <td>02-3462-5215</td>\n",
       "      <td>N</td>\n",
       "      <td>1598</td>\n",
       "      <td>1398</td>\n",
       "      <td>1298</td>\n",
       "      <td>1100</td>\n",
       "    </tr>\n",
       "    <tr>\n",
       "      <th>4</th>\n",
       "      <td>서울특별시</td>\n",
       "      <td>방죽주유소</td>\n",
       "      <td>서울특별시 강남구 밤고개로 215 (율현동)</td>\n",
       "      <td>S-OIL</td>\n",
       "      <td>02-459-3434</td>\n",
       "      <td>Y</td>\n",
       "      <td>-</td>\n",
       "      <td>1419</td>\n",
       "      <td>1309</td>\n",
       "      <td>-</td>\n",
       "    </tr>\n",
       "  </tbody>\n",
       "</table>\n",
       "</div>"
      ],
      "text/plain": [
       "      지역               상호                         주소      상표          전화번호  \\\n",
       "0  서울특별시      (주)보성 세곡주유소   서울특별시 강남구  헌릉로 731 (세곡동)   SK에너지   02-445-6870   \n",
       "1  서울특별시  (주)정원이디에쓰 산성주유소       서울 강남구 헌릉로 730 (세곡동)   GS칼텍스  02-2226-4963   \n",
       "2  서울특별시   현대오일뱅크 도곡셀프주유소  서울 강남구  남부순환로 2718 (도곡2동)  현대오일뱅크   02-529-5101   \n",
       "3  서울특별시  현대오일뱅크(주) 유진주유소       서울 강남구 논현로 152 (도곡동)  현대오일뱅크  02-3462-5215   \n",
       "4  서울특별시            방죽주유소   서울특별시 강남구 밤고개로 215 (율현동)   S-OIL   02-459-3434   \n",
       "\n",
       "  셀프여부 고급휘발유   휘발유    경유  실내등유  \n",
       "0    Y     -  1359  1259     -  \n",
       "1    Y     -  1359  1279     -  \n",
       "2    Y  1583  1383  1286     -  \n",
       "3    N  1598  1398  1298  1100  \n",
       "4    Y     -  1419  1309     -  "
      ]
     },
     "execution_count": 32,
     "metadata": {},
     "output_type": "execute_result"
    }
   ],
   "source": [
    "station_raw.head()"
   ]
  },
  {
   "cell_type": "code",
   "execution_count": 33,
   "metadata": {},
   "outputs": [
    {
     "name": "stdout",
     "output_type": "stream",
     "text": [
      "<class 'pandas.core.frame.DataFrame'>\n",
      "Int64Index: 508 entries, 0 to 14\n",
      "Data columns (total 10 columns):\n",
      "지역       508 non-null object\n",
      "상호       508 non-null object\n",
      "주소       508 non-null object\n",
      "상표       508 non-null object\n",
      "전화번호     508 non-null object\n",
      "셀프여부     508 non-null object\n",
      "고급휘발유    508 non-null object\n",
      "휘발유      508 non-null object\n",
      "경유       508 non-null object\n",
      "실내등유     508 non-null object\n",
      "dtypes: object(10)\n",
      "memory usage: 43.7+ KB\n"
     ]
    }
   ],
   "source": [
    "station_raw.info()"
   ]
  },
  {
   "cell_type": "code",
   "execution_count": 34,
   "metadata": {},
   "outputs": [
    {
     "data": {
      "text/html": [
       "<div>\n",
       "<style scoped>\n",
       "    .dataframe tbody tr th:only-of-type {\n",
       "        vertical-align: middle;\n",
       "    }\n",
       "\n",
       "    .dataframe tbody tr th {\n",
       "        vertical-align: top;\n",
       "    }\n",
       "\n",
       "    .dataframe thead th {\n",
       "        text-align: right;\n",
       "    }\n",
       "</style>\n",
       "<table border=\"1\" class=\"dataframe\">\n",
       "  <thead>\n",
       "    <tr style=\"text-align: right;\">\n",
       "      <th></th>\n",
       "      <th>Oil_store</th>\n",
       "      <th>주소</th>\n",
       "      <th>가격</th>\n",
       "      <th>셀프</th>\n",
       "      <th>상표</th>\n",
       "    </tr>\n",
       "  </thead>\n",
       "  <tbody>\n",
       "    <tr>\n",
       "      <th>0</th>\n",
       "      <td>(주)보성 세곡주유소</td>\n",
       "      <td>서울특별시 강남구  헌릉로 731 (세곡동)</td>\n",
       "      <td>1359</td>\n",
       "      <td>Y</td>\n",
       "      <td>SK에너지</td>\n",
       "    </tr>\n",
       "    <tr>\n",
       "      <th>1</th>\n",
       "      <td>(주)정원이디에쓰 산성주유소</td>\n",
       "      <td>서울 강남구 헌릉로 730 (세곡동)</td>\n",
       "      <td>1359</td>\n",
       "      <td>Y</td>\n",
       "      <td>GS칼텍스</td>\n",
       "    </tr>\n",
       "    <tr>\n",
       "      <th>2</th>\n",
       "      <td>현대오일뱅크 도곡셀프주유소</td>\n",
       "      <td>서울 강남구  남부순환로 2718 (도곡2동)</td>\n",
       "      <td>1383</td>\n",
       "      <td>Y</td>\n",
       "      <td>현대오일뱅크</td>\n",
       "    </tr>\n",
       "    <tr>\n",
       "      <th>3</th>\n",
       "      <td>현대오일뱅크(주) 유진주유소</td>\n",
       "      <td>서울 강남구 논현로 152 (도곡동)</td>\n",
       "      <td>1398</td>\n",
       "      <td>N</td>\n",
       "      <td>현대오일뱅크</td>\n",
       "    </tr>\n",
       "    <tr>\n",
       "      <th>4</th>\n",
       "      <td>방죽주유소</td>\n",
       "      <td>서울특별시 강남구 밤고개로 215 (율현동)</td>\n",
       "      <td>1419</td>\n",
       "      <td>Y</td>\n",
       "      <td>S-OIL</td>\n",
       "    </tr>\n",
       "  </tbody>\n",
       "</table>\n",
       "</div>"
      ],
      "text/plain": [
       "         Oil_store                         주소    가격 셀프      상표\n",
       "0      (주)보성 세곡주유소   서울특별시 강남구  헌릉로 731 (세곡동)  1359  Y   SK에너지\n",
       "1  (주)정원이디에쓰 산성주유소       서울 강남구 헌릉로 730 (세곡동)  1359  Y   GS칼텍스\n",
       "2   현대오일뱅크 도곡셀프주유소  서울 강남구  남부순환로 2718 (도곡2동)  1383  Y  현대오일뱅크\n",
       "3  현대오일뱅크(주) 유진주유소       서울 강남구 논현로 152 (도곡동)  1398  N  현대오일뱅크\n",
       "4            방죽주유소   서울특별시 강남구 밤고개로 215 (율현동)  1419  Y   S-OIL"
      ]
     },
     "execution_count": 34,
     "metadata": {},
     "output_type": "execute_result"
    }
   ],
   "source": [
    "stations = pd.DataFrame({'Oil_store' : station_raw['상호'],\n",
    "                         '주소' : station_raw['주소'],\n",
    "                         '가격' : station_raw['휘발유'],\n",
    "                         '셀프' : station_raw['셀프여부'],\n",
    "                         '상표' : station_raw['상표']})\n",
    "stations.head()"
   ]
  },
  {
   "cell_type": "code",
   "execution_count": 35,
   "metadata": {},
   "outputs": [
    {
     "data": {
      "text/html": [
       "<div>\n",
       "<style scoped>\n",
       "    .dataframe tbody tr th:only-of-type {\n",
       "        vertical-align: middle;\n",
       "    }\n",
       "\n",
       "    .dataframe tbody tr th {\n",
       "        vertical-align: top;\n",
       "    }\n",
       "\n",
       "    .dataframe thead th {\n",
       "        text-align: right;\n",
       "    }\n",
       "</style>\n",
       "<table border=\"1\" class=\"dataframe\">\n",
       "  <thead>\n",
       "    <tr style=\"text-align: right;\">\n",
       "      <th></th>\n",
       "      <th>Oil_store</th>\n",
       "      <th>주소</th>\n",
       "      <th>가격</th>\n",
       "      <th>셀프</th>\n",
       "      <th>상표</th>\n",
       "      <th>구</th>\n",
       "    </tr>\n",
       "  </thead>\n",
       "  <tbody>\n",
       "    <tr>\n",
       "      <th>0</th>\n",
       "      <td>(주)보성 세곡주유소</td>\n",
       "      <td>서울특별시 강남구  헌릉로 731 (세곡동)</td>\n",
       "      <td>1359</td>\n",
       "      <td>Y</td>\n",
       "      <td>SK에너지</td>\n",
       "      <td>강남구</td>\n",
       "    </tr>\n",
       "    <tr>\n",
       "      <th>1</th>\n",
       "      <td>(주)정원이디에쓰 산성주유소</td>\n",
       "      <td>서울 강남구 헌릉로 730 (세곡동)</td>\n",
       "      <td>1359</td>\n",
       "      <td>Y</td>\n",
       "      <td>GS칼텍스</td>\n",
       "      <td>강남구</td>\n",
       "    </tr>\n",
       "    <tr>\n",
       "      <th>2</th>\n",
       "      <td>현대오일뱅크 도곡셀프주유소</td>\n",
       "      <td>서울 강남구  남부순환로 2718 (도곡2동)</td>\n",
       "      <td>1383</td>\n",
       "      <td>Y</td>\n",
       "      <td>현대오일뱅크</td>\n",
       "      <td>강남구</td>\n",
       "    </tr>\n",
       "    <tr>\n",
       "      <th>3</th>\n",
       "      <td>현대오일뱅크(주) 유진주유소</td>\n",
       "      <td>서울 강남구 논현로 152 (도곡동)</td>\n",
       "      <td>1398</td>\n",
       "      <td>N</td>\n",
       "      <td>현대오일뱅크</td>\n",
       "      <td>강남구</td>\n",
       "    </tr>\n",
       "    <tr>\n",
       "      <th>4</th>\n",
       "      <td>방죽주유소</td>\n",
       "      <td>서울특별시 강남구 밤고개로 215 (율현동)</td>\n",
       "      <td>1419</td>\n",
       "      <td>Y</td>\n",
       "      <td>S-OIL</td>\n",
       "      <td>강남구</td>\n",
       "    </tr>\n",
       "  </tbody>\n",
       "</table>\n",
       "</div>"
      ],
      "text/plain": [
       "         Oil_store                         주소    가격 셀프      상표    구\n",
       "0      (주)보성 세곡주유소   서울특별시 강남구  헌릉로 731 (세곡동)  1359  Y   SK에너지  강남구\n",
       "1  (주)정원이디에쓰 산성주유소       서울 강남구 헌릉로 730 (세곡동)  1359  Y   GS칼텍스  강남구\n",
       "2   현대오일뱅크 도곡셀프주유소  서울 강남구  남부순환로 2718 (도곡2동)  1383  Y  현대오일뱅크  강남구\n",
       "3  현대오일뱅크(주) 유진주유소       서울 강남구 논현로 152 (도곡동)  1398  N  현대오일뱅크  강남구\n",
       "4            방죽주유소   서울특별시 강남구 밤고개로 215 (율현동)  1419  Y   S-OIL  강남구"
      ]
     },
     "execution_count": 35,
     "metadata": {},
     "output_type": "execute_result"
    }
   ],
   "source": [
    "stations['구'] = [eachAddress.split()[1] for eachAddress in stations['주소']]\n",
    "stations.head()"
   ]
  },
  {
   "cell_type": "code",
   "execution_count": 36,
   "metadata": {},
   "outputs": [
    {
     "data": {
      "text/plain": [
       "array(['강남구', '도봉구', '특별시', '동대문구', '동작구', '마포구', '서대문구', '서초구', '성동구',\n",
       "       '성북구', '송파구', '양천구', '강동구', '영등포구', '용산구', '은평구', '종로구', '중구',\n",
       "       '중랑구', '강북구', '강서구', '관악구', '광진구', '구로구', '금천구', '노원구'],\n",
       "      dtype=object)"
      ]
     },
     "execution_count": 36,
     "metadata": {},
     "output_type": "execute_result"
    }
   ],
   "source": [
    "stations['구'].unique()"
   ]
  },
  {
   "cell_type": "markdown",
   "metadata": {},
   "source": [
    "- `특별시` : 제거해야함!"
   ]
  },
  {
   "cell_type": "code",
   "execution_count": 37,
   "metadata": {},
   "outputs": [
    {
     "data": {
      "text/html": [
       "<div>\n",
       "<style scoped>\n",
       "    .dataframe tbody tr th:only-of-type {\n",
       "        vertical-align: middle;\n",
       "    }\n",
       "\n",
       "    .dataframe tbody tr th {\n",
       "        vertical-align: top;\n",
       "    }\n",
       "\n",
       "    .dataframe thead th {\n",
       "        text-align: right;\n",
       "    }\n",
       "</style>\n",
       "<table border=\"1\" class=\"dataframe\">\n",
       "  <thead>\n",
       "    <tr style=\"text-align: right;\">\n",
       "      <th></th>\n",
       "      <th>Oil_store</th>\n",
       "      <th>주소</th>\n",
       "      <th>가격</th>\n",
       "      <th>셀프</th>\n",
       "      <th>상표</th>\n",
       "      <th>구</th>\n",
       "    </tr>\n",
       "  </thead>\n",
       "  <tbody>\n",
       "    <tr>\n",
       "      <th>7</th>\n",
       "      <td>서현주유소</td>\n",
       "      <td>서울 특별시 도봉구 방학로 142 (방학동)</td>\n",
       "      <td>1349</td>\n",
       "      <td>Y</td>\n",
       "      <td>S-OIL</td>\n",
       "      <td>특별시</td>\n",
       "    </tr>\n",
       "  </tbody>\n",
       "</table>\n",
       "</div>"
      ],
      "text/plain": [
       "  Oil_store                        주소    가격 셀프     상표    구\n",
       "7     서현주유소  서울 특별시 도봉구 방학로 142 (방학동)  1349  Y  S-OIL  특별시"
      ]
     },
     "execution_count": 37,
     "metadata": {},
     "output_type": "execute_result"
    }
   ],
   "source": [
    "stations[stations['구'] == '특별시']"
   ]
  },
  {
   "cell_type": "code",
   "execution_count": 38,
   "metadata": {},
   "outputs": [],
   "source": [
    "stations.loc[stations['구'] == '특별시', '구'] = '도봉구'"
   ]
  },
  {
   "cell_type": "code",
   "execution_count": 39,
   "metadata": {},
   "outputs": [
    {
     "data": {
      "text/plain": [
       "array(['강남구', '도봉구', '동대문구', '동작구', '마포구', '서대문구', '서초구', '성동구', '성북구',\n",
       "       '송파구', '양천구', '강동구', '영등포구', '용산구', '은평구', '종로구', '중구', '중랑구',\n",
       "       '강북구', '강서구', '관악구', '광진구', '구로구', '금천구', '노원구'], dtype=object)"
      ]
     },
     "execution_count": 39,
     "metadata": {},
     "output_type": "execute_result"
    }
   ],
   "source": [
    "stations['구'].unique()"
   ]
  },
  {
   "cell_type": "code",
   "execution_count": 40,
   "metadata": {},
   "outputs": [
    {
     "data": {
      "text/html": [
       "<div>\n",
       "<style scoped>\n",
       "    .dataframe tbody tr th:only-of-type {\n",
       "        vertical-align: middle;\n",
       "    }\n",
       "\n",
       "    .dataframe tbody tr th {\n",
       "        vertical-align: top;\n",
       "    }\n",
       "\n",
       "    .dataframe thead th {\n",
       "        text-align: right;\n",
       "    }\n",
       "</style>\n",
       "<table border=\"1\" class=\"dataframe\">\n",
       "  <thead>\n",
       "    <tr style=\"text-align: right;\">\n",
       "      <th></th>\n",
       "      <th>Oil_store</th>\n",
       "      <th>주소</th>\n",
       "      <th>가격</th>\n",
       "      <th>셀프</th>\n",
       "      <th>상표</th>\n",
       "      <th>구</th>\n",
       "    </tr>\n",
       "  </thead>\n",
       "  <tbody>\n",
       "    <tr>\n",
       "      <th>40</th>\n",
       "      <td>삼성주유소</td>\n",
       "      <td>서울 강남구 삼성로 521 (삼성동)</td>\n",
       "      <td>-</td>\n",
       "      <td>N</td>\n",
       "      <td>SK에너지</td>\n",
       "      <td>강남구</td>\n",
       "    </tr>\n",
       "    <tr>\n",
       "      <th>41</th>\n",
       "      <td>동우주유소</td>\n",
       "      <td>서울특별시 강남구  봉은사로 311 (논현동)</td>\n",
       "      <td>-</td>\n",
       "      <td>N</td>\n",
       "      <td>SK에너지</td>\n",
       "      <td>강남구</td>\n",
       "    </tr>\n",
       "    <tr>\n",
       "      <th>11</th>\n",
       "      <td>망원동주유소</td>\n",
       "      <td>서울 마포구 월드컵로 119 (망원동)</td>\n",
       "      <td>-</td>\n",
       "      <td>N</td>\n",
       "      <td>SK에너지</td>\n",
       "      <td>마포구</td>\n",
       "    </tr>\n",
       "    <tr>\n",
       "      <th>12</th>\n",
       "      <td>(주)승지 염리동주유소</td>\n",
       "      <td>서울 마포구 백범로 126 (염리동)</td>\n",
       "      <td>-</td>\n",
       "      <td>N</td>\n",
       "      <td>현대오일뱅크</td>\n",
       "      <td>마포구</td>\n",
       "    </tr>\n",
       "    <tr>\n",
       "      <th>13</th>\n",
       "      <td>서강주유소</td>\n",
       "      <td>서울 마포구 독막로 134 (창전동)</td>\n",
       "      <td>-</td>\n",
       "      <td>N</td>\n",
       "      <td>SK에너지</td>\n",
       "      <td>마포구</td>\n",
       "    </tr>\n",
       "    <tr>\n",
       "      <th>22</th>\n",
       "      <td>KR누리(주) 종암주유소</td>\n",
       "      <td>서울 성북구 종암로 145 (종암동)</td>\n",
       "      <td>-</td>\n",
       "      <td>N</td>\n",
       "      <td>SK에너지</td>\n",
       "      <td>성북구</td>\n",
       "    </tr>\n",
       "    <tr>\n",
       "      <th>24</th>\n",
       "      <td>현대주유소</td>\n",
       "      <td>서울 양천구 남부순환로 372 (신월동)</td>\n",
       "      <td>-</td>\n",
       "      <td>Y</td>\n",
       "      <td>S-OIL</td>\n",
       "      <td>양천구</td>\n",
       "    </tr>\n",
       "    <tr>\n",
       "      <th>17</th>\n",
       "      <td>대성산업(주)대성주유소</td>\n",
       "      <td>서울 은평구 통일로 642 (녹번동)</td>\n",
       "      <td>-</td>\n",
       "      <td>N</td>\n",
       "      <td>GS칼텍스</td>\n",
       "      <td>은평구</td>\n",
       "    </tr>\n",
       "  </tbody>\n",
       "</table>\n",
       "</div>"
      ],
      "text/plain": [
       "        Oil_store                         주소 가격 셀프      상표    구\n",
       "40          삼성주유소       서울 강남구 삼성로 521 (삼성동)  -  N   SK에너지  강남구\n",
       "41          동우주유소  서울특별시 강남구  봉은사로 311 (논현동)  -  N   SK에너지  강남구\n",
       "11         망원동주유소      서울 마포구 월드컵로 119 (망원동)  -  N   SK에너지  마포구\n",
       "12   (주)승지 염리동주유소       서울 마포구 백범로 126 (염리동)  -  N  현대오일뱅크  마포구\n",
       "13          서강주유소       서울 마포구 독막로 134 (창전동)  -  N   SK에너지  마포구\n",
       "22  KR누리(주) 종암주유소       서울 성북구 종암로 145 (종암동)  -  N   SK에너지  성북구\n",
       "24          현대주유소     서울 양천구 남부순환로 372 (신월동)  -  Y   S-OIL  양천구\n",
       "17   대성산업(주)대성주유소       서울 은평구 통일로 642 (녹번동)  -  N   GS칼텍스  은평구"
      ]
     },
     "execution_count": 40,
     "metadata": {},
     "output_type": "execute_result"
    }
   ],
   "source": [
    "stations[stations['가격'] == '-']"
   ]
  },
  {
   "cell_type": "markdown",
   "metadata": {},
   "source": [
    "- `가격`이 입력되지 않은 행은 제거!"
   ]
  },
  {
   "cell_type": "code",
   "execution_count": 41,
   "metadata": {},
   "outputs": [
    {
     "data": {
      "text/html": [
       "<div>\n",
       "<style scoped>\n",
       "    .dataframe tbody tr th:only-of-type {\n",
       "        vertical-align: middle;\n",
       "    }\n",
       "\n",
       "    .dataframe tbody tr th {\n",
       "        vertical-align: top;\n",
       "    }\n",
       "\n",
       "    .dataframe thead th {\n",
       "        text-align: right;\n",
       "    }\n",
       "</style>\n",
       "<table border=\"1\" class=\"dataframe\">\n",
       "  <thead>\n",
       "    <tr style=\"text-align: right;\">\n",
       "      <th></th>\n",
       "      <th>Oil_store</th>\n",
       "      <th>주소</th>\n",
       "      <th>가격</th>\n",
       "      <th>셀프</th>\n",
       "      <th>상표</th>\n",
       "      <th>구</th>\n",
       "    </tr>\n",
       "  </thead>\n",
       "  <tbody>\n",
       "    <tr>\n",
       "      <th>0</th>\n",
       "      <td>(주)보성 세곡주유소</td>\n",
       "      <td>서울특별시 강남구  헌릉로 731 (세곡동)</td>\n",
       "      <td>1359</td>\n",
       "      <td>Y</td>\n",
       "      <td>SK에너지</td>\n",
       "      <td>강남구</td>\n",
       "    </tr>\n",
       "    <tr>\n",
       "      <th>1</th>\n",
       "      <td>(주)정원이디에쓰 산성주유소</td>\n",
       "      <td>서울 강남구 헌릉로 730 (세곡동)</td>\n",
       "      <td>1359</td>\n",
       "      <td>Y</td>\n",
       "      <td>GS칼텍스</td>\n",
       "      <td>강남구</td>\n",
       "    </tr>\n",
       "    <tr>\n",
       "      <th>2</th>\n",
       "      <td>현대오일뱅크 도곡셀프주유소</td>\n",
       "      <td>서울 강남구  남부순환로 2718 (도곡2동)</td>\n",
       "      <td>1383</td>\n",
       "      <td>Y</td>\n",
       "      <td>현대오일뱅크</td>\n",
       "      <td>강남구</td>\n",
       "    </tr>\n",
       "    <tr>\n",
       "      <th>3</th>\n",
       "      <td>현대오일뱅크(주) 유진주유소</td>\n",
       "      <td>서울 강남구 논현로 152 (도곡동)</td>\n",
       "      <td>1398</td>\n",
       "      <td>N</td>\n",
       "      <td>현대오일뱅크</td>\n",
       "      <td>강남구</td>\n",
       "    </tr>\n",
       "    <tr>\n",
       "      <th>4</th>\n",
       "      <td>방죽주유소</td>\n",
       "      <td>서울특별시 강남구 밤고개로 215 (율현동)</td>\n",
       "      <td>1419</td>\n",
       "      <td>Y</td>\n",
       "      <td>S-OIL</td>\n",
       "      <td>강남구</td>\n",
       "    </tr>\n",
       "  </tbody>\n",
       "</table>\n",
       "</div>"
      ],
      "text/plain": [
       "         Oil_store                         주소    가격 셀프      상표    구\n",
       "0      (주)보성 세곡주유소   서울특별시 강남구  헌릉로 731 (세곡동)  1359  Y   SK에너지  강남구\n",
       "1  (주)정원이디에쓰 산성주유소       서울 강남구 헌릉로 730 (세곡동)  1359  Y   GS칼텍스  강남구\n",
       "2   현대오일뱅크 도곡셀프주유소  서울 강남구  남부순환로 2718 (도곡2동)  1383  Y  현대오일뱅크  강남구\n",
       "3  현대오일뱅크(주) 유진주유소       서울 강남구 논현로 152 (도곡동)  1398  N  현대오일뱅크  강남구\n",
       "4            방죽주유소   서울특별시 강남구 밤고개로 215 (율현동)  1419  Y   S-OIL  강남구"
      ]
     },
     "execution_count": 41,
     "metadata": {},
     "output_type": "execute_result"
    }
   ],
   "source": [
    "stations = stations[stations['가격'] != '-']\n",
    "stations.head()"
   ]
  },
  {
   "cell_type": "code",
   "execution_count": 42,
   "metadata": {},
   "outputs": [
    {
     "name": "stdout",
     "output_type": "stream",
     "text": [
      "<class 'pandas.core.frame.DataFrame'>\n",
      "Int64Index: 500 entries, 0 to 14\n",
      "Data columns (total 6 columns):\n",
      "Oil_store    500 non-null object\n",
      "주소           500 non-null object\n",
      "가격           500 non-null object\n",
      "셀프           500 non-null object\n",
      "상표           500 non-null object\n",
      "구            500 non-null object\n",
      "dtypes: object(6)\n",
      "memory usage: 27.3+ KB\n"
     ]
    }
   ],
   "source": [
    "stations.info()"
   ]
  },
  {
   "cell_type": "markdown",
   "metadata": {},
   "source": [
    "- 아직 `가격`정보는 숫자형데이터가 아님"
   ]
  },
  {
   "cell_type": "code",
   "execution_count": 43,
   "metadata": {},
   "outputs": [
    {
     "data": {
      "text/html": [
       "<div>\n",
       "<style scoped>\n",
       "    .dataframe tbody tr th:only-of-type {\n",
       "        vertical-align: middle;\n",
       "    }\n",
       "\n",
       "    .dataframe tbody tr th {\n",
       "        vertical-align: top;\n",
       "    }\n",
       "\n",
       "    .dataframe thead th {\n",
       "        text-align: right;\n",
       "    }\n",
       "</style>\n",
       "<table border=\"1\" class=\"dataframe\">\n",
       "  <thead>\n",
       "    <tr style=\"text-align: right;\">\n",
       "      <th></th>\n",
       "      <th>Oil_store</th>\n",
       "      <th>주소</th>\n",
       "      <th>가격</th>\n",
       "      <th>셀프</th>\n",
       "      <th>상표</th>\n",
       "      <th>구</th>\n",
       "    </tr>\n",
       "  </thead>\n",
       "  <tbody>\n",
       "    <tr>\n",
       "      <th>0</th>\n",
       "      <td>(주)보성 세곡주유소</td>\n",
       "      <td>서울특별시 강남구  헌릉로 731 (세곡동)</td>\n",
       "      <td>1359.0</td>\n",
       "      <td>Y</td>\n",
       "      <td>SK에너지</td>\n",
       "      <td>강남구</td>\n",
       "    </tr>\n",
       "    <tr>\n",
       "      <th>1</th>\n",
       "      <td>(주)정원이디에쓰 산성주유소</td>\n",
       "      <td>서울 강남구 헌릉로 730 (세곡동)</td>\n",
       "      <td>1359.0</td>\n",
       "      <td>Y</td>\n",
       "      <td>GS칼텍스</td>\n",
       "      <td>강남구</td>\n",
       "    </tr>\n",
       "    <tr>\n",
       "      <th>2</th>\n",
       "      <td>현대오일뱅크 도곡셀프주유소</td>\n",
       "      <td>서울 강남구  남부순환로 2718 (도곡2동)</td>\n",
       "      <td>1383.0</td>\n",
       "      <td>Y</td>\n",
       "      <td>현대오일뱅크</td>\n",
       "      <td>강남구</td>\n",
       "    </tr>\n",
       "    <tr>\n",
       "      <th>3</th>\n",
       "      <td>현대오일뱅크(주) 유진주유소</td>\n",
       "      <td>서울 강남구 논현로 152 (도곡동)</td>\n",
       "      <td>1398.0</td>\n",
       "      <td>N</td>\n",
       "      <td>현대오일뱅크</td>\n",
       "      <td>강남구</td>\n",
       "    </tr>\n",
       "    <tr>\n",
       "      <th>4</th>\n",
       "      <td>방죽주유소</td>\n",
       "      <td>서울특별시 강남구 밤고개로 215 (율현동)</td>\n",
       "      <td>1419.0</td>\n",
       "      <td>Y</td>\n",
       "      <td>S-OIL</td>\n",
       "      <td>강남구</td>\n",
       "    </tr>\n",
       "  </tbody>\n",
       "</table>\n",
       "</div>"
      ],
      "text/plain": [
       "         Oil_store                         주소      가격 셀프      상표    구\n",
       "0      (주)보성 세곡주유소   서울특별시 강남구  헌릉로 731 (세곡동)  1359.0  Y   SK에너지  강남구\n",
       "1  (주)정원이디에쓰 산성주유소       서울 강남구 헌릉로 730 (세곡동)  1359.0  Y   GS칼텍스  강남구\n",
       "2   현대오일뱅크 도곡셀프주유소  서울 강남구  남부순환로 2718 (도곡2동)  1383.0  Y  현대오일뱅크  강남구\n",
       "3  현대오일뱅크(주) 유진주유소       서울 강남구 논현로 152 (도곡동)  1398.0  N  현대오일뱅크  강남구\n",
       "4            방죽주유소   서울특별시 강남구 밤고개로 215 (율현동)  1419.0  Y   S-OIL  강남구"
      ]
     },
     "execution_count": 43,
     "metadata": {},
     "output_type": "execute_result"
    }
   ],
   "source": [
    "stations['가격'] = [float(value) for value in stations['가격']]\n",
    "stations.head()"
   ]
  },
  {
   "cell_type": "code",
   "execution_count": 44,
   "metadata": {},
   "outputs": [
    {
     "name": "stdout",
     "output_type": "stream",
     "text": [
      "<class 'pandas.core.frame.DataFrame'>\n",
      "Int64Index: 500 entries, 0 to 14\n",
      "Data columns (total 6 columns):\n",
      "Oil_store    500 non-null object\n",
      "주소           500 non-null object\n",
      "가격           500 non-null float64\n",
      "셀프           500 non-null object\n",
      "상표           500 non-null object\n",
      "구            500 non-null object\n",
      "dtypes: float64(1), object(5)\n",
      "memory usage: 27.3+ KB\n"
     ]
    }
   ],
   "source": [
    "stations.info()"
   ]
  },
  {
   "cell_type": "markdown",
   "metadata": {},
   "source": [
    "- `가격`이 숫자형으로 변경!!"
   ]
  },
  {
   "cell_type": "code",
   "execution_count": 45,
   "metadata": {},
   "outputs": [],
   "source": [
    "stations.reset_index(inplace = True)\n",
    "del stations['index']"
   ]
  },
  {
   "cell_type": "markdown",
   "metadata": {},
   "source": [
    "- 25개의 엑셀파일을 합쳤기 때문에 index가 중복되었을 수 있음!\n",
    "    - `reset_index()`를 통해 인텍스를 처음부터 다시 기록하도록 한다."
   ]
  },
  {
   "cell_type": "markdown",
   "metadata": {},
   "source": [
    "## 4-4 셀프 주유소는 정말 저렴한지 boxplot으로 확인하기"
   ]
  },
  {
   "cell_type": "code",
   "execution_count": 46,
   "metadata": {},
   "outputs": [],
   "source": [
    "import matplotlib.pyplot as plt\n",
    "import seaborn as sns\n",
    "%matplotlib inline\n",
    "\n",
    "import platform\n",
    "\n",
    "path = 'C:/Windows/Fonts/malgun.ttf'\n",
    "from matplotlib import font_manager, rc\n",
    "if platform.system() == 'Darwin' :\n",
    "    rc('font', family='AppleGothic')\n",
    "elif platform.system() == 'Windows' :\n",
    "    font_name = font_manager.FontProperties(fname=path).get_name()\n",
    "    rc('font', family=font_name)\n",
    "else :\n",
    "    print('Unknown system... sorry')"
   ]
  },
  {
   "cell_type": "code",
   "execution_count": 47,
   "metadata": {},
   "outputs": [
    {
     "data": {
      "image/png": "[encoded data removed]",
      "text/plain": [
       "<Figure size 864x576 with 1 Axes>"
      ]
     },
     "metadata": {
      "needs_background": "light"
     },
     "output_type": "display_data"
    }
   ],
   "source": [
    "stations.boxplot(column = '가격', by = '셀프', figsize=(12,8))\n",
    "plt.show()"
   ]
  },
  {
   "cell_type": "code",
   "execution_count": 48,
   "metadata": {},
   "outputs": [
    {
     "data": {
      "image/png": "[encoded data removed]",
      "text/plain": [
       "<Figure size 864x576 with 1 Axes>"
      ]
     },
     "metadata": {
      "needs_background": "light"
     },
     "output_type": "display_data"
    }
   ],
   "source": [
    "plt.figure(figsize=(12,8))\n",
    "sns.boxplot(x='상표', y='가격', hue='셀프', data=stations, palette='Set3')\n",
    "plt.show()"
   ]
  },
  {
   "cell_type": "code",
   "execution_count": 49,
   "metadata": {},
   "outputs": [
    {
     "data": {
      "image/png": "[encoded data removed]",
      "text/plain": [
       "<Figure size 864x576 with 1 Axes>"
      ]
     },
     "metadata": {
      "needs_background": "light"
     },
     "output_type": "display_data"
    }
   ],
   "source": [
    "plt.figure(figsize=(12,8))\n",
    "sns.boxplot(x='상표', y='가격', data=stations, palette='Set3')\n",
    "sns.swarmplot(x='상표', y='가격', data=stations, color='.6')\n",
    "plt.show()"
   ]
  },
  {
   "cell_type": "markdown",
   "metadata": {},
   "source": [
    "- `swarmplot` : draw a scatter plot with non-overlapping points"
   ]
  },
  {
   "cell_type": "code",
   "execution_count": 50,
   "metadata": {},
   "outputs": [
    {
     "data": {
      "text/plain": [
       "N    321\n",
       "Y    179\n",
       "Name: 셀프, dtype: int64"
      ]
     },
     "execution_count": 50,
     "metadata": {},
     "output_type": "execute_result"
    }
   ],
   "source": [
    "stations['셀프'].value_counts()"
   ]
  },
  {
   "cell_type": "code",
   "execution_count": 51,
   "metadata": {},
   "outputs": [
    {
     "data": {
      "text/plain": [
       "Ttest_indResult(statistic=-9.048240661085286, pvalue=3.263851576282372e-18)"
      ]
     },
     "execution_count": 51,
     "metadata": {},
     "output_type": "execute_result"
    }
   ],
   "source": [
    "from scipy.stats import ttest_ind\n",
    "\n",
    "cat1 = stations[stations['셀프']=='Y']\n",
    "cat2 = stations[stations['셀프']=='N']\n",
    "\n",
    "ttest_ind(cat1['가격'], cat2['가격'])"
   ]
  },
  {
   "cell_type": "markdown",
   "metadata": {},
   "source": [
    "- T-test를 해본 결과 `셀프`인 주유소와 아닌 주유소 간에 휘발유 가격의 차이가 있다고 할 수 있다."
   ]
  },
  {
   "cell_type": "markdown",
   "metadata": {},
   "source": [
    "## 4-5 서울시 구별 주유 가격 확인하기"
   ]
  },
  {
   "cell_type": "code",
   "execution_count": 52,
   "metadata": {},
   "outputs": [],
   "source": [
    "import json\n",
    "import folium\n",
    "import googlemaps\n",
    "import warnings\n",
    "warnings.simplefilter(action = 'ignore', category = FutureWarning)"
   ]
  },
  {
   "cell_type": "code",
   "execution_count": 53,
   "metadata": {},
   "outputs": [
    {
     "data": {
      "text/html": [
       "<div>\n",
       "<style scoped>\n",
       "    .dataframe tbody tr th:only-of-type {\n",
       "        vertical-align: middle;\n",
       "    }\n",
       "\n",
       "    .dataframe tbody tr th {\n",
       "        vertical-align: top;\n",
       "    }\n",
       "\n",
       "    .dataframe thead th {\n",
       "        text-align: right;\n",
       "    }\n",
       "</style>\n",
       "<table border=\"1\" class=\"dataframe\">\n",
       "  <thead>\n",
       "    <tr style=\"text-align: right;\">\n",
       "      <th></th>\n",
       "      <th>Oil_store</th>\n",
       "      <th>주소</th>\n",
       "      <th>가격</th>\n",
       "      <th>셀프</th>\n",
       "      <th>상표</th>\n",
       "      <th>구</th>\n",
       "    </tr>\n",
       "  </thead>\n",
       "  <tbody>\n",
       "    <tr>\n",
       "      <th>351</th>\n",
       "      <td>서남주유소</td>\n",
       "      <td>서울 중구 통일로 30 (봉래동1가)</td>\n",
       "      <td>2093.0</td>\n",
       "      <td>N</td>\n",
       "      <td>SK에너지</td>\n",
       "      <td>중구</td>\n",
       "    </tr>\n",
       "    <tr>\n",
       "      <th>39</th>\n",
       "      <td>뉴서울(강남)</td>\n",
       "      <td>서울 강남구 언주로 716 (논현동)</td>\n",
       "      <td>2028.0</td>\n",
       "      <td>N</td>\n",
       "      <td>SK에너지</td>\n",
       "      <td>강남구</td>\n",
       "    </tr>\n",
       "    <tr>\n",
       "      <th>155</th>\n",
       "      <td>양재주유소</td>\n",
       "      <td>서울 서초구 바우뫼로 178 (양재동)</td>\n",
       "      <td>1999.0</td>\n",
       "      <td>N</td>\n",
       "      <td>SK에너지</td>\n",
       "      <td>서초구</td>\n",
       "    </tr>\n",
       "    <tr>\n",
       "      <th>350</th>\n",
       "      <td>장충주유소</td>\n",
       "      <td>서울 중구 장충단로 202 (장충동1가)</td>\n",
       "      <td>1999.0</td>\n",
       "      <td>N</td>\n",
       "      <td>SK에너지</td>\n",
       "      <td>중구</td>\n",
       "    </tr>\n",
       "    <tr>\n",
       "      <th>194</th>\n",
       "      <td>삼선주유소</td>\n",
       "      <td>서울 성북구  창경궁로 324</td>\n",
       "      <td>1998.0</td>\n",
       "      <td>N</td>\n",
       "      <td>S-OIL</td>\n",
       "      <td>성북구</td>\n",
       "    </tr>\n",
       "    <tr>\n",
       "      <th>349</th>\n",
       "      <td>필동주유소</td>\n",
       "      <td>서울특별시 중구  퇴계로 196 (필동2가)</td>\n",
       "      <td>1989.0</td>\n",
       "      <td>N</td>\n",
       "      <td>GS칼텍스</td>\n",
       "      <td>중구</td>\n",
       "    </tr>\n",
       "    <tr>\n",
       "      <th>339</th>\n",
       "      <td>(주)대양씨앤씨 사직주유소</td>\n",
       "      <td>서울 종로구 사직로 65 (사직동)</td>\n",
       "      <td>1978.0</td>\n",
       "      <td>N</td>\n",
       "      <td>GS칼텍스</td>\n",
       "      <td>종로구</td>\n",
       "    </tr>\n",
       "    <tr>\n",
       "      <th>312</th>\n",
       "      <td>한남지점</td>\n",
       "      <td>서울 용산구 한남대로21길 4 (한남동)</td>\n",
       "      <td>1978.0</td>\n",
       "      <td>N</td>\n",
       "      <td>SK에너지</td>\n",
       "      <td>용산구</td>\n",
       "    </tr>\n",
       "    <tr>\n",
       "      <th>348</th>\n",
       "      <td>(주)중앙에너비스 퇴계로지점</td>\n",
       "      <td>서울 중구 퇴계로 228 (필동2가)</td>\n",
       "      <td>1978.0</td>\n",
       "      <td>N</td>\n",
       "      <td>SK에너지</td>\n",
       "      <td>중구</td>\n",
       "    </tr>\n",
       "    <tr>\n",
       "      <th>313</th>\n",
       "      <td>에너비스</td>\n",
       "      <td>서울 용산구 한남대로 82 (한남동)</td>\n",
       "      <td>1978.0</td>\n",
       "      <td>N</td>\n",
       "      <td>SK에너지</td>\n",
       "      <td>용산구</td>\n",
       "    </tr>\n",
       "  </tbody>\n",
       "</table>\n",
       "</div>"
      ],
      "text/plain": [
       "           Oil_store                        주소      가격 셀프     상표    구\n",
       "351            서남주유소      서울 중구 통일로 30 (봉래동1가)  2093.0  N  SK에너지   중구\n",
       "39           뉴서울(강남)      서울 강남구 언주로 716 (논현동)  2028.0  N  SK에너지  강남구\n",
       "155            양재주유소     서울 서초구 바우뫼로 178 (양재동)  1999.0  N  SK에너지  서초구\n",
       "350            장충주유소    서울 중구 장충단로 202 (장충동1가)  1999.0  N  SK에너지   중구\n",
       "194            삼선주유소          서울 성북구  창경궁로 324  1998.0  N  S-OIL  성북구\n",
       "349            필동주유소  서울특별시 중구  퇴계로 196 (필동2가)  1989.0  N  GS칼텍스   중구\n",
       "339   (주)대양씨앤씨 사직주유소       서울 종로구 사직로 65 (사직동)  1978.0  N  GS칼텍스  종로구\n",
       "312             한남지점    서울 용산구 한남대로21길 4 (한남동)  1978.0  N  SK에너지  용산구\n",
       "348  (주)중앙에너비스 퇴계로지점      서울 중구 퇴계로 228 (필동2가)  1978.0  N  SK에너지   중구\n",
       "313             에너비스      서울 용산구 한남대로 82 (한남동)  1978.0  N  SK에너지  용산구"
      ]
     },
     "execution_count": 53,
     "metadata": {},
     "output_type": "execute_result"
    }
   ],
   "source": [
    "stations.sort_values(by='가격', ascending=False).head(10)"
   ]
  },
  {
   "cell_type": "code",
   "execution_count": 54,
   "metadata": {},
   "outputs": [
    {
     "data": {
      "text/html": [
       "<div>\n",
       "<style scoped>\n",
       "    .dataframe tbody tr th:only-of-type {\n",
       "        vertical-align: middle;\n",
       "    }\n",
       "\n",
       "    .dataframe tbody tr th {\n",
       "        vertical-align: top;\n",
       "    }\n",
       "\n",
       "    .dataframe thead th {\n",
       "        text-align: right;\n",
       "    }\n",
       "</style>\n",
       "<table border=\"1\" class=\"dataframe\">\n",
       "  <thead>\n",
       "    <tr style=\"text-align: right;\">\n",
       "      <th></th>\n",
       "      <th>Oil_store</th>\n",
       "      <th>주소</th>\n",
       "      <th>가격</th>\n",
       "      <th>셀프</th>\n",
       "      <th>상표</th>\n",
       "      <th>구</th>\n",
       "    </tr>\n",
       "  </thead>\n",
       "  <tbody>\n",
       "    <tr>\n",
       "      <th>352</th>\n",
       "      <td>(주)자연에너지 대창주유소</td>\n",
       "      <td>서울 중랑구 동일로 636 (면목동)</td>\n",
       "      <td>1307.0</td>\n",
       "      <td>N</td>\n",
       "      <td>현대오일뱅크</td>\n",
       "      <td>중랑구</td>\n",
       "    </tr>\n",
       "    <tr>\n",
       "      <th>353</th>\n",
       "      <td>에스오일(주) 구도일주유소 동천</td>\n",
       "      <td>서울특별시 중랑구  동일로 654 (면목동)</td>\n",
       "      <td>1307.0</td>\n",
       "      <td>Y</td>\n",
       "      <td>S-OIL</td>\n",
       "      <td>중랑구</td>\n",
       "    </tr>\n",
       "    <tr>\n",
       "      <th>40</th>\n",
       "      <td>SK네트웍스(주)도봉행복주유소</td>\n",
       "      <td>서울 도봉구  도봉로 941 (도봉동)</td>\n",
       "      <td>1309.0</td>\n",
       "      <td>Y</td>\n",
       "      <td>SK에너지</td>\n",
       "      <td>도봉구</td>\n",
       "    </tr>\n",
       "    <tr>\n",
       "      <th>367</th>\n",
       "      <td>수유동주유소</td>\n",
       "      <td>서울특별시 강북구  도봉로 395 (수유동)</td>\n",
       "      <td>1314.0</td>\n",
       "      <td>Y</td>\n",
       "      <td>GS칼텍스</td>\n",
       "      <td>강북구</td>\n",
       "    </tr>\n",
       "    <tr>\n",
       "      <th>315</th>\n",
       "      <td>타이거주유소</td>\n",
       "      <td>서울 은평구 수색로 188 (증산동)</td>\n",
       "      <td>1315.0</td>\n",
       "      <td>Y</td>\n",
       "      <td>SK에너지</td>\n",
       "      <td>은평구</td>\n",
       "    </tr>\n",
       "    <tr>\n",
       "      <th>314</th>\n",
       "      <td>(주)명연에너지 수색훼미리주유소</td>\n",
       "      <td>서울 은평구 수색로 236 (수색동)</td>\n",
       "      <td>1315.0</td>\n",
       "      <td>Y</td>\n",
       "      <td>현대오일뱅크</td>\n",
       "      <td>은평구</td>\n",
       "    </tr>\n",
       "    <tr>\n",
       "      <th>173</th>\n",
       "      <td>원천주유소</td>\n",
       "      <td>서울특별시 성북구  돌곶이로 142 (장위동)</td>\n",
       "      <td>1315.0</td>\n",
       "      <td>N</td>\n",
       "      <td>알뜰주유소</td>\n",
       "      <td>성북구</td>\n",
       "    </tr>\n",
       "    <tr>\n",
       "      <th>368</th>\n",
       "      <td>북서울고속주유소</td>\n",
       "      <td>서울특별시 강북구 삼양로 410 (수유동)</td>\n",
       "      <td>1317.0</td>\n",
       "      <td>Y</td>\n",
       "      <td>S-OIL</td>\n",
       "      <td>강북구</td>\n",
       "    </tr>\n",
       "    <tr>\n",
       "      <th>174</th>\n",
       "      <td>강산주유소</td>\n",
       "      <td>서울 성북구 보문로 27 (보문동7가)</td>\n",
       "      <td>1317.0</td>\n",
       "      <td>N</td>\n",
       "      <td>GS칼텍스</td>\n",
       "      <td>성북구</td>\n",
       "    </tr>\n",
       "    <tr>\n",
       "      <th>369</th>\n",
       "      <td>에덴주유소</td>\n",
       "      <td>서울 강북구 월계로 195 (번동)</td>\n",
       "      <td>1318.0</td>\n",
       "      <td>Y</td>\n",
       "      <td>SK에너지</td>\n",
       "      <td>강북구</td>\n",
       "    </tr>\n",
       "  </tbody>\n",
       "</table>\n",
       "</div>"
      ],
      "text/plain": [
       "             Oil_store                         주소      가격 셀프      상표    구\n",
       "352     (주)자연에너지 대창주유소       서울 중랑구 동일로 636 (면목동)  1307.0  N  현대오일뱅크  중랑구\n",
       "353  에스오일(주) 구도일주유소 동천   서울특별시 중랑구  동일로 654 (면목동)  1307.0  Y   S-OIL  중랑구\n",
       "40    SK네트웍스(주)도봉행복주유소      서울 도봉구  도봉로 941 (도봉동)  1309.0  Y   SK에너지  도봉구\n",
       "367             수유동주유소   서울특별시 강북구  도봉로 395 (수유동)  1314.0  Y   GS칼텍스  강북구\n",
       "315             타이거주유소       서울 은평구 수색로 188 (증산동)  1315.0  Y   SK에너지  은평구\n",
       "314  (주)명연에너지 수색훼미리주유소       서울 은평구 수색로 236 (수색동)  1315.0  Y  현대오일뱅크  은평구\n",
       "173              원천주유소  서울특별시 성북구  돌곶이로 142 (장위동)  1315.0  N   알뜰주유소  성북구\n",
       "368           북서울고속주유소    서울특별시 강북구 삼양로 410 (수유동)  1317.0  Y   S-OIL  강북구\n",
       "174              강산주유소      서울 성북구 보문로 27 (보문동7가)  1317.0  N   GS칼텍스  성북구\n",
       "369              에덴주유소        서울 강북구 월계로 195 (번동)  1318.0  Y   SK에너지  강북구"
      ]
     },
     "execution_count": 54,
     "metadata": {},
     "output_type": "execute_result"
    }
   ],
   "source": [
    "stations.sort_values(by='가격', ascending=True).head(10)"
   ]
  },
  {
   "cell_type": "code",
   "execution_count": 55,
   "metadata": {},
   "outputs": [
    {
     "data": {
      "text/html": [
       "<div>\n",
       "<style scoped>\n",
       "    .dataframe tbody tr th:only-of-type {\n",
       "        vertical-align: middle;\n",
       "    }\n",
       "\n",
       "    .dataframe tbody tr th {\n",
       "        vertical-align: top;\n",
       "    }\n",
       "\n",
       "    .dataframe thead th {\n",
       "        text-align: right;\n",
       "    }\n",
       "</style>\n",
       "<table border=\"1\" class=\"dataframe\">\n",
       "  <thead>\n",
       "    <tr style=\"text-align: right;\">\n",
       "      <th></th>\n",
       "      <th>가격</th>\n",
       "    </tr>\n",
       "    <tr>\n",
       "      <th>구</th>\n",
       "      <th></th>\n",
       "    </tr>\n",
       "  </thead>\n",
       "  <tbody>\n",
       "    <tr>\n",
       "      <th>중구</th>\n",
       "      <td>1867.500000</td>\n",
       "    </tr>\n",
       "    <tr>\n",
       "      <th>용산구</th>\n",
       "      <td>1802.200000</td>\n",
       "    </tr>\n",
       "    <tr>\n",
       "      <th>종로구</th>\n",
       "      <td>1734.444444</td>\n",
       "    </tr>\n",
       "    <tr>\n",
       "      <th>강남구</th>\n",
       "      <td>1612.700000</td>\n",
       "    </tr>\n",
       "    <tr>\n",
       "      <th>마포구</th>\n",
       "      <td>1587.818182</td>\n",
       "    </tr>\n",
       "  </tbody>\n",
       "</table>\n",
       "</div>"
      ],
      "text/plain": [
       "              가격\n",
       "구               \n",
       "중구   1867.500000\n",
       "용산구  1802.200000\n",
       "종로구  1734.444444\n",
       "강남구  1612.700000\n",
       "마포구  1587.818182"
      ]
     },
     "execution_count": 55,
     "metadata": {},
     "output_type": "execute_result"
    }
   ],
   "source": [
    "import numpy as np\n",
    "gu_data = pd.pivot_table(stations, index=['구'], values=['가격'],\n",
    "                        aggfunc=np.mean)\n",
    "gu_data.sort_values(by='가격', ascending=False).head()"
   ]
  },
  {
   "cell_type": "code",
   "execution_count": 57,
   "metadata": {},
   "outputs": [
    {
     "data": {
      "text/html": [
       "<div style=\"width:100%;\"><div style=\"position:relative;width:100%;height:0;padding-bottom:60%;\"><iframe src=\"data:text/html;charset=utf-8;base64,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\" style=\"position:absolute;width:100%;height:100%;left:0;top:0;border:none !important;\" allowfullscreen webkitallowfullscreen mozallowfullscreen></iframe></div></div>"
      ],
      "text/plain": [
       "<folium.folium.Map at 0x2107eb51940>"
      ]
     },
     "execution_count": 57,
     "metadata": {},
     "output_type": "execute_result"
    }
   ],
   "source": [
    "geo_path = 'C:/Users/jeong/Documents/JUPYTER NOTEBOOK/02. skorea_municipalities_geo_simple.json'\n",
    "geo_data = json.load(open(geo_path, encoding = 'utf-8'))\n",
    "\n",
    "map = folium.Map(location=[37.5502, 126.982], zoom_start=11, tiles='Stamen Toner')\n",
    "map.choropleth(geo_data = geo_data,\n",
    "               data = gu_data,\n",
    "               columns = [gu_data.index, '가격'],\n",
    "               fill_color = 'Greens',\n",
    "               key_on = 'feature.id')\n",
    "map"
   ]
  },
  {
   "cell_type": "markdown",
   "metadata": {},
   "source": [
    "## 4-6 서울시 주유 가격 상하위 10개 주유소 지도에 표기하기"
   ]
  },
  {
   "cell_type": "code",
   "execution_count": 58,
   "metadata": {},
   "outputs": [
    {
     "data": {
      "text/html": [
       "<div>\n",
       "<style scoped>\n",
       "    .dataframe tbody tr th:only-of-type {\n",
       "        vertical-align: middle;\n",
       "    }\n",
       "\n",
       "    .dataframe tbody tr th {\n",
       "        vertical-align: top;\n",
       "    }\n",
       "\n",
       "    .dataframe thead th {\n",
       "        text-align: right;\n",
       "    }\n",
       "</style>\n",
       "<table border=\"1\" class=\"dataframe\">\n",
       "  <thead>\n",
       "    <tr style=\"text-align: right;\">\n",
       "      <th></th>\n",
       "      <th>Oil_store</th>\n",
       "      <th>주소</th>\n",
       "      <th>가격</th>\n",
       "      <th>셀프</th>\n",
       "      <th>상표</th>\n",
       "      <th>구</th>\n",
       "    </tr>\n",
       "  </thead>\n",
       "  <tbody>\n",
       "    <tr>\n",
       "      <th>351</th>\n",
       "      <td>서남주유소</td>\n",
       "      <td>서울 중구 통일로 30 (봉래동1가)</td>\n",
       "      <td>2093.0</td>\n",
       "      <td>N</td>\n",
       "      <td>SK에너지</td>\n",
       "      <td>중구</td>\n",
       "    </tr>\n",
       "    <tr>\n",
       "      <th>39</th>\n",
       "      <td>뉴서울(강남)</td>\n",
       "      <td>서울 강남구 언주로 716 (논현동)</td>\n",
       "      <td>2028.0</td>\n",
       "      <td>N</td>\n",
       "      <td>SK에너지</td>\n",
       "      <td>강남구</td>\n",
       "    </tr>\n",
       "    <tr>\n",
       "      <th>155</th>\n",
       "      <td>양재주유소</td>\n",
       "      <td>서울 서초구 바우뫼로 178 (양재동)</td>\n",
       "      <td>1999.0</td>\n",
       "      <td>N</td>\n",
       "      <td>SK에너지</td>\n",
       "      <td>서초구</td>\n",
       "    </tr>\n",
       "    <tr>\n",
       "      <th>350</th>\n",
       "      <td>장충주유소</td>\n",
       "      <td>서울 중구 장충단로 202 (장충동1가)</td>\n",
       "      <td>1999.0</td>\n",
       "      <td>N</td>\n",
       "      <td>SK에너지</td>\n",
       "      <td>중구</td>\n",
       "    </tr>\n",
       "    <tr>\n",
       "      <th>194</th>\n",
       "      <td>삼선주유소</td>\n",
       "      <td>서울 성북구  창경궁로 324</td>\n",
       "      <td>1998.0</td>\n",
       "      <td>N</td>\n",
       "      <td>S-OIL</td>\n",
       "      <td>성북구</td>\n",
       "    </tr>\n",
       "    <tr>\n",
       "      <th>349</th>\n",
       "      <td>필동주유소</td>\n",
       "      <td>서울특별시 중구  퇴계로 196 (필동2가)</td>\n",
       "      <td>1989.0</td>\n",
       "      <td>N</td>\n",
       "      <td>GS칼텍스</td>\n",
       "      <td>중구</td>\n",
       "    </tr>\n",
       "    <tr>\n",
       "      <th>339</th>\n",
       "      <td>(주)대양씨앤씨 사직주유소</td>\n",
       "      <td>서울 종로구 사직로 65 (사직동)</td>\n",
       "      <td>1978.0</td>\n",
       "      <td>N</td>\n",
       "      <td>GS칼텍스</td>\n",
       "      <td>종로구</td>\n",
       "    </tr>\n",
       "    <tr>\n",
       "      <th>312</th>\n",
       "      <td>한남지점</td>\n",
       "      <td>서울 용산구 한남대로21길 4 (한남동)</td>\n",
       "      <td>1978.0</td>\n",
       "      <td>N</td>\n",
       "      <td>SK에너지</td>\n",
       "      <td>용산구</td>\n",
       "    </tr>\n",
       "    <tr>\n",
       "      <th>348</th>\n",
       "      <td>(주)중앙에너비스 퇴계로지점</td>\n",
       "      <td>서울 중구 퇴계로 228 (필동2가)</td>\n",
       "      <td>1978.0</td>\n",
       "      <td>N</td>\n",
       "      <td>SK에너지</td>\n",
       "      <td>중구</td>\n",
       "    </tr>\n",
       "    <tr>\n",
       "      <th>313</th>\n",
       "      <td>에너비스</td>\n",
       "      <td>서울 용산구 한남대로 82 (한남동)</td>\n",
       "      <td>1978.0</td>\n",
       "      <td>N</td>\n",
       "      <td>SK에너지</td>\n",
       "      <td>용산구</td>\n",
       "    </tr>\n",
       "  </tbody>\n",
       "</table>\n",
       "</div>"
      ],
      "text/plain": [
       "           Oil_store                        주소      가격 셀프     상표    구\n",
       "351            서남주유소      서울 중구 통일로 30 (봉래동1가)  2093.0  N  SK에너지   중구\n",
       "39           뉴서울(강남)      서울 강남구 언주로 716 (논현동)  2028.0  N  SK에너지  강남구\n",
       "155            양재주유소     서울 서초구 바우뫼로 178 (양재동)  1999.0  N  SK에너지  서초구\n",
       "350            장충주유소    서울 중구 장충단로 202 (장충동1가)  1999.0  N  SK에너지   중구\n",
       "194            삼선주유소          서울 성북구  창경궁로 324  1998.0  N  S-OIL  성북구\n",
       "349            필동주유소  서울특별시 중구  퇴계로 196 (필동2가)  1989.0  N  GS칼텍스   중구\n",
       "339   (주)대양씨앤씨 사직주유소       서울 종로구 사직로 65 (사직동)  1978.0  N  GS칼텍스  종로구\n",
       "312             한남지점    서울 용산구 한남대로21길 4 (한남동)  1978.0  N  SK에너지  용산구\n",
       "348  (주)중앙에너비스 퇴계로지점      서울 중구 퇴계로 228 (필동2가)  1978.0  N  SK에너지   중구\n",
       "313             에너비스      서울 용산구 한남대로 82 (한남동)  1978.0  N  SK에너지  용산구"
      ]
     },
     "execution_count": 58,
     "metadata": {},
     "output_type": "execute_result"
    }
   ],
   "source": [
    "oil_price_top10 = stations.sort_values(by = '가격', ascending = False).head(10)\n",
    "oil_price_top10"
   ]
  },
  {
   "cell_type": "code",
   "execution_count": 59,
   "metadata": {},
   "outputs": [
    {
     "data": {
      "text/html": [
       "<div>\n",
       "<style scoped>\n",
       "    .dataframe tbody tr th:only-of-type {\n",
       "        vertical-align: middle;\n",
       "    }\n",
       "\n",
       "    .dataframe tbody tr th {\n",
       "        vertical-align: top;\n",
       "    }\n",
       "\n",
       "    .dataframe thead th {\n",
       "        text-align: right;\n",
       "    }\n",
       "</style>\n",
       "<table border=\"1\" class=\"dataframe\">\n",
       "  <thead>\n",
       "    <tr style=\"text-align: right;\">\n",
       "      <th></th>\n",
       "      <th>Oil_store</th>\n",
       "      <th>주소</th>\n",
       "      <th>가격</th>\n",
       "      <th>셀프</th>\n",
       "      <th>상표</th>\n",
       "      <th>구</th>\n",
       "    </tr>\n",
       "  </thead>\n",
       "  <tbody>\n",
       "    <tr>\n",
       "      <th>352</th>\n",
       "      <td>(주)자연에너지 대창주유소</td>\n",
       "      <td>서울 중랑구 동일로 636 (면목동)</td>\n",
       "      <td>1307.0</td>\n",
       "      <td>N</td>\n",
       "      <td>현대오일뱅크</td>\n",
       "      <td>중랑구</td>\n",
       "    </tr>\n",
       "    <tr>\n",
       "      <th>353</th>\n",
       "      <td>에스오일(주) 구도일주유소 동천</td>\n",
       "      <td>서울특별시 중랑구  동일로 654 (면목동)</td>\n",
       "      <td>1307.0</td>\n",
       "      <td>Y</td>\n",
       "      <td>S-OIL</td>\n",
       "      <td>중랑구</td>\n",
       "    </tr>\n",
       "    <tr>\n",
       "      <th>40</th>\n",
       "      <td>SK네트웍스(주)도봉행복주유소</td>\n",
       "      <td>서울 도봉구  도봉로 941 (도봉동)</td>\n",
       "      <td>1309.0</td>\n",
       "      <td>Y</td>\n",
       "      <td>SK에너지</td>\n",
       "      <td>도봉구</td>\n",
       "    </tr>\n",
       "    <tr>\n",
       "      <th>367</th>\n",
       "      <td>수유동주유소</td>\n",
       "      <td>서울특별시 강북구  도봉로 395 (수유동)</td>\n",
       "      <td>1314.0</td>\n",
       "      <td>Y</td>\n",
       "      <td>GS칼텍스</td>\n",
       "      <td>강북구</td>\n",
       "    </tr>\n",
       "    <tr>\n",
       "      <th>315</th>\n",
       "      <td>타이거주유소</td>\n",
       "      <td>서울 은평구 수색로 188 (증산동)</td>\n",
       "      <td>1315.0</td>\n",
       "      <td>Y</td>\n",
       "      <td>SK에너지</td>\n",
       "      <td>은평구</td>\n",
       "    </tr>\n",
       "    <tr>\n",
       "      <th>314</th>\n",
       "      <td>(주)명연에너지 수색훼미리주유소</td>\n",
       "      <td>서울 은평구 수색로 236 (수색동)</td>\n",
       "      <td>1315.0</td>\n",
       "      <td>Y</td>\n",
       "      <td>현대오일뱅크</td>\n",
       "      <td>은평구</td>\n",
       "    </tr>\n",
       "    <tr>\n",
       "      <th>173</th>\n",
       "      <td>원천주유소</td>\n",
       "      <td>서울특별시 성북구  돌곶이로 142 (장위동)</td>\n",
       "      <td>1315.0</td>\n",
       "      <td>N</td>\n",
       "      <td>알뜰주유소</td>\n",
       "      <td>성북구</td>\n",
       "    </tr>\n",
       "    <tr>\n",
       "      <th>368</th>\n",
       "      <td>북서울고속주유소</td>\n",
       "      <td>서울특별시 강북구 삼양로 410 (수유동)</td>\n",
       "      <td>1317.0</td>\n",
       "      <td>Y</td>\n",
       "      <td>S-OIL</td>\n",
       "      <td>강북구</td>\n",
       "    </tr>\n",
       "    <tr>\n",
       "      <th>174</th>\n",
       "      <td>강산주유소</td>\n",
       "      <td>서울 성북구 보문로 27 (보문동7가)</td>\n",
       "      <td>1317.0</td>\n",
       "      <td>N</td>\n",
       "      <td>GS칼텍스</td>\n",
       "      <td>성북구</td>\n",
       "    </tr>\n",
       "    <tr>\n",
       "      <th>369</th>\n",
       "      <td>에덴주유소</td>\n",
       "      <td>서울 강북구 월계로 195 (번동)</td>\n",
       "      <td>1318.0</td>\n",
       "      <td>Y</td>\n",
       "      <td>SK에너지</td>\n",
       "      <td>강북구</td>\n",
       "    </tr>\n",
       "  </tbody>\n",
       "</table>\n",
       "</div>"
      ],
      "text/plain": [
       "             Oil_store                         주소      가격 셀프      상표    구\n",
       "352     (주)자연에너지 대창주유소       서울 중랑구 동일로 636 (면목동)  1307.0  N  현대오일뱅크  중랑구\n",
       "353  에스오일(주) 구도일주유소 동천   서울특별시 중랑구  동일로 654 (면목동)  1307.0  Y   S-OIL  중랑구\n",
       "40    SK네트웍스(주)도봉행복주유소      서울 도봉구  도봉로 941 (도봉동)  1309.0  Y   SK에너지  도봉구\n",
       "367             수유동주유소   서울특별시 강북구  도봉로 395 (수유동)  1314.0  Y   GS칼텍스  강북구\n",
       "315             타이거주유소       서울 은평구 수색로 188 (증산동)  1315.0  Y   SK에너지  은평구\n",
       "314  (주)명연에너지 수색훼미리주유소       서울 은평구 수색로 236 (수색동)  1315.0  Y  현대오일뱅크  은평구\n",
       "173              원천주유소  서울특별시 성북구  돌곶이로 142 (장위동)  1315.0  N   알뜰주유소  성북구\n",
       "368           북서울고속주유소    서울특별시 강북구 삼양로 410 (수유동)  1317.0  Y   S-OIL  강북구\n",
       "174              강산주유소      서울 성북구 보문로 27 (보문동7가)  1317.0  N   GS칼텍스  성북구\n",
       "369              에덴주유소        서울 강북구 월계로 195 (번동)  1318.0  Y   SK에너지  강북구"
      ]
     },
     "execution_count": 59,
     "metadata": {},
     "output_type": "execute_result"
    }
   ],
   "source": [
    "oil_price_bottom10 = stations.sort_values(by = '가격', ascending = True).head(10)\n",
    "oil_price_bottom10"
   ]
  },
  {
   "cell_type": "code",
   "execution_count": 60,
   "metadata": {},
   "outputs": [],
   "source": [
    "gmap_key = *************\n",
    "gmaps = googlemaps.Client(key = gmap_key)"
   ]
  },
  {
   "cell_type": "code",
   "execution_count": 61,
   "metadata": {},
   "outputs": [
    {
     "data": {
      "application/vnd.jupyter.widget-view+json": {
       "model_id": "342cdd920998402e8bc651e2d8b807e6",
       "version_major": 2,
       "version_minor": 0
      },
      "text/plain": [
       "HBox(children=(IntProgress(value=0, max=10), HTML(value='')))"
      ]
     },
     "metadata": {},
     "output_type": "display_data"
    },
    {
     "name": "stdout",
     "output_type": "stream",
     "text": [
      "\n"
     ]
    },
    {
     "data": {
      "text/html": [
       "<div>\n",
       "<style scoped>\n",
       "    .dataframe tbody tr th:only-of-type {\n",
       "        vertical-align: middle;\n",
       "    }\n",
       "\n",
       "    .dataframe tbody tr th {\n",
       "        vertical-align: top;\n",
       "    }\n",
       "\n",
       "    .dataframe thead th {\n",
       "        text-align: right;\n",
       "    }\n",
       "</style>\n",
       "<table border=\"1\" class=\"dataframe\">\n",
       "  <thead>\n",
       "    <tr style=\"text-align: right;\">\n",
       "      <th></th>\n",
       "      <th>Oil_store</th>\n",
       "      <th>주소</th>\n",
       "      <th>가격</th>\n",
       "      <th>셀프</th>\n",
       "      <th>상표</th>\n",
       "      <th>구</th>\n",
       "      <th>lat</th>\n",
       "      <th>lng</th>\n",
       "    </tr>\n",
       "  </thead>\n",
       "  <tbody>\n",
       "    <tr>\n",
       "      <th>351</th>\n",
       "      <td>서남주유소</td>\n",
       "      <td>서울 중구 통일로 30 (봉래동1가)</td>\n",
       "      <td>2093.0</td>\n",
       "      <td>N</td>\n",
       "      <td>SK에너지</td>\n",
       "      <td>중구</td>\n",
       "      <td>37.558348</td>\n",
       "      <td>126.972090</td>\n",
       "    </tr>\n",
       "    <tr>\n",
       "      <th>39</th>\n",
       "      <td>뉴서울(강남)</td>\n",
       "      <td>서울 강남구 언주로 716 (논현동)</td>\n",
       "      <td>2028.0</td>\n",
       "      <td>N</td>\n",
       "      <td>SK에너지</td>\n",
       "      <td>강남구</td>\n",
       "      <td>37.517636</td>\n",
       "      <td>127.035756</td>\n",
       "    </tr>\n",
       "    <tr>\n",
       "      <th>155</th>\n",
       "      <td>양재주유소</td>\n",
       "      <td>서울 서초구 바우뫼로 178 (양재동)</td>\n",
       "      <td>1999.0</td>\n",
       "      <td>N</td>\n",
       "      <td>SK에너지</td>\n",
       "      <td>서초구</td>\n",
       "      <td>37.478071</td>\n",
       "      <td>127.039610</td>\n",
       "    </tr>\n",
       "    <tr>\n",
       "      <th>350</th>\n",
       "      <td>장충주유소</td>\n",
       "      <td>서울 중구 장충단로 202 (장충동1가)</td>\n",
       "      <td>1999.0</td>\n",
       "      <td>N</td>\n",
       "      <td>SK에너지</td>\n",
       "      <td>중구</td>\n",
       "      <td>37.562719</td>\n",
       "      <td>127.007010</td>\n",
       "    </tr>\n",
       "    <tr>\n",
       "      <th>194</th>\n",
       "      <td>삼선주유소</td>\n",
       "      <td>서울 성북구  창경궁로 324</td>\n",
       "      <td>1998.0</td>\n",
       "      <td>N</td>\n",
       "      <td>S-OIL</td>\n",
       "      <td>성북구</td>\n",
       "      <td>37.587908</td>\n",
       "      <td>127.005575</td>\n",
       "    </tr>\n",
       "    <tr>\n",
       "      <th>349</th>\n",
       "      <td>필동주유소</td>\n",
       "      <td>서울특별시 중구  퇴계로 196 (필동2가)</td>\n",
       "      <td>1989.0</td>\n",
       "      <td>N</td>\n",
       "      <td>GS칼텍스</td>\n",
       "      <td>중구</td>\n",
       "      <td>37.560850</td>\n",
       "      <td>126.993653</td>\n",
       "    </tr>\n",
       "    <tr>\n",
       "      <th>339</th>\n",
       "      <td>(주)대양씨앤씨 사직주유소</td>\n",
       "      <td>서울 종로구 사직로 65 (사직동)</td>\n",
       "      <td>1978.0</td>\n",
       "      <td>N</td>\n",
       "      <td>GS칼텍스</td>\n",
       "      <td>종로구</td>\n",
       "      <td>37.574464</td>\n",
       "      <td>126.966618</td>\n",
       "    </tr>\n",
       "    <tr>\n",
       "      <th>312</th>\n",
       "      <td>한남지점</td>\n",
       "      <td>서울 용산구 한남대로21길 4 (한남동)</td>\n",
       "      <td>1978.0</td>\n",
       "      <td>N</td>\n",
       "      <td>SK에너지</td>\n",
       "      <td>용산구</td>\n",
       "      <td>37.534657</td>\n",
       "      <td>127.006063</td>\n",
       "    </tr>\n",
       "    <tr>\n",
       "      <th>348</th>\n",
       "      <td>(주)중앙에너비스 퇴계로지점</td>\n",
       "      <td>서울 중구 퇴계로 228 (필동2가)</td>\n",
       "      <td>1978.0</td>\n",
       "      <td>N</td>\n",
       "      <td>SK에너지</td>\n",
       "      <td>중구</td>\n",
       "      <td>37.561648</td>\n",
       "      <td>126.997142</td>\n",
       "    </tr>\n",
       "    <tr>\n",
       "      <th>313</th>\n",
       "      <td>에너비스</td>\n",
       "      <td>서울 용산구 한남대로 82 (한남동)</td>\n",
       "      <td>1978.0</td>\n",
       "      <td>N</td>\n",
       "      <td>SK에너지</td>\n",
       "      <td>용산구</td>\n",
       "      <td>37.535952</td>\n",
       "      <td>127.006130</td>\n",
       "    </tr>\n",
       "  </tbody>\n",
       "</table>\n",
       "</div>"
      ],
      "text/plain": [
       "           Oil_store                        주소      가격 셀프     상표    구  \\\n",
       "351            서남주유소      서울 중구 통일로 30 (봉래동1가)  2093.0  N  SK에너지   중구   \n",
       "39           뉴서울(강남)      서울 강남구 언주로 716 (논현동)  2028.0  N  SK에너지  강남구   \n",
       "155            양재주유소     서울 서초구 바우뫼로 178 (양재동)  1999.0  N  SK에너지  서초구   \n",
       "350            장충주유소    서울 중구 장충단로 202 (장충동1가)  1999.0  N  SK에너지   중구   \n",
       "194            삼선주유소          서울 성북구  창경궁로 324  1998.0  N  S-OIL  성북구   \n",
       "349            필동주유소  서울특별시 중구  퇴계로 196 (필동2가)  1989.0  N  GS칼텍스   중구   \n",
       "339   (주)대양씨앤씨 사직주유소       서울 종로구 사직로 65 (사직동)  1978.0  N  GS칼텍스  종로구   \n",
       "312             한남지점    서울 용산구 한남대로21길 4 (한남동)  1978.0  N  SK에너지  용산구   \n",
       "348  (주)중앙에너비스 퇴계로지점      서울 중구 퇴계로 228 (필동2가)  1978.0  N  SK에너지   중구   \n",
       "313             에너비스      서울 용산구 한남대로 82 (한남동)  1978.0  N  SK에너지  용산구   \n",
       "\n",
       "           lat         lng  \n",
       "351  37.558348  126.972090  \n",
       "39   37.517636  127.035756  \n",
       "155  37.478071  127.039610  \n",
       "350  37.562719  127.007010  \n",
       "194  37.587908  127.005575  \n",
       "349  37.560850  126.993653  \n",
       "339  37.574464  126.966618  \n",
       "312  37.534657  127.006063  \n",
       "348  37.561648  126.997142  \n",
       "313  37.535952  127.006130  "
      ]
     },
     "execution_count": 61,
     "metadata": {},
     "output_type": "execute_result"
    }
   ],
   "source": [
    "from tqdm import tqdm_notebook\n",
    "\n",
    "lat = []\n",
    "lng = []\n",
    "\n",
    "for n in tqdm_notebook(oil_price_top10.index) :\n",
    "    try :\n",
    "        tmp_add = str(oil_price_top10['주소'][n]).split('(')[0]\n",
    "        tmp_map = gmaps.geocode(tmp_add)\n",
    "        tmp_loc = tmp_map[0].get('geometry')\n",
    "        lat.append(tmp_loc['location']['lat'])\n",
    "        lng.append(tmp_loc['location']['lng'])\n",
    "        \n",
    "    except :\n",
    "        lat.append(np.nan)\n",
    "        lng.append(np.nan)\n",
    "        print('Here is Nan!')\n",
    "        \n",
    "oil_price_top10['lat'] = lat\n",
    "oil_price_top10['lng'] = lng\n",
    "oil_price_top10"
   ]
  },
  {
   "cell_type": "code",
   "execution_count": 62,
   "metadata": {},
   "outputs": [
    {
     "data": {
      "application/vnd.jupyter.widget-view+json": {
       "model_id": "ada2879b3efd4643b25a139b23303a6f",
       "version_major": 2,
       "version_minor": 0
      },
      "text/plain": [
       "HBox(children=(IntProgress(value=0, max=10), HTML(value='')))"
      ]
     },
     "metadata": {},
     "output_type": "display_data"
    },
    {
     "name": "stdout",
     "output_type": "stream",
     "text": [
      "\n"
     ]
    },
    {
     "data": {
      "text/html": [
       "<div>\n",
       "<style scoped>\n",
       "    .dataframe tbody tr th:only-of-type {\n",
       "        vertical-align: middle;\n",
       "    }\n",
       "\n",
       "    .dataframe tbody tr th {\n",
       "        vertical-align: top;\n",
       "    }\n",
       "\n",
       "    .dataframe thead th {\n",
       "        text-align: right;\n",
       "    }\n",
       "</style>\n",
       "<table border=\"1\" class=\"dataframe\">\n",
       "  <thead>\n",
       "    <tr style=\"text-align: right;\">\n",
       "      <th></th>\n",
       "      <th>Oil_store</th>\n",
       "      <th>주소</th>\n",
       "      <th>가격</th>\n",
       "      <th>셀프</th>\n",
       "      <th>상표</th>\n",
       "      <th>구</th>\n",
       "      <th>lat</th>\n",
       "      <th>lng</th>\n",
       "    </tr>\n",
       "  </thead>\n",
       "  <tbody>\n",
       "    <tr>\n",
       "      <th>352</th>\n",
       "      <td>(주)자연에너지 대창주유소</td>\n",
       "      <td>서울 중랑구 동일로 636 (면목동)</td>\n",
       "      <td>1307.0</td>\n",
       "      <td>N</td>\n",
       "      <td>현대오일뱅크</td>\n",
       "      <td>중랑구</td>\n",
       "      <td>37.587170</td>\n",
       "      <td>127.080217</td>\n",
       "    </tr>\n",
       "    <tr>\n",
       "      <th>353</th>\n",
       "      <td>에스오일(주) 구도일주유소 동천</td>\n",
       "      <td>서울특별시 중랑구  동일로 654 (면목동)</td>\n",
       "      <td>1307.0</td>\n",
       "      <td>Y</td>\n",
       "      <td>S-OIL</td>\n",
       "      <td>중랑구</td>\n",
       "      <td>37.588868</td>\n",
       "      <td>127.080235</td>\n",
       "    </tr>\n",
       "    <tr>\n",
       "      <th>40</th>\n",
       "      <td>SK네트웍스(주)도봉행복주유소</td>\n",
       "      <td>서울 도봉구  도봉로 941 (도봉동)</td>\n",
       "      <td>1309.0</td>\n",
       "      <td>Y</td>\n",
       "      <td>SK에너지</td>\n",
       "      <td>도봉구</td>\n",
       "      <td>37.688335</td>\n",
       "      <td>127.045313</td>\n",
       "    </tr>\n",
       "    <tr>\n",
       "      <th>367</th>\n",
       "      <td>수유동주유소</td>\n",
       "      <td>서울특별시 강북구  도봉로 395 (수유동)</td>\n",
       "      <td>1314.0</td>\n",
       "      <td>Y</td>\n",
       "      <td>GS칼텍스</td>\n",
       "      <td>강북구</td>\n",
       "      <td>37.642140</td>\n",
       "      <td>127.029568</td>\n",
       "    </tr>\n",
       "    <tr>\n",
       "      <th>315</th>\n",
       "      <td>타이거주유소</td>\n",
       "      <td>서울 은평구 수색로 188 (증산동)</td>\n",
       "      <td>1315.0</td>\n",
       "      <td>Y</td>\n",
       "      <td>SK에너지</td>\n",
       "      <td>은평구</td>\n",
       "      <td>37.578424</td>\n",
       "      <td>126.902050</td>\n",
       "    </tr>\n",
       "    <tr>\n",
       "      <th>314</th>\n",
       "      <td>(주)명연에너지 수색훼미리주유소</td>\n",
       "      <td>서울 은평구 수색로 236 (수색동)</td>\n",
       "      <td>1315.0</td>\n",
       "      <td>Y</td>\n",
       "      <td>현대오일뱅크</td>\n",
       "      <td>은평구</td>\n",
       "      <td>37.581122</td>\n",
       "      <td>126.897774</td>\n",
       "    </tr>\n",
       "    <tr>\n",
       "      <th>173</th>\n",
       "      <td>원천주유소</td>\n",
       "      <td>서울특별시 성북구  돌곶이로 142 (장위동)</td>\n",
       "      <td>1315.0</td>\n",
       "      <td>N</td>\n",
       "      <td>알뜰주유소</td>\n",
       "      <td>성북구</td>\n",
       "      <td>37.614921</td>\n",
       "      <td>127.052752</td>\n",
       "    </tr>\n",
       "    <tr>\n",
       "      <th>368</th>\n",
       "      <td>북서울고속주유소</td>\n",
       "      <td>서울특별시 강북구 삼양로 410 (수유동)</td>\n",
       "      <td>1317.0</td>\n",
       "      <td>Y</td>\n",
       "      <td>S-OIL</td>\n",
       "      <td>강북구</td>\n",
       "      <td>37.640155</td>\n",
       "      <td>127.017203</td>\n",
       "    </tr>\n",
       "    <tr>\n",
       "      <th>174</th>\n",
       "      <td>강산주유소</td>\n",
       "      <td>서울 성북구 보문로 27 (보문동7가)</td>\n",
       "      <td>1317.0</td>\n",
       "      <td>N</td>\n",
       "      <td>GS칼텍스</td>\n",
       "      <td>성북구</td>\n",
       "      <td>37.586954</td>\n",
       "      <td>127.017600</td>\n",
       "    </tr>\n",
       "    <tr>\n",
       "      <th>369</th>\n",
       "      <td>에덴주유소</td>\n",
       "      <td>서울 강북구 월계로 195 (번동)</td>\n",
       "      <td>1318.0</td>\n",
       "      <td>Y</td>\n",
       "      <td>SK에너지</td>\n",
       "      <td>강북구</td>\n",
       "      <td>37.621668</td>\n",
       "      <td>127.045522</td>\n",
       "    </tr>\n",
       "  </tbody>\n",
       "</table>\n",
       "</div>"
      ],
      "text/plain": [
       "             Oil_store                         주소      가격 셀프      상표    구  \\\n",
       "352     (주)자연에너지 대창주유소       서울 중랑구 동일로 636 (면목동)  1307.0  N  현대오일뱅크  중랑구   \n",
       "353  에스오일(주) 구도일주유소 동천   서울특별시 중랑구  동일로 654 (면목동)  1307.0  Y   S-OIL  중랑구   \n",
       "40    SK네트웍스(주)도봉행복주유소      서울 도봉구  도봉로 941 (도봉동)  1309.0  Y   SK에너지  도봉구   \n",
       "367             수유동주유소   서울특별시 강북구  도봉로 395 (수유동)  1314.0  Y   GS칼텍스  강북구   \n",
       "315             타이거주유소       서울 은평구 수색로 188 (증산동)  1315.0  Y   SK에너지  은평구   \n",
       "314  (주)명연에너지 수색훼미리주유소       서울 은평구 수색로 236 (수색동)  1315.0  Y  현대오일뱅크  은평구   \n",
       "173              원천주유소  서울특별시 성북구  돌곶이로 142 (장위동)  1315.0  N   알뜰주유소  성북구   \n",
       "368           북서울고속주유소    서울특별시 강북구 삼양로 410 (수유동)  1317.0  Y   S-OIL  강북구   \n",
       "174              강산주유소      서울 성북구 보문로 27 (보문동7가)  1317.0  N   GS칼텍스  성북구   \n",
       "369              에덴주유소        서울 강북구 월계로 195 (번동)  1318.0  Y   SK에너지  강북구   \n",
       "\n",
       "           lat         lng  \n",
       "352  37.587170  127.080217  \n",
       "353  37.588868  127.080235  \n",
       "40   37.688335  127.045313  \n",
       "367  37.642140  127.029568  \n",
       "315  37.578424  126.902050  \n",
       "314  37.581122  126.897774  \n",
       "173  37.614921  127.052752  \n",
       "368  37.640155  127.017203  \n",
       "174  37.586954  127.017600  \n",
       "369  37.621668  127.045522  "
      ]
     },
     "execution_count": 62,
     "metadata": {},
     "output_type": "execute_result"
    }
   ],
   "source": [
    "lat = []\n",
    "lng = []\n",
    "\n",
    "for n in tqdm_notebook(oil_price_bottom10.index) :\n",
    "    try :\n",
    "        tmp_add = str(oil_price_bottom10['주소'][n]).split('(')[0]\n",
    "        tmp_map = gmaps.geocode(tmp_add)\n",
    "        tmp_loc = tmp_map[0].get('geometry')\n",
    "        lat.append(tmp_loc['location']['lat'])\n",
    "        lng.append(tmp_loc['location']['lng'])\n",
    "        \n",
    "    except :\n",
    "        lat.append(np.nan)\n",
    "        lng.append(np.nan)\n",
    "        print('Here is Nan!')\n",
    "        \n",
    "oil_price_bottom10['lat'] = lat\n",
    "oil_price_bottom10['lng'] = lng\n",
    "oil_price_bottom10"
   ]
  },
  {
   "cell_type": "code",
   "execution_count": 63,
   "metadata": {},
   "outputs": [
    {
     "data": {
      "text/html": [
       "<div style=\"width:100%;\"><div style=\"position:relative;width:100%;height:0;padding-bottom:60%;\"><iframe src=\"data:text/html;charset=utf-8;base64,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\" style=\"position:absolute;width:100%;height:100%;left:0;top:0;border:none !important;\" allowfullscreen webkitallowfullscreen mozallowfullscreen></iframe></div></div>"
      ],
      "text/plain": [
       "<folium.folium.Map at 0x2107dac9940>"
      ]
     },
     "execution_count": 63,
     "metadata": {},
     "output_type": "execute_result"
    }
   ],
   "source": [
    "map = folium.Map(location = [37.5502,126.982], zoom_start = 11)\n",
    "\n",
    "for n in oil_price_top10.index :\n",
    "    if pd.notnull(oil_price_top10['lat'][n]) :\n",
    "        folium.CircleMarker([oil_price_top10['lat'][n], oil_price_top10['lng'][n]],\n",
    "                            radius = 15, color = '#ff661a',\n",
    "                            fill_color = '#ff661a',\n",
    "                            popup = oil_price_top10['상표'][n]).add_to(map)\n",
    "for n in oil_price_bottom10.index :\n",
    "    if pd.notnull(oil_price_bottom10['lat'][n]) :\n",
    "        folium.CircleMarker([oil_price_bottom10['lat'][n], oil_price_bottom10['lng'][n]],\n",
    "                            radius = 15, color = '#4dc3ff',\n",
    "                            fill_color = '#4dc3ff',\n",
    "                            popup = oil_price_bottom10['상표'][n]).add_to(map)\n",
    "map"
   ]
  },
  {
   "cell_type": "code",
   "execution_count": null,
   "metadata": {},
   "outputs": [],
   "source": []
  }
 ],
 "metadata": {
  "kernelspec": {
   "display_name": "Python 3",
   "language": "python",
   "name": "python3"
  },
  "language_info": {
   "codemirror_mode": {
    "name": "ipython",
    "version": 3
   },
   "file_extension": ".py",
   "mimetype": "text/x-python",
   "name": "python",
   "nbconvert_exporter": "python",
   "pygments_lexer": "ipython3",
   "version": "3.6.7"
  }
 },
 "nbformat": 4,
 "nbformat_minor": 2
}
